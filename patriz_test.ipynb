{
 "cells": [
  {
   "cell_type": "code",
   "execution_count": 1,
   "id": "21a41db3-efaf-4663-a10d-0219e281839a",
   "metadata": {
    "metadata": {}
   },
   "outputs": [
    {
     "name": "stdout",
     "output_type": "stream",
     "text": [
      "Hello\n"
     ]
    }
   ],
   "source": [
    "print(\"Hello\")"
   ]
  },
  {
   "cell_type": "code",
   "execution_count": 2,
   "id": "f9ba45c8",
   "metadata": {
    "metadata": {}
   },
   "outputs": [
    {
     "name": "stderr",
     "output_type": "stream",
     "text": [
      "/home/c7361293/miniconda3/envs/triztest/lib/python3.12/site-packages/tqdm/auto.py:21: TqdmWarning: IProgress not found. Please update jupyter and ipywidgets. See https://ipywidgets.readthedocs.io/en/stable/user_install.html\n",
      "  from .autonotebook import tqdm as notebook_tqdm\n"
     ]
    }
   ],
   "source": [
    "from langchain.document_loaders import PyPDFLoader\n",
    "from langchain.document_loaders import TextLoader\n",
    "from langchain.document_loaders import Docx2txtLoader\n",
    "from langchain.text_splitter import CharacterTextSplitter\n",
    "\n",
    "from langchain.embeddings import HuggingFaceEmbeddings\n",
    "from langchain.vectorstores import Chroma\n",
    "from huggingface_hub import notebook_login\n",
    "import torch\n",
    "import transformers\n",
    "\n",
    "from transformers import AutoTokenizer, AutoModelForCausalLM\n",
    "from transformers import pipeline\n",
    "from langchain import HuggingFacePipeline\n",
    "\n",
    "from langchain.chains import ConversationalRetrievalChain\n",
    "from langchain.memory import ConversationBufferMemory\n",
    "\n",
    "from langchain.embeddings.openai import OpenAIEmbeddings\n",
    "from langchain.chat_models import ChatOpenAI\n",
    "\n",
    "import os\n",
    "import sys\n"
   ]
  },
  {
   "cell_type": "code",
   "execution_count": 3,
   "id": "d7ee1d8b",
   "metadata": {
    "metadata": {}
   },
   "outputs": [],
   "source": [
    "\n",
    "document=[]\n",
    "for file in os.listdir(\"./patriz_test_2/\"):\n",
    "  if file.endswith(\".pdf\"):\n",
    "    pdf_path=\"./patriz_test_2/\"+file\n",
    "    loader=PyPDFLoader(pdf_path)\n",
    "    document.extend(loader.load())\n",
    "  elif file.endswith('.docx') or file.endswith('.doc'):\n",
    "    doc_path=\"./patriz_test_2/\"+file\n",
    "    loader=Docx2txtLoader(doc_path)\n",
    "    document.extend(loader.load())\n",
    "  elif file.endswith('.txt'):\n",
    "    text_path=\"./patriz_test_2/\"+file\n",
    "    loader=TextLoader(text_path)\n",
    "    document.extend(loader.load())"
   ]
  },
  {
   "cell_type": "code",
   "execution_count": 4,
   "id": "94fc18b6",
   "metadata": {
    "metadata": {}
   },
   "outputs": [
    {
     "data": {
      "text/plain": [
       "[Document(page_content='US006938300B2\\nUSOO69383OOB2\\n(12) United States Patent\\nLan\\nLan\\n(54) WHEEL ASSEMBLY FOR A STROLLER\\n(54) WHEEL ASSEMBLY FOR ASTROLLER\\n(76) Inventor: Red Lan, 15F, No. 108, Sec. 1 Hsin Tai\\n5th Rd., Hsichih, Taipei Hsien (TW)\\n5th Rd., Hsichih, Taipei Hsien (TW)\\n(*) Notice:\\n(*) Notice:\\nSubject to any disclaimer, the term of this\\npatent is extended or adjusted under 35\\nUS.C. 154(b) by 0 days.\\nSubject to any disclaimer, the term of this\\npatent is extended or adjusted under 35\\nU.S.C. 154(b) by 0 days.\\n(21) Appl. No.: 10/438,910\\n(22) Filed:\\n(21) Appl. No.: 10/438,910\\n(22) Filed:\\nMay 16, 2003\\nMay 16, 2003\\n(65)\\n(65)\\nPrior Publication Data\\nPrior Publication Data\\nUS 2004/0226133 A1 Nov. 18, 2004\\nUS 2004/0226133 Al Nov. 18, 2004\\n(51) Int. Cl. ............................ B60B33/00; B62B 7/04\\n(52) U.S. Cl. ....................... 16/18 R; 16/35 R; 16/18 A;\\n16/44; 16/31 R; 280/47.25; 280/642; 280/647;\\n280/657; 280/47.38\\n(58) Field of Search ............................... 16/35R, 35 D,\\n16/44, 18 A, 29, 18 R, 45, 31 R; 301/1.12,\\n109, 110, 111.01, 111.04; 280/47.38, 47.22,\\n47.25, 642, 647, 650, 657–658, 47.24\\n(56)\\n4,410,194 A\\n5,221,100 A *\\n(56)\\nReferences Cited\\nReferences\\nU.S. PATENT DOCUMENTS\\nU.S. PATENT DOCUMENTS\\n5,232,071 A * 8/1993 Kawanabe ...\\n4.410,194 A * 10/1983\\n10/1983\\n4,543,685 A * 10/1985\\n4,543,685. A * 10/1985\\nSteilen\\n........................ 280/86\\nSteilen oe280/86\\nKassai ..ececeeeeeeeeee 16/35 R\\nKassai ........................ 16/35 R\\n5,221,100 A\\n5,232,071 A *\\n6/1993 McNutt ....................... 280/78\\nMcNutt oe280/78\\n8/1993\\n5,581,843 A\\n12/1996\\n5,581,843 A * 12/1996\\n5,819,514 A 5,819,514 A * 10/1998\\n10/1998\\nKawanabe ...\\nw. 188/1.12 ... 188/1.12\\nPurnell ....... Purnell ....................... 16/35 R\\nFirdaus .......................\\nee 16/35 R\\nFirdaus ......0... 56/16.7eee 56/16.7\\n6/1993\\n(51) Int. C1? eeeB60B 33/00; B62B 7/04\\n(52) US. Ch oe16/18 R; 16/35 R; 16/18 A;\\n16/44; 16/31 R; 280/47.25; 280/642; 280/647;\\n280/657; 280/47.38\\n(58) Field of Search oo...eee 16/35 R, 35 D,\\n16/44, 18 A, 29, 18 R, 45, 31 R; 301/1.12,\\n109, 110, 111.01, 111.04; 280/47.38, 47.22,\\n47.25, 642, 647, 650, 657-658, 47.24\\nDE\\nDE\\nDE\\nDE\\nDE\\nDE\\nJP\\nJP\\nJP\\nJP\\n(76) Inventor: Red Lan, 15F, No. 108, Sec. 1 Hsin Tai\\na2, United States Patent\\n(10) Patent No.:\\nUS 6,938,300 B2\\n(10) Patent No.: US 6,938,300 B2\\n(45) Date of Patent:\\n(45) Date of Patent:\\nSep. 6, 2005\\nSep. 6, 2005\\n6,363,851 Bl * 4/2002 Gerhard et al. ....000... 101/483\\n6,543,798 B2 * 4/2003 Schaffner et al. ........ 280/250.1\\n6,363.851 B1 * 4/2002 Gerhard et al. ............. 101/483\\n6.543,798 B2 * 4/2003 Schaffner et al. ........ 280/250.1\\n6,568,030 B1\\n5/2003 Watanabe et al. .............. 16/44\\n6,568,030 Bi * 5/2003 Watanabe et al. .............. 16/44\\n6,607,201 B2 * 8/2003 Marshburn ................... 280/79\\n6,607.201 B2 * 8/2003 Marshburn ................... 280/79\\n6,663,121 B2 12/2003 Santos et al.\\nFOREIGN PATENT DOCUMENTS\\n29912291\\n29.912291\\n1097733\\n1097733\\n10100072\\n10100072\\n55015345 A 55O15345 A *\\n7/1999\\n7/1999\\n5/2001\\n3/2002\\n5/2001\\n3/2002\\n2/1980 we B62D/17/00 ........... B62D/17/OO\\n2/1980\\n2001097254 A 2001097254. A * 4/2001... B62D/53/00\\n4/2001\\n........... B62D/53/OO\\nOTHER PUBLICATIONS\\nOTHER PUBLICATIONS\\nUnited Kingdom Search Report, dated Nov. 14, 2003.\\n* cited * cited by examinerbyexaminer\\nKingdom\\nReport, dated\\n14, 2003.\\nPrimary Examiner-Chuck Y. Mah\\n(74) Attorney, Agent, or Firm-Baker Botts L.L.P.\\n(57)\\nABSTRACT\\nABSTRACT\\nA wheel assembly for a stroller includes a wheel with a rim\\nPrimary Examiner—Chuck Y. Mah\\n(74) Attorney, Agent, or Firm—Baker Botts L-L.P.\\n(57)\\nAwheel assembly fora stroller includes a wheel with a rim\\nthat has two vertical side surfaces and a vertical central\\nplane. A vertical pivot shaft is disposed within a mounting\\nspace in the wheel, is located in the central plane, and\\nextends through a fixed seat that is adapted to be mounted\\nfixedly to a stroller frame and that is attached to a rotatable\\nseat. Awheel seat is connected to the wheel and the rotatable\\nseat so as to permit rotation of the wheel and the wheel seat\\nabout the vertical pivot shaft.\\nthat has two vertical Side Surfaces and a vertical central\\nplane. A vertical pivot shaft is disposed within a mounting\\nSpace in the wheel, is located in the central plane, and\\nextends through a fixed Seat that is adapted to be mounted\\nfixedly to a stroller frame and that is attached to a rotatable\\nSeat. A wheel Seat is connected to the wheel and the rotatable\\nSeat So as to permit rotation of the wheel and the wheel Seat\\nabout the vertical pivot shaft.\\n6 Claims, 9 Drawing Sheets\\n6 Claims, 9 Drawing Sheets\\n6,663,121 B2 12/2003 Santos et al.\\nFOREIGN PATENT DOCUMENTS\\n\\nU.S. Patent\\nSep. 6, 2005\\nSheet 1 of 9\\nUS 6,938,300 B2\\nON 12\\nFIG.1\\nPRIOR ART\\n12\\n\\nU.S. Patent\\nSep. 6, 2005\\nSheet 2 of 9\\nUS 6,938,300 B2\\nret\\n=<\\n=\\n—_—_—_\\ns\\nml\\n14\\n142\\n}\\nk\\n\\nU.S. Patent\\nSep. 6, 2005\\nSheet 3 of 9\\nUS 6,938,300 B2\\nFIG,3\\n\\nU.S. Patent\\nSep. 6, 2005\\nSheet 4 of 9\\nUS 6,938,300 B2\\n\\nU.S. Patent\\nSep. 6, 2005\\nSheet 5 of 9\\nUS 6,938,300 B2\\n316°\\n312\\n613\\n612\\n65\\nFIG.9\\n\\nwre ™ 4\\n4\\nU.S. Patent\\nSep. 6, 2005\\nSheet 6 of 9\\nae eeeR\\nUS 6,938,300 B2\\n\\nU.S. Patent\\nSep. 6, 2005\\nSheet 7 of 9\\nUS 6,938,300 B2\\nFIG. 7\\n\\nU.S. Patent\\nSep. 6, 2005\\nSheet 8 of 9\\nUS 6,938,300 B2\\nFIG. 8\\n\\nwre ™ 4\\nU.S. Patent\\nSep. 6, 2005\\nSheet 9 of 9\\nUS 6,938,300 B2\\n643\\nFIG.9\\n\\nUS 6,938,300 B2\\n1\\nWHEELASSEMBLY FOR ASTROLLER\\nBACKGROUND OF THE INVENTION\\n1. Field of the Invention\\nThis invention relates to a stroller, and more particularly\\nto a wheel assembly for a Stroller, which includes a Single\\nwheel.\\n2. Description of the Related Art\\nReferring to FIGS. 1 and 2, a conventional stroller 1 is\\n5:\\n2\\nof a preferred embodiment of this invention, with reference\\nto the accompanying drawings, in which:\\nFIG. 1 is a perspective view of a conventional stroller that\\nincludes two front wheel assemblies, each of which has two\\nfront wheels;\\nFIG. 2 is a bottom view of one front wheel assembly of\\n10\\nshown to include a stroller frame 10 with four legs 101, two\\nfront wheel assemblies 11 mounted respectively to two of\\nthe legs 101, and two rear wheel assemblies 12 mounted\\nrespectively to the other two of the legs 101. FIG. 2 is a\\n15\\n13, a wheel seat 14 disposed between the front wheels 12,\\nand a wheel axle 15 extending through the front wheels 13\\nand the wheel seat 14. Each of the wheel seats 14 has a\\nleg-connecting portion 141 sleeved rotatably on a respective\\none of the legS 101, and an axle-connecting portion 142,\\nwithin which the wheel axle 15 is journalled. To enhance the\\ncomfort of the baby carried on the stroller 1, a vibration\\nabsorbing device (not shown) can be disposed within the\\naxle-connecting portion 142 of each of the wheel Seats 14.\\nWhen it is desired to push the stroller 1 to advance along\\na straight path, a forward force (A) is applied to the Stroller\\nframe 10. In each of the front wheel assemblies 11, since the\\nforward force (A) is located midway between two frictional\\nforces (B) that are generated between the ground and the\\n-\\nfront wheels 13 and since the direction of the forward force\\n(A) is parallel to those of the frictional forces (B), the stroller\\n35\\n1 can advance along a straight path 16. When the stroller 1\\nmoves over a lawn or uneven road Surfaces, it is necessary\\nfor the Stroller wheels to have a large diameter So as to\\nensure the comfort of the baby. However, if each of the front\\nwheel assemblies 11 has two large-diameter front wheels 13,\\nthe total volume and weight of the stroller 1 will increase\\nsignificantly so that it is difficult to push the stroller 1.\\nSUMMARY OF THE INVENTION\\nThe object of this invention is to provide a wheel assem\\nbly for a stroller, which includes a single wheel, thereby\\nreducing the total Volume and weight of the Stroller.\\nAccording to this invention, a wheel assembly for a\\nStroller having a stroller frame is adapted to be mounted to\\nthe Stroller frame, and comprises a wheel unit including a\\nwheel and a wheel axle that is coupled to the wheel So as to\\npermit rotation of the wheel about the wheel axle. The wheel\\nhas a rim and a wheel wall. The rim defines a mounting\\nSpace therein, and has a vertical inner Side Surface that is\\nadapted to be proximate to the Stroller frame, a vertical outer\\nSide Surface that is opposite to the inner Side Surface and that\\nis adapted to be distal from the Stroller frame, and a vertical\\ncentral plane that is located between the inner and outer side\\nSurfaces. A fixed Seat is adapted to be mounted fixedly to the\\nStroller frame, and has a pivot-mounting portion that extends\\ninto the mounting Space in the wheel of the wheel unit. A\\nVertical pivot shaft is disposed on the pivot-mounting por\\ntion of the fixed Seat, and extends in the central plane of the\\nrim of the wheel unit. A wheel seat unit is connected to the\\nwheel unit and the vertical pivot shaft, and is rotatable about\\nthe vertical pivot shaft. The wheel axle is journalled on the\\nwheel Seat.\\nBRIEF DESCRIPTION OF THE DRAWINGS\\nThese and other features and advantages of this invention\\nwill become apparent in the following detailed description\\n65\\n20\\nbottom view of one of the front wheel assemblies 11. Each\\nof the front wheel assemblies 11 includes two front wheels\\nthe conventional Stroller;\\nFIG. 3 is a partly exploded perspective view of the\\npreferred embodiment of a wheel assembly according to this\\ninvention;\\nFIG. 4 is a perspective view of a stroller incorporating the\\npreferred embodiment;\\nFIG. 5 is a partly sectional view of the preferred embodi\\nment when a wheel is disposed at a forward position;\\nFIG. 6 is an exploded perspective view of the preferred\\nembodiment;\\nFIG. 7 is a partly sectional view of the preferred embodi\\nment when the wheel is disposed at an inclined position;\\nFIG. 8 is a side view of the preferred embodiment; and\\nFIG. 9 is a fragmentary side view of the preferred\\nembodiment illustrating how vibration of the wheel is\\nabsorbed.\\n25\\nDETAILED DESCRIPTION OF THE\\nPREFERRED EMBODIMENT\\n30\\nReferring to FIGS. 3 and 4, a stroller is shown to include\\ntwo front wheel assemblies 20, a stroller frame 21, a\\nhand-push frame 22, and two rear wheel assemblies 23.\\nEach of the front wheel assemblies 20 embodies a wheel\\nassembly according to this invention. The stroller frame 21\\nincludes two side bars 211, a front bar 212 having two ends\\nthat are connected respectively and fixedly to front ends of\\nthe side bars 211, and a rear bar 213 that is connected fixedly\\nto rear ends of the side bars 211. The front wheel assemblies\\n40\\n20 are mounted respectively to two ends of the front bar 212\\nof the stroller frame 21. The hand-push frame 22 is mounted\\npivotally to the side bars 211. The rear wheel assemblies 23\\nare mounted respectively to two ends of the rear bar 213.\\nOne of the front wheel assemblies 20 will be described in\\nthe Succeeding paragraphs.\\nThe front wheel assembly 20 includes a wheel unit 3, a\\n45\\nfixed seat 4, a vertical pivot shaft 5, a wheel seat unit 6, and\\na braking mechanism 7.\\nReferring to FIGS. 3 and 5, the wheel unit 3 includes a\\n50\\n55\\nwheel 31 and a wheel axle 32 that is coupled to the wheel\\n31 so as to permit rotation of the wheel 31 about the wheel\\naxle 32. The wheel 31 has a rim 311, a wheel wall 312, and\\na mounting space 313 that is defined within the rim 311. The\\nwheel wall 312 has a circular central portion 314 and three\\nequidistant radial portions 315 that are connected fixedly to\\nthe central portion 314 and the rim 313. The rim 311 has a\\nvertical inner side surface 316 that is proximate to the\\nstroller frame 21, a vertical outer side Surface 316\\' that is\\nopposite to the inner side surface 316 and that is distal from\\nthe stroller frame 21, and a vertical central plane 317\\nbetween the inner and outer side Surfaces 316, 316\".\\n60\\nReferring to FIGS. 5 and 6, the fixed seat 4 includes a\\nVertical base plate 41, a sleeve portion 42 extending inte\\ngrally from the base plate 41 and sleeved fixedly on the front\\nbar 212 of the stroller frame 21, and a pivot mounting\\nportion 43 that extends into the mounting space 313 in the\\nwheel31 of the wheel unit 3 and that is formed with two first\\nhorizontal plates 431 which are aligned along a vertical\\ndirection.\\n\\nUS 6,938,300 B2\\n3\\nThe vertical pivot shaft S extends through the pivot\\nmounting portion 43 of the fixed Seat 4, is located in the\\ncentral plane 317 of the rim 311, and is formed with a\\nvertical slot 51 therethrough.\\nThe wheel seat unit 6 includes a rotatable seat 61, a\\nmovable member 62, a resilient element 63, a wheel seat 64,\\na horizontal pin 65, a horizontal pivot shaft 66, an axle\\nsurrounding tube 67, and two bearings 68.\\nThe rotatable seat 61 includes a vertical base plate 611,\\ntwo Second horizontal plates 612 that extend integrally from\\none side Surface of the base plate 611 and that are aligned\\nalong the vertical direction, two first vertical plates 613 that\\nextend integrally and perpendicularly from an opposite side\\nSurface of the base plate 611 and that are aligned along a\\nhorizontal direction, and two aligned vertical slots 614. The\\nsecond horizontal plates 612 are sleeved rotatably on the\\nvertical pivot shaft 5, and are disposed between the first\\nhorizontal plates 431 of the fixed seat 4. As such, the\\nrotatable seat 61 is rotatable relative to the fixed seat 4.\\nThe movable member 62 and the resilient element 63 are\\nsleeved movably on the vertical pivot shaft S between the\\nsecond horizontal plates 612 of the rotatable seat 61. The\\nresilient element 63 is shaped as a coiled compression\\nSpring, and is disposed immediately under the movable\\nmember 62 so as to bias the movable member 62 upwardly\\ntoward the upper second horizontal plate 612 of the rotatable\\nseat 61.\\nThe wheel seat 64 includes two vertical annular plates 641\\nthat are sleeved movably around the wheel axle 32, two\\ncylindrical sleeves 642 that extend respectively, integrally,\\nand perpendicularly from outer peripheries of the annular\\nplates 641 and away from each other, and two Second\\nvertical plates 643 that are connected fixedly to the annular\\nplates 641, that are aligned along the horizontal direction,\\nand that extend respectively through the vertical slots 614 in\\nthe rotatable seat 61. Each of the second vertical plates 643\\nhas a pivot end 644.\\nThe horizontal pin 65 extends through a pin hole 621 in\\nthe movable member 62, the vertical slot 51 in the vertical\\npivot shaft 5, and the pivot ends 644 of the second vertical\\nplates 643 of the wheel seat 64 so that the resilient element\\n63 can dampen movement of the wheel unit 3 relative to the\\nstroller frame 21, thereby absorbing vibration of the wheel\\nunit 3.\\nThe horizontal pivot shaft 66 extends through the first\\n4\\nture and operation of the braking mechanism 7 are not\\npertinent to the claimed invention, a detailed description\\nthereof will be omitted herein for the sake of brevity.\\nReferring to FIG. 7, when the wheel 31 is disposed at an\\ninclined position, because the vertical pivot Shaft 5 extends\\nin the central plane 317 of the wheel31, the wheel seat unit\\n6 can rotate smoothly relative to the stroller frame 21.\\nReferring to FIGS. 5 and 8, in which the wheel 31 is\\n10\\nshown to be disposed at a forward position, when a forward\\nforce (X) is applied to the Stroller frame 21, because a\\nfrictional force (Y) between the wheel31 and the ground and\\nthe forward force (X) are in the central plane 317, the wheel\\n31 will move along a Straight path.\\n15\\nReferring to FIGS. 6 and 9, when the wheel unit 3 is\\nSubjected to vibration, the resilient element 63 can dampen\\nthe movement of the wheel unit 3.\\nBecause the front wheel assembly 20 includes only one\\nwheel 31, the diameter of the latter can be increased Sig\\nnificantly to enable the stroller to move Smoothly over lawns\\nand uneven road Surfaces, thereby increasing the range of\\napplication of the front wheel assembly 20.\\nWith this invention thus explained, it is apparent that\\nnumerous modifications and variations can be made without\\n25\\ndeparting the Scope and Spirit of this invention. It is therefore\\nintended that this invention be limited only as indicated by\\nthe appended claims.\\nI claim:\\n30\\n35\\n40\\n1. A Stroller having a stroller frame, a pair of front wheel\\nassemblies disposed on a front end of Said Stroller, and a pair\\nof rear wheel assemblies disposed on a rear end of Said\\nStroller, each of Said front wheel assemblies comprising:\\na wheel unit including a wheel and a wheel axle that is\\ncoupled to Said wheel So as to permit rotation of Said\\nwheel about Said wheel axle, Said wheel having a rim\\nand a wheel wall, Said rim defining a mounting Space\\ntherein and having a vertical inner Side Surface that is\\nadapted to be proximate to the Stroller frame, a vertical\\nOuter Side Surface that is opposite to Said inner Side\\nsurface and that is adapted to be distal from the stroller\\nframe, and a vertical central plane that is located\\nbetween Said inner and outer Side Surfaces,\\n45\\nvertical plates 613 of the rotatable seat 61 and the second\\nvertical plates 643 of the wheel seat 64 so as to permit\\nrotation of the rotatable seat 61 and the wheel seat 64 about\\nthe horizontal pivot shaft 66.\\nThe axle surrounding tube 67 is sleeved around the wheel\\naxle 32, and has an outer Surface that is formed with a\\nplurality of axially extending slots 671, one of which\\nengages a key 322 (see FIG. 3) on the wheel axle 32 so as\\nto permit Synchronous rotation of the axle-Surrounding tube\\n67 and the wheel axle 32.\\nThe bearings 68 are disposed respectively within the\\ncylindrical sleeves 642 of the wheel seat 64, and are sleeved\\non the axle-surrounding tube 67.\\nThe braking mechanism 7 includes a braking wheel 71\\n60\\nthat is disposed between the two annular plates 641 and that\\ncan rotate Synchronously with the axle-Surrounding tube 67,\\na gripping member 72 connected rotatably to the Second\\nvertical plates 643 of the wheel seat 64 by means of a\\nhorizontal pin 721, and a control member 73 that can be\\noperated to move the gripping member 72 between a grip\\nping position and a non-gripping position. Since the Struc\\n55\\n50\\na fixed seat mounted fixedly to the stroller frame and\\nhaving a fixed pivot-mounting portion that extends into\\nSaid mounting Space in Said wheel of Said wheel unit;\\na vertical pivot shaft disposed on Said pivot-mounting\\nportion of Said fixed Seat and extending in Said vertical\\ncentral plane of Said rim, said vertical pivot shaft being\\nSpaced apart from Said wheel axle of Said wheel unit;\\nand\\na wheel Seat unit connected to Said wheel unit and Said\\nvertical pivot shaft and rotatable about said vertical\\npivot shaft, Said wheel axle being journalled in Said\\nwheel Seat unit.\\n65\\n2. The stroller as claimed in claim 1, wherein said\\npivot-mounting portion of Said fixed Seat is formed with two\\nfirst horizontal plates that are aligned along a vertical\\ndirection, Said wheel Seat unit including:\\na rotatable Seat having two Second horizontal plates that\\nare inter connected fixedly and that are aligned along\\nthe vertical direction, Said vertical pivot shaft extending\\nthrough said first horizontal plates of Said fixed Seat and\\nSaid Second horizontal plates of Said rotatable Seat So as\\nto permit rotation of Said rotatable Seat about Said\\nvertical pivot shaft;\\na wheel Seat attached to Said rotatable Seat, Said wheel\\naxle being journalled on Said wheel Seat; and\\n\\nUS 6,938,300 B2\\nS\\na horizontal pivot shaft extending through Said rotatable\\nSeat and Said wheel Seat So as to permit rotation of Said\\nrotatable Seat and Said wheel Seat about Said horizontal\\npivot shaft.\\n3. The stroller as claimed in claim 2, wherein said\\nrotatable Seat further has a vertical base plate formed inte\\ngrally with Said Second horizontal plates, and two first\\nVertical plates that extend integrally and perpendicularly\\nfrom Said vertical base plate, Said wheel Seat having two\\nSecond Vertical plates that are aligned along the horizontal\\ndirection, Said horizontal pivot shaft extending through said\\nfirst vertical plates of Said rotatable Seat and Said Second\\nVertical plates of Said wheel Seat.\\n4. The stroller as claimed in claim3, wherein said vertical\\npivot shaft is formed with a vertical slot therethrough, said\\nSecond horizontal plates of Said rotatable Seat being disposed\\nbetween Said first horizontal plates of Said fixed Seat, Said\\nwheel Seat unit further including:\\na movable member sleeved movably on said vertical pivot\\nshaft between Said Second horizontal plates of Said\\nrotatable Seat, Said movable member having a horizon\\ntal pin hole formed therethrough;\\na resilient element for biasing Said movable member\\nupwardly toward an upper one of Said Second horizon\\ntal plates of Said rotatable Seat; and\\na horizontal pin extending through Said pin hole in Said\\nmovable member, Said vertical Slot in Said vertical\\npivot shaft, and Said Second vertical plates of Said\\nwheel Seat So that Said resilient element can dampen\\n6\\nmovement of said wheel unit relative to the stroller\\nframe, thereby absorbing vibration of said wheel unit.\\n5. The stroller as claimed in claim 1, wherein said wheel\\n10\\nSeat includes two vertical annular plates that are sleeve\\nrotatably around Said wheel axle, and two cylindrical Sleeves\\nthat extend respectively, integrally, and perpendicularly\\nfrom outer peripheries of Said annular plates and away from\\neach other, Said wheel Seat unit further including:\\ntwo bearings disposed respectively within Said sleeves,\\nand\\nan axle-Surrounding tube sleeved around Said wheel axle\\nSo as to permit Synchronous rotation with Said wheel\\naxle.\\n15\\n6. The stroller as claimed in claim 1, wherein said wheel\\nSeat unit includes:\\na rotatable Seat Sleeved rotatably on Said vertical pivot\\nshaft;\\n20\\na wheel Seat, on which said wheel axle is journalled;\\na horizontal pivot shaft extending through Said rotatable\\nSeat and Said wheel Seat So as to permit rotation of Said\\nrotatable Seat and Said wheel Seat about Said horizontal\\npivot Shaft; and\\n25\\na resilient element sleeved on Said vertical pivot shaft So\\nas to dampen movement of Said wheel unit relative to\\nthe stroller frame, thereby absorbing vibration of skid\\nwheel unit.\\n', metadata={'source': './patriz_test_2/US6938300_patriz.txt'})]"
      ]
     },
     "execution_count": 4,
     "metadata": {},
     "output_type": "execute_result"
    }
   ],
   "source": [
    "document"
   ]
  },
  {
   "cell_type": "code",
   "execution_count": 5,
   "id": "7116c3ee",
   "metadata": {
    "metadata": {}
   },
   "outputs": [
    {
     "data": {
      "text/plain": [
       "1"
      ]
     },
     "execution_count": 5,
     "metadata": {},
     "output_type": "execute_result"
    }
   ],
   "source": [
    "len(document)"
   ]
  },
  {
   "cell_type": "code",
   "execution_count": 6,
   "id": "86c95004",
   "metadata": {
    "metadata": {}
   },
   "outputs": [],
   "source": [
    "document_splitter=CharacterTextSplitter(separator='\\n', chunk_size=512, chunk_overlap=50)"
   ]
  },
  {
   "cell_type": "code",
   "execution_count": 7,
   "id": "58b63fcb",
   "metadata": {
    "metadata": {}
   },
   "outputs": [
    {
     "data": {
      "text/plain": [
       "46"
      ]
     },
     "execution_count": 7,
     "metadata": {},
     "output_type": "execute_result"
    }
   ],
   "source": [
    "document_chunks=document_splitter.split_documents(document)\n",
    "len(document_chunks)"
   ]
  },
  {
   "cell_type": "code",
   "execution_count": 66,
   "id": "660d0d05",
   "metadata": {
    "metadata": {}
   },
   "outputs": [
    {
     "data": {
      "text/plain": [
       "Document(page_content='5,221,100 A\\n5,232,071 A *\\n6/1993 McNutt ....................... 280/78\\nMcNutt oe280/78\\n8/1993\\n5,581,843 A\\n12/1996\\n5,581,843 A * 12/1996\\n5,819,514 A 5,819,514 A * 10/1998\\n10/1998\\nKawanabe ...\\nw. 188/1.12 ... 188/1.12\\nPurnell ....... Purnell ....................... 16/35 R\\nFirdaus .......................\\nee 16/35 R\\nFirdaus ......0... 56/16.7eee 56/16.7\\n6/1993\\n(51) Int. C1? eeeB60B 33/00; B62B 7/04\\n(52) US. Ch oe16/18 R; 16/35 R; 16/18 A;\\n16/44; 16/31 R; 280/47.25; 280/642; 280/647;\\n280/657; 280/47.38', metadata={'source': './patriz_test_2/US6938300_patriz.txt'})"
      ]
     },
     "execution_count": 66,
     "metadata": {},
     "output_type": "execute_result"
    }
   ],
   "source": [
    "document_chunks[3]"
   ]
  },
  {
   "cell_type": "code",
   "execution_count": 9,
   "id": "30e6854d",
   "metadata": {
    "metadata": {}
   },
   "outputs": [
    {
     "name": "stderr",
     "output_type": "stream",
     "text": [
      "[codecarbon WARNING @ 16:48:12] Invalid gpu_ids format. Expected a string or a list of ints.\n",
      "[codecarbon INFO @ 16:48:12] [setup] RAM Tracking...\n",
      "[codecarbon INFO @ 16:48:12] [setup] GPU Tracking...\n",
      "[codecarbon INFO @ 16:48:12] Tracking Nvidia GPU via pynvml\n",
      "[codecarbon INFO @ 16:48:12] [setup] CPU Tracking...\n",
      "[codecarbon WARNING @ 16:48:12] No CPU tracking mode found. Falling back on CPU constant mode.\n"
     ]
    },
    {
     "name": "stdout",
     "output_type": "stream",
     "text": [
      "Start of code time:  1716824892.7502155\n"
     ]
    },
    {
     "name": "stderr",
     "output_type": "stream",
     "text": [
      "[codecarbon WARNING @ 16:48:14] We saw that you have a Intel(R) Xeon(R) Gold 6330 CPU @ 2.00GHz but we don't know it. Please contact us.\n",
      "[codecarbon INFO @ 16:48:14] CPU Model on constant consumption mode: Intel(R) Xeon(R) Gold 6330 CPU @ 2.00GHz\n",
      "[codecarbon INFO @ 16:48:14] >>> Tracker's metadata:\n",
      "[codecarbon INFO @ 16:48:14]   Platform system: Linux-5.4.0-182-generic-x86_64-with-glibc2.31\n",
      "[codecarbon INFO @ 16:48:14]   Python version: 3.12.1\n",
      "[codecarbon INFO @ 16:48:14]   CodeCarbon version: 2.4.1\n",
      "[codecarbon INFO @ 16:48:14]   Available RAM : 503.339 GB\n",
      "[codecarbon INFO @ 16:48:14]   CPU count: 112\n",
      "[codecarbon INFO @ 16:48:14]   CPU model: Intel(R) Xeon(R) Gold 6330 CPU @ 2.00GHz\n",
      "[codecarbon INFO @ 16:48:14]   GPU count: 2\n",
      "[codecarbon INFO @ 16:48:14]   GPU model: 2 x NVIDIA A40\n",
      "[codecarbon INFO @ 16:48:19] Energy consumed for RAM : 0.000122 kWh. RAM Power : 188.75217247009277 W\n",
      "[codecarbon INFO @ 16:48:19] Energy consumed for all GPUs : 0.000102 kWh. Total GPU Power : 157.71975653539258 W\n",
      "[codecarbon INFO @ 16:48:19] Energy consumed for all CPUs : 0.000028 kWh. Total CPU Power : 42.5 W\n",
      "[codecarbon INFO @ 16:48:19] 0.000252 kWh of electricity used since the beginning.\n"
     ]
    },
    {
     "name": "stdout",
     "output_type": "stream",
     "text": [
      "Emissions for this code execution is:  6.585105440103708e-05\n",
      "End of code time:  1716824899.606445\n"
     ]
    }
   ],
   "source": [
    "#Embedding model load\n",
    "\n",
    "from langchain.embeddings import HuggingFaceBgeEmbeddings\n",
    "from langchain.vectorstores import Chroma\n",
    "from codecarbon import EmissionsTracker\n",
    "import time\n",
    "\n",
    "print(\"Start of code time: \",time.time())\n",
    "\n",
    "tracker = EmissionsTracker()\n",
    "tracker.start()\n",
    "\n",
    "model_name = \"BAAI/bge-large-en-v1.5\"\n",
    "# model_kwargs = {'device': 'cuda'}\n",
    "encode_kwargs = {'normalize_embeddings': True} # set True to compute cosine similarity\n",
    "model = HuggingFaceBgeEmbeddings(\n",
    "    model_name=model_name,\n",
    "    # model_kwargs=model_kwargs,\n",
    "    encode_kwargs=encode_kwargs\n",
    "    # ,\n",
    "    # query_instruction=\"为这个句子生成表示以用于检索相关文章：\"\n",
    ")\n",
    "\n",
    "\n",
    "emissions: float = tracker.stop()\n",
    "print(\"Emissions for this code execution is: \", emissions)\n",
    "print(\"End of code time: \",time.time())"
   ]
  },
  {
   "cell_type": "code",
   "execution_count": 10,
   "id": "384cd0de",
   "metadata": {
    "metadata": {}
   },
   "outputs": [
    {
     "name": "stdout",
     "output_type": "stream",
     "text": [
      "client=SentenceTransformer(\n",
      "  (0): Transformer({'max_seq_length': 512, 'do_lower_case': True}) with Transformer model: BertModel \n",
      "  (1): Pooling({'word_embedding_dimension': 1024, 'pooling_mode_cls_token': True, 'pooling_mode_mean_tokens': False, 'pooling_mode_max_tokens': False, 'pooling_mode_mean_sqrt_len_tokens': False, 'pooling_mode_weightedmean_tokens': False, 'pooling_mode_lasttoken': False, 'include_prompt': True})\n",
      "  (2): Normalize()\n",
      ") model_name='BAAI/bge-large-en-v1.5' cache_folder=None model_kwargs={} encode_kwargs={'normalize_embeddings': True} query_instruction='Represent this question for searching relevant passages: ' embed_instruction=''\n"
     ]
    }
   ],
   "source": [
    "print(model)"
   ]
  },
  {
   "cell_type": "code",
   "execution_count": 11,
   "id": "c057a665",
   "metadata": {
    "metadata": {}
   },
   "outputs": [
    {
     "name": "stderr",
     "output_type": "stream",
     "text": [
      "[codecarbon WARNING @ 16:48:30] Invalid gpu_ids format. Expected a string or a list of ints.\n",
      "[codecarbon INFO @ 16:48:30] [setup] RAM Tracking...\n",
      "[codecarbon INFO @ 16:48:30] [setup] GPU Tracking...\n",
      "[codecarbon INFO @ 16:48:30] Tracking Nvidia GPU via pynvml\n",
      "[codecarbon INFO @ 16:48:30] [setup] CPU Tracking...\n",
      "[codecarbon WARNING @ 16:48:30] No CPU tracking mode found. Falling back on CPU constant mode.\n"
     ]
    },
    {
     "name": "stdout",
     "output_type": "stream",
     "text": [
      "Start of code time:  1716824910.2278676\n"
     ]
    },
    {
     "name": "stderr",
     "output_type": "stream",
     "text": [
      "[codecarbon WARNING @ 16:48:31] We saw that you have a Intel(R) Xeon(R) Gold 6330 CPU @ 2.00GHz but we don't know it. Please contact us.\n",
      "[codecarbon INFO @ 16:48:31] CPU Model on constant consumption mode: Intel(R) Xeon(R) Gold 6330 CPU @ 2.00GHz\n",
      "[codecarbon INFO @ 16:48:31] >>> Tracker's metadata:\n",
      "[codecarbon INFO @ 16:48:31]   Platform system: Linux-5.4.0-182-generic-x86_64-with-glibc2.31\n",
      "[codecarbon INFO @ 16:48:31]   Python version: 3.12.1\n",
      "[codecarbon INFO @ 16:48:31]   CodeCarbon version: 2.4.1\n",
      "[codecarbon INFO @ 16:48:31]   Available RAM : 503.339 GB\n",
      "[codecarbon INFO @ 16:48:31]   CPU count: 112\n",
      "[codecarbon INFO @ 16:48:31]   CPU model: Intel(R) Xeon(R) Gold 6330 CPU @ 2.00GHz\n",
      "[codecarbon INFO @ 16:48:31]   GPU count: 2\n",
      "[codecarbon INFO @ 16:48:31]   GPU model: 2 x NVIDIA A40\n",
      "[codecarbon INFO @ 16:48:36] Energy consumed for RAM : 0.000089 kWh. RAM Power : 188.75217247009277 W\n",
      "[codecarbon INFO @ 16:48:36] Energy consumed for all GPUs : 0.000103 kWh. Total GPU Power : 217.67455917770369 W\n",
      "[codecarbon INFO @ 16:48:36] Energy consumed for all CPUs : 0.000020 kWh. Total CPU Power : 42.5 W\n",
      "[codecarbon INFO @ 16:48:36] 0.000213 kWh of electricity used since the beginning.\n"
     ]
    },
    {
     "name": "stdout",
     "output_type": "stream",
     "text": [
      "Emissions for this code execution is:  5.5518979863521e-05\n",
      "End of code time:  1716824916.4184031\n"
     ]
    }
   ],
   "source": [
    "#Chroma DB saving files and embeddings\n",
    "\n",
    "from langchain.vectorstores import Chroma\n",
    "from codecarbon import EmissionsTracker\n",
    "import time\n",
    "\n",
    "print(\"Start of code time: \",time.time())\n",
    "\n",
    "tracker = EmissionsTracker()\n",
    "tracker.start()\n",
    "\n",
    "chroma_db = Chroma.from_documents(\n",
    "    document_chunks, model, persist_directory=\"./db_patriz\"\n",
    ")\n",
    "\n",
    "chroma_db.persist()\n",
    "\n",
    "emissions: float = tracker.stop()\n",
    "print(\"Emissions for this code execution is: \", emissions)\n",
    "print(\"End of code time: \",time.time())\n"
   ]
  },
  {
   "cell_type": "code",
   "execution_count": 12,
   "id": "976dd2c3",
   "metadata": {
    "metadata": {}
   },
   "outputs": [],
   "source": [
    "from langchain.llms.huggingface_pipeline import HuggingFacePipeline\n",
    "import torch\n",
    "from transformers import AutoModelForCausalLM, AutoTokenizer, pipeline\n",
    "from transformers import BitsAndBytesConfig\n"
   ]
  },
  {
   "cell_type": "code",
   "execution_count": 24,
   "id": "9f459613",
   "metadata": {
    "metadata": {}
   },
   "outputs": [
    {
     "name": "stderr",
     "output_type": "stream",
     "text": [
      "/home/c7361293/miniconda3/envs/triztest/lib/python3.12/site-packages/transformers/models/auto/auto_factory.py:468: FutureWarning: The `use_auth_token` argument is deprecated and will be removed in v5 of Transformers. Please use `token` instead.\n",
      "  warnings.warn(\n",
      "Loading checkpoint shards: 100%|██████████| 3/3 [00:02<00:00,  1.11it/s]\n"
     ]
    }
   ],
   "source": [
    "model_id = \"/home/c7361293/triz_llm/llama-2-7b-chat/model\"\n",
    " \n",
    "tokenizer = AutoTokenizer.from_pretrained(model_id)\n",
    "model = AutoModelForCausalLM.from_pretrained(\n",
    "                 model_id,\n",
    "                 device_map=\"cpu\",\n",
    "                 use_auth_token=True,\n",
    "                #  load_in_8bit=True\n",
    "                 )\n",
    "\n"
   ]
  },
  {
   "cell_type": "code",
   "execution_count": 67,
   "id": "2e2c38cf",
   "metadata": {
    "metadata": {}
   },
   "outputs": [],
   "source": [
    "pipe=pipeline(\"text-generation\",\n",
    "              model=model,\n",
    "              tokenizer=tokenizer,\n",
    "              torch_dtype=torch.bfloat16,\n",
    "              device_map='cpu',\n",
    "              max_new_tokens=1024,\n",
    "              min_new_tokens=-1,\n",
    "              top_k=30\n",
    "              )"
   ]
  },
  {
   "cell_type": "code",
   "execution_count": 68,
   "id": "314e74ad",
   "metadata": {
    "metadata": {}
   },
   "outputs": [],
   "source": [
    "llm=HuggingFacePipeline(pipeline=pipe, model_kwargs={'temperature':0})"
   ]
  },
  {
   "cell_type": "code",
   "execution_count": 69,
   "id": "c1a39922",
   "metadata": {
    "metadata": {}
   },
   "outputs": [
    {
     "data": {
      "text/plain": [
       "HuggingFacePipeline(pipeline=<transformers.pipelines.text_generation.TextGenerationPipeline object at 0x7fd77412d310>, model_kwargs={'temperature': 0})"
      ]
     },
     "execution_count": 69,
     "metadata": {},
     "output_type": "execute_result"
    }
   ],
   "source": [
    "llm"
   ]
  },
  {
   "cell_type": "code",
   "execution_count": 70,
   "id": "be1f2948",
   "metadata": {
    "metadata": {}
   },
   "outputs": [],
   "source": [
    "memory=ConversationBufferMemory(memory_key='chat_history', return_messages=True)"
   ]
  },
  {
   "cell_type": "code",
   "execution_count": 71,
   "id": "c2b81085",
   "metadata": {
    "metadata": {}
   },
   "outputs": [],
   "source": [
    "#Create our Q/A Chain\n",
    "pdf_qa=ConversationalRetrievalChain.from_llm(llm=llm,\n",
    "                                             retriever=chroma_db.as_retriever(search_kwargs={'k':6}),\n",
    "                                             verbose=False, memory=memory)"
   ]
  },
  {
   "cell_type": "code",
   "execution_count": 72,
   "id": "74ca798d",
   "metadata": {
    "metadata": {}
   },
   "outputs": [
    {
     "name": "stderr",
     "output_type": "stream",
     "text": [
      "/home/c7361293/miniconda3/envs/triztest/lib/python3.12/site-packages/transformers/generation/configuration_utils.py:509: UserWarning: `do_sample` is set to `False`. However, `top_k` is set to `30` -- this flag is only used in sample-based generation modes. You should set `do_sample=True` or unset `top_k`.\n",
      "  warnings.warn(\n",
      "Setting `pad_token_id` to `eos_token_id`:2 for open-end generation.\n"
     ]
    },
    {
     "data": {
      "text/plain": [
       "(2274754560, 47736619008)"
      ]
     },
     "execution_count": 72,
     "metadata": {},
     "output_type": "execute_result"
    }
   ],
   "source": [
    "import torch\n",
    "torch.cuda.empty_cache()\n",
    "\n",
    "result=pdf_qa({\"question\":\"\"\"\n",
    "    Quote the lines from the documents and present them directly.\n",
    "    What are the line that contains improvement and obstacles of mentioned in the documents.\n",
    "\"\"\"})\n",
    "torch.cuda.empty_cache()\n",
    "torch.cuda.mem_get_info()"
   ]
  },
  {
   "cell_type": "code",
   "execution_count": 73,
   "id": "503ed9d0",
   "metadata": {
    "metadata": {}
   },
   "outputs": [
    {
     "data": {
      "text/plain": [
       "\"Use the following pieces of context to answer the question at the end. If you don't know the answer, just say that you don't know, don't try to make up an answer.\\n\\nret\\n=<\\n=\\n—_—_—_\\ns\\nml\\n14\\n142\\n}\\nk\\nU.S. Patent\\nSep. 6, 2005\\nSheet 3 of 9\\nUS 6,938,300 B2\\nFIG,3\\nU.S. Patent\\nSep. 6, 2005\\nSheet 4 of 9\\nUS 6,938,300 B2\\nU.S. Patent\\nSep. 6, 2005\\nSheet 5 of 9\\nUS 6,938,300 B2\\n316°\\n312\\n613\\n612\\n65\\nFIG.9\\nwre ™ 4\\n4\\nU.S. Patent\\nSep. 6, 2005\\nSheet 6 of 9\\nae eeeR\\nUS 6,938,300 B2\\nU.S. Patent\\nSep. 6, 2005\\nSheet 7 of 9\\nUS 6,938,300 B2\\nFIG. 7\\nU.S. Patent\\nSep. 6, 2005\\nSheet 8 of 9\\nUS 6,938,300 B2\\nFIG. 8\\nwre ™ 4\\nU.S. Patent\\nSep. 6, 2005\\nSheet 9 of 9\\nUS 6,938,300 B2\\n643\\nFIG.9\\nUS 6,938,300 B2\\n1\\n\\n25\\ndeparting the Scope and Spirit of this invention. It is therefore\\nintended that this invention be limited only as indicated by\\nthe appended claims.\\nI claim:\\n30\\n35\\n40\\n1. A Stroller having a stroller frame, a pair of front wheel\\nassemblies disposed on a front end of Said Stroller, and a pair\\nof rear wheel assemblies disposed on a rear end of Said\\nStroller, each of Said front wheel assemblies comprising:\\na wheel unit including a wheel and a wheel axle that is\\n\\n16/44, 18 A, 29, 18 R, 45, 31 R; 301/1.12,\\n109, 110, 111.01, 111.04; 280/47.38, 47.22,\\n47.25, 642, 647, 650, 657–658, 47.24\\n(56)\\n4,410,194 A\\n5,221,100 A *\\n(56)\\nReferences Cited\\nReferences\\nU.S. PATENT DOCUMENTS\\nU.S. PATENT DOCUMENTS\\n5,232,071 A * 8/1993 Kawanabe ...\\n4.410,194 A * 10/1983\\n10/1983\\n4,543,685 A * 10/1985\\n4,543,685. A * 10/1985\\nSteilen\\n........................ 280/86\\nSteilen oe280/86\\nKassai ..ececeeeeeeeeee 16/35 R\\nKassai ........................ 16/35 R\\n5,221,100 A\\n5,232,071 A *\\n\\nment when the wheel is disposed at an inclined position;\\nFIG. 8 is a side view of the preferred embodiment; and\\nFIG. 9 is a fragmentary side view of the preferred\\nembodiment illustrating how vibration of the wheel is\\nabsorbed.\\n25\\nDETAILED DESCRIPTION OF THE\\nPREFERRED EMBODIMENT\\n30\\nReferring to FIGS. 3 and 4, a stroller is shown to include\\ntwo front wheel assemblies 20, a stroller frame 21, a\\nhand-push frame 22, and two rear wheel assemblies 23.\\nEach of the front wheel assemblies 20 embodies a wheel\\n\\n29912291\\n29.912291\\n1097733\\n1097733\\n10100072\\n10100072\\n55015345 A 55O15345 A *\\n7/1999\\n7/1999\\n5/2001\\n3/2002\\n5/2001\\n3/2002\\n2/1980 we B62D/17/00 ........... B62D/17/OO\\n2/1980\\n2001097254 A 2001097254. A * 4/2001... B62D/53/00\\n4/2001\\n........... B62D/53/OO\\nOTHER PUBLICATIONS\\nOTHER PUBLICATIONS\\nUnited Kingdom Search Report, dated Nov. 14, 2003.\\n* cited * cited by examinerbyexaminer\\nKingdom\\nReport, dated\\n14, 2003.\\nPrimary Examiner-Chuck Y. Mah\\n(74) Attorney, Agent, or Firm-Baker Botts L.L.P.\\n(57)\\nABSTRACT\\nABSTRACT\\n\\nU.S.C. 154(b) by 0 days.\\n(21) Appl. No.: 10/438,910\\n(22) Filed:\\n(21) Appl. No.: 10/438,910\\n(22) Filed:\\nMay 16, 2003\\nMay 16, 2003\\n(65)\\n(65)\\nPrior Publication Data\\nPrior Publication Data\\nUS 2004/0226133 A1 Nov. 18, 2004\\nUS 2004/0226133 Al Nov. 18, 2004\\n(51) Int. Cl. ............................ B60B33/00; B62B 7/04\\n(52) U.S. Cl. ....................... 16/18 R; 16/35 R; 16/18 A;\\n16/44; 16/31 R; 280/47.25; 280/642; 280/647;\\n280/657; 280/47.38\\n(58) Field of Search ............................... 16/35R, 35 D,\\n\\nQuestion: \\n    Quote the lines from the documents and present them directly.\\n    What are the line that contains improvement and obstacles of mentioned in the documents.\\n\\nHelpful Answer: \\n\\nThe provided documents are patent applications, and they do not contain any specific lines that mention improvement or obstacles. Patent applications are legal documents that describe the invention and its details, and they do not provide personal opinions or subjective evaluations of the invention. Therefore, I cannot quote any specific lines from the documents that mention improvement or obstacles.\\n\\n\\n\\n\\n\\n\\n\\n\\n\\n\\n\\n\\n\\n\\n\\n\\n\\n\\n\\n\\n\\n\\n\\n\\n\\n\\n\\n\\n\\n\\n\\n\\n\\n\\n\\n\\n\\n\\n\\n\\n\\n\\n\\n\\n\\n\\n\\n\\n\\n\\n\\n\\n\\n\\n\\n\\n\\n\\n\\n\\n\\n\\n\\n\\n\\n\\n\\n\\n\\n\\n\\n\\n\\n\\n\\n\\n\\n\\n\\n\\n\\n\\n\\n\\n\\n\\n\\n\\n\\n\\n\\n\\n\\n\\n\\n\\n\\n\\n\\n\\n\\n\\n\\n\\n\\n\\n\\n\\n\\n\\n\\n\\n\\n\\n\\n\\n\\n\\n\\n\\n\\n\\n\\n\\n\\n\\n\\n\\n\\n\\n\\n\\n\\n\\n\\n\\n\\n\\n\\n\\n\\n\\n\\n\\n\\n\\n\\n\\n\\n\\n\\n\\n\\n\\n\\n\\n\\n\\n\\n\\n\\n\\n\\n\\n\\n\\n\\n\\n\\n\\n\\n\\n\\n\\n\\n\\n\\n\\n\\n\\n\\n\\n\\n\\n\\n\\n\\n\\n\\n\\n\\n\\n\\n\\n\\n\\n\\n\\n\\n\\n\\n\\n\\n\\n\\n\\n\\n\\n\\n\\n\\n\\n\\n\\n\\n\\n\\n\\n\\n\\n\\n\\n\\n\\n\\n\\n\\n\\n\\n\\n\\n\\n\\n\\n\\n\\n\\n\\n\\n\\n\\n\\n\\n\\n\\n\\n\\n\\n\\n\\n\\n\\n\\n\\n\\n\\n\\n\\n\\n\\n\\n\\n\\n\\n\\n\\n\\n\\n\\n\\n\\n\\n\\n\\n\\n\\n\\n\\n\\n\\n\\n\\n\\n\\n\\n\\n\\n\\n\\n\\n\\n\\n\\n\\n\\n\\n\\n\\n\\n\\n\\n\\n\\n\\n\\n\\n\\n\\n\\n\\n\\n\\n\\n\\n\\n\\n\\n\\n\\n\\n\\n\\n\\n\\n\\n\\n\\n\\n\\n\\n\\n\\n\\n\\n\\n\\n\\n\\n\\n\\n\\n\\n\\n\\n\\n\\n\\n\\n\\n\\n\\n\\n\\n\\n\\n\\n\\n\\n\\n\\n\\n\\n\\n\\n\\n\\n\\n\\n\\n\\n\\n\\n\\n\\n\\n\\n\\n\\n\\n\\n\\n\\n\\n\\n\\n\\n\\n\\n\\n\\n\\n\\n\\n\\n\\n\\n\\n\\n\\n\\n\\n\\n\\n\\n\\n\\n\\n\\n\\n\\n\\n\\n\\n\\n\\n\\n\\n\\n\\n\\n\\n\\n\\n\\n\\n\\n\\n\\n\\n\\n\\n\\n\\n\\n\\n\\n\\n\\n\\n\\n\\n\\n\\n\\n\\n\\n\\n\\n\\n\\n\\n\\n\\n\\n\\n\\n\\n\\n\\n\\n\\n\\n\\n\\n\\n\\n\\n\\n\\n\\n\\n\\n\\n\\n\\n\\n\\n\\n\\n\\n\\n\\n\\n\\n\\n\\n\\n\\n\\n\\n\\n\\n\\n\\n\\n\\n\\n\\n\\n\\n\\n\\n\\n\\n\\n\\n\\n\\n\\n\\n\\n\\n\\n\\n\\n\\n\\n\\n\\n\\n\\n\\n\\n\\n\\n\\n\\n\\n\\n\\n\\n\\n\\n\\n\\n\\n\\n\\n\\n\\n\\n\\n\\n\\n\\n\\n\\n\\n\\n\\n\\n\\n\\n\\n\\n\\n\\n\\n\\n\\n\\n\\n\\n\\n\\n\\n\\n\\n\\n\\n\\n\\n\\n\\n\\n\\n\\n\\n\\n\\n\\n\\n\\n\\n\\n\\n\\n\\n\\n\\n\\n\\n\\n\\n\\n\\n\\n\\n\\n\\n\\n\\n\\n\\n\\n\\n\\n\\n\\n\\n\\n\\n\\n\\n\\n\\n\\n\\n\\n\\n\\n\\n\\n\\n\\n\\n\\n\\n\\n\\n\\n\\n\\n\\n\\n\\n\\n\\n\\n\\n\\n\\n\\n\\n\\n\\n\\n\\n\\n\\n\\n\\n\\n\\n\\n\\n\\n\\n\\n\\n\\n\\n\\n\\n\\n\\n\\n\\n\\n\\n\\n\\n\\n\\n\\n\\n\\n\\n\\n\\n\\n\\n\\n\\n\\n\\n\\n\\n\\n\\n\\n\\n\\n\\n\\n\\n\\n\\n\\n\\n\\n\\n\\n\\n\\n\\n\\n\\n\\n\\n\\n\\n\\n\\n\\n\\n\\n\\n\\n\\n\\n\\n\\n\\n\\n\\n\\n\\n\\n\\n\\n\\n\\n\\n\\n\\n\\n\\n\\n\\n\\n\\n\\n\\n\\n\\n\\n\\n\\n\\n\\n\\n\\n\\n\\n\\n\\n\\n\\n\\n\\n\\n\\n\\n\\n\\n\\n\\n\\n\\n\\n\\n\\n\\n\\n\\n\\n\\n\\n\\n\\n\\n\\n\\n\\n\\n\\n\\n\\n\\n\\n\\n\\n\\n\\n\\n\\n\\n\\n\\n\\n\\n\\n\\n\\n\\n\\n\\n\\n\\n\\n\\n\\n\\n\\n\\n\\n\\n\\n\\n\\n\\n\\n\\n\\n\\n\\n\\n\\n\\n\\n\\n\\n\\n\\n\\n\\n\\n\\n\\n\\n\\n\\n\\n\\n\\n\\n\\n\\n\\n\\n\\n\\n\\n\\n\\n\\n\\n\\n\\n\\n\\n\\n\\n\\n\\n\\n\\n\\n\\n\\n\\n\\n\\n\\n\\n\\n\\n\\n\\n\\n\\n\\n\\n\\n\\n\\n\\n\\n\\n\\n\\n\\n\\n\\n\\n\\n\\n\\n\\n\\n\\n\\n\\n\\n\\n\\n\\n\\n\\n\\n\\n\\n\\n\\n\\n\\n\\n\\n\\n\\n\\n\\n\\n\\n\\n\\n\\n\\n\\n\\n\\n\\n\\n\\n\\n\\n\\n\\n\\n\\n\\n\\n\\n\\n\\n\\n\""
      ]
     },
     "execution_count": 73,
     "metadata": {},
     "output_type": "execute_result"
    }
   ],
   "source": [
    "result['answer']"
   ]
  },
  {
   "cell_type": "code",
   "execution_count": 74,
   "id": "be962bcc",
   "metadata": {
    "metadata": {}
   },
   "outputs": [
    {
     "name": "stdout",
     "output_type": "stream",
     "text": [
      "Use the following pieces of context to answer the question at the end. If you don't know the answer, just say that you don't know, don't try to make up an answer.\n",
      "\n",
      "ret\n",
      "=<\n",
      "=\n",
      "—_—_—_\n",
      "s\n",
      "ml\n",
      "14\n",
      "142\n",
      "}\n",
      "k\n",
      "U.S. Patent\n",
      "Sep. 6, 2005\n",
      "Sheet 3 of 9\n",
      "US 6,938,300 B2\n",
      "FIG,3\n",
      "U.S. Patent\n",
      "Sep. 6, 2005\n",
      "Sheet 4 of 9\n",
      "US 6,938,300 B2\n",
      "U.S. Patent\n",
      "Sep. 6, 2005\n",
      "Sheet 5 of 9\n",
      "US 6,938,300 B2\n",
      "316°\n",
      "312\n",
      "613\n",
      "612\n",
      "65\n",
      "FIG.9\n",
      "wre ™ 4\n",
      "4\n",
      "U.S. Patent\n",
      "Sep. 6, 2005\n",
      "Sheet 6 of 9\n",
      "ae eeeR\n",
      "US 6,938,300 B2\n",
      "U.S. Patent\n",
      "Sep. 6, 2005\n",
      "Sheet 7 of 9\n",
      "US 6,938,300 B2\n",
      "FIG. 7\n",
      "U.S. Patent\n",
      "Sep. 6, 2005\n",
      "Sheet 8 of 9\n",
      "US 6,938,300 B2\n",
      "FIG. 8\n",
      "wre ™ 4\n",
      "U.S. Patent\n",
      "Sep. 6, 2005\n",
      "Sheet 9 of 9\n",
      "US 6,938,300 B2\n",
      "643\n",
      "FIG.9\n",
      "US 6,938,300 B2\n",
      "1\n",
      "\n",
      "25\n",
      "departing the Scope and Spirit of this invention. It is therefore\n",
      "intended that this invention be limited only as indicated by\n",
      "the appended claims.\n",
      "I claim:\n",
      "30\n",
      "35\n",
      "40\n",
      "1. A Stroller having a stroller frame, a pair of front wheel\n",
      "assemblies disposed on a front end of Said Stroller, and a pair\n",
      "of rear wheel assemblies disposed on a rear end of Said\n",
      "Stroller, each of Said front wheel assemblies comprising:\n",
      "a wheel unit including a wheel and a wheel axle that is\n",
      "\n",
      "16/44, 18 A, 29, 18 R, 45, 31 R; 301/1.12,\n",
      "109, 110, 111.01, 111.04; 280/47.38, 47.22,\n",
      "47.25, 642, 647, 650, 657–658, 47.24\n",
      "(56)\n",
      "4,410,194 A\n",
      "5,221,100 A *\n",
      "(56)\n",
      "References Cited\n",
      "References\n",
      "U.S. PATENT DOCUMENTS\n",
      "U.S. PATENT DOCUMENTS\n",
      "5,232,071 A * 8/1993 Kawanabe ...\n",
      "4.410,194 A * 10/1983\n",
      "10/1983\n",
      "4,543,685 A * 10/1985\n",
      "4,543,685. A * 10/1985\n",
      "Steilen\n",
      "........................ 280/86\n",
      "Steilen oe280/86\n",
      "Kassai ..ececeeeeeeeeee 16/35 R\n",
      "Kassai ........................ 16/35 R\n",
      "5,221,100 A\n",
      "5,232,071 A *\n",
      "\n",
      "ment when the wheel is disposed at an inclined position;\n",
      "FIG. 8 is a side view of the preferred embodiment; and\n",
      "FIG. 9 is a fragmentary side view of the preferred\n",
      "embodiment illustrating how vibration of the wheel is\n",
      "absorbed.\n",
      "25\n",
      "DETAILED DESCRIPTION OF THE\n",
      "PREFERRED EMBODIMENT\n",
      "30\n",
      "Referring to FIGS. 3 and 4, a stroller is shown to include\n",
      "two front wheel assemblies 20, a stroller frame 21, a\n",
      "hand-push frame 22, and two rear wheel assemblies 23.\n",
      "Each of the front wheel assemblies 20 embodies a wheel\n",
      "\n",
      "29912291\n",
      "29.912291\n",
      "1097733\n",
      "1097733\n",
      "10100072\n",
      "10100072\n",
      "55015345 A 55O15345 A *\n",
      "7/1999\n",
      "7/1999\n",
      "5/2001\n",
      "3/2002\n",
      "5/2001\n",
      "3/2002\n",
      "2/1980 we B62D/17/00 ........... B62D/17/OO\n",
      "2/1980\n",
      "2001097254 A 2001097254. A * 4/2001... B62D/53/00\n",
      "4/2001\n",
      "........... B62D/53/OO\n",
      "OTHER PUBLICATIONS\n",
      "OTHER PUBLICATIONS\n",
      "United Kingdom Search Report, dated Nov. 14, 2003.\n",
      "* cited * cited by examinerbyexaminer\n",
      "Kingdom\n",
      "Report, dated\n",
      "14, 2003.\n",
      "Primary Examiner-Chuck Y. Mah\n",
      "(74) Attorney, Agent, or Firm-Baker Botts L.L.P.\n",
      "(57)\n",
      "ABSTRACT\n",
      "ABSTRACT\n",
      "\n",
      "U.S.C. 154(b) by 0 days.\n",
      "(21) Appl. No.: 10/438,910\n",
      "(22) Filed:\n",
      "(21) Appl. No.: 10/438,910\n",
      "(22) Filed:\n",
      "May 16, 2003\n",
      "May 16, 2003\n",
      "(65)\n",
      "(65)\n",
      "Prior Publication Data\n",
      "Prior Publication Data\n",
      "US 2004/0226133 A1 Nov. 18, 2004\n",
      "US 2004/0226133 Al Nov. 18, 2004\n",
      "(51) Int. Cl. ............................ B60B33/00; B62B 7/04\n",
      "(52) U.S. Cl. ....................... 16/18 R; 16/35 R; 16/18 A;\n",
      "16/44; 16/31 R; 280/47.25; 280/642; 280/647;\n",
      "280/657; 280/47.38\n",
      "(58) Field of Search ............................... 16/35R, 35 D,\n",
      "\n",
      "Question: \n",
      "    Quote the lines from the documents and present them directly.\n",
      "    What are the line that contains improvement and obstacles of mentioned in the documents.\n",
      "\n",
      "Helpful Answer: \n",
      "\n",
      "The provided documents are patent applications, and they do not contain any specific lines that mention improvement or obstacles. Patent applications are legal documents that describe the invention and its details, and they do not provide personal opinions or subjective evaluations of the invention. Therefore, I cannot quote any specific lines from the documents that mention improvement or obstacles.\n"
     ]
    }
   ],
   "source": [
    "text_input = result[\"answer\"]\n",
    "summary_index = text_input.find(\"Helpful Answer:\\n\")\n",
    "summary = text_input\n",
    "if summary_index != -1:\n",
    "    # Extract the text from \"Begin Summary:\" to the end of the string\n",
    "        summary = text_input[summary_index:]\n",
    "\n",
    "print(summary.strip())"
   ]
  },
  {
   "cell_type": "code",
   "execution_count": 4,
   "id": "35d3625b",
   "metadata": {
    "metadata": {}
   },
   "outputs": [
    {
     "ename": "NameError",
     "evalue": "name 'model' is not defined",
     "output_type": "error",
     "traceback": [
      "\u001b[0;31m---------------------------------------------------------------------------\u001b[0m",
      "\u001b[0;31mNameError\u001b[0m                                 Traceback (most recent call last)",
      "Cell \u001b[0;32mIn[4], line 3\u001b[0m\n\u001b[1;32m      1\u001b[0m \u001b[38;5;28;01mimport\u001b[39;00m \u001b[38;5;21;01mtorch\u001b[39;00m\n\u001b[0;32m----> 3\u001b[0m \u001b[38;5;28;01mdel\u001b[39;00m \u001b[43mmodel\u001b[49m\n\u001b[1;32m      5\u001b[0m torch\u001b[38;5;241m.\u001b[39mcuda\u001b[38;5;241m.\u001b[39mempty_cache()\n\u001b[1;32m      6\u001b[0m torch\u001b[38;5;241m.\u001b[39mcuda\u001b[38;5;241m.\u001b[39mmem_get_info()\n",
      "\u001b[0;31mNameError\u001b[0m: name 'model' is not defined"
     ]
    }
   ],
   "source": [
    "import torch\n",
    "\n",
    "# del model\n",
    "\n",
    "torch.cuda.empty_cache()\n",
    "torch.cuda.mem_get_info()"
   ]
  }
 ],
 "metadata": {
  "kernelspec": {
   "display_name": "Python 3 (ipykernel)",
   "language": "python",
   "name": "python3"
  },
  "language_info": {
   "codemirror_mode": {
    "name": "ipython",
    "version": 3
   },
   "file_extension": ".py",
   "mimetype": "text/x-python",
   "name": "python",
   "nbconvert_exporter": "python",
   "pygments_lexer": "ipython3",
   "version": "3.12.1"
  }
 },
 "nbformat": 4,
 "nbformat_minor": 5
}
