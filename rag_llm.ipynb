{
 "cells": [
  {
   "cell_type": "code",
   "execution_count": 25,
   "metadata": {},
   "outputs": [
    {
     "name": "stdout",
     "output_type": "stream",
     "text": [
      "Hello\n"
     ]
    }
   ],
   "source": [
    "print(\"Hello\")"
   ]
  },
  {
   "cell_type": "code",
   "execution_count": 26,
   "metadata": {},
   "outputs": [
    {
     "name": "stdout",
     "output_type": "stream",
     "text": [
      "Merged CSV saved to ./test_summarization_loop/merged_file.csv\n"
     ]
    }
   ],
   "source": [
    "import pandas as pd\n",
    "import os\n",
    "\n",
    "\n",
    "# Directory where your CSV files are located\n",
    "folder_path = './summarized_patents/'\n",
    "\n",
    "\n",
    "# List to hold data from each CSV file\n",
    "data_frames = []\n",
    "\n",
    "\n",
    "# Loop through all the CSV files in the directory\n",
    "for file_name in os.listdir(folder_path):\n",
    "    if file_name.endswith('.csv'):\n",
    "        file_path = os.path.join(folder_path, file_name)\n",
    "        # Read the CSV file and append it to the list of data frames\n",
    "        df = pd.read_csv(file_path)\n",
    "        data_frames.append(df)\n",
    "\n",
    "\n",
    "# Concatenate all the data frames into one\n",
    "merged_df = pd.concat(data_frames, ignore_index=True)\n",
    "\n",
    "\n",
    "# Save the merged data frame to a new CSV file\n",
    "output_file_path = './test_summarization_loop/merged_file.csv'\n",
    "merged_df.to_csv(output_file_path, index=False)\n",
    "\n",
    "\n",
    "print(f'Merged CSV saved to {output_file_path}')\n"
   ]
  },
  {
   "cell_type": "code",
   "execution_count": 27,
   "metadata": {},
   "outputs": [],
   "source": [
    "import pandas as pd\n",
    "data_patent = pd.read_csv('./test_summarization_loop/merged_file.csv')"
   ]
  },
  {
   "cell_type": "code",
   "execution_count": 29,
   "metadata": {},
   "outputs": [
    {
     "name": "stdout",
     "output_type": "stream",
     "text": [
      "3720 11\n"
     ]
    }
   ],
   "source": [
    "rows = len(data_patent.axes[0])\n",
    "cols = len(data_patent.axes[1])\n",
    "print(rows, cols)"
   ]
  },
  {
   "cell_type": "code",
   "execution_count": 30,
   "metadata": {},
   "outputs": [],
   "source": [
    "patent_data = data_patent[[\"PatentNumber\",\"ApplicationReference\",\"Date\",\"OrganizationName\",\"SummaryofPatent\"]]"
   ]
  },
  {
   "cell_type": "code",
   "execution_count": 31,
   "metadata": {},
   "outputs": [
    {
     "name": "stdout",
     "output_type": "stream",
     "text": [
      "3720 5\n"
     ]
    }
   ],
   "source": [
    "rows = len(patent_data.axes[0])\n",
    "cols = len(patent_data.axes[1])\n",
    "print(rows, cols)"
   ]
  },
  {
   "cell_type": "code",
   "execution_count": 32,
   "metadata": {},
   "outputs": [],
   "source": [
    "patent_data.to_csv('./test_summarization_loop/patents_summarized_abstract_clean.csv', index=False)"
   ]
  },
  {
   "cell_type": "code",
   "execution_count": 1,
   "metadata": {},
   "outputs": [
    {
     "data": {
      "text/plain": [
       "131072"
      ]
     },
     "execution_count": 1,
     "metadata": {},
     "output_type": "execute_result"
    }
   ],
   "source": [
    "from langchain_community.document_loaders.csv_loader import CSVLoader\n",
    "import sys\n",
    "import csv\n",
    "\n",
    "csv.field_size_limit(sys.maxsize)"
   ]
  },
  {
   "cell_type": "code",
   "execution_count": 2,
   "metadata": {},
   "outputs": [],
   "source": [
    "loader = CSVLoader(file_path='./test_summarization_loop/patents_summarized_abstract_clean.csv')\n",
    "\n",
    "documents = loader.load()"
   ]
  },
  {
   "cell_type": "code",
   "execution_count": 3,
   "metadata": {},
   "outputs": [
    {
     "name": "stdout",
     "output_type": "stream",
     "text": [
      "<class 'list'>\n"
     ]
    }
   ],
   "source": [
    "print(type(documents))"
   ]
  },
  {
   "cell_type": "code",
   "execution_count": 5,
   "metadata": {},
   "outputs": [
    {
     "data": {
      "text/plain": [
       "'PatentNumber: 11925278\\nApplicationReference: utility\\nDate: 2024-03-12\\nOrganizationName: SAMSUNG ELECTRONICS CO., LTD.\\nSummaryofPatent: Summary:\\nThe display apparatus aims to provide a flexible and adjustable mounting system for displays, allowing for rotation in multiple directions and slidable movement in the leftward and rightward directions. The connector includes rotatable supports and movable supports, which enable the mounting member to be securely attached to the fixing member while allowing for adjustment. The invention improves upon existing mounting systems by providing a more flexible and adjustable solution, but may be limited by the weight and size of the display. The energy efficiency of the invention is not explicitly mentioned in the provided text.'"
      ]
     },
     "execution_count": 5,
     "metadata": {},
     "output_type": "execute_result"
    }
   ],
   "source": [
    "documents[0].page_content"
   ]
  },
  {
   "cell_type": "code",
   "execution_count": 4,
   "metadata": {},
   "outputs": [
    {
     "data": {
      "text/plain": [
       "3720"
      ]
     },
     "execution_count": 4,
     "metadata": {},
     "output_type": "execute_result"
    }
   ],
   "source": [
    "len(documents)"
   ]
  },
  {
   "cell_type": "code",
   "execution_count": 7,
   "metadata": {},
   "outputs": [],
   "source": []
  },
  {
   "cell_type": "code",
   "execution_count": 6,
   "metadata": {},
   "outputs": [
    {
     "name": "stderr",
     "output_type": "stream",
     "text": [
      "[codecarbon WARNING @ 17:56:13] Invalid gpu_ids format. Expected a string or a list of ints.\n",
      "[codecarbon INFO @ 17:56:13] [setup] RAM Tracking...\n",
      "[codecarbon INFO @ 17:56:13] [setup] GPU Tracking...\n",
      "[codecarbon INFO @ 17:56:13] Tracking Nvidia GPU via pynvml\n",
      "[codecarbon INFO @ 17:56:13] [setup] CPU Tracking...\n",
      "[codecarbon WARNING @ 17:56:13] No CPU tracking mode found. Falling back on CPU constant mode.\n"
     ]
    },
    {
     "name": "stdout",
     "output_type": "stream",
     "text": [
      "Start of code time:  1716224173.7884898\n"
     ]
    },
    {
     "name": "stderr",
     "output_type": "stream",
     "text": [
      "[codecarbon WARNING @ 17:56:15] We saw that you have a Intel(R) Xeon(R) Gold 6330 CPU @ 2.00GHz but we don't know it. Please contact us.\n",
      "[codecarbon INFO @ 17:56:15] CPU Model on constant consumption mode: Intel(R) Xeon(R) Gold 6330 CPU @ 2.00GHz\n",
      "[codecarbon INFO @ 17:56:15] >>> Tracker's metadata:\n",
      "[codecarbon INFO @ 17:56:15]   Platform system: Linux-5.4.0-174-generic-x86_64-with-glibc2.31\n",
      "[codecarbon INFO @ 17:56:15]   Python version: 3.12.1\n",
      "[codecarbon INFO @ 17:56:15]   CodeCarbon version: 2.4.1\n",
      "[codecarbon INFO @ 17:56:15]   Available RAM : 503.339 GB\n",
      "[codecarbon INFO @ 17:56:15]   CPU count: 112\n",
      "[codecarbon INFO @ 17:56:15]   CPU model: Intel(R) Xeon(R) Gold 6330 CPU @ 2.00GHz\n",
      "[codecarbon INFO @ 17:56:15]   GPU count: 2\n",
      "[codecarbon INFO @ 17:56:15]   GPU model: 2 x NVIDIA A40\n",
      "/home/c7361293/miniconda3/envs/triztest/lib/python3.12/site-packages/tqdm/auto.py:21: TqdmWarning: IProgress not found. Please update jupyter and ipywidgets. See https://ipywidgets.readthedocs.io/en/stable/user_install.html\n",
      "  from .autonotebook import tqdm as notebook_tqdm\n",
      "[codecarbon INFO @ 17:56:23] Energy consumed for RAM : 0.000282 kWh. RAM Power : 188.75217247009277 W\n",
      "[codecarbon INFO @ 17:56:23] Energy consumed for all GPUs : 0.000224 kWh. Total GPU Power : 149.87460053922496 W\n",
      "[codecarbon INFO @ 17:56:23] Energy consumed for all CPUs : 0.000064 kWh. Total CPU Power : 42.5 W\n",
      "[codecarbon INFO @ 17:56:23] 0.000569 kWh of electricity used since the beginning.\n"
     ]
    },
    {
     "name": "stdout",
     "output_type": "stream",
     "text": [
      "Emissions for this code execution is:  0.00014864047175184566\n",
      "End of code time:  1716224183.7095902\n"
     ]
    }
   ],
   "source": [
    "#Embedding model load\n",
    "\n",
    "from langchain.embeddings import HuggingFaceBgeEmbeddings\n",
    "from langchain.vectorstores import Chroma\n",
    "from codecarbon import EmissionsTracker\n",
    "import time\n",
    "\n",
    "print(\"Start of code time: \",time.time())\n",
    "\n",
    "tracker = EmissionsTracker()\n",
    "tracker.start()\n",
    "\n",
    "model_name = \"BAAI/bge-large-en-v1.5\"\n",
    "# model_kwargs = {'device': 'cuda'}\n",
    "encode_kwargs = {'normalize_embeddings': True} # set True to compute cosine similarity\n",
    "model = HuggingFaceBgeEmbeddings(\n",
    "    model_name=model_name,\n",
    "    # model_kwargs=model_kwargs,\n",
    "    encode_kwargs=encode_kwargs\n",
    "    # ,\n",
    "    # query_instruction=\"为这个句子生成表示以用于检索相关文章：\"\n",
    ")\n",
    "\n",
    "\n",
    "emissions: float = tracker.stop()\n",
    "print(\"Emissions for this code execution is: \", emissions)\n",
    "print(\"End of code time: \",time.time())"
   ]
  },
  {
   "cell_type": "code",
   "execution_count": 8,
   "metadata": {},
   "outputs": [
    {
     "name": "stdout",
     "output_type": "stream",
     "text": [
      "client=SentenceTransformer(\n",
      "  (0): Transformer({'max_seq_length': 512, 'do_lower_case': True}) with Transformer model: BertModel \n",
      "  (1): Pooling({'word_embedding_dimension': 1024, 'pooling_mode_cls_token': True, 'pooling_mode_mean_tokens': False, 'pooling_mode_max_tokens': False, 'pooling_mode_mean_sqrt_len_tokens': False, 'pooling_mode_weightedmean_tokens': False, 'pooling_mode_lasttoken': False, 'include_prompt': True})\n",
      "  (2): Normalize()\n",
      ") model_name='BAAI/bge-large-en-v1.5' cache_folder=None model_kwargs={} encode_kwargs={'normalize_embeddings': True} query_instruction='Represent this question for searching relevant passages: ' embed_instruction=''\n"
     ]
    }
   ],
   "source": [
    "print(model)"
   ]
  },
  {
   "cell_type": "code",
   "execution_count": 9,
   "metadata": {},
   "outputs": [],
   "source": [
    "import os # Importing os module for operating system functionalities\n",
    "import shutil # Importing shutil module for high-level file operations"
   ]
  },
  {
   "cell_type": "code",
   "execution_count": 42,
   "metadata": {},
   "outputs": [],
   "source": [
    " # Clear out the existing database directory if it exists\n",
    "if os.path.exists(\"./db\"):\n",
    "    shutil.rmtree(\"./db\")\n"
   ]
  },
  {
   "cell_type": "code",
   "execution_count": 10,
   "metadata": {},
   "outputs": [
    {
     "name": "stderr",
     "output_type": "stream",
     "text": [
      "[codecarbon WARNING @ 17:56:45] Invalid gpu_ids format. Expected a string or a list of ints.\n",
      "[codecarbon INFO @ 17:56:45] [setup] RAM Tracking...\n",
      "[codecarbon INFO @ 17:56:45] [setup] GPU Tracking...\n",
      "[codecarbon INFO @ 17:56:45] Tracking Nvidia GPU via pynvml\n",
      "[codecarbon INFO @ 17:56:45] [setup] CPU Tracking...\n",
      "[codecarbon WARNING @ 17:56:45] No CPU tracking mode found. Falling back on CPU constant mode.\n"
     ]
    },
    {
     "name": "stdout",
     "output_type": "stream",
     "text": [
      "Start of code time:  1716224205.5088346\n"
     ]
    },
    {
     "name": "stderr",
     "output_type": "stream",
     "text": [
      "[codecarbon WARNING @ 17:56:46] We saw that you have a Intel(R) Xeon(R) Gold 6330 CPU @ 2.00GHz but we don't know it. Please contact us.\n",
      "[codecarbon INFO @ 17:56:46] CPU Model on constant consumption mode: Intel(R) Xeon(R) Gold 6330 CPU @ 2.00GHz\n",
      "[codecarbon INFO @ 17:56:46] >>> Tracker's metadata:\n",
      "[codecarbon INFO @ 17:56:46]   Platform system: Linux-5.4.0-174-generic-x86_64-with-glibc2.31\n",
      "[codecarbon INFO @ 17:56:46]   Python version: 3.12.1\n",
      "[codecarbon INFO @ 17:56:46]   CodeCarbon version: 2.4.1\n",
      "[codecarbon INFO @ 17:56:46]   Available RAM : 503.339 GB\n",
      "[codecarbon INFO @ 17:56:46]   CPU count: 112\n",
      "[codecarbon INFO @ 17:56:46]   CPU model: Intel(R) Xeon(R) Gold 6330 CPU @ 2.00GHz\n",
      "[codecarbon INFO @ 17:56:46]   GPU count: 2\n",
      "[codecarbon INFO @ 17:56:46]   GPU model: 2 x NVIDIA A40\n",
      "[codecarbon INFO @ 17:57:04] Energy consumed for RAM : 0.000787 kWh. RAM Power : 188.75217247009277 W\n",
      "[codecarbon INFO @ 17:57:04] Energy consumed for all GPUs : 0.001460 kWh. Total GPU Power : 349.87698565086225 W\n",
      "[codecarbon INFO @ 17:57:04] Energy consumed for all CPUs : 0.000177 kWh. Total CPU Power : 42.5 W\n",
      "[codecarbon INFO @ 17:57:04] 0.002424 kWh of electricity used since the beginning.\n",
      "[codecarbon INFO @ 17:57:19] Energy consumed for RAM : 0.001573 kWh. RAM Power : 188.75217247009277 W\n",
      "[codecarbon INFO @ 17:57:19] Energy consumed for all GPUs : 0.002993 kWh. Total GPU Power : 368.2957209412355 W\n",
      "[codecarbon INFO @ 17:57:19] Energy consumed for all CPUs : 0.000354 kWh. Total CPU Power : 42.5 W\n",
      "[codecarbon INFO @ 17:57:19] 0.004920 kWh of electricity used since the beginning.\n",
      "[codecarbon INFO @ 17:57:25] Energy consumed for RAM : 0.001862 kWh. RAM Power : 188.75217247009277 W\n",
      "[codecarbon INFO @ 17:57:25] Energy consumed for all GPUs : 0.003291 kWh. Total GPU Power : 194.55964132161014 W\n",
      "[codecarbon INFO @ 17:57:25] Energy consumed for all CPUs : 0.000420 kWh. Total CPU Power : 42.5 W\n",
      "[codecarbon INFO @ 17:57:25] 0.005573 kWh of electricity used since the beginning.\n"
     ]
    },
    {
     "name": "stdout",
     "output_type": "stream",
     "text": [
      "Emissions for this code execution is:  0.0014553289802961846\n",
      "End of code time:  1716224245.5109322\n"
     ]
    }
   ],
   "source": [
    "#Chroma DB saving files and embeddings\n",
    "\n",
    "from langchain.vectorstores import Chroma\n",
    "from codecarbon import EmissionsTracker\n",
    "import time\n",
    "\n",
    "print(\"Start of code time: \",time.time())\n",
    "\n",
    "tracker = EmissionsTracker()\n",
    "tracker.start()\n",
    "\n",
    "chroma_db = Chroma.from_documents(\n",
    "    documents, model, persist_directory=\"./db\"\n",
    ")\n",
    "\n",
    "chroma_db.persist()\n",
    "\n",
    "emissions: float = tracker.stop()\n",
    "print(\"Emissions for this code execution is: \", emissions)\n",
    "print(\"End of code time: \",time.time())\n"
   ]
  },
  {
   "cell_type": "code",
   "execution_count": 47,
   "metadata": {},
   "outputs": [],
   "source": []
  },
  {
   "cell_type": "code",
   "execution_count": 11,
   "metadata": {},
   "outputs": [
    {
     "name": "stdout",
     "output_type": "stream",
     "text": [
      "similarity {'k': 10}\n"
     ]
    }
   ],
   "source": [
    "vectordb = Chroma(persist_directory=\"./db\", embedding_function= model)\n",
    "retriever = vectordb.as_retriever(search_kwargs = {\"k\": 10})\n",
    "print(retriever.search_type, retriever.search_kwargs)"
   ]
  },
  {
   "cell_type": "code",
   "execution_count": 13,
   "metadata": {},
   "outputs": [],
   "source": []
  },
  {
   "cell_type": "code",
   "execution_count": 14,
   "metadata": {},
   "outputs": [
    {
     "name": "stdout",
     "output_type": "stream",
     "text": [
      "similarity {'k': 10}\n"
     ]
    }
   ],
   "source": [
    "\n"
   ]
  },
  {
   "cell_type": "code",
   "execution_count": null,
   "metadata": {},
   "outputs": [],
   "source": []
  },
  {
   "cell_type": "code",
   "execution_count": 27,
   "metadata": {},
   "outputs": [],
   "source": [
    "retirve_result = retriever.get_relevant_documents(\"Sustainable and Environmentally Friendly RAM Memory for Mobile Phones\")"
   ]
  },
  {
   "cell_type": "code",
   "execution_count": 28,
   "metadata": {},
   "outputs": [
    {
     "data": {
      "text/plain": [
       "10"
      ]
     },
     "execution_count": 28,
     "metadata": {},
     "output_type": "execute_result"
    }
   ],
   "source": [
    "len(retirve_result)"
   ]
  },
  {
   "cell_type": "code",
   "execution_count": 29,
   "metadata": {},
   "outputs": [
    {
     "data": {
      "text/plain": [
       "Document(page_content='PatentNumber: 11961564\\nApplicationReference: utility\\nDate: 2024-04-16\\nOrganizationName: Samsung Electronics Co., Ltd.\\nSummaryofPatent: Summary:\\nThe research aims to improve nonvolatile memory devices by vertically connecting cell regions and peripheral regions using first metal pads and second metal pads, respectively. The memory block includes multiple sub-blocks and cell strings connected in series, with intermediate switching transistors in the boundary between adjacent sub-blocks. During a program operation, the intermediate switching transistors are selectively activated based on the program address, allowing for more efficient programming. While the research shows potential for improved performance, it also mentions potential drawbacks such as increased complexity and reduced scalability. Energy efficiency is not explicitly discussed in the provided text.', metadata={'row': 3206, 'source': './test_summarization_loop/patents_summarized_abstract_clean.csv'})"
      ]
     },
     "execution_count": 29,
     "metadata": {},
     "output_type": "execute_result"
    }
   ],
   "source": [
    "retirve_result[0]"
   ]
  },
  {
   "cell_type": "code",
   "execution_count": 30,
   "metadata": {},
   "outputs": [
    {
     "name": "stdout",
     "output_type": "stream",
     "text": [
      "The research aims to improve nonvolatile memory devices by vertically connecting cell regions and peripheral regions using first metal pads and second metal pads, respectively. The memory block includes multiple sub-blocks and cell strings connected in series, with intermediate switching transistors in the boundary between adjacent sub-blocks. During a program operation, the intermediate switching transistors are selectively activated based on the program address, allowing for more efficient programming. While the research shows potential for improved performance, it also mentions potential drawbacks such as increased complexity and reduced scalability. Energy efficiency is not explicitly discussed in the provided text.\n"
     ]
    }
   ],
   "source": [
    "import re\n",
    "\n",
    "pattern = re.compile(r\"SummaryofPatent: Summary:\\n(.*)\", re.DOTALL)\n",
    "\n",
    "match = pattern.search(retirve_result[0].page_content)\n",
    "\n",
    "if match:\n",
    "    print(match.group(1).strip())"
   ]
  },
  {
   "cell_type": "code",
   "execution_count": 31,
   "metadata": {},
   "outputs": [
    {
     "data": {
      "text/plain": [
       "Document(page_content='PatentNumber: 11961564\\nApplicationReference: utility\\nDate: 2024-04-16\\nOrganizationName: Samsung Electronics Co., Ltd.\\nSummaryofPatent: Summary:\\nThe research aims to improve nonvolatile memory devices by vertically connecting cell regions and peripheral regions using first metal pads and second metal pads, respectively. The memory block includes multiple sub-blocks and cell strings connected in series, with intermediate switching transistors in the boundary between adjacent sub-blocks. During a program operation, the intermediate switching transistors are selectively activated based on the program address, allowing for more efficient programming. While the research shows potential for improved performance, it also mentions potential drawbacks such as increased complexity and reduced scalability. Energy efficiency is not explicitly discussed in the provided text.', metadata={'row': 3206, 'source': './test_summarization_loop/patents_summarized_abstract_clean.csv'})"
      ]
     },
     "execution_count": 31,
     "metadata": {},
     "output_type": "execute_result"
    }
   ],
   "source": [
    "retirve_result[0]"
   ]
  },
  {
   "cell_type": "code",
   "execution_count": 36,
   "metadata": {},
   "outputs": [],
   "source": [
    "# filtered_results = [doc for score, doc in retirve_result['SummaryofPatent'] if score >= \"0.7\"]\n",
    "# print(filtered_results)"
   ]
  },
  {
   "cell_type": "code",
   "execution_count": 37,
   "metadata": {},
   "outputs": [
    {
     "data": {
      "text/plain": [
       "list"
      ]
     },
     "execution_count": 37,
     "metadata": {},
     "output_type": "execute_result"
    }
   ],
   "source": [
    "type(retirve_result)"
   ]
  },
  {
   "cell_type": "code",
   "execution_count": 38,
   "metadata": {},
   "outputs": [
    {
     "name": "stdout",
     "output_type": "stream",
     "text": [
      "The research aims to improve nonvolatile memory devices by vertically connecting cell regions and peripheral regions using first metal pads and second metal pads, respectively. The memory block includes multiple sub-blocks and cell strings connected in series, with intermediate switching transistors in the boundary between adjacent sub-blocks. During a program operation, the intermediate switching transistors are selectively activated based on the program address, allowing for more efficient programming. While the research shows potential for improved performance, it also mentions potential drawbacks such as increased complexity and reduced scalability. Energy efficiency is not explicitly discussed in the provided text.\n",
      "The research aims to improve the energy efficiency of nonvolatile memory devices by enabling in-place updates of data stored in memory cells. The proposed approach uses a storage controller to perform a MAC operation on data stored in a memory cell, and sets the cell to a new state corresponding to the result of the operation. The research focuses on reducing the energy consumption of the memory device during the update process, without compromising the performance of the memory. While the approach shows potential for energy efficiency improvements, the research notes that the technique may not be suitable for all types of data sets or memory cell architectures.\n",
      "The research aims to reduce reliability degradation of nonvolatile memory devices by storing initial data with an initial threshold voltage distribution in a plurality of memory cells connected to wordlines. Before a degrading process, a write operation is performed to store first data with a lower threshold voltage distribution in memory cells connected to wordlines with less degradation, and second data with a higher threshold voltage distribution in memory cells connected to wordlines with greater degradation. The research does not provide details on energy efficiency.\n",
      "The proposed memory device aims to improve row hammer mitigation by monitoring and adjusting pre-charge preparation times based on the type of row hammer. The control logic circuit calculates a first count value for active commands and a second count value for write or read commands, and determines the type of row hammer based on the ratio of the two counts. The device adjusts the pre-charge preparation time to optimize energy efficiency. The research does not mention any potential drawbacks or degrading parameters, but notes the absence of energy efficiency details.\n",
      "The proposed storage device aims to improve the allocation of write blocks to a plurality of streams provided from an outside source. The controller reallocates the write blocks based on a result of allocation stored in a buffer memory. The research aims to optimize the allocation process to reduce the number of write block reallocations, which can improve the overall performance and energy efficiency of the storage device. However, the presence of a buffer memory may increase energy consumption. The study does not provide details on the specific energy efficiency improvements or the potential drawbacks of using a buffer memory.\n",
      "The research aims to improve the read performance of nonvolatile memory devices by allowing the memory controller to perform check read operations on neighboring pages while sequentially selecting sets of read voltages. The improvement aims to reduce the number of read operations required to accurately read data from a page, resulting in faster read times and improved energy efficiency. However, the research does not provide details on energy efficiency. The potential drawbacks of the approach include the need for additional circuitry and the potential for increased power consumption during the check read operations.\n",
      "The proposed storage system aims to improve data storage efficiency by prioritizing data based on its importance and loading it into a buffer memory for faster access. The system stores high-priority data in the buffer memory first, reducing the time it takes to access the data. However, the system may experience performance degradation if the buffer memory becomes too full. The energy efficiency of the system is not explicitly mentioned.\n",
      "The proposed memory device aims to improve memory density and energy efficiency by integrating volatile and non-volatile memory cells on the same substrate. The volatile memory cells are located in the first region and have a cell switch with a first channel region adjacent to a corresponding first wordline, while the non-volatile memory cells are located in the second region and have a second channel region adjacent to a corresponding second wordline. The ferroelectric layer separates the non-volatile memory cells from the wordlines. The research focuses on improving memory density and energy efficiency, but potential drawbacks such as reduced write speed and degradation of the ferroelectric layer are mentioned. Energy efficiency details are not provided.\n",
      "The research aims to improve the performance of memory devices by enabling them to self-calibrate their location on a bus in a memory module. This is achieved through a CA buffer and a calibration logic circuit that identify the location of the memory device on the bus. The research improves the accuracy of memory device operation by allowing it to recognize its own location, which can vary depending on its position in the memory module. While the research does not mention energy efficiency, it could potentially lead to more efficient memory devices in the future.\n",
      "The proposed memory device aims to improve the read and write operations of memory cells by using a phis change material in the data storage element. The memory controller compares the first read voltage of a memory cell to the second read voltage to determine its state. The research focuses on improving the read and write operations, but does not mention any potential drawbacks or degrading parameters. Energy efficiency is not explicitly mentioned in the provided text.\n"
     ]
    }
   ],
   "source": [
    "import re\n",
    "\n",
    "for item in retirve_result:\n",
    "    pattern = re.compile(r\"SummaryofPatent: Summary:\\n(.*)\", re.DOTALL)\n",
    "\n",
    "    match = pattern.search(item.page_content)\n",
    "\n",
    "    if match:\n",
    "        print(match.group(1).strip())"
   ]
  },
  {
   "cell_type": "code",
   "execution_count": 39,
   "metadata": {},
   "outputs": [
    {
     "name": "stdout",
     "output_type": "stream",
     "text": [
      "Patent Number: 11961564\n",
      "Summary: The research aims to improve nonvolatile memory devices by vertically connecting cell regions and peripheral regions using first metal pads and second metal pads, respectively. The memory block includes multiple sub-blocks and cell strings connected in series, with intermediate switching transistors in the boundary between adjacent sub-blocks. During a program operation, the intermediate switching transistors are selectively activated based on the program address, allowing for more efficient programming. While the research shows potential for improved performance, it also mentions potential drawbacks such as increased complexity and reduced scalability. Energy efficiency is not explicitly discussed in the provided text.\n",
      "Patent Number: 11861237\n",
      "Summary: The research aims to improve the energy efficiency of nonvolatile memory devices by enabling in-place updates of data stored in memory cells. The proposed approach uses a storage controller to perform a MAC operation on data stored in a memory cell, and sets the cell to a new state corresponding to the result of the operation. The research focuses on reducing the energy consumption of the memory device during the update process, without compromising the performance of the memory. While the approach shows potential for energy efficiency improvements, the research notes that the technique may not be suitable for all types of data sets or memory cell architectures.\n",
      "Patent Number: 11915770\n",
      "Summary: The research aims to reduce reliability degradation of nonvolatile memory devices by storing initial data with an initial threshold voltage distribution in a plurality of memory cells connected to wordlines. Before a degrading process, a write operation is performed to store first data with a lower threshold voltage distribution in memory cells connected to wordlines with less degradation, and second data with a higher threshold voltage distribution in memory cells connected to wordlines with greater degradation. The research does not provide details on energy efficiency.\n",
      "Patent Number: 11967352\n",
      "Summary: The proposed memory device aims to improve row hammer mitigation by monitoring and adjusting pre-charge preparation times based on the type of row hammer. The control logic circuit calculates a first count value for active commands and a second count value for write or read commands, and determines the type of row hammer based on the ratio of the two counts. The device adjusts the pre-charge preparation time to optimize energy efficiency. The research does not mention any potential drawbacks or degrading parameters, but notes the absence of energy efficiency details.\n",
      "Patent Number: 11899947\n",
      "Summary: The proposed storage device aims to improve the allocation of write blocks to a plurality of streams provided from an outside source. The controller reallocates the write blocks based on a result of allocation stored in a buffer memory. The research aims to optimize the allocation process to reduce the number of write block reallocations, which can improve the overall performance and energy efficiency of the storage device. However, the presence of a buffer memory may increase energy consumption. The study does not provide details on the specific energy efficiency improvements or the potential drawbacks of using a buffer memory.\n",
      "Patent Number: 11961559\n",
      "Summary: The research aims to improve the read performance of nonvolatile memory devices by allowing the memory controller to perform check read operations on neighboring pages while sequentially selecting sets of read voltages. The improvement aims to reduce the number of read operations required to accurately read data from a page, resulting in faster read times and improved energy efficiency. However, the research does not provide details on energy efficiency. The potential drawbacks of the approach include the need for additional circuitry and the potential for increased power consumption during the check read operations.\n",
      "Patent Number: 11922057\n",
      "Summary: The proposed storage system aims to improve data storage efficiency by prioritizing data based on its importance and loading it into a buffer memory for faster access. The system stores high-priority data in the buffer memory first, reducing the time it takes to access the data. However, the system may experience performance degradation if the buffer memory becomes too full. The energy efficiency of the system is not explicitly mentioned.\n",
      "Patent Number: 11922984\n",
      "Summary: The proposed memory device aims to improve memory density and energy efficiency by integrating volatile and non-volatile memory cells on the same substrate. The volatile memory cells are located in the first region and have a cell switch with a first channel region adjacent to a corresponding first wordline, while the non-volatile memory cells are located in the second region and have a second channel region adjacent to a corresponding second wordline. The ferroelectric layer separates the non-volatile memory cells from the wordlines. The research focuses on improving memory density and energy efficiency, but potential drawbacks such as reduced write speed and degradation of the ferroelectric layer are mentioned. Energy efficiency details are not provided.\n",
      "Patent Number: 11874784\n",
      "Summary: The research aims to improve the performance of memory devices by enabling them to self-calibrate their location on a bus in a memory module. This is achieved through a CA buffer and a calibration logic circuit that identify the location of the memory device on the bus. The research improves the accuracy of memory device operation by allowing it to recognize its own location, which can vary depending on its position in the memory module. While the research does not mention energy efficiency, it could potentially lead to more efficient memory devices in the future.\n",
      "Patent Number: 11948631\n",
      "Summary: The proposed memory device aims to improve the read and write operations of memory cells by using a phis change material in the data storage element. The memory controller compares the first read voltage of a memory cell to the second read voltage to determine its state. The research focuses on improving the read and write operations, but does not mention any potential drawbacks or degrading parameters. Energy efficiency is not explicitly mentioned in the provided text.\n"
     ]
    }
   ],
   "source": [
    "import re\n",
    "\n",
    "# Assuming the Document class has an attribute 'page_content' that stores the content\n",
    "class Document:\n",
    "    def __init__(self, page_content):\n",
    "        self.page_content = page_content\n",
    "\n",
    "for item in retirve_result:\n",
    "    # Regular expression to capture Patent Number and Summary\n",
    "    pattern = re.compile(r\"PatentNumber: (\\d+)\\n.*SummaryofPatent: Summary:\\n(.*)\", re.DOTALL)\n",
    "\n",
    "    match = pattern.search(item.page_content)  # Use dot notation to access the page_content attribute\n",
    "\n",
    "    if match:\n",
    "        patent_number = match.group(1).strip()\n",
    "        summary = match.group(2).strip()\n",
    "        print(\"Patent Number:\", patent_number)\n",
    "        print(\"Summary:\", summary)\n"
   ]
  },
  {
   "cell_type": "code",
   "execution_count": 40,
   "metadata": {},
   "outputs": [
    {
     "data": {
      "text/html": [
       "\n",
       "<style>\n",
       "    .research-summary {\n",
       "        border: 1px solid #ddd;\n",
       "        border-radius: 8px;\n",
       "        padding: 15px;\n",
       "        margin: 10px 0;\n",
       "        background-color: #f9f9f9;\n",
       "        color: black;\n",
       "    }\n",
       "    .research-summary h3 {\n",
       "        color: #336;\n",
       "    }\n",
       "    .research-summary p {\n",
       "        text-indent: 20px;\n",
       "    }\n",
       "</style>\n",
       "\n",
       "            <div class=\"research-summary\">\n",
       "                <h3>Patent Number:11961564</h3>\n",
       "                <p>The research aims to improve nonvolatile memory devices by vertically connecting cell regions and peripheral regions using first metal pads and second metal pads, respectively. The memory block includes multiple sub-blocks and cell strings connected in series, with intermediate switching transistors in the boundary between adjacent sub-blocks. During a program operation, the intermediate switching transistors are selectively activated based on the program address, allowing for more efficient programming. While the research shows potential for improved performance, it also mentions potential drawbacks such as increased complexity and reduced scalability. Energy efficiency is not explicitly discussed in the provided text.</p>\n",
       "            </div>\n",
       "            "
      ],
      "text/plain": [
       "<IPython.core.display.HTML object>"
      ]
     },
     "metadata": {},
     "output_type": "display_data"
    },
    {
     "data": {
      "text/html": [
       "\n",
       "<style>\n",
       "    .research-summary {\n",
       "        border: 1px solid #ddd;\n",
       "        border-radius: 8px;\n",
       "        padding: 15px;\n",
       "        margin: 10px 0;\n",
       "        background-color: #f9f9f9;\n",
       "        color: black;\n",
       "    }\n",
       "    .research-summary h3 {\n",
       "        color: #336;\n",
       "    }\n",
       "    .research-summary p {\n",
       "        text-indent: 20px;\n",
       "    }\n",
       "</style>\n",
       "\n",
       "            <div class=\"research-summary\">\n",
       "                <h3>Patent Number:11861237</h3>\n",
       "                <p>The research aims to improve the energy efficiency of nonvolatile memory devices by enabling in-place updates of data stored in memory cells. The proposed approach uses a storage controller to perform a MAC operation on data stored in a memory cell, and sets the cell to a new state corresponding to the result of the operation. The research focuses on reducing the energy consumption of the memory device during the update process, without compromising the performance of the memory. While the approach shows potential for energy efficiency improvements, the research notes that the technique may not be suitable for all types of data sets or memory cell architectures.</p>\n",
       "            </div>\n",
       "            "
      ],
      "text/plain": [
       "<IPython.core.display.HTML object>"
      ]
     },
     "metadata": {},
     "output_type": "display_data"
    },
    {
     "data": {
      "text/html": [
       "\n",
       "<style>\n",
       "    .research-summary {\n",
       "        border: 1px solid #ddd;\n",
       "        border-radius: 8px;\n",
       "        padding: 15px;\n",
       "        margin: 10px 0;\n",
       "        background-color: #f9f9f9;\n",
       "        color: black;\n",
       "    }\n",
       "    .research-summary h3 {\n",
       "        color: #336;\n",
       "    }\n",
       "    .research-summary p {\n",
       "        text-indent: 20px;\n",
       "    }\n",
       "</style>\n",
       "\n",
       "            <div class=\"research-summary\">\n",
       "                <h3>Patent Number:11915770</h3>\n",
       "                <p>The research aims to reduce reliability degradation of nonvolatile memory devices by storing initial data with an initial threshold voltage distribution in a plurality of memory cells connected to wordlines. Before a degrading process, a write operation is performed to store first data with a lower threshold voltage distribution in memory cells connected to wordlines with less degradation, and second data with a higher threshold voltage distribution in memory cells connected to wordlines with greater degradation. The research does not provide details on energy efficiency.</p>\n",
       "            </div>\n",
       "            "
      ],
      "text/plain": [
       "<IPython.core.display.HTML object>"
      ]
     },
     "metadata": {},
     "output_type": "display_data"
    },
    {
     "data": {
      "text/html": [
       "\n",
       "<style>\n",
       "    .research-summary {\n",
       "        border: 1px solid #ddd;\n",
       "        border-radius: 8px;\n",
       "        padding: 15px;\n",
       "        margin: 10px 0;\n",
       "        background-color: #f9f9f9;\n",
       "        color: black;\n",
       "    }\n",
       "    .research-summary h3 {\n",
       "        color: #336;\n",
       "    }\n",
       "    .research-summary p {\n",
       "        text-indent: 20px;\n",
       "    }\n",
       "</style>\n",
       "\n",
       "            <div class=\"research-summary\">\n",
       "                <h3>Patent Number:11967352</h3>\n",
       "                <p>The proposed memory device aims to improve row hammer mitigation by monitoring and adjusting pre-charge preparation times based on the type of row hammer. The control logic circuit calculates a first count value for active commands and a second count value for write or read commands, and determines the type of row hammer based on the ratio of the two counts. The device adjusts the pre-charge preparation time to optimize energy efficiency. The research does not mention any potential drawbacks or degrading parameters, but notes the absence of energy efficiency details.</p>\n",
       "            </div>\n",
       "            "
      ],
      "text/plain": [
       "<IPython.core.display.HTML object>"
      ]
     },
     "metadata": {},
     "output_type": "display_data"
    },
    {
     "data": {
      "text/html": [
       "\n",
       "<style>\n",
       "    .research-summary {\n",
       "        border: 1px solid #ddd;\n",
       "        border-radius: 8px;\n",
       "        padding: 15px;\n",
       "        margin: 10px 0;\n",
       "        background-color: #f9f9f9;\n",
       "        color: black;\n",
       "    }\n",
       "    .research-summary h3 {\n",
       "        color: #336;\n",
       "    }\n",
       "    .research-summary p {\n",
       "        text-indent: 20px;\n",
       "    }\n",
       "</style>\n",
       "\n",
       "            <div class=\"research-summary\">\n",
       "                <h3>Patent Number:11899947</h3>\n",
       "                <p>The proposed storage device aims to improve the allocation of write blocks to a plurality of streams provided from an outside source. The controller reallocates the write blocks based on a result of allocation stored in a buffer memory. The research aims to optimize the allocation process to reduce the number of write block reallocations, which can improve the overall performance and energy efficiency of the storage device. However, the presence of a buffer memory may increase energy consumption. The study does not provide details on the specific energy efficiency improvements or the potential drawbacks of using a buffer memory.</p>\n",
       "            </div>\n",
       "            "
      ],
      "text/plain": [
       "<IPython.core.display.HTML object>"
      ]
     },
     "metadata": {},
     "output_type": "display_data"
    },
    {
     "data": {
      "text/html": [
       "\n",
       "<style>\n",
       "    .research-summary {\n",
       "        border: 1px solid #ddd;\n",
       "        border-radius: 8px;\n",
       "        padding: 15px;\n",
       "        margin: 10px 0;\n",
       "        background-color: #f9f9f9;\n",
       "        color: black;\n",
       "    }\n",
       "    .research-summary h3 {\n",
       "        color: #336;\n",
       "    }\n",
       "    .research-summary p {\n",
       "        text-indent: 20px;\n",
       "    }\n",
       "</style>\n",
       "\n",
       "            <div class=\"research-summary\">\n",
       "                <h3>Patent Number:11961559</h3>\n",
       "                <p>The research aims to improve the read performance of nonvolatile memory devices by allowing the memory controller to perform check read operations on neighboring pages while sequentially selecting sets of read voltages. The improvement aims to reduce the number of read operations required to accurately read data from a page, resulting in faster read times and improved energy efficiency. However, the research does not provide details on energy efficiency. The potential drawbacks of the approach include the need for additional circuitry and the potential for increased power consumption during the check read operations.</p>\n",
       "            </div>\n",
       "            "
      ],
      "text/plain": [
       "<IPython.core.display.HTML object>"
      ]
     },
     "metadata": {},
     "output_type": "display_data"
    },
    {
     "data": {
      "text/html": [
       "\n",
       "<style>\n",
       "    .research-summary {\n",
       "        border: 1px solid #ddd;\n",
       "        border-radius: 8px;\n",
       "        padding: 15px;\n",
       "        margin: 10px 0;\n",
       "        background-color: #f9f9f9;\n",
       "        color: black;\n",
       "    }\n",
       "    .research-summary h3 {\n",
       "        color: #336;\n",
       "    }\n",
       "    .research-summary p {\n",
       "        text-indent: 20px;\n",
       "    }\n",
       "</style>\n",
       "\n",
       "            <div class=\"research-summary\">\n",
       "                <h3>Patent Number:11922057</h3>\n",
       "                <p>The proposed storage system aims to improve data storage efficiency by prioritizing data based on its importance and loading it into a buffer memory for faster access. The system stores high-priority data in the buffer memory first, reducing the time it takes to access the data. However, the system may experience performance degradation if the buffer memory becomes too full. The energy efficiency of the system is not explicitly mentioned.</p>\n",
       "            </div>\n",
       "            "
      ],
      "text/plain": [
       "<IPython.core.display.HTML object>"
      ]
     },
     "metadata": {},
     "output_type": "display_data"
    },
    {
     "data": {
      "text/html": [
       "\n",
       "<style>\n",
       "    .research-summary {\n",
       "        border: 1px solid #ddd;\n",
       "        border-radius: 8px;\n",
       "        padding: 15px;\n",
       "        margin: 10px 0;\n",
       "        background-color: #f9f9f9;\n",
       "        color: black;\n",
       "    }\n",
       "    .research-summary h3 {\n",
       "        color: #336;\n",
       "    }\n",
       "    .research-summary p {\n",
       "        text-indent: 20px;\n",
       "    }\n",
       "</style>\n",
       "\n",
       "            <div class=\"research-summary\">\n",
       "                <h3>Patent Number:11922984</h3>\n",
       "                <p>The proposed memory device aims to improve memory density and energy efficiency by integrating volatile and non-volatile memory cells on the same substrate. The volatile memory cells are located in the first region and have a cell switch with a first channel region adjacent to a corresponding first wordline, while the non-volatile memory cells are located in the second region and have a second channel region adjacent to a corresponding second wordline. The ferroelectric layer separates the non-volatile memory cells from the wordlines. The research focuses on improving memory density and energy efficiency, but potential drawbacks such as reduced write speed and degradation of the ferroelectric layer are mentioned. Energy efficiency details are not provided.</p>\n",
       "            </div>\n",
       "            "
      ],
      "text/plain": [
       "<IPython.core.display.HTML object>"
      ]
     },
     "metadata": {},
     "output_type": "display_data"
    },
    {
     "data": {
      "text/html": [
       "\n",
       "<style>\n",
       "    .research-summary {\n",
       "        border: 1px solid #ddd;\n",
       "        border-radius: 8px;\n",
       "        padding: 15px;\n",
       "        margin: 10px 0;\n",
       "        background-color: #f9f9f9;\n",
       "        color: black;\n",
       "    }\n",
       "    .research-summary h3 {\n",
       "        color: #336;\n",
       "    }\n",
       "    .research-summary p {\n",
       "        text-indent: 20px;\n",
       "    }\n",
       "</style>\n",
       "\n",
       "            <div class=\"research-summary\">\n",
       "                <h3>Patent Number:11874784</h3>\n",
       "                <p>The research aims to improve the performance of memory devices by enabling them to self-calibrate their location on a bus in a memory module. This is achieved through a CA buffer and a calibration logic circuit that identify the location of the memory device on the bus. The research improves the accuracy of memory device operation by allowing it to recognize its own location, which can vary depending on its position in the memory module. While the research does not mention energy efficiency, it could potentially lead to more efficient memory devices in the future.</p>\n",
       "            </div>\n",
       "            "
      ],
      "text/plain": [
       "<IPython.core.display.HTML object>"
      ]
     },
     "metadata": {},
     "output_type": "display_data"
    },
    {
     "data": {
      "text/html": [
       "\n",
       "<style>\n",
       "    .research-summary {\n",
       "        border: 1px solid #ddd;\n",
       "        border-radius: 8px;\n",
       "        padding: 15px;\n",
       "        margin: 10px 0;\n",
       "        background-color: #f9f9f9;\n",
       "        color: black;\n",
       "    }\n",
       "    .research-summary h3 {\n",
       "        color: #336;\n",
       "    }\n",
       "    .research-summary p {\n",
       "        text-indent: 20px;\n",
       "    }\n",
       "</style>\n",
       "\n",
       "            <div class=\"research-summary\">\n",
       "                <h3>Patent Number:11948631</h3>\n",
       "                <p>The proposed memory device aims to improve the read and write operations of memory cells by using a phis change material in the data storage element. The memory controller compares the first read voltage of a memory cell to the second read voltage to determine its state. The research focuses on improving the read and write operations, but does not mention any potential drawbacks or degrading parameters. Energy efficiency is not explicitly mentioned in the provided text.</p>\n",
       "            </div>\n",
       "            "
      ],
      "text/plain": [
       "<IPython.core.display.HTML object>"
      ]
     },
     "metadata": {},
     "output_type": "display_data"
    }
   ],
   "source": [
    "from IPython.display import display, HTML\n",
    "\n",
    "style = \"\"\"\n",
    "<style>\n",
    "    .research-summary {\n",
    "        border: 1px solid #ddd;\n",
    "        border-radius: 8px;\n",
    "        padding: 15px;\n",
    "        margin: 10px 0;\n",
    "        background-color: #f9f9f9;\n",
    "        color: black;\n",
    "    }\n",
    "    .research-summary h3 {\n",
    "        color: #336;\n",
    "    }\n",
    "    .research-summary p {\n",
    "        text-indent: 20px;\n",
    "    }\n",
    "</style>\n",
    "\"\"\"\n",
    "\n",
    "import re\n",
    "\n",
    "# Assuming the Document class has an attribute 'page_content' that stores the content\n",
    "class Document:\n",
    "    def __init__(self, page_content):\n",
    "        self.page_content = page_content\n",
    "\n",
    "for item in retirve_result:\n",
    "    # Regular expression to capture Patent Number and Summary\n",
    "    pattern = re.compile(r\"PatentNumber: (\\d+)\\n.*SummaryofPatent: Summary:\\n(.*)\", re.DOTALL)\n",
    "\n",
    "    match = pattern.search(item.page_content)  # Use dot notation to access the page_content attribute\n",
    "\n",
    "    if match:\n",
    "        contents = \"\"\n",
    "        patent_number = match.group(1).strip()\n",
    "        summary = match.group(2).strip()\n",
    "        # print(\"Patent Number:\", patent_number)\n",
    "        # print(\"Summary:\", summary)\n",
    "        contents += f\"\"\"\n",
    "            <div class=\"research-summary\">\n",
    "                <h3>Patent Number:{patent_number}</h3>\n",
    "                <p>{summary}</p>\n",
    "            </div>\n",
    "            \"\"\"\n",
    "        display(HTML(style + contents))\n",
    "\n",
    "\n"
   ]
  }
 ],
 "metadata": {
  "kernelspec": {
   "display_name": "triztest",
   "language": "python",
   "name": "python3"
  },
  "language_info": {
   "codemirror_mode": {
    "name": "ipython",
    "version": 3
   },
   "file_extension": ".py",
   "mimetype": "text/x-python",
   "name": "python",
   "nbconvert_exporter": "python",
   "pygments_lexer": "ipython3",
   "version": "3.12.1"
  }
 },
 "nbformat": 4,
 "nbformat_minor": 2
}
