{
 "cells": [
  {
   "cell_type": "code",
   "execution_count": 73,
   "metadata": {
    "metadata": {}
   },
   "outputs": [
    {
     "name": "stdout",
     "output_type": "stream",
     "text": [
      "Hello\n"
     ]
    }
   ],
   "source": [
    "print(\"Hello\")\n",
    "\n",
    "# Sustainable mobile phone display\n"
   ]
  },
  {
   "cell_type": "code",
   "execution_count": 74,
   "metadata": {
    "metadata": {}
   },
   "outputs": [
    {
     "name": "stdout",
     "output_type": "stream",
     "text": [
      "Merged CSV saved to ./test_summarization_loop/merged_file.csv\n"
     ]
    }
   ],
   "source": [
    "import pandas as pd\n",
    "import os\n",
    "\n",
    "\n",
    "# Directory where your CSV files are located\n",
    "folder_path = './summarized_patents/'\n",
    "\n",
    "\n",
    "# List to hold data from each CSV file\n",
    "data_frames = []\n",
    "\n",
    "\n",
    "# Loop through all the CSV files in the directory\n",
    "for file_name in os.listdir(folder_path):\n",
    "    if file_name.endswith('.csv'):\n",
    "        file_path = os.path.join(folder_path, file_name)\n",
    "        # Read the CSV file and append it to the list of data frames\n",
    "        df = pd.read_csv(file_path)\n",
    "        data_frames.append(df)\n",
    "\n",
    "\n",
    "# Concatenate all the data frames into one\n",
    "merged_df = pd.concat(data_frames, ignore_index=True)\n",
    "\n",
    "\n",
    "# Save the merged data frame to a new CSV file\n",
    "output_file_path = './test_summarization_loop/merged_file.csv'\n",
    "merged_df.to_csv(output_file_path, index=False)\n",
    "\n",
    "\n",
    "print(f'Merged CSV saved to {output_file_path}')\n"
   ]
  },
  {
   "cell_type": "code",
   "execution_count": 27,
   "metadata": {},
   "outputs": [],
   "source": [
    "import pandas as pd\n",
    "data_patent = pd.read_csv('./test_summarization_loop/merged_file.csv')"
   ]
  },
  {
   "cell_type": "code",
   "execution_count": 29,
   "metadata": {},
   "outputs": [
    {
     "name": "stdout",
     "output_type": "stream",
     "text": [
      "3720 11\n"
     ]
    }
   ],
   "source": [
    "rows = len(data_patent.axes[0])\n",
    "cols = len(data_patent.axes[1])\n",
    "print(rows, cols)"
   ]
  },
  {
   "cell_type": "code",
   "execution_count": 30,
   "metadata": {},
   "outputs": [],
   "source": [
    "patent_data = data_patent[[\"PatentNumber\",\"ApplicationReference\",\"Date\",\"OrganizationName\",\"SummaryofPatent\"]]"
   ]
  },
  {
   "cell_type": "code",
   "execution_count": 31,
   "metadata": {},
   "outputs": [
    {
     "name": "stdout",
     "output_type": "stream",
     "text": [
      "3720 5\n"
     ]
    }
   ],
   "source": [
    "rows = len(patent_data.axes[0])\n",
    "cols = len(patent_data.axes[1])\n",
    "print(rows, cols)"
   ]
  },
  {
   "cell_type": "code",
   "execution_count": 32,
   "metadata": {},
   "outputs": [],
   "source": [
    "patent_data.to_csv('./test_summarization_loop/patents_summarized_abstract_clean.csv', index=False)"
   ]
  },
  {
   "cell_type": "code",
   "execution_count": 1,
   "metadata": {},
   "outputs": [
    {
     "data": {
      "text/plain": [
       "131072"
      ]
     },
     "execution_count": 1,
     "metadata": {},
     "output_type": "execute_result"
    }
   ],
   "source": [
    "from langchain_community.document_loaders.csv_loader import CSVLoader\n",
    "import sys\n",
    "import csv\n",
    "\n",
    "csv.field_size_limit(sys.maxsize)"
   ]
  },
  {
   "cell_type": "code",
   "execution_count": 2,
   "metadata": {},
   "outputs": [],
   "source": [
    "loader = CSVLoader(file_path='./test_summarization_loop/patents_summarized_abstract_clean.csv')\n",
    "\n",
    "documents = loader.load()"
   ]
  },
  {
   "cell_type": "code",
   "execution_count": 3,
   "metadata": {},
   "outputs": [
    {
     "name": "stdout",
     "output_type": "stream",
     "text": [
      "<class 'list'>\n"
     ]
    }
   ],
   "source": [
    "print(type(documents))"
   ]
  },
  {
   "cell_type": "code",
   "execution_count": 5,
   "metadata": {},
   "outputs": [
    {
     "data": {
      "text/plain": [
       "'PatentNumber: 11925278\\nApplicationReference: utility\\nDate: 2024-03-12\\nOrganizationName: SAMSUNG ELECTRONICS CO., LTD.\\nSummaryofPatent: Summary:\\nThe display apparatus aims to provide a flexible and adjustable mounting system for displays, allowing for rotation in multiple directions and slidable movement in the leftward and rightward directions. The connector includes rotatable supports and movable supports, which enable the mounting member to be securely attached to the fixing member while allowing for adjustment. The invention improves upon existing mounting systems by providing a more flexible and adjustable solution, but may be limited by the weight and size of the display. The energy efficiency of the invention is not explicitly mentioned in the provided text.'"
      ]
     },
     "execution_count": 5,
     "metadata": {},
     "output_type": "execute_result"
    }
   ],
   "source": [
    "documents[0].page_content"
   ]
  },
  {
   "cell_type": "code",
   "execution_count": 4,
   "metadata": {},
   "outputs": [
    {
     "data": {
      "text/plain": [
       "3720"
      ]
     },
     "execution_count": 4,
     "metadata": {},
     "output_type": "execute_result"
    }
   ],
   "source": [
    "len(documents)"
   ]
  },
  {
   "cell_type": "code",
   "execution_count": 7,
   "metadata": {},
   "outputs": [],
   "source": []
  },
  {
   "cell_type": "code",
   "execution_count": 44,
   "metadata": {
    "metadata": {}
   },
   "outputs": [
    {
     "name": "stderr",
     "output_type": "stream",
     "text": [
      "[codecarbon WARNING @ 00:04:00] Invalid gpu_ids format. Expected a string or a list of ints.\n",
      "[codecarbon INFO @ 00:04:00] [setup] RAM Tracking...\n",
      "[codecarbon INFO @ 00:04:00] [setup] GPU Tracking...\n",
      "[codecarbon INFO @ 00:04:00] Tracking Nvidia GPU via pynvml\n",
      "[codecarbon INFO @ 00:04:00] [setup] CPU Tracking...\n",
      "[codecarbon WARNING @ 00:04:00] No CPU tracking mode found. Falling back on CPU constant mode.\n"
     ]
    },
    {
     "name": "stdout",
     "output_type": "stream",
     "text": [
      "Start of code time:  1717801440.4403791\n"
     ]
    },
    {
     "name": "stderr",
     "output_type": "stream",
     "text": [
      "[codecarbon WARNING @ 00:04:01] We saw that you have a Intel(R) Xeon(R) Gold 6330 CPU @ 2.00GHz but we don't know it. Please contact us.\n",
      "[codecarbon INFO @ 00:04:01] CPU Model on constant consumption mode: Intel(R) Xeon(R) Gold 6330 CPU @ 2.00GHz\n",
      "[codecarbon INFO @ 00:04:01] >>> Tracker's metadata:\n",
      "[codecarbon INFO @ 00:04:01]   Platform system: Linux-5.4.0-182-generic-x86_64-with-glibc2.31\n",
      "[codecarbon INFO @ 00:04:01]   Python version: 3.12.1\n",
      "[codecarbon INFO @ 00:04:01]   CodeCarbon version: 2.4.1\n",
      "[codecarbon INFO @ 00:04:01]   Available RAM : 503.339 GB\n",
      "[codecarbon INFO @ 00:04:01]   CPU count: 112\n",
      "[codecarbon INFO @ 00:04:01]   CPU model: Intel(R) Xeon(R) Gold 6330 CPU @ 2.00GHz\n",
      "[codecarbon INFO @ 00:04:01]   GPU count: 2\n",
      "[codecarbon INFO @ 00:04:01]   GPU model: 2 x NVIDIA A40\n",
      "[codecarbon INFO @ 00:04:07] Energy consumed for RAM : 0.000116 kWh. RAM Power : 188.75217247009277 W\n",
      "[codecarbon INFO @ 00:04:07] Energy consumed for all GPUs : 0.000096 kWh. Total GPU Power : 155.277552940192 W\n",
      "[codecarbon INFO @ 00:04:07] Energy consumed for all CPUs : 0.000026 kWh. Total CPU Power : 42.5 W\n",
      "[codecarbon INFO @ 00:04:07] 0.000238 kWh of electricity used since the beginning.\n"
     ]
    },
    {
     "name": "stdout",
     "output_type": "stream",
     "text": [
      "Emissions for this code execution is:  6.225456186088755e-05\n",
      "End of code time:  1717801447.1427157\n"
     ]
    }
   ],
   "source": [
    "#Embedding model load\n",
    "\n",
    "from langchain.embeddings import HuggingFaceBgeEmbeddings\n",
    "from langchain.vectorstores import Chroma\n",
    "from codecarbon import EmissionsTracker\n",
    "import time\n",
    "\n",
    "print(\"Start of code time: \",time.time())\n",
    "\n",
    "tracker = EmissionsTracker()\n",
    "tracker.start()\n",
    "\n",
    "model_name = \"BAAI/bge-large-en-v1.5\"\n",
    "# model_kwargs = {'device': 'cuda'}\n",
    "encode_kwargs = {'normalize_embeddings': True} # set True to compute cosine similarity\n",
    "model = HuggingFaceBgeEmbeddings(\n",
    "    model_name=model_name,\n",
    "    # model_kwargs=model_kwargs,\n",
    "    encode_kwargs=encode_kwargs\n",
    "    # ,\n",
    "    # query_instruction=\"为这个句子生成表示以用于检索相关文章：\"\n",
    ")\n",
    "\n",
    "\n",
    "emissions: float = tracker.stop()\n",
    "print(\"Emissions for this code execution is: \", emissions)\n",
    "print(\"End of code time: \",time.time())"
   ]
  },
  {
   "cell_type": "code",
   "execution_count": 8,
   "metadata": {},
   "outputs": [
    {
     "name": "stdout",
     "output_type": "stream",
     "text": [
      "client=SentenceTransformer(\n",
      "  (0): Transformer({'max_seq_length': 512, 'do_lower_case': True}) with Transformer model: BertModel \n",
      "  (1): Pooling({'word_embedding_dimension': 1024, 'pooling_mode_cls_token': True, 'pooling_mode_mean_tokens': False, 'pooling_mode_max_tokens': False, 'pooling_mode_mean_sqrt_len_tokens': False, 'pooling_mode_weightedmean_tokens': False, 'pooling_mode_lasttoken': False, 'include_prompt': True})\n",
      "  (2): Normalize()\n",
      ") model_name='BAAI/bge-large-en-v1.5' cache_folder=None model_kwargs={} encode_kwargs={'normalize_embeddings': True} query_instruction='Represent this question for searching relevant passages: ' embed_instruction=''\n"
     ]
    }
   ],
   "source": [
    "print(model)"
   ]
  },
  {
   "cell_type": "code",
   "execution_count": 9,
   "metadata": {},
   "outputs": [],
   "source": [
    "import os # Importing os module for operating system functionalities\n",
    "import shutil # Importing shutil module for high-level file operations"
   ]
  },
  {
   "cell_type": "code",
   "execution_count": 42,
   "metadata": {},
   "outputs": [],
   "source": [
    " # Clear out the existing database directory if it exists\n",
    "if os.path.exists(\"./db\"):\n",
    "    shutil.rmtree(\"./db\")\n"
   ]
  },
  {
   "cell_type": "code",
   "execution_count": 10,
   "metadata": {},
   "outputs": [
    {
     "name": "stderr",
     "output_type": "stream",
     "text": [
      "[codecarbon WARNING @ 17:56:45] Invalid gpu_ids format. Expected a string or a list of ints.\n",
      "[codecarbon INFO @ 17:56:45] [setup] RAM Tracking...\n",
      "[codecarbon INFO @ 17:56:45] [setup] GPU Tracking...\n",
      "[codecarbon INFO @ 17:56:45] Tracking Nvidia GPU via pynvml\n",
      "[codecarbon INFO @ 17:56:45] [setup] CPU Tracking...\n",
      "[codecarbon WARNING @ 17:56:45] No CPU tracking mode found. Falling back on CPU constant mode.\n"
     ]
    },
    {
     "name": "stdout",
     "output_type": "stream",
     "text": [
      "Start of code time:  1716224205.5088346\n"
     ]
    },
    {
     "name": "stderr",
     "output_type": "stream",
     "text": [
      "[codecarbon WARNING @ 17:56:46] We saw that you have a Intel(R) Xeon(R) Gold 6330 CPU @ 2.00GHz but we don't know it. Please contact us.\n",
      "[codecarbon INFO @ 17:56:46] CPU Model on constant consumption mode: Intel(R) Xeon(R) Gold 6330 CPU @ 2.00GHz\n",
      "[codecarbon INFO @ 17:56:46] >>> Tracker's metadata:\n",
      "[codecarbon INFO @ 17:56:46]   Platform system: Linux-5.4.0-174-generic-x86_64-with-glibc2.31\n",
      "[codecarbon INFO @ 17:56:46]   Python version: 3.12.1\n",
      "[codecarbon INFO @ 17:56:46]   CodeCarbon version: 2.4.1\n",
      "[codecarbon INFO @ 17:56:46]   Available RAM : 503.339 GB\n",
      "[codecarbon INFO @ 17:56:46]   CPU count: 112\n",
      "[codecarbon INFO @ 17:56:46]   CPU model: Intel(R) Xeon(R) Gold 6330 CPU @ 2.00GHz\n",
      "[codecarbon INFO @ 17:56:46]   GPU count: 2\n",
      "[codecarbon INFO @ 17:56:46]   GPU model: 2 x NVIDIA A40\n",
      "[codecarbon INFO @ 17:57:04] Energy consumed for RAM : 0.000787 kWh. RAM Power : 188.75217247009277 W\n",
      "[codecarbon INFO @ 17:57:04] Energy consumed for all GPUs : 0.001460 kWh. Total GPU Power : 349.87698565086225 W\n",
      "[codecarbon INFO @ 17:57:04] Energy consumed for all CPUs : 0.000177 kWh. Total CPU Power : 42.5 W\n",
      "[codecarbon INFO @ 17:57:04] 0.002424 kWh of electricity used since the beginning.\n",
      "[codecarbon INFO @ 17:57:19] Energy consumed for RAM : 0.001573 kWh. RAM Power : 188.75217247009277 W\n",
      "[codecarbon INFO @ 17:57:19] Energy consumed for all GPUs : 0.002993 kWh. Total GPU Power : 368.2957209412355 W\n",
      "[codecarbon INFO @ 17:57:19] Energy consumed for all CPUs : 0.000354 kWh. Total CPU Power : 42.5 W\n",
      "[codecarbon INFO @ 17:57:19] 0.004920 kWh of electricity used since the beginning.\n",
      "[codecarbon INFO @ 17:57:25] Energy consumed for RAM : 0.001862 kWh. RAM Power : 188.75217247009277 W\n",
      "[codecarbon INFO @ 17:57:25] Energy consumed for all GPUs : 0.003291 kWh. Total GPU Power : 194.55964132161014 W\n",
      "[codecarbon INFO @ 17:57:25] Energy consumed for all CPUs : 0.000420 kWh. Total CPU Power : 42.5 W\n",
      "[codecarbon INFO @ 17:57:25] 0.005573 kWh of electricity used since the beginning.\n"
     ]
    },
    {
     "name": "stdout",
     "output_type": "stream",
     "text": [
      "Emissions for this code execution is:  0.0014553289802961846\n",
      "End of code time:  1716224245.5109322\n"
     ]
    }
   ],
   "source": [
    "#Chroma DB saving files and embeddings\n",
    "\n",
    "from langchain.vectorstores import Chroma\n",
    "from codecarbon import EmissionsTracker\n",
    "import time\n",
    "\n",
    "print(\"Start of code time: \",time.time())\n",
    "\n",
    "tracker = EmissionsTracker()\n",
    "tracker.start()\n",
    "\n",
    "chroma_db = Chroma.from_documents(\n",
    "    documents, model, persist_directory=\"./db\"\n",
    ")\n",
    "\n",
    "chroma_db.persist()\n",
    "\n",
    "emissions: float = tracker.stop()\n",
    "print(\"Emissions for this code execution is: \", emissions)\n",
    "print(\"End of code time: \",time.time())\n"
   ]
  },
  {
   "cell_type": "code",
   "execution_count": null,
   "metadata": {
    "metadata": {}
   },
   "outputs": [],
   "source": []
  },
  {
   "cell_type": "code",
   "execution_count": 43,
   "metadata": {
    "metadata": {}
   },
   "outputs": [
    {
     "ename": "NameError",
     "evalue": "name 'model' is not defined",
     "output_type": "error",
     "traceback": [
      "\u001b[0;31m---------------------------------------------------------------------------\u001b[0m",
      "\u001b[0;31mNameError\u001b[0m                                 Traceback (most recent call last)",
      "Cell \u001b[0;32mIn[43], line 3\u001b[0m\n\u001b[1;32m      1\u001b[0m \u001b[38;5;28;01mimport\u001b[39;00m \u001b[38;5;21;01mtorch\u001b[39;00m\n\u001b[0;32m----> 3\u001b[0m \u001b[38;5;28;01mdel\u001b[39;00m \u001b[43mmodel\u001b[49m\n\u001b[1;32m      5\u001b[0m torch\u001b[38;5;241m.\u001b[39mcuda\u001b[38;5;241m.\u001b[39mempty_cache()\n\u001b[1;32m      6\u001b[0m torch\u001b[38;5;241m.\u001b[39mcuda\u001b[38;5;241m.\u001b[39mmem_get_info()\n",
      "\u001b[0;31mNameError\u001b[0m: name 'model' is not defined"
     ]
    }
   ],
   "source": [
    "import torch\n",
    "\n",
    "# del model\n",
    "\n",
    "torch.cuda.empty_cache()\n",
    "torch.cuda.mem_get_info()"
   ]
  },
  {
   "cell_type": "code",
   "execution_count": 45,
   "metadata": {
    "metadata": {}
   },
   "outputs": [],
   "source": [
    "from langchain.vectorstores import Chroma\n",
    "vectordb = Chroma(persist_directory=\"./db\", embedding_function= model)\n"
   ]
  },
  {
   "cell_type": "code",
   "execution_count": 46,
   "metadata": {
    "metadata": {}
   },
   "outputs": [
    {
     "name": "stdout",
     "output_type": "stream",
     "text": [
      "similarity_score_threshold {'k': 10, 'score_threshold': 0.5}\n"
     ]
    }
   ],
   "source": [
    "retriever = vectordb.as_retriever(search_type = \"similarity_score_threshold\",search_kwargs = {\"k\": 10, \"score_threshold\":0.50})\n",
    "# retriever = vectordb.as_retriever(search_type = \"mmr\",search_kwargs = {\"k\": 5, \"lambda\":0.90})\n",
    "print(retriever.search_type, retriever.search_kwargs)"
   ]
  },
  {
   "cell_type": "code",
   "execution_count": null,
   "metadata": {},
   "outputs": [],
   "source": []
  },
  {
   "cell_type": "code",
   "execution_count": 70,
   "metadata": {
    "metadata": {}
   },
   "outputs": [],
   "source": [
    "retirve_result = retriever.get_relevant_documents(\"Energy Efficient and Sustainable Touch Screen Display\")"
   ]
  },
  {
   "cell_type": "code",
   "execution_count": 64,
   "metadata": {
    "metadata": {}
   },
   "outputs": [
    {
     "data": {
      "text/plain": [
       "10"
      ]
     },
     "execution_count": 64,
     "metadata": {},
     "output_type": "execute_result"
    }
   ],
   "source": [
    "len(retirve_result)"
   ]
  },
  {
   "cell_type": "code",
   "execution_count": 33,
   "metadata": {
    "metadata": {}
   },
   "outputs": [],
   "source": [
    "# retirve_result[0]"
   ]
  },
  {
   "cell_type": "code",
   "execution_count": 28,
   "metadata": {
    "metadata": {}
   },
   "outputs": [
    {
     "name": "stdout",
     "output_type": "stream",
     "text": [
      "The invention aims to improve the efficiency of wireless charging by designing a spiral-shaped antenna with a unique structure. The antenna consists of two conductive patterns, one for current flowing inside and one for current flowing outside, which are formed of multiple layers. The design helps to reduce energy loss and improve charging efficiency. However, the presence of multiple layers may increase manufacturing complexity. The invention does not provide details on energy efficiency, but the unique structure is expected to improve charging efficiency.\n"
     ]
    }
   ],
   "source": [
    "# import re\n",
    "\n",
    "# pattern = re.compile(r\"SummaryofPatent: Summary:\\n(.*)\", re.DOTALL)\n",
    "\n",
    "# match = pattern.search(retirve_result[0].page_content)\n",
    "\n",
    "# if match:\n",
    "#     print(match.group(1).strip())"
   ]
  },
  {
   "cell_type": "code",
   "execution_count": 21,
   "metadata": {
    "metadata": {}
   },
   "outputs": [
    {
     "data": {
      "text/plain": [
       "Document(page_content='PatentNumber: 11955597\\nApplicationReference: utility\\nDate: 2024-04-09\\nOrganizationName: Samsung Electronics Co., Ltd.\\nSummaryofPatent: Summary:\\nThe research aims to develop a solid electrolyte for lithium-ion batteries that improves energy efficiency and reduces degradation. The proposed electrolyte is based on oxides of hafnium, titanium, zirconium, or a combination thereof, and shows improved stability and conductivity compared to traditional electrolytes. However, the study mentions that the electrolyte may degrade under high-temperature conditions, and further research is needed to overcome this limitation. The energy efficiency of the proposed electrolyte is not explicitly mentioned in the text.', metadata={'row': 2228, 'source': './test_summarization_loop/patents_summarized_abstract_clean.csv'})"
      ]
     },
     "execution_count": 21,
     "metadata": {},
     "output_type": "execute_result"
    }
   ],
   "source": [
    "# retirve_result[0]"
   ]
  },
  {
   "cell_type": "code",
   "execution_count": 36,
   "metadata": {},
   "outputs": [],
   "source": [
    "# filtered_results = [doc for score, doc in retirve_result['SummaryofPatent'] if score >= \"0.7\"]\n",
    "# print(filtered_results)"
   ]
  },
  {
   "cell_type": "code",
   "execution_count": 12,
   "metadata": {
    "metadata": {}
   },
   "outputs": [
    {
     "data": {
      "text/plain": [
       "list"
      ]
     },
     "execution_count": 12,
     "metadata": {},
     "output_type": "execute_result"
    }
   ],
   "source": [
    "# type(retirve_result)"
   ]
  },
  {
   "cell_type": "code",
   "execution_count": 34,
   "metadata": {
    "metadata": {}
   },
   "outputs": [],
   "source": [
    "# import re\n",
    "\n",
    "# for item in retirve_result:\n",
    "#     pattern = re.compile(r\"SummaryofPatent: Summary:\\n(.*)\", re.DOTALL)\n",
    "\n",
    "#     match = pattern.search(item.page_content)\n",
    "\n",
    "#     if match:\n",
    "#         print(match.group(1).strip())"
   ]
  },
  {
   "cell_type": "code",
   "execution_count": 71,
   "metadata": {
    "metadata": {}
   },
   "outputs": [
    {
     "name": "stdout",
     "output_type": "stream",
     "text": [
      "Patent Number: 11910672\n",
      "Summary: The invention aims to improve the energy efficiency of touch screens by overlapping touch lines with power supply lines. The non-display area of the substrate includes touch electrodes, touch lines connected to the electrodes, and first and second power supply lines with different voltage levels. The first power supply line overlaps the second power supply line, and at least one of the touch lines overlaps one of the power supply lines. This design can reduce the energy consumption of the touch screen by minimizing the distance between the touch electrodes and the power supply lines. However, the invention does not provide details on the specific energy efficiency improvements or the potential drawbacks of the design.\n",
      "Patent Number: 11875732\n",
      "Summary: The research aims to improve the energy efficiency of display panels by developing a screen saver controller that generates screen saver data based on load and life data of panel blocks. The controller adjusts the luminance of the display panel based on the screen saver data, reducing power consumption when in screen saver mode. The research does not mention any potential drawbacks or degrading parameters, and provides limited information on energy efficiency. However, the focus on energy efficiency suggests that the proposed solution may lead to significant improvements in this area.\n",
      "Patent Number: 11899893\n",
      "Summary: The display device aims to improve touch sensing performance by integrating a touch layer with a display layer. The touch layer includes sensor electrodes and antenna patterns for transmitting and receiving signals. The device aims to increase the accuracy and speed of touch sensing while reducing the power consumption. However, the presence of antenna patterns may lead to reduced display brightness and energy efficiency. The absence of energy efficiency details in the provided text may be a limitation for some applications.\n",
      "Patent Number: 11928997\n",
      "Summary: The proposed electronic device aims to improve the user experience by expanding the display to show additional application execution screens when the device is in a second position state. The device uses at least one processor to control the display and expand it based on the position state. The device also displays the execution screens of the applications in the expanded area. The device does not mention any specific energy efficiency details, but it does aim to improve the user experience by expanding the display. However, the device may face challenges in terms of energy consumption when the display is constantly expanded.\n",
      "Patent Number: 11869419\n",
      "Summary: The display device aims to reduce power consumption by predicting power currents based on input image data and correcting the image data to reduce gain reduction regions. The device includes a flexible printed circuit board with a small number of pins, reducing the power current flowing through it. The research focuses on improving energy efficiency by reducing power consumption without compromising image quality. However, the study does not provide details on the specific energy efficiency improvements.\n",
      "Patent Number: 11935447\n",
      "Summary: The research aims to improve the energy efficiency of electronic devices by optimizing the driving frequency of displays. By identifying the driving frequency of a first screen and controlling the display to output at least a portion of the first screen on a region driven at a corresponding frequency, the display optimizes driving frequency and reduces heating problems and resource waste in the electronic device. The research does not mention any potential drawbacks or degrading parameters, and energy efficiency is not explicitly discussed.\n",
      "Patent Number: 11882523\n",
      "Summary: The electronic device aims to improve user experience by displaying a user interface on an elongated region that extends along at least one edge region of the display in response to receiving a signal from outside of the device. The device displays at least one content corresponding to the signal while displaying the user interface or after displaying the user interface. The device does not mention any specific energy efficiency details, but the focus on displaying content on an elongated region suggests a potential improvement in energy efficiency by reducing the amount of display area used for displaying content. However, the absence of energy efficiency details may limit the potential impact of this improvement.\n",
      "Patent Number: 11968627\n",
      "Summary: The electronic device aims to improve user experience by displaying a user interface on an elongated region that extends along at least one edge region of the display in response to receiving a signal from outside of the device. The device displays at least one content corresponding to the signal while displaying the user interface or after displaying the user interface. The device does not mention any specific energy efficiency details, but the focus on displaying content on an elongated region suggests a potential improvement in energy efficiency by reducing the amount of display area used for displaying content. However, the absence of energy efficiency details may limit the potential impact of this improvement.\n",
      "Patent Number: 11881150\n",
      "Summary: The proposed display device aims to improve energy efficiency by incorporating a power management IC with a feedback terminal for receiving a feedback voltage and an output terminal for supplying a first voltage. The display driver IC is connected to the input terminal and includes a frequency compensation circuit with a feedback capacitor and resistor. The frequency compensation circuit helps to improve the output voltage stability and reduce energy consumption. However, the presence of a feedback capacitor may introduce some energy losses, and the absence of details on energy efficiency may limit the full potential of the proposed design.\n",
      "Patent Number: 11961476\n",
      "Summary: The display device aims to improve energy efficiency by determining a maximum scale factor and a minimum scale factor based on a power control mode set by a user. The maximum scale factor and minimum scale factor are used to calculate a maximum driving voltage and an optimal voltage, respectively. The input voltage is generated based on the optimal voltage, and the driving voltage is generated based on the input voltage. The device aims to reduce power consumption by optimizing the driving voltage based on the power control mode. However, the device may face limitations in achieving optimal energy efficiency due to the complexity of the display panel and the driving voltage generator.\n"
     ]
    }
   ],
   "source": [
    "import re\n",
    "\n",
    "# Assuming the Document class has an attribute 'page_content' that stores the content\n",
    "class Document:\n",
    "    def __init__(self, page_content):\n",
    "        self.page_content = page_content\n",
    "\n",
    "for item in retirve_result:\n",
    "    # Regular expression to capture Patent Number and Summary\n",
    "    pattern = re.compile(r\"PatentNumber: (\\d+)\\n.*SummaryofPatent: Summary:\\n(.*)\", re.DOTALL)\n",
    "\n",
    "    match = pattern.search(item.page_content)  # Use dot notation to access the page_content attribute\n",
    "\n",
    "    if match:\n",
    "        patent_number = match.group(1).strip()\n",
    "        summary = match.group(2).strip()\n",
    "        print(\"Patent Number:\", patent_number)\n",
    "        print(\"Summary:\", summary)\n"
   ]
  },
  {
   "cell_type": "code",
   "execution_count": 72,
   "metadata": {
    "metadata": {}
   },
   "outputs": [
    {
     "data": {
      "text/html": [
       "\n",
       "<style>\n",
       "    .research-summary {\n",
       "        border: 1px solid #ddd;\n",
       "        border-radius: 8px;\n",
       "        padding: 15px;\n",
       "        margin: 10px 0;\n",
       "        background-color: #f9f9f9;\n",
       "        color: black;\n",
       "    }\n",
       "    .research-summary h3 {\n",
       "        color: #336;\n",
       "    }\n",
       "    .research-summary p {\n",
       "        text-indent: 20px;\n",
       "    }\n",
       "</style>\n",
       "\n",
       "            <div class=\"research-summary\">\n",
       "                <h3>Patent Number:11910672</h3>\n",
       "                <p>The invention aims to improve the energy efficiency of touch screens by overlapping touch lines with power supply lines. The non-display area of the substrate includes touch electrodes, touch lines connected to the electrodes, and first and second power supply lines with different voltage levels. The first power supply line overlaps the second power supply line, and at least one of the touch lines overlaps one of the power supply lines. This design can reduce the energy consumption of the touch screen by minimizing the distance between the touch electrodes and the power supply lines. However, the invention does not provide details on the specific energy efficiency improvements or the potential drawbacks of the design.</p>\n",
       "            </div>\n",
       "            "
      ],
      "text/plain": [
       "<IPython.core.display.HTML object>"
      ]
     },
     "metadata": {},
     "output_type": "display_data"
    },
    {
     "data": {
      "text/html": [
       "\n",
       "<style>\n",
       "    .research-summary {\n",
       "        border: 1px solid #ddd;\n",
       "        border-radius: 8px;\n",
       "        padding: 15px;\n",
       "        margin: 10px 0;\n",
       "        background-color: #f9f9f9;\n",
       "        color: black;\n",
       "    }\n",
       "    .research-summary h3 {\n",
       "        color: #336;\n",
       "    }\n",
       "    .research-summary p {\n",
       "        text-indent: 20px;\n",
       "    }\n",
       "</style>\n",
       "\n",
       "            <div class=\"research-summary\">\n",
       "                <h3>Patent Number:11875732</h3>\n",
       "                <p>The research aims to improve the energy efficiency of display panels by developing a screen saver controller that generates screen saver data based on load and life data of panel blocks. The controller adjusts the luminance of the display panel based on the screen saver data, reducing power consumption when in screen saver mode. The research does not mention any potential drawbacks or degrading parameters, and provides limited information on energy efficiency. However, the focus on energy efficiency suggests that the proposed solution may lead to significant improvements in this area.</p>\n",
       "            </div>\n",
       "            "
      ],
      "text/plain": [
       "<IPython.core.display.HTML object>"
      ]
     },
     "metadata": {},
     "output_type": "display_data"
    },
    {
     "data": {
      "text/html": [
       "\n",
       "<style>\n",
       "    .research-summary {\n",
       "        border: 1px solid #ddd;\n",
       "        border-radius: 8px;\n",
       "        padding: 15px;\n",
       "        margin: 10px 0;\n",
       "        background-color: #f9f9f9;\n",
       "        color: black;\n",
       "    }\n",
       "    .research-summary h3 {\n",
       "        color: #336;\n",
       "    }\n",
       "    .research-summary p {\n",
       "        text-indent: 20px;\n",
       "    }\n",
       "</style>\n",
       "\n",
       "            <div class=\"research-summary\">\n",
       "                <h3>Patent Number:11899893</h3>\n",
       "                <p>The display device aims to improve touch sensing performance by integrating a touch layer with a display layer. The touch layer includes sensor electrodes and antenna patterns for transmitting and receiving signals. The device aims to increase the accuracy and speed of touch sensing while reducing the power consumption. However, the presence of antenna patterns may lead to reduced display brightness and energy efficiency. The absence of energy efficiency details in the provided text may be a limitation for some applications.</p>\n",
       "            </div>\n",
       "            "
      ],
      "text/plain": [
       "<IPython.core.display.HTML object>"
      ]
     },
     "metadata": {},
     "output_type": "display_data"
    },
    {
     "data": {
      "text/html": [
       "\n",
       "<style>\n",
       "    .research-summary {\n",
       "        border: 1px solid #ddd;\n",
       "        border-radius: 8px;\n",
       "        padding: 15px;\n",
       "        margin: 10px 0;\n",
       "        background-color: #f9f9f9;\n",
       "        color: black;\n",
       "    }\n",
       "    .research-summary h3 {\n",
       "        color: #336;\n",
       "    }\n",
       "    .research-summary p {\n",
       "        text-indent: 20px;\n",
       "    }\n",
       "</style>\n",
       "\n",
       "            <div class=\"research-summary\">\n",
       "                <h3>Patent Number:11928997</h3>\n",
       "                <p>The proposed electronic device aims to improve the user experience by expanding the display to show additional application execution screens when the device is in a second position state. The device uses at least one processor to control the display and expand it based on the position state. The device also displays the execution screens of the applications in the expanded area. The device does not mention any specific energy efficiency details, but it does aim to improve the user experience by expanding the display. However, the device may face challenges in terms of energy consumption when the display is constantly expanded.</p>\n",
       "            </div>\n",
       "            "
      ],
      "text/plain": [
       "<IPython.core.display.HTML object>"
      ]
     },
     "metadata": {},
     "output_type": "display_data"
    },
    {
     "data": {
      "text/html": [
       "\n",
       "<style>\n",
       "    .research-summary {\n",
       "        border: 1px solid #ddd;\n",
       "        border-radius: 8px;\n",
       "        padding: 15px;\n",
       "        margin: 10px 0;\n",
       "        background-color: #f9f9f9;\n",
       "        color: black;\n",
       "    }\n",
       "    .research-summary h3 {\n",
       "        color: #336;\n",
       "    }\n",
       "    .research-summary p {\n",
       "        text-indent: 20px;\n",
       "    }\n",
       "</style>\n",
       "\n",
       "            <div class=\"research-summary\">\n",
       "                <h3>Patent Number:11869419</h3>\n",
       "                <p>The display device aims to reduce power consumption by predicting power currents based on input image data and correcting the image data to reduce gain reduction regions. The device includes a flexible printed circuit board with a small number of pins, reducing the power current flowing through it. The research focuses on improving energy efficiency by reducing power consumption without compromising image quality. However, the study does not provide details on the specific energy efficiency improvements.</p>\n",
       "            </div>\n",
       "            "
      ],
      "text/plain": [
       "<IPython.core.display.HTML object>"
      ]
     },
     "metadata": {},
     "output_type": "display_data"
    },
    {
     "data": {
      "text/html": [
       "\n",
       "<style>\n",
       "    .research-summary {\n",
       "        border: 1px solid #ddd;\n",
       "        border-radius: 8px;\n",
       "        padding: 15px;\n",
       "        margin: 10px 0;\n",
       "        background-color: #f9f9f9;\n",
       "        color: black;\n",
       "    }\n",
       "    .research-summary h3 {\n",
       "        color: #336;\n",
       "    }\n",
       "    .research-summary p {\n",
       "        text-indent: 20px;\n",
       "    }\n",
       "</style>\n",
       "\n",
       "            <div class=\"research-summary\">\n",
       "                <h3>Patent Number:11935447</h3>\n",
       "                <p>The research aims to improve the energy efficiency of electronic devices by optimizing the driving frequency of displays. By identifying the driving frequency of a first screen and controlling the display to output at least a portion of the first screen on a region driven at a corresponding frequency, the display optimizes driving frequency and reduces heating problems and resource waste in the electronic device. The research does not mention any potential drawbacks or degrading parameters, and energy efficiency is not explicitly discussed.</p>\n",
       "            </div>\n",
       "            "
      ],
      "text/plain": [
       "<IPython.core.display.HTML object>"
      ]
     },
     "metadata": {},
     "output_type": "display_data"
    },
    {
     "data": {
      "text/html": [
       "\n",
       "<style>\n",
       "    .research-summary {\n",
       "        border: 1px solid #ddd;\n",
       "        border-radius: 8px;\n",
       "        padding: 15px;\n",
       "        margin: 10px 0;\n",
       "        background-color: #f9f9f9;\n",
       "        color: black;\n",
       "    }\n",
       "    .research-summary h3 {\n",
       "        color: #336;\n",
       "    }\n",
       "    .research-summary p {\n",
       "        text-indent: 20px;\n",
       "    }\n",
       "</style>\n",
       "\n",
       "            <div class=\"research-summary\">\n",
       "                <h3>Patent Number:11882523</h3>\n",
       "                <p>The electronic device aims to improve user experience by displaying a user interface on an elongated region that extends along at least one edge region of the display in response to receiving a signal from outside of the device. The device displays at least one content corresponding to the signal while displaying the user interface or after displaying the user interface. The device does not mention any specific energy efficiency details, but the focus on displaying content on an elongated region suggests a potential improvement in energy efficiency by reducing the amount of display area used for displaying content. However, the absence of energy efficiency details may limit the potential impact of this improvement.</p>\n",
       "            </div>\n",
       "            "
      ],
      "text/plain": [
       "<IPython.core.display.HTML object>"
      ]
     },
     "metadata": {},
     "output_type": "display_data"
    },
    {
     "data": {
      "text/html": [
       "\n",
       "<style>\n",
       "    .research-summary {\n",
       "        border: 1px solid #ddd;\n",
       "        border-radius: 8px;\n",
       "        padding: 15px;\n",
       "        margin: 10px 0;\n",
       "        background-color: #f9f9f9;\n",
       "        color: black;\n",
       "    }\n",
       "    .research-summary h3 {\n",
       "        color: #336;\n",
       "    }\n",
       "    .research-summary p {\n",
       "        text-indent: 20px;\n",
       "    }\n",
       "</style>\n",
       "\n",
       "            <div class=\"research-summary\">\n",
       "                <h3>Patent Number:11968627</h3>\n",
       "                <p>The electronic device aims to improve user experience by displaying a user interface on an elongated region that extends along at least one edge region of the display in response to receiving a signal from outside of the device. The device displays at least one content corresponding to the signal while displaying the user interface or after displaying the user interface. The device does not mention any specific energy efficiency details, but the focus on displaying content on an elongated region suggests a potential improvement in energy efficiency by reducing the amount of display area used for displaying content. However, the absence of energy efficiency details may limit the potential impact of this improvement.</p>\n",
       "            </div>\n",
       "            "
      ],
      "text/plain": [
       "<IPython.core.display.HTML object>"
      ]
     },
     "metadata": {},
     "output_type": "display_data"
    },
    {
     "data": {
      "text/html": [
       "\n",
       "<style>\n",
       "    .research-summary {\n",
       "        border: 1px solid #ddd;\n",
       "        border-radius: 8px;\n",
       "        padding: 15px;\n",
       "        margin: 10px 0;\n",
       "        background-color: #f9f9f9;\n",
       "        color: black;\n",
       "    }\n",
       "    .research-summary h3 {\n",
       "        color: #336;\n",
       "    }\n",
       "    .research-summary p {\n",
       "        text-indent: 20px;\n",
       "    }\n",
       "</style>\n",
       "\n",
       "            <div class=\"research-summary\">\n",
       "                <h3>Patent Number:11881150</h3>\n",
       "                <p>The proposed display device aims to improve energy efficiency by incorporating a power management IC with a feedback terminal for receiving a feedback voltage and an output terminal for supplying a first voltage. The display driver IC is connected to the input terminal and includes a frequency compensation circuit with a feedback capacitor and resistor. The frequency compensation circuit helps to improve the output voltage stability and reduce energy consumption. However, the presence of a feedback capacitor may introduce some energy losses, and the absence of details on energy efficiency may limit the full potential of the proposed design.</p>\n",
       "            </div>\n",
       "            "
      ],
      "text/plain": [
       "<IPython.core.display.HTML object>"
      ]
     },
     "metadata": {},
     "output_type": "display_data"
    },
    {
     "data": {
      "text/html": [
       "\n",
       "<style>\n",
       "    .research-summary {\n",
       "        border: 1px solid #ddd;\n",
       "        border-radius: 8px;\n",
       "        padding: 15px;\n",
       "        margin: 10px 0;\n",
       "        background-color: #f9f9f9;\n",
       "        color: black;\n",
       "    }\n",
       "    .research-summary h3 {\n",
       "        color: #336;\n",
       "    }\n",
       "    .research-summary p {\n",
       "        text-indent: 20px;\n",
       "    }\n",
       "</style>\n",
       "\n",
       "            <div class=\"research-summary\">\n",
       "                <h3>Patent Number:11961476</h3>\n",
       "                <p>The display device aims to improve energy efficiency by determining a maximum scale factor and a minimum scale factor based on a power control mode set by a user. The maximum scale factor and minimum scale factor are used to calculate a maximum driving voltage and an optimal voltage, respectively. The input voltage is generated based on the optimal voltage, and the driving voltage is generated based on the input voltage. The device aims to reduce power consumption by optimizing the driving voltage based on the power control mode. However, the device may face limitations in achieving optimal energy efficiency due to the complexity of the display panel and the driving voltage generator.</p>\n",
       "            </div>\n",
       "            "
      ],
      "text/plain": [
       "<IPython.core.display.HTML object>"
      ]
     },
     "metadata": {},
     "output_type": "display_data"
    }
   ],
   "source": [
    "from IPython.display import display, HTML\n",
    "\n",
    "style = \"\"\"\n",
    "<style>\n",
    "    .research-summary {\n",
    "        border: 1px solid #ddd;\n",
    "        border-radius: 8px;\n",
    "        padding: 15px;\n",
    "        margin: 10px 0;\n",
    "        background-color: #f9f9f9;\n",
    "        color: black;\n",
    "    }\n",
    "    .research-summary h3 {\n",
    "        color: #336;\n",
    "    }\n",
    "    .research-summary p {\n",
    "        text-indent: 20px;\n",
    "    }\n",
    "</style>\n",
    "\"\"\"\n",
    "\n",
    "import re\n",
    "\n",
    "# Assuming the Document class has an attribute 'page_content' that stores the content\n",
    "class Document:\n",
    "    def __init__(self, page_content):\n",
    "        self.page_content = page_content\n",
    "\n",
    "for item in retirve_result:\n",
    "    # Regular expression to capture Patent Number and Summary\n",
    "    pattern = re.compile(r\"PatentNumber: (\\d+)\\n.*SummaryofPatent: Summary:\\n(.*)\", re.DOTALL)\n",
    "\n",
    "    match = pattern.search(item.page_content)  # Use dot notation to access the page_content attribute\n",
    "\n",
    "    if match:\n",
    "        contents = \"\"\n",
    "        patent_number = match.group(1).strip()\n",
    "        summary = match.group(2).strip()\n",
    "        # print(\"Patent Number:\", patent_number)\n",
    "        # print(\"Summary:\", summary)\n",
    "        contents += f\"\"\"\n",
    "            <div class=\"research-summary\">\n",
    "                <h3>Patent Number:{patent_number}</h3>\n",
    "                <p>{summary}</p>\n",
    "            </div>\n",
    "            \"\"\"\n",
    "        display(HTML(style + contents))\n",
    "\n",
    "\n"
   ]
  }
 ],
 "metadata": {
  "kernelspec": {
   "display_name": "triztest",
   "language": "python",
   "name": "python3"
  },
  "language_info": {
   "codemirror_mode": {
    "name": "ipython",
    "version": 3
   },
   "file_extension": ".py",
   "mimetype": "text/x-python",
   "name": "python",
   "nbconvert_exporter": "python",
   "pygments_lexer": "ipython3",
   "version": "3.12.1"
  }
 },
 "nbformat": 4,
 "nbformat_minor": 2
}
