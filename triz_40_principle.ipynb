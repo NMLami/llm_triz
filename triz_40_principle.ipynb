{
 "cells": [
  {
   "cell_type": "code",
   "execution_count": 1,
   "metadata": {},
   "outputs": [
    {
     "name": "stdout",
     "output_type": "stream",
     "text": [
      "hello\n"
     ]
    }
   ],
   "source": [
    "print('hello')"
   ]
  },
  {
   "cell_type": "code",
   "execution_count": 2,
   "metadata": {},
   "outputs": [
    {
     "name": "stderr",
     "output_type": "stream",
     "text": [
      "/home/c7361293/miniconda3/envs/triztest/lib/python3.12/site-packages/tqdm/auto.py:21: TqdmWarning: IProgress not found. Please update jupyter and ipywidgets. See https://ipywidgets.readthedocs.io/en/stable/user_install.html\n",
      "  from .autonotebook import tqdm as notebook_tqdm\n"
     ]
    }
   ],
   "source": [
    "from langchain.document_loaders import PyPDFLoader\n",
    "from langchain.document_loaders import TextLoader\n",
    "from langchain.document_loaders import Docx2txtLoader\n",
    "from langchain.text_splitter import CharacterTextSplitter\n",
    "\n",
    "from langchain.embeddings import HuggingFaceEmbeddings\n",
    "from langchain.vectorstores import Chroma\n",
    "from huggingface_hub import notebook_login\n",
    "import torch\n",
    "import transformers\n",
    "\n",
    "from transformers import AutoTokenizer, AutoModelForCausalLM\n",
    "from transformers import pipeline\n",
    "from langchain import HuggingFacePipeline\n",
    "\n",
    "from langchain.chains import ConversationalRetrievalChain\n",
    "from langchain.memory import ConversationBufferMemory\n",
    "\n",
    "from langchain.embeddings.openai import OpenAIEmbeddings\n",
    "from langchain.chat_models import ChatOpenAI\n",
    "\n",
    "import os\n",
    "import sys\n"
   ]
  },
  {
   "cell_type": "code",
   "execution_count": 6,
   "metadata": {},
   "outputs": [],
   "source": [
    "document=[]\n",
    "for file in os.listdir(\"./trizPDF/\"):\n",
    "  if file.endswith(\".pdf\"):\n",
    "    pdf_path=\"./trizPDF/\"+file\n",
    "    loader=PyPDFLoader(pdf_path)\n",
    "    document.extend(loader.load())\n",
    "  elif file.endswith('.docx') or file.endswith('.doc'):\n",
    "    doc_path=\"./trizPDF/\"+file\n",
    "    loader=Docx2txtLoader(doc_path)\n",
    "    document.extend(loader.load())\n",
    "  elif file.endswith('.txt'):\n",
    "    text_path=\"./trizPDF/\"+file\n",
    "    loader=TextLoader(text_path)\n",
    "    document.extend(loader.load())"
   ]
  },
  {
   "cell_type": "code",
   "execution_count": 7,
   "metadata": {},
   "outputs": [
    {
     "data": {
      "text/plain": [
       "[Document(page_content=\" \\n \\nCopyright © Oxford Creativity     www.triz.co.uk   +44(0) 1993 882 461       1 \\n \\n40 Inventive Principles With Examples  \\n \\nPrinciple 1 Segmentation  \\nA. Divide an object into independent parts  \\n\\uf02d\\uf020Different focal length lenses for a camera  \\n\\uf02d\\uf020Gator -grip socket spanner  \\n\\uf02d\\uf020Multi -pin connectors  \\n\\uf02d\\uf020Multiple pistons in an internal combustion engine  \\n\\uf02d\\uf020Multi -engined aircraft  \\n\\uf02d\\uf020Stratification of different constituen ts inside a chemical process vessel  \\n \\nB. Make an object sectional - easy to assemble or disassemble  \\n\\uf02d\\uf020Rapid -release fasteners for bicycle saddle/wheel/etc  \\n\\uf02d\\uf020Quick disconnect joints in plumbing and hydraulic systems  \\n\\uf02d\\uf020Single fastener V -band clamps on flange j oints  \\n\\uf02d\\uf020Loose -leaf paper in a ring binder  \\n \\nC. Increase the degree of fragmentation or segmentation  \\n\\uf02d\\uf020Multiple control surfaces on aerodynamic structures  \\n\\uf02d\\uf02016 and 24 valve versus 8 valve internal combustion engines  \\n\\uf02d\\uf020Multi -zone combustion system  \\n\\uf02d\\uf020Build up a  component from layers (e.g. stereo -lithography, welds, etc)  \\n \\nPrinciple 2 Taking out  \\nA. Extract the disturbing part or property from an object  \\n\\uf02d\\uf020Non-smoking areas in restaurants or in railway carriages  \\n\\uf02d\\uf020Children -only areas in public places and home  \\n\\uf02d\\uf020Sunda y school  \\n\\uf02d\\uf020Public bars and lounge bars in pubs  \\n\\uf02d\\uf020Women or men only bars / waiting rooms  \\n\\uf02d\\uf020Air Conditioning in the room where you want it with the noise of the  system outside the room  \\n(The contradiction here is noise vs coolness - the cooler it gets the noisier it  gets- this solves the contradiction by \\nputting the noise elsewhere )  \\n \\nB. Extract the only necessary part (or property) of an object  \\n\\uf02d\\uf020Scarecrow  \\n\\uf02d\\uf020Sound of a barking dog (with no  dog) as a burglar alarm  \\n\\uf02d\\uf020Economy class on planes (travel but no frills)  \\n(This involves understanding all the functionality and selecting only what you  want - e.g. windows provide ventilation \\nand light - with air conditioning you  may not need windows which open)  \\n \\nPrinciple 3 Local quality  \\nA. Change of an object's structure from uniform to non -uniform  \\n\\uf02d\\uf020Reduce drag on aerodynamic surfaces by adding riblets or 'shark -skin' protrusions  \\n\\uf02d\\uf020Moulded hand grips on to ols \\n\\uf02d\\uf020Drink cans shaped to facilitate stable stacking  \\n\\uf02d\\uf020Material surface treatments / coatings - plating,  \\n\\uf02d\\uf020Erosion / corrosion protection, case hardening, non -stick, etc  \\n \\nB. Change an action or an external environment (or external influence) from  uniform t o non -uniform  \\n\\uf02d\\uf020Introduce turbulent flow around an object to alter heat transfer  properties  \\n\\uf02d\\uf020Strobe lighting  \\n\\uf02d\\uf020Take account of extremes of weather conditions when designing  outdoor systems  \\n\\uf02d\\uf020Use a gradien t instead of constant temperature, density, or pressure  \\n \\nC. Make each part of an object function in conditions most suitable for its  operation  \\n\\uf02d\\uf020Freezer compartment in refrigerator  \\n\\uf02d\\uf020Different zones in the combustion system of an engine  \\n\\uf02d\\uf020Night -time adjustm ent on a rear -view mirror  \", metadata={'source': './trizPDF/triz_40_inventive_principles.pdf', 'page': 0}),\n",
       " Document(page_content=\" \\n \\nCopyright © Oxford Creativity     www.triz.co.uk   +44(0) 1993 882 461       2 \\n \\n\\uf02d\\uf020Lunch box with special compartments for hot and cold solid foods and  for liquids  \\n \\nD. Make each part of an object fulfil a different and/or complementary useful  function  \\n\\uf02d\\uf020Swiss -Army knife  \\n\\uf02d\\uf020Combined can and bottle opener  \\n\\uf02d\\uf020Sharp and blunt end of a drawing pin  \\n\\uf02d\\uf020Rubber on the end of a pencil  \\n\\uf02d\\uf020Hammer with nail puller  \\n \\nPrinciple 4 Asymmetry  \\nA. Change the shape or properties of an object from symmetrical to  asymmetrical  \\n\\uf02d\\uf020Asymmetrical funnel allows high er flow -rate than normal funnel  \\n\\uf02d\\uf020Put a flat spot on a cylindrical shaft to attach a locking feature  \\n\\uf02d\\uf020Oval and complex shaped O -rings  \\n\\uf02d\\uf020Coated glass or paper  \\n\\uf02d\\uf020Electric Plug  \\n\\uf02d\\uf020Introduction of angled or scarfed geometry features on component  edges  \\n\\uf02d\\uf020Cutaway on a guitar improves access to high notes  \\n\\uf02d\\uf020Spout of a jug  \\n\\uf02d\\uf020Cam  \\n\\uf02d\\uf020Ratchet  \\n\\uf02d\\uf020Aerofoil – asymmetry generates lift  \\n\\uf02d\\uf020Eccentric drive  \\n\\uf02d\\uf020Keys  \\n \\nB. Change the shape of an object to suit external asymmetries  (e.g. ergonomic features)  \\n\\uf02d\\uf020Human -shaped seating, etc  \\n\\uf02d\\uf020Design for left and right handed users  \\n\\uf02d\\uf020Finger and thumb grip features on objects  \\n\\uf02d\\uf020Spectacles  \\n\\uf02d\\uf020Car steering system compensates for camber in road  \\n\\uf02d\\uf020Wing design compensated for asymmetric flow produced by propeller  \\n\\uf02d\\uf020Turbomach inery design for boundary layer flows ( ‘end-bend’) \\n \\nC. If an object is asymmetrical, increase its degree of asymmetry  \\n\\uf02d\\uf020Use of variable control surfaces to alter lift properties of an aircraft wing  \\n\\uf02d\\uf020Special connectors with complex shape/pin configurations to ensure  correct assembly  \\n\\uf02d\\uf020Introduction of several different measurement scales on a ruler  \\n \\nPrinciple 5 Merging  \\nA. Bring closer together (or merge) identical or similar objects or operations in  space  \\n\\uf02d\\uf020Automatic rifle / mac hine gun  \\n\\uf02d\\uf020Multi -colour ink cartridges  \\n\\uf02d\\uf020Multi -blade razors  \\n\\uf02d\\uf020Bi-focal lens spectacles  \\n\\uf02d\\uf020Double / triple glazing  \\n\\uf02d\\uf020Strips of staples  \\n\\uf02d\\uf020Catamaran / trimaran  \\nB. Make objects or operations contiguous or parallel; bring them together in  time \\n\\uf02d\\uf020Combine harvester  \\n\\uf02d\\uf020Manufacture cells  \\n\\uf02d\\uf020Grass collector on a lawn -mower  \\n\\uf02d\\uf020Mixer taps  \\n\\uf02d\\uf020Pipe-lined computer processors perform different stages in a calculation  simultaneously  \\n\\uf02d\\uf020Vector processors perform the same process on several sets of data in a  single pass  \\n\\uf02d\\uf020Fourier analysis – integration of many sine curves  \\n \\nPrinciple 6 Universality  \\nA. Make an object perform multiple functions; eliminate the need for other  parts  \\n\\uf02d\\uf020Child's car safety seat converts to a pushchair  \", metadata={'source': './trizPDF/triz_40_inventive_principles.pdf', 'page': 1}),\n",
       " Document(page_content=' \\n \\nCopyright © Oxford Creativity     www.triz.co.uk   +44(0) 1993 882 461       3 \\n \\n\\uf02d\\uf020Home entertainment centre  \\n\\uf02d\\uf020Swiss Army k nife \\n\\uf02d\\uf020Grill in a microwave oven  \\n\\uf02d\\uf020CD used as a storage medium for multiple data types  \\n\\uf02d\\uf020Cleaning strip at beginning of a cassette tape cleans tape heads  \\n\\uf02d\\uf020Cordless drill also acts as screwdriver, sander, polisher, etc  \\n \\nPrinc iple 7 Nested Doll  \\nA. Place one object inside another  \\n\\uf02d\\uf020Retractable aircraft under -carriage  \\n\\uf02d\\uf020Voids in 3D structures  \\n\\uf02d\\uf020Injected cavity -wall insulation  \\n\\uf02d\\uf020Paint -brush attached to inside of lid of nail -varnish, etc  \\n\\uf02d\\uf020Lining inside a coat  \\n \\nB. Place multiple objects inside others  \\n\\uf02d\\uf020Nested tables  \\n\\uf02d\\uf020Telescope  \\n\\uf02d\\uf020Measuring cups or spoons  \\n\\uf02d\\uf020Stacking chairs  \\n\\uf02d\\uf020Multi -layer erosion/corrosion coatings  \\nC \\n. Make one part pass (dynamically) through a cavity in the other  \\n\\uf02d\\uf020Telescopic car aerial  \\n\\uf02d\\uf020Retractable power -lead in vacuum cleaner  \\n\\uf02d\\uf020Seat belt retraction mechanism  \\n\\uf02d\\uf020Tape measure  \\n \\nPrinciple 8 Anti-Weight  \\nA. To compensate for the weight of an object, merge it with other objects that  provide lift  \\n\\uf02d\\uf020Kayak with foam floats built into hull cannot sin k \\n\\uf02d\\uf020Aerostatic aeroplane contains lighter -than-air pockets  \\n\\uf02d\\uf020Hot air or helium balloon  \\n\\uf02d\\uf020Swim -bladder inside a fish  \\n\\uf02d\\uf020Flymo cutting blade produces lift  \\n \\nB. To compensate for the weight of an object, make it interact with the  environment (use aerodynamic, hy drodynamic, \\nbuoyancy and other forces)  \\n\\uf02d\\uf020Vortex generators improve lift of aircraft wings  \\n\\uf02d\\uf020Wing -in-ground effect aircraft  \\n\\uf02d\\uf020Hydrofoils lift ship out of the water to reduce drag  \\n\\uf02d\\uf020Make use of centrifugal forces in rotating systems (e.g. Watt governor)  \\n\\uf02d\\uf020Maglev train uses magnetic repulsion to reduce friction  \\n \\nPrinciple 9 Prior Counteraction  \\nA. When it is necessary to perform an action with both harmful and useful  effects, this should be replaced with \\ncounteractions to contro l harmful effects  \\n\\uf02d\\uf020Make clay pigeons out of ice or dung - they just melt away  \\n\\uf02d\\uf020Masking objects before harmful exposure: use a lead apron for X -rays,  use masking tape when painting difficult \\nedges etc.  \\n\\uf02d\\uf020Predict effects of signal distortion - compensate b efore transmitting  \\n\\uf02d\\uf020Buffer a solution to prevent harm from extremes of pH  \\n \\nB. Create beforehand stresses in an object that will oppose known  undesirable working stresses later on  \\n\\uf02d\\uf020Pre-stress rebar before pouring concrete  \\n\\uf02d\\uf020Pre-stressed bolts  \\n\\uf02d\\uf020Decompression chamber to prevent divers getting the bends  \\n \\nPrinciple 10 Prior Action  \\nA. Perform the required change of an object in advance  ', metadata={'source': './trizPDF/triz_40_inventive_principles.pdf', 'page': 2}),\n",
       " Document(page_content=' \\n \\nCopyright © Oxford Creativity     www.triz.co.uk   +44(0) 1993 882 461       4 \\n \\n\\uf02d\\uf020Pre-pasted wall paper  \\n\\uf02d\\uf020Sterilize all instruments needed for a surgical procedure  \\n\\uf02d\\uf020Self-adhesive stamps  \\n\\uf02d\\uf020Holes cu t before sheet -metal part formed  \\n\\uf02d\\uf020Pre-impregnated carbon fibre reduces lay -up time and improves  \"wetting\"  \\n \\nB. Pre -arrange objects such that they can come into action from the most  convenient place and without losing time for \\ntheir delivery  \\n\\uf02d\\uf020Manufacture fl ow-lines \\n\\uf02d\\uf020Pre-deposited blade in a surgery cast facilitates removal  \\n\\uf02d\\uf020Car jack, wheel brace, and spare tyre stored together  \\n\\uf02d\\uf020Collect all the tools and materials for the job before starting  \\n \\nPrinciple 11 Cushion in Advance  \\nA. Prepare  emergency means beforehand to compensate for the relatively low  reliability of an object ( ‘belt and braces ’) \\n\\uf02d\\uf020Multi -channel control system  \\n\\uf02d\\uf020Air-bag in a car / Spare wheel / Battery back -up / Back -up parachute  \\n\\uf02d\\uf020Pressure relief valve  \\n\\uf02d\\uf020Emergency lighting  circuit  \\n\\uf02d\\uf020Automatic save operations performed by computer programs  \\n\\uf02d\\uf020Crash barriers on motorways  \\n\\uf02d\\uf020‘Touch -down’ bearing in magnetic bearing system  \\n \\nPrinciple 12 Equipotentiality  \\nA. If an object has to be raised or lowered, r edesign the object ’s environment  so the need to raise or lower is eliminated \\nor performed by the environment  \\n\\uf02d\\uf020Canal locks  \\n\\uf02d\\uf020Spring loaded parts delivery system in a factory  \\n\\uf02d\\uf020Mechanic ’s pit in a garage means car does not have to be lifted  \\n\\uf02d\\uf020Place a heavy object on ice, and let ice melt in order to lower it  \\n\\uf02d\\uf020Angle -poise lamp; changes in gravitational potential stored in springs  \\n\\uf02d\\uf020Descending cable cars balance the weight of ascending cars  \\n \\nPrinciple 13 The Other Way Round  \\nA. Invert the action u sed to solve the problem  \\n\\uf02d\\uf020To loosen stuck parts, cool the inner part instead of heating the outer  part \\n\\uf02d\\uf020Vacuum casting  \\n\\uf02d\\uf020Rotary engines  \\n\\uf02d\\uf020Test pressure vessel by varying pressure outside rather than inside  \\n\\uf02d\\uf020Test seal on a liquid container by filling with pressurised air and  immersing in liquid; trails of bubbles are easier to \\ntrace than slow liquid  leaks  \\n \\nB. Make movable parts (or the external environment) fixed, and fixed parts  movable  \\n\\uf02d\\uf020Hamster wheel  \\n\\uf02d\\uf020Escal ator \\n\\uf02d\\uf020Rotate the part instead of the tool  \\n\\uf02d\\uf020Wind tunnels  \\n\\uf02d\\uf020Moving sidewalk with standing people  \\n\\uf02d\\uf020Drive through restaurant or bank  \\n \\nC. Turn the object (or process) \\'upside down\\'.  \\n\\uf02d\\uf020Clean bottles by inverting and injecting water from below  \\n\\uf02d\\uf020Turn an assembl y upside down to insert fasteners  \\n \\nPrinciple 14 Spheroidality – Curvature  \\nA. Move from flat surfaces to spherical ones and from parts shaped as a cube  (parallelepiped) to ball -shaped \\nstructures  \\n\\uf02d\\uf020Use arches and domes for stre ngth in architecture  \\n\\uf02d\\uf020Introduce fillet radii between surfaces at different angles  \\n\\uf02d\\uf020Introduce stress relieving holes at the ends of slots  ', metadata={'source': './trizPDF/triz_40_inventive_principles.pdf', 'page': 3}),\n",
       " Document(page_content=' \\n \\nCopyright © Oxford Creativity     www.triz.co.uk   +44(0) 1993 882 461       5 \\n \\n\\uf02d\\uf020Change curvature on lens to alter light deflection properties  \\n \\nB. Use rollers, balls, spirals  \\n\\uf02d\\uf020Spiral gear (Nautilus) produces continuous resistance for weight lifting  \\n\\uf02d\\uf020Ball point and roller point pens for smooth ink distribution  \\n\\uf02d\\uf020Use spherical casters instead of cylindrical wheels to move furniture  \\n\\uf02d\\uf020Archimedes screw  \\n \\nC. Go from linear to rotary m otion (or vice versa)  \\n\\uf02d\\uf020Rotary actuators in hydraulic system  \\n\\uf02d\\uf020Switch from reciprocating to rotary pump  \\n\\uf02d\\uf020Push/pull versus rotary switches (e.g. lighting dimmer switch)  \\n\\uf02d\\uf020Linear motors  \\n\\uf02d\\uf020Linear versus rotating tracking arm on a record turntable ensures  constant angle of stylus relative to groove  \\n\\uf02d\\uf020Screw -thread versus nail  \\n \\nD. Use centrifugal forces  \\n\\uf02d\\uf020Centrifugal casting for even wall thickness structures  \\n\\uf02d\\uf020Spin components after painting to remove excess paint  \\n\\uf02d\\uf020Remove water from clothes with a spin dryer rather than a mangle  \\n\\uf02d\\uf020Separate chemicals with different density properties using a centrifuge  \\n\\uf02d\\uf020Watt governor  \\n\\uf02d\\uf020Vortex/cyclone separates different density objects  \\n \\nPrinciple 15 Dynamics  \\nA. Change the object (or outside envir onment) for optimal performance at  every stage of operation  \\n\\uf02d\\uf020Gel fillings inside seat allow it to adapt to user  \\n\\uf02d\\uf020Adjustable steering wheel (or seat, or back support, or mirror position...)  \\n\\uf02d\\uf020Shape memory alloys/polymers  \\n\\uf02d\\uf020Racing car suspension adjustable  for different tracks and driving  techniques  \\n\\uf02d\\uf020Car handbrake adjustable to account for brake pad wear  \\n\\uf02d\\uf020Telescopic curtain rail - \"one size fits all\"  \\n \\nB. Divide an object into parts capable of movement relative to each other  \\n\\uf02d\\uf020Bifurcated bicycle saddle  \\n\\uf02d\\uf020Articulated lorry  \\n\\uf02d\\uf020Folding chair/mobile phone/laptop/etc  \\n\\uf02d\\uf020Collapsible structures  \\n\\uf02d\\uf020Brush seals  \\n \\nC. Change from immobile to mobile  \\n\\uf02d\\uf020Bendy drinking straw  \\n\\uf02d\\uf020Flexible joint  \\n\\uf02d\\uf020Collapsible hose is flexible in use, and has additional flexibility of cross -section  to make it easier to store  \\n \\nD. Increase the degree of free motion  \\n\\uf02d\\uf020Use of different stiffness fibres in toothbrush – easily deflected at the  edges to prevent gum damage, hard in the \\nmiddle  \\n\\uf02d\\uf020Flexible drive allows motion to be translated around bends  \\n\\uf02d\\uf020Loos e sand inside truck tyre gives it self -balancing properties at speed  \\n\\uf02d\\uf020Add joints to robot arm to increase motion possibilities  \\n \\nPrinciple 16 Partial or Excessive Action  \\nA. If you can ’t achieve 100 percent of a desired effect - then go for more or  less \\n\\uf02d\\uf020Over spray when painting, then remove excess  \\n\\uf02d\\uf020Fill, then \"top off\" when pouring a pint of Guinness  \\n\\uf02d\\uf020Shrink wrapping process uses plastic deformation of wrapping to  accommodate variations in vacuum pressure  \\n\\uf02d\\uf020‘Roughing ’ and ‘Finish’ machining operations  \\n\\uf02d\\uf020Over-fill holes with plaster and then rub back to smooth  \\n ', metadata={'source': './trizPDF/triz_40_inventive_principles.pdf', 'page': 4}),\n",
       " Document(page_content=\" \\n \\nCopyright © Oxford Creativity     www.triz.co.uk   +44(0) 1993 882 461       6 \\n \\nPrinciple 17 Another Dimension  \\nA. Move into an additional dimension - from one to two - from two to three  \\n\\uf02d\\uf020Coiled telephone wire  \\n\\uf02d\\uf020Curved bristles on a brush  \\n\\uf02d\\uf020Pizza -box with ribbed (as opposed to flat) base  \\n\\uf02d\\uf020Spiral staircase uses less floor area  \\n\\uf02d\\uf020Introduction of down and up slopes between stations on railway reduces  overall power requirements  \\n \\nB. Go from single storey or layer to multi -storey or multi -layered  \\n\\uf02d\\uf020Player with many CDs  \\n\\uf02d\\uf020Stacked or multi -layered circuit boards  \\n\\uf02d\\uf020Multi -storey office blocks or car -parks  \\n \\nC. Incline an object, lay it on its side  \\n\\uf02d\\uf020Cars on road transporter inclined to save space  \\n \\nD. Use the other side  \\n\\uf02d\\uf020Press a groove onto both sides of a record  \\n\\uf02d\\uf020Mount electronic components on both sides of a circuit board  \\n\\uf02d\\uf020Print text around the rim of a coin  \\n\\uf02d\\uf020Paper clip - works by pressing both sides of paper together  \\nPrinciple 18 Mech anical Vibration  \\nA. Cause an object to oscillate or vibrate  \\n\\uf02d\\uf020Electric carving knife with vibrating blades  \\n\\uf02d\\uf020Shake/stir paint to mix before applying  \\n\\uf02d\\uf020Hammer drill  \\n\\uf02d\\uf020Vibration exciter removes voids from poured concrete  \\n\\uf02d\\uf020Vibrate during sieving operations t o improve throughput  \\n\\uf02d\\uf020Musical instrument  \\n \\nB. Increase its frequency (even up to the ultrasonic)  \\n\\uf02d\\uf020Dog-whistle (transmit sound outside human range)  \\n\\uf02d\\uf020Ultrasonic cleaning  \\n\\uf02d\\uf020Non-destructive crack detection using ultrasound  \\n \\nC. Use an object's resonant  frequency  \\n\\uf02d\\uf020Destroy gallstones or kidney stones using ultrasonic resonance  \\n\\uf02d\\uf020Bottle cleaning by pulsing water jet at resonant frequency of bottles  \\n\\uf02d\\uf020Tuning fork  \\n\\uf02d\\uf020Increase action of a catalyst by vibrating it at its resonant frequency  \\n \\nD. Use piezoelectric  vibrators instead of mechanical ones  \\n\\uf02d\\uf020Quartz crystal oscillations drive high accuracy clocks  \\n\\uf02d\\uf020Piezoelectric vibrators improve fluid atomisation from a spray nozzle  \\n\\uf02d\\uf020Optical phase modulator  \\n \\nE. Use combined ultrasonic and electromagnetic field oscillatio ns \\n\\uf02d\\uf020Mixing alloys in an induction furnace  \\n\\uf02d\\uf020Sono -chemistry  \\n\\uf02d\\uf020Ultrasonic drying of films – combine ultrasonic with heat source  \\n \\nPrinciple 19 Periodic Action  \\nA. Instead of continuous action, use periodic or pulsating actions  \\n\\uf02d\\uf020Hitting something repeatedly with a hammer  \\n\\uf02d\\uf020Pile drivers and hammer drills exert far more force for a given weight  \\n\\uf02d\\uf020Replace a continuous siren with a pulsed sound  \\n\\uf02d\\uf020Pulsed bicycle lights make cyclist more noticeable to drivers  \\n\\uf02d\\uf020Pulsed vacuum cleaner s uction improves collection performance  \\n\\uf02d\\uf020Pulsed water jet cutting  \\n\\uf02d\\uf020ABS car braking systems  \", metadata={'source': './trizPDF/triz_40_inventive_principles.pdf', 'page': 5}),\n",
       " Document(page_content=' \\n \\nCopyright © Oxford Creativity     www.triz.co.uk   +44(0) 1993 882 461       7 \\n \\n \\nB. If an action is already periodic, change the periodic magnitude or  frequency  \\n\\uf02d\\uf020Improve a pulsed siren with changing amplitude and frequency  \\n\\uf02d\\uf020Dots and dashes in Morse Code transmissions  \\n\\uf02d\\uf020Use AM, FM, PWM to transmit information  \\n \\nC. Use pauses between actions to perform a different action  \\n\\uf02d\\uf020Clean barrier filters by back -flushing them when not in use  \\n\\uf02d\\uf020Inkjet printer cleans heads between passes  \\n\\uf02d\\uf020Brush between suction pulses in vacuum cleaner  \\n\\uf02d\\uf020Multiple conversations on the same telephone transmission line  \\n\\uf02d\\uf020Use of energy storage means – e.g. batteries, fly -wheels, etc  \\n \\nPrinciple 20 Continuity of Useful Action  \\nA. Carry on work without a break. All p arts of an object operating  constantly at full capacity  \\n\\uf02d\\uf020Flywheel stores energy when a vehicle stops, so the motor can keep  running at optimum power  \\n\\uf02d\\uf020Constant output gas turbine in hybrid car, or APU in aircraft, runs at  highest efficiency all the time i t is switched on  \\n\\uf02d\\uf020Constant speed / variable pitch propeller  \\n\\uf02d\\uf020Self-tuning engine – constantly tunes itself to ensure maximum efficiency  \\n\\uf02d\\uf020Heart pacemaker  \\n\\uf02d\\uf020Improve composting process by continuously turning material  \\n\\uf02d\\uf020Continuous glass or steel production  \\n \\nB. Eliminate all idle or intermittent motion  \\n\\uf02d\\uf020Self-cleaning / self -emptying filter eliminates down -time \\n\\uf02d\\uf020Print during the return of a printer carriage - dot matrix printer, daisy  wheel printers, inkjet printers  \\n\\uf02d\\uf020Digital storage media allow ‘instant’ information access  \\n\\uf02d\\uf020Kayaks use double -ended paddle to utilise recovery stroke  \\n\\uf02d\\uf020Computer operating systems utilise idle periods to perform necessary  housekeeping tasks  \\n \\nPrinciple 21 Rushing Through  \\nA. Conduct a process, or certain stages of it (e.g. destructible, harmful or  hazardous operations) at high speed  \\n\\uf02d\\uf020Cut plastic faster than heat can propagate in the material, to avoid  deforming the shape  \\n\\uf02d\\uf020Shatter toffee with a hammer blow  \\n\\uf02d\\uf020Drop forge  \\n\\uf02d\\uf020Flash photography  \\n\\uf02d\\uf020Super -critical shaft – run through resonant modes quickly  \\n\\uf02d\\uf020Bikini waxing (ouch!)  \\n \\nPrinciple 22 Blessing in Disguise  \\nA. Use harmful factors (particularly, harmful effects of the environment or  surroundings) to achieve a positive effect  \\n\\uf02d\\uf020Use waste heat to generate electric power  \\n\\uf02d\\uf020Recycle scrap material as raw materials for another – e.g. chipboard  \\n\\uf02d\\uf020Vaccination  \\n\\uf02d\\uf020Lower body temperature to slow metabolism during operations  \\n\\uf02d\\uf020Composting  \\n\\uf02d\\uf020Use centrifugal energy in rotating shaft to do somet hing useful – e.g. seal, or modulate cooling air  \\n\\uf02d\\uf020Use pressure differences to help rather than hinder seal performance  \\n \\nB. Eliminate the primary harmful action by adding it to another harmful  action to resolve the problem  \\n\\uf02d\\uf020Add a buffering material to a co rrosive solution (e.g. an alkali to an acid,  or vice versa)  \\n\\uf02d\\uf020Use a helium -oxygen mix for diving, to eliminate both nitrogen narcosis  and oxygen poisoning from air and other \\nnitrox mixes  \\n\\uf02d\\uf020Use gamma rays to detect positron emissions from explosives  \\n \\nC. Amplify a harmful factor to such a degree that it is no longer harmful  \\n\\uf02d\\uf020Use a backfire to eliminate the fuel from a forest fire  \\n\\uf02d\\uf020Use explosives to blow out an oil -well fire  \\n\\uf02d\\uf020Laser -knife cauterises skin/blood vessels as it cuts  \\n ', metadata={'source': './trizPDF/triz_40_inventive_principles.pdf', 'page': 6}),\n",
       " Document(page_content=' \\n \\nCopyright © Oxford Creativity     www.triz.co.uk   +44(0) 1993 882 461       8 \\n \\nPrinciple 23 Feedback  \\nA. Introduce feedback to improve a process or action  \\n\\uf02d\\uf020Automatic volume control in audio circuits  \\n\\uf02d\\uf020Signal from gyrocompass is used to control simple aircraft autopilots  \\n\\uf02d\\uf020Engine management system base d on exhaust gas levels is more  efficient than carburettor  \\n\\uf02d\\uf020Thermostat controls temperature accurately  \\n\\uf02d\\uf020Statistical Process Control - measurements are used to decide when to  modify a process  \\n\\uf02d\\uf020Feedback turns inaccurate op -amp into useable accurate amplif ier \\n \\nB. If feedback is already used, change its magnitude or influence in  accordance with operating conditions  \\n\\uf02d\\uf020Change sensitivity of an autopilot when within 5 miles of an airport  \\n\\uf02d\\uf020Change sensitivity of a thermostat when cooling vs. heating, since it  uses energy less efficiently when cooling  \\n\\uf02d\\uf020Use proportional, integral and/or differential control algorithm  combinations  \\n \\nPrinciple 24 Intermediary  \\nA. Use an intermediary carrier article or intermediary process  \\n\\uf02d\\uf020Play a guitar with a plectrum  \\n\\uf02d\\uf020Use a chisel t o control rock breaking/sculpting process  \\n\\uf02d\\uf020Dwell period during a manufacture process operation  \\n \\nB. Merge one object temporarily with another (which can be easily removed)  \\n\\uf02d\\uf020Gloves to get hot dishes out of an oven  \\n\\uf02d\\uf020Joining papers with a paper clip  \\n\\uf02d\\uf020Introduction of catalysts into chemical reaction  \\n\\uf02d\\uf020Abrasive particles enhance water jet cutting  \\n\\uf02d\\uf020Bouquet garni in cooking  \\n \\nPrinciple 25 Self-Service  \\nA. An object must service itself by performing auxiliary helpful functions  \\n\\uf02d\\uf020A soda fountain pump that runs on the pressure of the carbon dioxide  used to carbonate the drinks. If it won ’t fizz it’s \\nempty!  \\n\\uf02d\\uf020Halogen lamps regenerate the filament - evaporated material is redeposited  \\n\\uf02d\\uf020Self-aligning / self -adjusting seal  \\n\\uf02d\\uf020Self-cleaning oven / glass / material  \\n\\uf02d\\uf020Abradable materials used in gas turbines such that initial running -in ‘cuts’ optimum seals into lining  \\n \\nB. Use waste resources, energy, or substances  \\n\\uf02d\\uf020Use heat from a process to generate electricity: co -generation  \\n\\uf02d\\uf020Use anim al waste as fertilizer  \\n\\uf02d\\uf020Use food and lawn waste to create compost  \\n\\uf02d\\uf020Use pressure difference to reinforce seal action  \\n \\nPrinciple 26 Copying  \\nA. Replace unavailable, expensive or fragile object with available or  inexpensive copies  \\n\\uf02d\\uf020Imitation jewellery  \\n\\uf02d\\uf020Astroturf \\n\\uf02d\\uf020Crash test dummy  \\n \\nB. Replace an object, or process with optical copies  \\n\\uf02d\\uf020Do surveying from space photographs instead of on the ground  \\n\\uf02d\\uf020Measure an object by scaling measurements from a photograph  \\n\\uf02d\\uf020Virtual reality / Virtual mock -ups / electroni c pre -assembly modelling  \\n \\nC. If visible optical copies are used, move to infrared or ultraviolet copies  \\n\\uf02d\\uf020Make images in infrared to detect heat sources, such as diseases in  crops, or intruders in a security system  \\n\\uf02d\\uf020Use UV as a non -destructive crack detect ion method  \\n\\uf02d\\uf020UV light used to attract flying insects into trap  \\n \\nPrinciple 27 Cheap Short -Living Objects  ', metadata={'source': './trizPDF/triz_40_inventive_principles.pdf', 'page': 7}),\n",
       " Document(page_content=' \\n \\nCopyright © Oxford Creativity     www.triz.co.uk   +44(0) 1993 882 461       9 \\n \\nA. Replace an expensive object with a multiple of inexpensive objects,  compromising certain qualities, such as service \\nlife \\n\\uf02d\\uf020Disposable nappies / paper -cups / plates / cameras / torches etc  \\n\\uf02d\\uf020Matches versus lighters  \\n\\uf02d\\uf020Throw -away cigarette lighters  \\n\\uf02d\\uf020Sacrificial coatings / components  \\n \\nPrinciple 28 Replace Mechanical System  \\nA. Replace a mechanical system with a sensory one  \\n\\uf02d\\uf020Replace a physical barrier with an acoustic one (audible to animals)  \\n\\uf02d\\uf020Add a bad smell to natural gas to alert users to leaks  \\n\\uf02d\\uf020Finger -print/retina/etc scan instead of a key  \\n\\uf02d\\uf020Voice activated telephone dialling  \\n \\nB. Use electric, magnetic and electromagnetic  fields to interact with the  object  \\n\\uf02d\\uf020To mix 2 powders, electrostatically charge one positive and the other  negative  \\n\\uf02d\\uf020Electrostatic precipitators separate particles from airflow  \\n\\uf02d\\uf020Improve efficiency of paint -spraying by oppositely charging paint  droplets and object to be painted  \\n\\uf02d\\uf020Magnetic bearings  \\n\\uf02d\\uf020Field activated switches  \\n \\nC. Replace stationary fields with moving; unstructured fields with  structured  \\n\\uf02d\\uf020Early communications used omni -directional broadcasting. We now use  antennas with very detailed structure of the \\npattern of radiation  \\n\\uf02d\\uf020Magnetic Resonance Imaging (MRI) scanner  \\n \\nD. Use fields in conjunction with field -activated (e.g. ferromagnetic)  particles  \\n\\uf02d\\uf020Heat a substance containing ferromagnetic material by using vary ing magnetic field. When the temperature exceeds \\nthe Curie point, the  material becomes paramagnetic, and no longer absorbs heat  \\n\\uf02d\\uf020Magneto -rheological effect – uses ferromagnetic particles and variable  magnetic field to alter the viscosity of a fluid  \\n\\uf02d\\uf020Ferro-magnetic catalysts  \\n\\uf02d\\uf020Ferro -fluids – e.g. Magnatec oil – stay attached to surfaces requiring  lubrication  \\n \\nPrinciple 29 Pneumatics and Hydraulics  \\nA. Use gas and liquid parts of an object instead of solid parts (e.g.  inflatable, filled with liquids, air cush ion, hydrostatic, \\nhydro -reactive)  \\n\\uf02d\\uf020Transition from mechanical to hydraulic or pneumatic drive  \\n\\uf02d\\uf020Inflatable furniture / mattress etc  \\n\\uf02d\\uf020Gel filled saddle adapts to user  \\n\\uf02d\\uf020Hollow section O -rings  \\n\\uf02d\\uf020Hovercraft  \\n\\uf02d\\uf020Gas bearings  \\n\\uf02d\\uf020Acoustic panels incorporating Hel mholtz resonators  \\n \\nPrinciple 30 Flexible Membranes/Thin Films  \\nA. Use flexible shells and thin films instead of three -dimensional  structures  \\n\\uf02d\\uf020Use inflatable (thin film) structures  \\n\\uf02d\\uf020Taut-liner trucks  \\n\\uf02d\\uf020Tarpaulin car cover instead of garage  \\n\\uf02d\\uf020Store energy in stretchable bags – accumulators in a hydraulic system  \\n \\nB. Isolate the object from its external environment using flexible  membranes  \\n\\uf02d\\uf020Bubble -wrap  \\n\\uf02d\\uf020Bandages/plasters  \\n\\uf02d\\uf020Tea bag  \\n\\uf02d\\uf020Shrink wrapping  \\n \\nPrincip le 31 Porous Materials  \\nA. Make an object porous or add porous elements (inserts, coatings, etc.)  \\n\\uf02d\\uf020Drill holes in a structure to reduce the weight  ', metadata={'source': './trizPDF/triz_40_inventive_principles.pdf', 'page': 8}),\n",
       " Document(page_content=' \\n \\nCopyright © Oxford Creativity     www.triz.co.uk   +44(0) 1993 882 461       10 \\n \\n\\uf02d\\uf020Cavity wall insulation  \\n\\uf02d\\uf020Transpiration film cooled structures  \\n\\uf02d\\uf020Foam metals  \\n\\uf02d\\uf020Use sponge -like structures as  fluid absorption media  \\n \\nB. If an object is already porous, use the pores to introduce a useful  substance or function  \\n\\uf02d\\uf020Use a porous metal mesh to wick excess solder away from a joint  \\n\\uf02d\\uf020Store hydrogen in the pores of a palladium sponge. (Fuel \"tank\" for the  hydrogen car - much safer than storing \\nhydrogen gas)  \\n\\uf02d\\uf020Desiccant in polystyrene packing materials  \\n\\uf02d\\uf020Medicated swabs/dressings  \\n \\nPrinciple 32 Colour Change  \\nA. Change the colour of an object or its external environment  \\n\\uf02d\\uf020Use safe lights in a photographic darkroom  \\n\\uf02d\\uf020Use colour -changing thermal paint to measure temperature  \\n\\uf02d\\uf020Plastic spoon which changes colour when hot - for baby food  \\n\\uf02d\\uf020Temperature -sensitive dyes used on food product labels to indicate  when desired serving te mperature has been \\nachieved  \\n\\uf02d\\uf020Electrochromic glass  \\n\\uf02d\\uf020Light -sensitive glasses  \\n\\uf02d\\uf020Camouflage  \\n\\uf02d\\uf020Dazzle camouflage used on World War 1 ships  \\n\\uf02d\\uf020Employ interference fringes on surface structures to change colour (as  in butterfly wings, etc)  \\n \\nB. Change t he transparency of an object or its external environment  \\n\\uf02d\\uf020Use photolithography to change transparent material to a solid mask for  semiconductor processing  \\n\\uf02d\\uf020Light -sensitive glass  \\n \\nC. In order to improve observability of things that are difficult to see, us e coloured additives or luminescent elements  \\n\\uf02d\\uf020Fluorescent additives used during UV spectroscopy  \\n\\uf02d\\uf020UV marker pens used to help identify stolen goods  \\n\\uf02d\\uf020Use opposing colours to increase visibility – e.g. butchers use green  decoration to make the red in meat look redder  \\n \\nD. Change the emissivity properties of an object subject to radiant heating  \\n\\uf02d\\uf020Use of black and white coloured panels to assist thermal management  on space vehicles  \\n\\uf02d\\uf020Use of parabolic reflectors in solar panels to increase energy capture  \\n\\uf02d\\uf020Paint  object with high emissivity paint in order to be able to measure its  temperature with a calibrated thermal imager  \\n \\nPrinciple 33 Homogeneity  \\nA. Objects interacting with the main object should be of same material (or  material with identical properties)  \\n\\uf02d\\uf020Container made of the same material as its contents, to reduce  chemical reactions  \\n\\uf02d\\uf020Friction welding requires no intermediary material between the two  surfaces to be joined  \\n\\uf02d\\uf020Temporary plant pots made out of compostable material  \\n\\uf02d\\uf020Human blood transfusions/ transplants, use of bio -compatible materials  \\n\\uf02d\\uf020Make ice -cubes out of the same fluid as the drink they are intended to  cool \\n\\uf02d\\uf020Join wooden components using (wood) dowel joints  \\n \\nPrinciple 34 Discarding and Recovering  \\nA. After c ompleting their function (or becoming useless) reject objects, make  them go away, (discard them by \\ndissolving, evaporating, etc) or modify during  the process  \\n\\uf02d\\uf020Dissolving capsule for medication.  \\n\\uf02d\\uf020Bio-degradable containers, bags etc.  \\n\\uf02d\\uf020Casting processes – lost-wax, sand, etc.  \\n\\uf02d\\uf020During firing of a rocket, foam protection is used on some elements; this  evaporates in space when shock -\\nabsorbance is no longer required  \\n \\nB. Restore consumable / used up parts of an object during operation  \\n\\uf02d\\uf020Self-sharpening blades – knives / lawn -mowers etc  \\n\\uf02d\\uf020Strimmer dispenses more wire automatically after a breakage  ', metadata={'source': './trizPDF/triz_40_inventive_principles.pdf', 'page': 9}),\n",
       " Document(page_content=' \\n \\nCopyright © Oxford Creativity     www.triz.co.uk   +44(0) 1993 882 461       11 \\n \\n\\uf02d\\uf020Self-tuning automobile engines  \\n\\uf02d\\uf020Propelling pencil  \\n\\uf02d\\uf020Automatic rifle  \\n \\nPrinciple 35 Parameter Change  \\nA. Change the physical state (e.g. to a gas, liquid, or solid)  \\n\\uf02d\\uf020Transport oxygen or nitrogen or petroleum gas as a liquid, instead of a  gas, to reduce volume  \\n \\nB. Change the concentration or density  \\n\\uf02d\\uf020Liquid soap  \\n\\uf02d\\uf020Abradable linings used for gas -turbine engine seals  \\n \\nC. Change the degree of flexibility  \\n\\uf02d\\uf020Vulcanize rubber to change its flexibility and durability  \\n\\uf02d\\uf020Compliant brush seals rather than labyrinth or other fixed geometry  seals  \\n \\nD. Change the temperature or volume  \\n\\uf02d\\uf020Raise the temperature above the Curie point to change a ferromagnetic  substance to a paramagnetic sub stance  \\n\\uf02d\\uf020Cooking / baking etc.  \\n \\nE. Change the pressure  \\n\\uf02d\\uf020Pressure cooker cooks more quickly and without losing flavours  \\n\\uf02d\\uf020Electron beam welding in a vacuum  \\n\\uf02d\\uf020Vacuum packing of perishable goods  \\n \\nF. Change other parameters  \\n\\uf02d\\uf020Shape memory alloys/polymers  \\n\\uf02d\\uf020Use Curie point to alter magnetic properties  \\n\\uf02d\\uf020Thixotropic paints / gels etc.  \\n\\uf02d\\uf020Use high conductivity materials – e.g. carbon fibre  \\n \\nPrinciple 36 Phase Transition  \\nA. Use phenomena of phase transitions (e.g. volume changes, loss or absorption of heat, etc.)  \\n\\uf02d\\uf020Latent heat effects in melting / boiling  \\n\\uf02d\\uf020Soak rocks in water, then freezing causes water to expand – thus opening fissures in rock, making it easier to break  \\n\\uf02d\\uf020Heat pumps use the heat of vaporization and heat of condensation of a  closed thermodynamic cycle to do useful \\nwork  \\n\\uf02d\\uf020Volume expansion during water -to-steam transition  \\n\\uf02d\\uf020Superconductivity  \\n \\nPrinciple 37 Thermal Expansion  \\nA. Use thermal expansion, or contracti on, of materials  \\n\\uf02d\\uf020Fit a tight joint together by cooling the inner part to contract, heating the  outer part to expand, putting the joint \\ntogether, and returning to equilibrium  \\n\\uf02d\\uf020Metal tie -bars used to straighten buckling walls on old buildings  \\n\\uf02d\\uf020Thermal sw itch/cut -out \\n\\uf02d\\uf020Shape memory alloys/polymers  \\n\\uf02d\\uf020Shrink -wrapping  \\n \\nB. Use multiple materials with different coefficients of thermal expansion  \\n\\uf02d\\uf020Bi-metallic strips used for thermostats, etc  \\n\\uf02d\\uf020Two-way shape memory alloys  \\n\\uf02d\\uf020Passive blade tip clearance control in g as turbine engines  \\n\\uf02d\\uf020Combine materials with positive and negative thermal expansion  coefficients to obtain alloys with zero (or specifically \\ntailored) expansion  properties – e.g. cerro -tru alloy used in the mounting and location of fragile  turbine blade \\ncomponents during manufacture operations  \\n \\nPrinciple 38 Accelerated Oxidation  \\nA. Replace common air with oxygen -enriched air  \\n\\uf02d\\uf020Scuba diving with Nitrox or other non -air mixtures for extended  endurance  ', metadata={'source': './trizPDF/triz_40_inventive_principles.pdf', 'page': 10}),\n",
       " Document(page_content=' \\n \\nCopyright © Oxford Creativity     www.triz.co.uk   +44(0) 1993 882 461       12 \\n \\n\\uf02d\\uf020Place asthmatic patients in oxygen tent  \\n\\uf02d\\uf020Nitrous oxide injection to provide power boost in high performance  engines  \\n \\nB. Replace enriched air with pure oxygen  \\n\\uf02d\\uf020Cut at a higher temperature using an oxy -acetylene torch  \\n\\uf02d\\uf020Treat wounds in a high pressure oxyge n environment to kill anaerobic  bacteria and aid healing  \\n\\uf02d\\uf020Control oxidation reactions more effectively by reacting in pure oxygen  \\n \\nC. Expose air or oxygen to ionising radiation  \\n\\uf02d\\uf020Positive ions formed by ionising air can be deflected by magnetic field in  order to (e.g.) reduce air resistance over an \\naerodynamic surface  \\n\\uf02d\\uf020Irradiation of food to extend shelf life  \\n\\uf02d\\uf020Use ionised air to destroy bacteria and sterilise food  \\n \\nD. Use ionised oxygen  \\n\\uf02d\\uf020Speed up chemical reactions by ionising the gas before use  \\n\\uf02d\\uf020Separate oxygen from a mixed gas by ionising the oxygen  \\n \\nE. Replace ozonised (or ionised) oxygen with ozone  \\n\\uf02d\\uf020Oxidisation of metals in bleaching solutions to reduce cost relative to  hydrogen peroxide  \\n\\uf02d\\uf020Use ozone to destroy micro -organisms and toxins in corn  \\n\\uf02d\\uf020Ozone dissolved in water removes organic contaminants from ship hulls  \\n \\nPrinciple 39 Inert Atmosphere  \\nA. Replace a normal environment with an inert one  \\n\\uf02d\\uf020Prevent degradation of a hot metal filament by using an argon  atmosphere  \\n\\uf02d\\uf020MIG/TIG welding  \\n\\uf02d\\uf020Electron  beam welding conducted in a vacuum  \\n\\uf02d\\uf020Vacuum packaging  \\n\\uf02d\\uf020Foam to separate a fire from oxygen in air  \\n \\nB. Add neutral parts, or inert additives to an object  \\n\\uf02d\\uf020Naval aviation fuel contains additives to alter flash point  \\n\\uf02d\\uf020Add fire retardant elements to titanium to reduce possibility of titanium  fire \\n\\uf02d\\uf020Add foam to absorb sound vibrations – e.g. hi -fi speakers  \\n \\nPrinciple 40 Composite Materials  \\nA. Change from uniform to composite (multiple) mate rials \\n\\uf02d\\uf020Aircraft structures where low weight and high strength are required  \\n\\uf02d\\uf020Composites in golf club shaft  \\n\\uf02d\\uf020Concrete aggregate  \\n\\uf02d\\uf020Glass -reinforced plastic  \\n\\uf02d\\uf020Fibre -reinforced ceramics  \\n\\uf02d\\uf020Hard / soft / hard multi -layer coatings to improve erosion properties  ', metadata={'source': './trizPDF/triz_40_inventive_principles.pdf', 'page': 11})]"
      ]
     },
     "execution_count": 7,
     "metadata": {},
     "output_type": "execute_result"
    }
   ],
   "source": [
    "document"
   ]
  },
  {
   "cell_type": "code",
   "execution_count": 8,
   "metadata": {},
   "outputs": [
    {
     "data": {
      "text/plain": [
       "12"
      ]
     },
     "execution_count": 8,
     "metadata": {},
     "output_type": "execute_result"
    }
   ],
   "source": [
    "len(document)"
   ]
  },
  {
   "cell_type": "code",
   "execution_count": 9,
   "metadata": {},
   "outputs": [],
   "source": [
    "document_splitter=CharacterTextSplitter(separator='\\n', chunk_size=500, chunk_overlap=100)"
   ]
  },
  {
   "cell_type": "code",
   "execution_count": 10,
   "metadata": {},
   "outputs": [
    {
     "data": {
      "text/plain": [
       "88"
      ]
     },
     "execution_count": 10,
     "metadata": {},
     "output_type": "execute_result"
    }
   ],
   "source": [
    "document_chunks=document_splitter.split_documents(document)\n",
    "len(document_chunks)"
   ]
  },
  {
   "cell_type": "code",
   "execution_count": 11,
   "metadata": {},
   "outputs": [
    {
     "data": {
      "text/plain": [
       "Document(page_content='Copyright © Oxford Creativity     www.triz.co.uk   +44(0) 1993 882 461       1 \\n \\n40 Inventive Principles With Examples  \\n \\nPrinciple 1 Segmentation  \\nA. Divide an object into independent parts  \\n\\uf02d\\uf020Different focal length lenses for a camera  \\n\\uf02d\\uf020Gator -grip socket spanner  \\n\\uf02d\\uf020Multi -pin connectors  \\n\\uf02d\\uf020Multiple pistons in an internal combustion engine  \\n\\uf02d\\uf020Multi -engined aircraft  \\n\\uf02d\\uf020Stratification of different constituen ts inside a chemical process vessel', metadata={'source': './trizPDF/triz_40_inventive_principles.pdf', 'page': 0})"
      ]
     },
     "execution_count": 11,
     "metadata": {},
     "output_type": "execute_result"
    }
   ],
   "source": [
    "document_chunks[0]"
   ]
  },
  {
   "cell_type": "code",
   "execution_count": 12,
   "metadata": {},
   "outputs": [
    {
     "name": "stderr",
     "output_type": "stream",
     "text": [
      "[codecarbon WARNING @ 15:23:45] Invalid gpu_ids format. Expected a string or a list of ints.\n",
      "[codecarbon INFO @ 15:23:45] [setup] RAM Tracking...\n",
      "[codecarbon INFO @ 15:23:45] [setup] GPU Tracking...\n",
      "[codecarbon INFO @ 15:23:45] Tracking Nvidia GPU via pynvml\n",
      "[codecarbon INFO @ 15:23:45] [setup] CPU Tracking...\n",
      "[codecarbon WARNING @ 15:23:45] No CPU tracking mode found. Falling back on CPU constant mode.\n"
     ]
    },
    {
     "name": "stdout",
     "output_type": "stream",
     "text": [
      "Start of code time:  1716301425.1712587\n"
     ]
    },
    {
     "name": "stderr",
     "output_type": "stream",
     "text": [
      "[codecarbon WARNING @ 15:23:46] We saw that you have a Intel(R) Xeon(R) Gold 6330 CPU @ 2.00GHz but we don't know it. Please contact us.\n",
      "[codecarbon INFO @ 15:23:46] CPU Model on constant consumption mode: Intel(R) Xeon(R) Gold 6330 CPU @ 2.00GHz\n",
      "[codecarbon INFO @ 15:23:46] >>> Tracker's metadata:\n",
      "[codecarbon INFO @ 15:23:46]   Platform system: Linux-5.4.0-174-generic-x86_64-with-glibc2.31\n",
      "[codecarbon INFO @ 15:23:46]   Python version: 3.12.1\n",
      "[codecarbon INFO @ 15:23:46]   CodeCarbon version: 2.4.1\n",
      "[codecarbon INFO @ 15:23:46]   Available RAM : 503.339 GB\n",
      "[codecarbon INFO @ 15:23:46]   CPU count: 112\n",
      "[codecarbon INFO @ 15:23:46]   CPU model: Intel(R) Xeon(R) Gold 6330 CPU @ 2.00GHz\n",
      "[codecarbon INFO @ 15:23:46]   GPU count: 2\n",
      "[codecarbon INFO @ 15:23:46]   GPU model: 2 x NVIDIA A40\n",
      "[codecarbon INFO @ 15:23:51] Energy consumed for RAM : 0.000109 kWh. RAM Power : 188.75217247009277 W\n",
      "[codecarbon INFO @ 15:23:51] Energy consumed for all GPUs : 0.000059 kWh. Total GPU Power : 101.94634795046765 W\n",
      "[codecarbon INFO @ 15:23:51] Energy consumed for all CPUs : 0.000025 kWh. Total CPU Power : 42.5 W\n",
      "[codecarbon INFO @ 15:23:51] 0.000193 kWh of electricity used since the beginning.\n"
     ]
    },
    {
     "name": "stdout",
     "output_type": "stream",
     "text": [
      "Emissions for this code execution is:  5.0390431266635e-05\n",
      "End of code time:  1716301431.7418413\n"
     ]
    }
   ],
   "source": [
    "#Embedding model load\n",
    "\n",
    "from langchain.embeddings import HuggingFaceBgeEmbeddings\n",
    "from langchain.vectorstores import Chroma\n",
    "from codecarbon import EmissionsTracker\n",
    "import time\n",
    "\n",
    "print(\"Start of code time: \",time.time())\n",
    "\n",
    "tracker = EmissionsTracker()\n",
    "tracker.start()\n",
    "\n",
    "model_name = \"BAAI/bge-large-en-v1.5\"\n",
    "# model_kwargs = {'device': 'cuda'}\n",
    "encode_kwargs = {'normalize_embeddings': True} # set True to compute cosine similarity\n",
    "model = HuggingFaceBgeEmbeddings(\n",
    "    model_name=model_name,\n",
    "    # model_kwargs=model_kwargs,\n",
    "    encode_kwargs=encode_kwargs\n",
    "    # ,\n",
    "    # query_instruction=\"为这个句子生成表示以用于检索相关文章：\"\n",
    ")\n",
    "\n",
    "\n",
    "emissions: float = tracker.stop()\n",
    "print(\"Emissions for this code execution is: \", emissions)\n",
    "print(\"End of code time: \",time.time())"
   ]
  },
  {
   "cell_type": "code",
   "execution_count": 13,
   "metadata": {},
   "outputs": [
    {
     "name": "stdout",
     "output_type": "stream",
     "text": [
      "client=SentenceTransformer(\n",
      "  (0): Transformer({'max_seq_length': 512, 'do_lower_case': True}) with Transformer model: BertModel \n",
      "  (1): Pooling({'word_embedding_dimension': 1024, 'pooling_mode_cls_token': True, 'pooling_mode_mean_tokens': False, 'pooling_mode_max_tokens': False, 'pooling_mode_mean_sqrt_len_tokens': False, 'pooling_mode_weightedmean_tokens': False, 'pooling_mode_lasttoken': False, 'include_prompt': True})\n",
      "  (2): Normalize()\n",
      ") model_name='BAAI/bge-large-en-v1.5' cache_folder=None model_kwargs={} encode_kwargs={'normalize_embeddings': True} query_instruction='Represent this question for searching relevant passages: ' embed_instruction=''\n"
     ]
    }
   ],
   "source": [
    "print(model)"
   ]
  },
  {
   "cell_type": "code",
   "execution_count": 14,
   "metadata": {},
   "outputs": [
    {
     "name": "stderr",
     "output_type": "stream",
     "text": [
      "[codecarbon WARNING @ 15:39:38] Invalid gpu_ids format. Expected a string or a list of ints.\n",
      "[codecarbon INFO @ 15:39:38] [setup] RAM Tracking...\n",
      "[codecarbon INFO @ 15:39:38] [setup] GPU Tracking...\n",
      "[codecarbon INFO @ 15:39:38] Tracking Nvidia GPU via pynvml\n",
      "[codecarbon INFO @ 15:39:38] [setup] CPU Tracking...\n",
      "[codecarbon WARNING @ 15:39:38] No CPU tracking mode found. Falling back on CPU constant mode.\n"
     ]
    },
    {
     "name": "stdout",
     "output_type": "stream",
     "text": [
      "Start of code time:  1716302378.1785464\n"
     ]
    },
    {
     "name": "stderr",
     "output_type": "stream",
     "text": [
      "[codecarbon WARNING @ 15:39:39] We saw that you have a Intel(R) Xeon(R) Gold 6330 CPU @ 2.00GHz but we don't know it. Please contact us.\n",
      "[codecarbon INFO @ 15:39:39] CPU Model on constant consumption mode: Intel(R) Xeon(R) Gold 6330 CPU @ 2.00GHz\n",
      "[codecarbon INFO @ 15:39:39] >>> Tracker's metadata:\n",
      "[codecarbon INFO @ 15:39:39]   Platform system: Linux-5.4.0-174-generic-x86_64-with-glibc2.31\n",
      "[codecarbon INFO @ 15:39:39]   Python version: 3.12.1\n",
      "[codecarbon INFO @ 15:39:39]   CodeCarbon version: 2.4.1\n",
      "[codecarbon INFO @ 15:39:39]   Available RAM : 503.339 GB\n",
      "[codecarbon INFO @ 15:39:39]   CPU count: 112\n",
      "[codecarbon INFO @ 15:39:39]   CPU model: Intel(R) Xeon(R) Gold 6330 CPU @ 2.00GHz\n",
      "[codecarbon INFO @ 15:39:39]   GPU count: 2\n",
      "[codecarbon INFO @ 15:39:39]   GPU model: 2 x NVIDIA A40\n",
      "[codecarbon INFO @ 15:39:44] Energy consumed for RAM : 0.000072 kWh. RAM Power : 188.75217247009277 W\n",
      "[codecarbon INFO @ 15:39:44] Energy consumed for all GPUs : 0.000065 kWh. Total GPU Power : 168.71487877544092 W\n",
      "[codecarbon INFO @ 15:39:44] Energy consumed for all CPUs : 0.000016 kWh. Total CPU Power : 42.5 W\n",
      "[codecarbon INFO @ 15:39:44] 0.000153 kWh of electricity used since the beginning.\n"
     ]
    },
    {
     "name": "stdout",
     "output_type": "stream",
     "text": [
      "Emissions for this code execution is:  4.005470442937089e-05\n",
      "End of code time:  1716302384.2088256\n"
     ]
    }
   ],
   "source": [
    "#Chroma DB saving files and embeddings\n",
    "\n",
    "from langchain.vectorstores import Chroma\n",
    "from codecarbon import EmissionsTracker\n",
    "import time\n",
    "\n",
    "print(\"Start of code time: \",time.time())\n",
    "\n",
    "tracker = EmissionsTracker()\n",
    "tracker.start()\n",
    "\n",
    "chroma_db = Chroma.from_documents(\n",
    "    document_chunks, model, persist_directory=\"./db_triz\"\n",
    ")\n",
    "\n",
    "chroma_db.persist()\n",
    "\n",
    "emissions: float = tracker.stop()\n",
    "print(\"Emissions for this code execution is: \", emissions)\n",
    "print(\"End of code time: \",time.time())\n"
   ]
  },
  {
   "cell_type": "code",
   "execution_count": 15,
   "metadata": {},
   "outputs": [],
   "source": [
    "from langchain.llms.huggingface_pipeline import HuggingFacePipeline\n",
    "import torch\n",
    "from transformers import AutoModelForCausalLM, AutoTokenizer, pipeline\n",
    "from transformers import BitsAndBytesConfig\n"
   ]
  },
  {
   "cell_type": "code",
   "execution_count": 17,
   "metadata": {},
   "outputs": [
    {
     "name": "stderr",
     "output_type": "stream",
     "text": [
      "/home/c7361293/miniconda3/envs/triztest/lib/python3.12/site-packages/transformers/models/auto/auto_factory.py:468: FutureWarning: The `use_auth_token` argument is deprecated and will be removed in v5 of Transformers. Please use `token` instead.\n",
      "  warnings.warn(\n",
      "Loading checkpoint shards: 100%|██████████| 3/3 [00:07<00:00,  2.52s/it]\n"
     ]
    }
   ],
   "source": [
    "model_id = \"/home/c7361293/triz_llm/llama-2-7b-chat/model\"\n",
    " \n",
    "tokenizer = AutoTokenizer.from_pretrained(model_id)\n",
    "model = AutoModelForCausalLM.from_pretrained(\n",
    "                 model_id,\n",
    "                 device_map=\"auto\",\n",
    "                 use_auth_token=True,\n",
    "                #  load_in_8bit=True\n",
    "                 )\n",
    "\n"
   ]
  },
  {
   "cell_type": "code",
   "execution_count": 18,
   "metadata": {},
   "outputs": [],
   "source": [
    "pipe=pipeline(\"text-generation\",\n",
    "              model=model,\n",
    "              tokenizer=tokenizer,\n",
    "              torch_dtype=torch.bfloat16,\n",
    "              device_map='auto',\n",
    "              max_new_tokens=512,\n",
    "              min_new_tokens=-1,\n",
    "              top_k=30\n",
    "              )"
   ]
  },
  {
   "cell_type": "code",
   "execution_count": 19,
   "metadata": {},
   "outputs": [],
   "source": [
    "llm=HuggingFacePipeline(pipeline=pipe, model_kwargs={'temperature':0})"
   ]
  },
  {
   "cell_type": "code",
   "execution_count": 20,
   "metadata": {},
   "outputs": [
    {
     "data": {
      "text/plain": [
       "HuggingFacePipeline(pipeline=<transformers.pipelines.text_generation.TextGenerationPipeline object at 0x7f2ace1e0080>, model_kwargs={'temperature': 0})"
      ]
     },
     "execution_count": 20,
     "metadata": {},
     "output_type": "execute_result"
    }
   ],
   "source": [
    "llm"
   ]
  },
  {
   "cell_type": "code",
   "execution_count": 21,
   "metadata": {},
   "outputs": [],
   "source": [
    "memory=ConversationBufferMemory(memory_key='chat_history', return_messages=True)"
   ]
  },
  {
   "cell_type": "code",
   "execution_count": 23,
   "metadata": {},
   "outputs": [],
   "source": [
    "#Create our Q/A Chain\n",
    "pdf_qa=ConversationalRetrievalChain.from_llm(llm=llm,\n",
    "                                             retriever=chroma_db.as_retriever(search_kwargs={'k':6}),\n",
    "                                             verbose=False, memory=memory)"
   ]
  },
  {
   "cell_type": "code",
   "execution_count": 24,
   "metadata": {},
   "outputs": [
    {
     "name": "stderr",
     "output_type": "stream",
     "text": [
      "/home/c7361293/miniconda3/envs/triztest/lib/python3.12/site-packages/langchain_core/_api/deprecation.py:117: LangChainDeprecationWarning: The function `__call__` was deprecated in LangChain 0.1.0 and will be removed in 0.2.0. Use invoke instead.\n",
      "  warn_deprecated(\n",
      "/home/c7361293/miniconda3/envs/triztest/lib/python3.12/site-packages/transformers/generation/configuration_utils.py:509: UserWarning: `do_sample` is set to `False`. However, `top_k` is set to `30` -- this flag is only used in sample-based generation modes. You should set `do_sample=True` or unset `top_k`.\n",
      "  warnings.warn(\n",
      "Setting `pad_token_id` to `eos_token_id`:2 for open-end generation.\n"
     ]
    }
   ],
   "source": [
    "result=pdf_qa({\"question\":\"\"\"\n",
    "The present invention aims to improve the vertically-integrated nonvolatile memory device by incorporating a peripheral circuit structure with a peripheral circuit therein, and a cell array structure bonded to the peripheral circuit structure. The cell array structure includes a cell area and a connection area, where the cell area has a staircase-shaped cell stack and a plurality of capacitor core contact structures. Each capacitor core contact structure consists of a first core conductor electrically connected to the peripheral circuit, and a first cover insulating layer extending between the first core conductor and the plurality of gate electrodes. The invention improves the memory device's performance by increasing the capacitance of the capacitor structures, which in turn enhances the device's energy efficiency. However, the invention may face challenges in manufacturing and scaling due to the complexity of the structure.\n",
    "The paragraph provided matches which principles and why. Can you give me in points and one line for the reason.\n",
    "\"\"\"})"
   ]
  },
  {
   "cell_type": "code",
   "execution_count": 26,
   "metadata": {},
   "outputs": [
    {
     "data": {
      "text/plain": [
       "\"Use the following pieces of context to answer the question at the end. If you don't know the answer, just say that you don't know, don't try to make up an answer.\\n\\nCopyright © Oxford Creativity     www.triz.co.uk   +44(0) 1993 882 461       6 \\n \\nPrinciple 17 Another Dimension  \\nA. Move into an additional dimension - from one to two - from two to three  \\n\\uf02d\\uf020Coiled telephone wire  \\n\\uf02d\\uf020Curved bristles on a brush  \\n\\uf02d\\uf020Pizza -box with ribbed (as opposed to flat) base  \\n\\uf02d\\uf020Spiral staircase uses less floor area  \\n\\uf02d\\uf020Introduction of down and up slopes between stations on railway reduces  overall power requirements\\n\\nB. Go from single storey or layer to multi -storey or multi -layered  \\n\\uf02d\\uf020Player with many CDs  \\n\\uf02d\\uf020Stacked or multi -layered circuit boards  \\n\\uf02d\\uf020Multi -storey office blocks or car -parks  \\n \\nC. Incline an object, lay it on its side  \\n\\uf02d\\uf020Cars on road transporter inclined to save space  \\n \\nD. Use the other side  \\n\\uf02d\\uf020Press a groove onto both sides of a record  \\n\\uf02d\\uf020Mount electronic components on both sides of a circuit board  \\n\\uf02d\\uf020Print text around the rim of a coin\\n\\nCopyright © Oxford Creativity     www.triz.co.uk   +44(0) 1993 882 461       10 \\n \\n\\uf02d\\uf020Cavity wall insulation  \\n\\uf02d\\uf020Transpiration film cooled structures  \\n\\uf02d\\uf020Foam metals  \\n\\uf02d\\uf020Use sponge -like structures as  fluid absorption media  \\n \\nB. If an object is already porous, use the pores to introduce a useful  substance or function  \\n\\uf02d\\uf020Use a porous metal mesh to wick excess solder away from a joint\\n\\nCopyright © Oxford Creativity     www.triz.co.uk   +44(0) 1993 882 461       3 \\n \\n\\uf02d\\uf020Home entertainment centre  \\n\\uf02d\\uf020Swiss Army k nife \\n\\uf02d\\uf020Grill in a microwave oven  \\n\\uf02d\\uf020CD used as a storage medium for multiple data types  \\n\\uf02d\\uf020Cleaning strip at beginning of a cassette tape cleans tape heads  \\n\\uf02d\\uf020Cordless drill also acts as screwdriver, sander, polisher, etc  \\n \\nPrinc iple 7 Nested Doll  \\nA. Place one object inside another  \\n\\uf02d\\uf020Retractable aircraft under -carriage  \\n\\uf02d\\uf020Voids in 3D structures\\n\\n\\uf02d\\uf020Use of parabolic reflectors in solar panels to increase energy capture  \\n\\uf02d\\uf020Paint  object with high emissivity paint in order to be able to measure its  temperature with a calibrated thermal imager  \\n \\nPrinciple 33 Homogeneity  \\nA. Objects interacting with the main object should be of same material (or  material with identical properties)  \\n\\uf02d\\uf020Container made of the same material as its contents, to reduce  chemical reactions\\n\\n\\uf02d\\uf020Multi -channel control system  \\n\\uf02d\\uf020Air-bag in a car / Spare wheel / Battery back -up / Back -up parachute  \\n\\uf02d\\uf020Pressure relief valve  \\n\\uf02d\\uf020Emergency lighting  circuit  \\n\\uf02d\\uf020Automatic save operations performed by computer programs  \\n\\uf02d\\uf020Crash barriers on motorways  \\n\\uf02d\\uf020‘Touch -down’ bearing in magnetic bearing system  \\n \\nPrinciple 12 Equipotentiality  \\nA. If an object has to be raised or lowered, r edesign the object ’s environment  so the need to raise or lower is eliminated\\n\\nQuestion: \\nThe present invention aims to improve the vertically-integrated nonvolatile memory device by incorporating a peripheral circuit structure with a peripheral circuit therein, and a cell array structure bonded to the peripheral circuit structure. The cell array structure includes a cell area and a connection area, where the cell area has a staircase-shaped cell stack and a plurality of capacitor core contact structures. Each capacitor core contact structure consists of a first core conductor electrically connected to the peripheral circuit, and a first cover insulating layer extending between the first core conductor and the plurality of gate electrodes. The invention improves the memory device's performance by increasing the capacitance of the capacitor structures, which in turn enhances the device's energy efficiency. However, the invention may face challenges in manufacturing and scaling due to the complexity of the structure.\\nThe paragraph provided matches which principles and why. Can you give me in points and one line for the reason.\\n\\nHelpful Answer:\\n\\nPoints:\\n\\n1. Principle 17 - Another Dimension\\nReason: The staircase-shaped cell stack in the cell array structure allows for a reduction in overall power requirements by using less floor area.\\n\\n2. Principle 33 - Homogeneity\\nReason: The peripheral circuit structure and the cell array structure are made of the same material (or material with identical properties), which reduces chemical reactions and improves the device's performance.\\n\\n3. Principle 7 - Nested Doll\\nReason: The cell array structure is placed inside the peripheral circuit structure, which allows for the reduction of the need to raise or lower the cell array structure.\\n\\n4. Principle 12 - Equipotentiality\\nReason: The connection area of the cell array structure is bonded to the peripheral circuit structure, which eliminates the need to raise or lower the cell array structure.\\n\\n\\n\\n\\n\\n\\n\\n\\n\\n\\n\\n\\n\\n\\n\\n\\n\\n\\n\\n\\n\\n\\n\\n\\n\\n\\n\\n\\n\\n\\n\\n\\n\\n\\n\\n\\n\\n\\n\\n\\n\\n\\n\\n\\n\\n\\n\\n\\n\\n\\n\\n\\n\\n\\n\\n\\n\\n\\n\\n\\n\\n\\n\\n\\n\\n\\n\\n\\n\\n\\n\\n\\n\\n\\n\\n\\n\\n\\n\\n\\n\\n\\n\\n\\n\\n\\n\\n\\n\\n\\n\\n\\n\\n\\n\\n\\n\\n\\n\\n\\n\\n\\n\\n\\n\\n\\n\\n\\n\\n\\n\\n\\n\\n\\n\\n\\n\\n\\n\\n\\n\\n\\n\\n\\n\\n\\n\\n\\n\\n\\n\\n\\n\\n\\n\\n\\n\\n\\n\\n\\n\\n\\n\\n\\n\\n\\n\\n\\n\\n\\n\\n\\n\\n\\n\\n\\n\\n\\n\\n\\n\\n\\n\\n\\n\\n\\n\\n\\n\\n\\n\\n\\n\\n\\n\\n\\n\\n\\n\\n\\n\\n\\n\\n\\n\\n\\n\\n\\n\\n\\n\\n\\n\\n\\n\\n\\n\\n\\n\\n\\n\\n\\n\\n\\n\\n\\n\\n\\n\\n\\n\\n\\n\\n\\n\\n\\n\\n\\n\\n\\n\\n\\n\\n\\n\\n\\n\\n\\n\\n\\n\\n\\n\\n\\n\\n\\n\\n\\n\\n\\n\\n\\n\\n\\n\\n\\n\\n\\n\\n\\n\\n\\n\\n\\n\\n\\n\\n\\n\\n\\n\\n\\n\\n\\n\\n\\n\\n\\n\\n\\n\\n\\n\\n\\n\\n\\n\\n\\n\\n\\n\\n\\n\\n\\n\\n\\n\\n\\n\\n\\n\\n\\n\\n\\n\\n\\n\\n\\n\\n\\n\\n\\n\\n\\n\\n\\n\\n\""
      ]
     },
     "execution_count": 26,
     "metadata": {},
     "output_type": "execute_result"
    }
   ],
   "source": [
    "result['answer']"
   ]
  },
  {
   "cell_type": "code",
   "execution_count": 35,
   "metadata": {},
   "outputs": [
    {
     "name": "stdout",
     "output_type": "stream",
     "text": [
      "Helpful Answer:\n",
      "\n",
      "Points:\n",
      "\n",
      "1. Principle 17 - Another Dimension\n",
      "Reason: The staircase-shaped cell stack in the cell array structure allows for a reduction in overall power requirements by using less floor area.\n",
      "\n",
      "2. Principle 33 - Homogeneity\n",
      "Reason: The peripheral circuit structure and the cell array structure are made of the same material (or material with identical properties), which reduces chemical reactions and improves the device's performance.\n",
      "\n",
      "3. Principle 7 - Nested Doll\n",
      "Reason: The cell array structure is placed inside the peripheral circuit structure, which allows for the reduction of the need to raise or lower the cell array structure.\n",
      "\n",
      "4. Principle 12 - Equipotentiality\n",
      "Reason: The connection area of the cell array structure is bonded to the peripheral circuit structure, which eliminates the need to raise or lower the cell array structure.\n"
     ]
    }
   ],
   "source": [
    "text_input = result[\"answer\"]\n",
    "summary_index = text_input.find(\"Helpful Answer:\\n\")\n",
    "summary = text_input\n",
    "if summary_index != -1:\n",
    "    # Extract the text from \"Begin Summary:\" to the end of the string\n",
    "        summary = text_input[summary_index:]\n",
    "\n",
    "print(summary.strip())"
   ]
  },
  {
   "cell_type": "code",
   "execution_count": null,
   "metadata": {},
   "outputs": [],
   "source": [
    "# import re\n",
    "\n",
    "# def extract_helpful_answer(text):\n",
    "#     # Define a more flexible regular expression pattern to find the \"Helpful Answer\" section\n",
    "#     # This pattern will account for variations in whitespace and the presence of different types of list items\n",
    "#     pattern = r\"Helpful Answer:\\s*((?:•\\s*.+?(?:\\n|$))+)\"\n",
    "\n",
    "#     # Use re.search to find the pattern in the text\n",
    "#     match = re.search(pattern, text, re.DOTALL)\n",
    "\n",
    "#     # Check if a match is found\n",
    "#     if match:\n",
    "#         # Return the matched text, stripping any leading/trailing whitespace for cleanliness\n",
    "#         return match.group()\n",
    "#     else:\n",
    "#         # Return a message if no match is found\n",
    "#         return \"No 'Helpful Answer' section found.\"\n",
    "\n",
    "# # Example text input\n",
    "# text_input = result[\"answer\"]\n",
    "\n",
    "# # Call the function with the example text\n",
    "# extracted_answer = extract_helpful_answer(text_input)\n",
    "# print(extracted_answer)"
   ]
  }
 ],
 "metadata": {
  "kernelspec": {
   "display_name": "triztest",
   "language": "python",
   "name": "python3"
  },
  "language_info": {
   "codemirror_mode": {
    "name": "ipython",
    "version": 3
   },
   "file_extension": ".py",
   "mimetype": "text/x-python",
   "name": "python",
   "nbconvert_exporter": "python",
   "pygments_lexer": "ipython3",
   "version": "3.12.1"
  }
 },
 "nbformat": 4,
 "nbformat_minor": 2
}
