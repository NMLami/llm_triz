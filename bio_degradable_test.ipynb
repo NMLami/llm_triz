{
 "cells": [
  {
   "cell_type": "code",
   "execution_count": 1,
   "metadata": {
    "metadata": {}
   },
   "outputs": [
    {
     "name": "stdout",
     "output_type": "stream",
     "text": [
      "Hello\n"
     ]
    }
   ],
   "source": [
    "print(\"Hello\")"
   ]
  },
  {
   "cell_type": "code",
   "execution_count": 2,
   "metadata": {
    "metadata": {}
   },
   "outputs": [],
   "source": [
    "import pandas as pd\n",
    "data_patent = pd.read_csv('./bio_degradable_test/bio_degradable.csv')"
   ]
  },
  {
   "cell_type": "code",
   "execution_count": 3,
   "metadata": {
    "metadata": {}
   },
   "outputs": [
    {
     "data": {
      "text/html": [
       "<div>\n",
       "<style scoped>\n",
       "    .dataframe tbody tr th:only-of-type {\n",
       "        vertical-align: middle;\n",
       "    }\n",
       "\n",
       "    .dataframe tbody tr th {\n",
       "        vertical-align: top;\n",
       "    }\n",
       "\n",
       "    .dataframe thead th {\n",
       "        text-align: right;\n",
       "    }\n",
       "</style>\n",
       "<table border=\"1\" class=\"dataframe\">\n",
       "  <thead>\n",
       "    <tr style=\"text-align: right;\">\n",
       "      <th></th>\n",
       "      <th>Country</th>\n",
       "      <th>PatentNumber</th>\n",
       "      <th>Date</th>\n",
       "      <th>Abstract</th>\n",
       "    </tr>\n",
       "  </thead>\n",
       "  <tbody>\n",
       "    <tr>\n",
       "      <th>0</th>\n",
       "      <td>US</td>\n",
       "      <td>10550010</td>\n",
       "      <td>2020-02-04</td>\n",
       "      <td>A method of fabricating an oleophilic foam inc...</td>\n",
       "    </tr>\n",
       "    <tr>\n",
       "      <th>1</th>\n",
       "      <td>US</td>\n",
       "      <td>10543517</td>\n",
       "      <td>2020-01-28</td>\n",
       "      <td>A particle for treatment and repair of soil co...</td>\n",
       "    </tr>\n",
       "    <tr>\n",
       "      <th>2</th>\n",
       "      <td>US</td>\n",
       "      <td>8809843</td>\n",
       "      <td>2014-08-19</td>\n",
       "      <td>A photoelectrode, methods of making and using,...</td>\n",
       "    </tr>\n",
       "    <tr>\n",
       "      <th>3</th>\n",
       "      <td>US</td>\n",
       "      <td>10577511</td>\n",
       "      <td>2020-03-03</td>\n",
       "      <td>Hydrophobic materials, processes for their pro...</td>\n",
       "    </tr>\n",
       "    <tr>\n",
       "      <th>4</th>\n",
       "      <td>US</td>\n",
       "      <td>9488393</td>\n",
       "      <td>2016-11-08</td>\n",
       "      <td>An adsorption cell suitable for a thermal wave...</td>\n",
       "    </tr>\n",
       "    <tr>\n",
       "      <th>5</th>\n",
       "      <td>US</td>\n",
       "      <td>7699896</td>\n",
       "      <td>2010-04-20</td>\n",
       "      <td>Pretreatment of a fabric using a material that...</td>\n",
       "    </tr>\n",
       "    <tr>\n",
       "      <th>6</th>\n",
       "      <td>US</td>\n",
       "      <td>5979477</td>\n",
       "      <td>1999-11-09</td>\n",
       "      <td>A burst disk assembly relies on a brittle mate...</td>\n",
       "    </tr>\n",
       "    <tr>\n",
       "      <th>7</th>\n",
       "      <td>US</td>\n",
       "      <td>8980431</td>\n",
       "      <td>2015-03-17</td>\n",
       "      <td>A primer coating composition is provided for a...</td>\n",
       "    </tr>\n",
       "    <tr>\n",
       "      <th>8</th>\n",
       "      <td>US</td>\n",
       "      <td>8919989</td>\n",
       "      <td>2014-12-30</td>\n",
       "      <td>A piezoelectric generator utilizes to accept a...</td>\n",
       "    </tr>\n",
       "    <tr>\n",
       "      <th>9</th>\n",
       "      <td>US</td>\n",
       "      <td>8567660</td>\n",
       "      <td>2013-10-29</td>\n",
       "      <td>The present disclosure, in one embodiment, rel...</td>\n",
       "    </tr>\n",
       "    <tr>\n",
       "      <th>10</th>\n",
       "      <td>US</td>\n",
       "      <td>6406636</td>\n",
       "      <td>2002-06-18</td>\n",
       "      <td>Wafer-to-wafer bonding using, e.g., solder met...</td>\n",
       "    </tr>\n",
       "    <tr>\n",
       "      <th>11</th>\n",
       "      <td>US</td>\n",
       "      <td>9918451</td>\n",
       "      <td>2018-03-20</td>\n",
       "      <td>Livestock feeders can include a one-piece or m...</td>\n",
       "    </tr>\n",
       "    <tr>\n",
       "      <th>12</th>\n",
       "      <td>US</td>\n",
       "      <td>9380761</td>\n",
       "      <td>2016-07-05</td>\n",
       "      <td>Livestock feeders are provided. A livestock fe...</td>\n",
       "    </tr>\n",
       "    <tr>\n",
       "      <th>13</th>\n",
       "      <td>US</td>\n",
       "      <td>9428635</td>\n",
       "      <td>2016-08-30</td>\n",
       "      <td>A method of coating hydroxylated surfaces by g...</td>\n",
       "    </tr>\n",
       "    <tr>\n",
       "      <th>14</th>\n",
       "      <td>US</td>\n",
       "      <td>7255881</td>\n",
       "      <td>2007-08-14</td>\n",
       "      <td>Metal-containing materials, as well as their p...</td>\n",
       "    </tr>\n",
       "    <tr>\n",
       "      <th>15</th>\n",
       "      <td>US</td>\n",
       "      <td>10111501</td>\n",
       "      <td>2018-10-30</td>\n",
       "      <td>A bi-stable spring band device that is covered...</td>\n",
       "    </tr>\n",
       "    <tr>\n",
       "      <th>16</th>\n",
       "      <td>US</td>\n",
       "      <td>8905742</td>\n",
       "      <td>2014-12-09</td>\n",
       "      <td>A three-dimensional printer to fabricate three...</td>\n",
       "    </tr>\n",
       "    <tr>\n",
       "      <th>17</th>\n",
       "      <td>US</td>\n",
       "      <td>7335076</td>\n",
       "      <td>2008-02-26</td>\n",
       "      <td>Disclosed herein is a training fin for assisti...</td>\n",
       "    </tr>\n",
       "    <tr>\n",
       "      <th>18</th>\n",
       "      <td>US</td>\n",
       "      <td>20200017258</td>\n",
       "      <td>2020-01-16</td>\n",
       "      <td>A biodegradable, thermally insulated mailer an...</td>\n",
       "    </tr>\n",
       "    <tr>\n",
       "      <th>19</th>\n",
       "      <td>US</td>\n",
       "      <td>102544927</td>\n",
       "      <td>2023-06-16</td>\n",
       "      <td>A water-soluble membrane comprising a first wa...</td>\n",
       "    </tr>\n",
       "  </tbody>\n",
       "</table>\n",
       "</div>"
      ],
      "text/plain": [
       "   Country  PatentNumber        Date  \\\n",
       "0       US      10550010  2020-02-04   \n",
       "1       US      10543517  2020-01-28   \n",
       "2       US       8809843  2014-08-19   \n",
       "3       US      10577511  2020-03-03   \n",
       "4       US       9488393  2016-11-08   \n",
       "5       US       7699896  2010-04-20   \n",
       "6       US       5979477  1999-11-09   \n",
       "7       US       8980431  2015-03-17   \n",
       "8       US       8919989  2014-12-30   \n",
       "9       US       8567660  2013-10-29   \n",
       "10      US       6406636  2002-06-18   \n",
       "11      US       9918451  2018-03-20   \n",
       "12      US       9380761  2016-07-05   \n",
       "13      US       9428635  2016-08-30   \n",
       "14      US       7255881  2007-08-14   \n",
       "15      US      10111501  2018-10-30   \n",
       "16      US       8905742  2014-12-09   \n",
       "17      US       7335076  2008-02-26   \n",
       "18      US   20200017258  2020-01-16   \n",
       "19      US     102544927  2023-06-16   \n",
       "\n",
       "                                             Abstract  \n",
       "0   A method of fabricating an oleophilic foam inc...  \n",
       "1   A particle for treatment and repair of soil co...  \n",
       "2   A photoelectrode, methods of making and using,...  \n",
       "3   Hydrophobic materials, processes for their pro...  \n",
       "4   An adsorption cell suitable for a thermal wave...  \n",
       "5   Pretreatment of a fabric using a material that...  \n",
       "6   A burst disk assembly relies on a brittle mate...  \n",
       "7   A primer coating composition is provided for a...  \n",
       "8   A piezoelectric generator utilizes to accept a...  \n",
       "9   The present disclosure, in one embodiment, rel...  \n",
       "10  Wafer-to-wafer bonding using, e.g., solder met...  \n",
       "11  Livestock feeders can include a one-piece or m...  \n",
       "12  Livestock feeders are provided. A livestock fe...  \n",
       "13  A method of coating hydroxylated surfaces by g...  \n",
       "14  Metal-containing materials, as well as their p...  \n",
       "15  A bi-stable spring band device that is covered...  \n",
       "16  A three-dimensional printer to fabricate three...  \n",
       "17  Disclosed herein is a training fin for assisti...  \n",
       "18  A biodegradable, thermally insulated mailer an...  \n",
       "19  A water-soluble membrane comprising a first wa...  "
      ]
     },
     "metadata": {},
     "output_type": "display_data"
    }
   ],
   "source": [
    "display(data_patent)"
   ]
  },
  {
   "cell_type": "code",
   "execution_count": 4,
   "metadata": {
    "metadata": {}
   },
   "outputs": [
    {
     "data": {
      "text/plain": [
       "True"
      ]
     },
     "execution_count": 4,
     "metadata": {},
     "output_type": "execute_result"
    }
   ],
   "source": [
    "import torch\n",
    "torch.cuda.is_available()"
   ]
  },
  {
   "cell_type": "code",
   "execution_count": 1,
   "metadata": {
    "metadata": {}
   },
   "outputs": [
    {
     "name": "stdout",
     "output_type": "stream",
     "text": [
      "Is CUDA supported by this system?  {True}\n",
      "CUDA version: {torch.version.cuda}\n",
      "ID of current CUDA device: {0}\n",
      "Name of current CUDA device: {'NVIDIA A40'}\n",
      "12.1\n",
      "2.3.0+cu121\n"
     ]
    }
   ],
   "source": [
    "import torch\n",
    " \n",
    "print(\"Is CUDA supported by this system? \",\n",
    "      {torch.cuda.is_available()})\n",
    "print(\"CUDA version: {torch.version.cuda}\")\n",
    " \n",
    "# Set device CUDA\n",
    "torch.cuda.set_device(0)\n",
    "\n",
    "# Storing ID of current CUDA device\n",
    "cuda_id = torch.cuda.current_device()\n",
    "print(\"ID of current CUDA device:\",\n",
    "      {torch.cuda.current_device()})\n",
    "       \n",
    "print(\"Name of current CUDA device:\",\n",
    "      {torch.cuda.get_device_name(cuda_id)})\n",
    "\n",
    "print(torch.version.cuda)\n",
    "print(torch.__version__)"
   ]
  },
  {
   "cell_type": "code",
   "execution_count": 6,
   "metadata": {
    "metadata": {}
   },
   "outputs": [
    {
     "name": "stderr",
     "output_type": "stream",
     "text": [
      "/home/c7361293/miniconda3/envs/triztest/lib/python3.12/site-packages/tqdm/auto.py:21: TqdmWarning: IProgress not found. Please update jupyter and ipywidgets. See https://ipywidgets.readthedocs.io/en/stable/user_install.html\n",
      "  from .autonotebook import tqdm as notebook_tqdm\n",
      "[codecarbon WARNING @ 13:17:31] Invalid gpu_ids format. Expected a string or a list of ints.\n",
      "[codecarbon INFO @ 13:17:31] [setup] RAM Tracking...\n",
      "[codecarbon INFO @ 13:17:31] [setup] GPU Tracking...\n",
      "[codecarbon INFO @ 13:17:31] Tracking Nvidia GPU via pynvml\n",
      "[codecarbon INFO @ 13:17:31] [setup] CPU Tracking...\n",
      "[codecarbon WARNING @ 13:17:31] No CPU tracking mode found. Falling back on CPU constant mode.\n"
     ]
    },
    {
     "name": "stdout",
     "output_type": "stream",
     "text": [
      "Start of model load code time:  1716985051.0024261\n"
     ]
    },
    {
     "name": "stderr",
     "output_type": "stream",
     "text": [
      "[codecarbon WARNING @ 13:17:32] We saw that you have a Intel(R) Xeon(R) Gold 6330 CPU @ 2.00GHz but we don't know it. Please contact us.\n",
      "[codecarbon INFO @ 13:17:32] CPU Model on constant consumption mode: Intel(R) Xeon(R) Gold 6330 CPU @ 2.00GHz\n",
      "[codecarbon INFO @ 13:17:32] >>> Tracker's metadata:\n",
      "[codecarbon INFO @ 13:17:32]   Platform system: Linux-5.4.0-182-generic-x86_64-with-glibc2.31\n",
      "[codecarbon INFO @ 13:17:32]   Python version: 3.12.1\n",
      "[codecarbon INFO @ 13:17:32]   CodeCarbon version: 2.4.1\n",
      "[codecarbon INFO @ 13:17:32]   Available RAM : 503.339 GB\n",
      "[codecarbon INFO @ 13:17:32]   CPU count: 112\n",
      "[codecarbon INFO @ 13:17:32]   CPU model: Intel(R) Xeon(R) Gold 6330 CPU @ 2.00GHz\n",
      "[codecarbon INFO @ 13:17:32]   GPU count: 2\n",
      "[codecarbon INFO @ 13:17:32]   GPU model: 2 x NVIDIA A40\n",
      "Loading checkpoint shards: 100%|██████████| 3/3 [00:02<00:00,  1.28it/s]\n"
     ]
    },
    {
     "name": "stdout",
     "output_type": "stream",
     "text": [
      "Using device: cuda\n"
     ]
    },
    {
     "name": "stderr",
     "output_type": "stream",
     "text": [
      "[codecarbon INFO @ 13:17:41] Energy consumed for RAM : 0.000338 kWh. RAM Power : 188.75217247009277 W\n",
      "[codecarbon INFO @ 13:17:41] Energy consumed for all GPUs : 0.000274 kWh. Total GPU Power : 152.91490817035412 W\n",
      "[codecarbon INFO @ 13:17:41] Energy consumed for all CPUs : 0.000076 kWh. Total CPU Power : 42.5 W\n",
      "[codecarbon INFO @ 13:17:41] 0.000688 kWh of electricity used since the beginning.\n"
     ]
    },
    {
     "name": "stdout",
     "output_type": "stream",
     "text": [
      "Emissions for model load:  0.00017964439040281147\n",
      "End of model load code time:  1716985061.9188757\n"
     ]
    }
   ],
   "source": [
    "import torch\n",
    "from transformers import LlamaTokenizer, LlamaForCausalLM\n",
    "from codecarbon import EmissionsTracker\n",
    "import time\n",
    "\n",
    "print(\"Start of model load code time: \",time.time())\n",
    "\n",
    "tracker = EmissionsTracker()\n",
    "tracker.start()\n",
    "\n",
    "# Initialize the tokenizer and model\n",
    "model_name_or_path = \"/home/c7361293/triz_llm/llama-2-7b-chat/model\"\n",
    "tokenizer = LlamaTokenizer.from_pretrained(model_name_or_path)\n",
    "model = LlamaForCausalLM.from_pretrained(model_name_or_path)\n",
    "\n",
    "device = torch.device(\"cuda\" if torch.cuda.is_available() else \"cpu\")\n",
    "print(f\"Using device: {device}\")\n",
    "\n",
    "# Move the model to the appropriate device\n",
    "model.to(device)\n",
    "\n",
    "emissions: float = tracker.stop()\n",
    "print(\"Emissions for model load: \", emissions)\n",
    "print(\"End of model load code time: \",time.time())\n",
    "\n"
   ]
  },
  {
   "cell_type": "code",
   "execution_count": 7,
   "metadata": {
    "metadata": {}
   },
   "outputs": [
    {
     "name": "stderr",
     "output_type": "stream",
     "text": [
      "[codecarbon WARNING @ 13:18:58] Invalid gpu_ids format. Expected a string or a list of ints.\n",
      "[codecarbon INFO @ 13:18:58] [setup] RAM Tracking...\n",
      "[codecarbon INFO @ 13:18:58] [setup] GPU Tracking...\n",
      "[codecarbon INFO @ 13:18:58] Tracking Nvidia GPU via pynvml\n",
      "[codecarbon INFO @ 13:18:58] [setup] CPU Tracking...\n",
      "[codecarbon WARNING @ 13:18:58] No CPU tracking mode found. Falling back on CPU constant mode.\n"
     ]
    },
    {
     "name": "stdout",
     "output_type": "stream",
     "text": [
      "Start of code time:  1716985138.3709457\n"
     ]
    },
    {
     "name": "stderr",
     "output_type": "stream",
     "text": [
      "[codecarbon WARNING @ 13:18:59] We saw that you have a Intel(R) Xeon(R) Gold 6330 CPU @ 2.00GHz but we don't know it. Please contact us.\n",
      "[codecarbon INFO @ 13:18:59] CPU Model on constant consumption mode: Intel(R) Xeon(R) Gold 6330 CPU @ 2.00GHz\n",
      "[codecarbon INFO @ 13:18:59] >>> Tracker's metadata:\n",
      "[codecarbon INFO @ 13:18:59]   Platform system: Linux-5.4.0-182-generic-x86_64-with-glibc2.31\n",
      "[codecarbon INFO @ 13:18:59]   Python version: 3.12.1\n",
      "[codecarbon INFO @ 13:18:59]   CodeCarbon version: 2.4.1\n",
      "[codecarbon INFO @ 13:18:59]   Available RAM : 503.339 GB\n",
      "[codecarbon INFO @ 13:18:59]   CPU count: 112\n",
      "[codecarbon INFO @ 13:18:59]   CPU model: Intel(R) Xeon(R) Gold 6330 CPU @ 2.00GHz\n",
      "[codecarbon INFO @ 13:18:59]   GPU count: 2\n",
      "[codecarbon INFO @ 13:18:59]   GPU model: 2 x NVIDIA A40\n",
      "Asking to truncate to max_length but no maximum length is provided and the model has no predefined maximum length. Default to no truncation.\n",
      "Setting `pad_token_id` to `eos_token_id`:2 for open-end generation.\n",
      "Setting `pad_token_id` to `eos_token_id`:2 for open-end generation.\n",
      "[codecarbon INFO @ 13:19:17] Energy consumed for RAM : 0.000787 kWh. RAM Power : 188.75217247009277 W\n",
      "[codecarbon INFO @ 13:19:17] Energy consumed for all GPUs : 0.001227 kWh. Total GPU Power : 294.2795136051965 W\n",
      "[codecarbon INFO @ 13:19:17] Energy consumed for all CPUs : 0.000177 kWh. Total CPU Power : 42.5 W\n",
      "[codecarbon INFO @ 13:19:17] 0.002192 kWh of electricity used since the beginning.\n",
      "Setting `pad_token_id` to `eos_token_id`:2 for open-end generation.\n",
      "Setting `pad_token_id` to `eos_token_id`:2 for open-end generation.\n",
      "Setting `pad_token_id` to `eos_token_id`:2 for open-end generation.\n",
      "[codecarbon INFO @ 13:19:32] Energy consumed for RAM : 0.001572 kWh. RAM Power : 188.75217247009277 W\n",
      "[codecarbon INFO @ 13:19:32] Energy consumed for all GPUs : 0.002480 kWh. Total GPU Power : 300.91875077114673 W\n",
      "[codecarbon INFO @ 13:19:32] Energy consumed for all CPUs : 0.000355 kWh. Total CPU Power : 42.5 W\n",
      "[codecarbon INFO @ 13:19:32] 0.004407 kWh of electricity used since the beginning.\n",
      "Setting `pad_token_id` to `eos_token_id`:2 for open-end generation.\n",
      "[codecarbon INFO @ 13:19:47] Energy consumed for RAM : 0.002357 kWh. RAM Power : 188.75217247009277 W\n",
      "[codecarbon INFO @ 13:19:47] Energy consumed for all GPUs : 0.003724 kWh. Total GPU Power : 299.1264697208912 W\n",
      "[codecarbon INFO @ 13:19:47] Energy consumed for all CPUs : 0.000532 kWh. Total CPU Power : 42.5 W\n",
      "[codecarbon INFO @ 13:19:47] 0.006613 kWh of electricity used since the beginning.\n",
      "Setting `pad_token_id` to `eos_token_id`:2 for open-end generation.\n",
      "Setting `pad_token_id` to `eos_token_id`:2 for open-end generation.\n",
      "[codecarbon INFO @ 13:20:02] Energy consumed for RAM : 0.003142 kWh. RAM Power : 188.75217247009277 W\n",
      "[codecarbon INFO @ 13:20:02] Energy consumed for all GPUs : 0.004989 kWh. Total GPU Power : 303.9320253601758 W\n",
      "[codecarbon INFO @ 13:20:02] Energy consumed for all CPUs : 0.000709 kWh. Total CPU Power : 42.5 W\n",
      "[codecarbon INFO @ 13:20:02] 0.008840 kWh of electricity used since the beginning.\n",
      "Setting `pad_token_id` to `eos_token_id`:2 for open-end generation.\n",
      "Setting `pad_token_id` to `eos_token_id`:2 for open-end generation.\n",
      "[codecarbon INFO @ 13:20:17] Energy consumed for RAM : 0.003928 kWh. RAM Power : 188.75217247009277 W\n",
      "[codecarbon INFO @ 13:20:17] Energy consumed for all GPUs : 0.006261 kWh. Total GPU Power : 305.70660976633815 W\n",
      "[codecarbon INFO @ 13:20:17] Energy consumed for all CPUs : 0.000886 kWh. Total CPU Power : 42.5 W\n",
      "[codecarbon INFO @ 13:20:17] 0.011075 kWh of electricity used since the beginning.\n",
      "Setting `pad_token_id` to `eos_token_id`:2 for open-end generation.\n",
      "Setting `pad_token_id` to `eos_token_id`:2 for open-end generation.\n",
      "[codecarbon INFO @ 13:20:32] Energy consumed for RAM : 0.004714 kWh. RAM Power : 188.75217247009277 W\n",
      "[codecarbon INFO @ 13:20:32] Energy consumed for all GPUs : 0.007539 kWh. Total GPU Power : 306.97657922572654 W\n",
      "[codecarbon INFO @ 13:20:32] Energy consumed for all CPUs : 0.001063 kWh. Total CPU Power : 42.5 W\n",
      "[codecarbon INFO @ 13:20:32] 0.013315 kWh of electricity used since the beginning.\n",
      "Setting `pad_token_id` to `eos_token_id`:2 for open-end generation.\n",
      "Setting `pad_token_id` to `eos_token_id`:2 for open-end generation.\n",
      "[codecarbon INFO @ 13:20:47] Energy consumed for RAM : 0.005499 kWh. RAM Power : 188.75217247009277 W\n",
      "[codecarbon INFO @ 13:20:47] Energy consumed for all GPUs : 0.008820 kWh. Total GPU Power : 307.6447765546484 W\n",
      "[codecarbon INFO @ 13:20:47] Energy consumed for all CPUs : 0.001240 kWh. Total CPU Power : 42.5 W\n",
      "[codecarbon INFO @ 13:20:47] 0.015558 kWh of electricity used since the beginning.\n",
      "Setting `pad_token_id` to `eos_token_id`:2 for open-end generation.\n",
      "Setting `pad_token_id` to `eos_token_id`:2 for open-end generation.\n",
      "Setting `pad_token_id` to `eos_token_id`:2 for open-end generation.\n",
      "[codecarbon INFO @ 13:21:02] Energy consumed for RAM : 0.006284 kWh. RAM Power : 188.75217247009277 W\n",
      "[codecarbon INFO @ 13:21:02] Energy consumed for all GPUs : 0.010108 kWh. Total GPU Power : 309.65355700396157 W\n",
      "[codecarbon INFO @ 13:21:02] Energy consumed for all CPUs : 0.001417 kWh. Total CPU Power : 42.5 W\n",
      "[codecarbon INFO @ 13:21:02] 0.017810 kWh of electricity used since the beginning.\n",
      "Setting `pad_token_id` to `eos_token_id`:2 for open-end generation.\n",
      "Setting `pad_token_id` to `eos_token_id`:2 for open-end generation.\n",
      "[codecarbon INFO @ 13:21:17] Energy consumed for RAM : 0.007070 kWh. RAM Power : 188.75217247009277 W\n",
      "[codecarbon INFO @ 13:21:17] Energy consumed for all GPUs : 0.011403 kWh. Total GPU Power : 310.89952405703906 W\n",
      "[codecarbon INFO @ 13:21:17] Energy consumed for all CPUs : 0.001594 kWh. Total CPU Power : 42.5 W\n",
      "[codecarbon INFO @ 13:21:17] 0.020067 kWh of electricity used since the beginning.\n",
      "Setting `pad_token_id` to `eos_token_id`:2 for open-end generation.\n",
      "[codecarbon INFO @ 13:21:27] Energy consumed for RAM : 0.007575 kWh. RAM Power : 188.75217247009277 W\n",
      "[codecarbon INFO @ 13:21:27] Energy consumed for all GPUs : 0.012241 kWh. Total GPU Power : 313.49288420878383 W\n",
      "[codecarbon INFO @ 13:21:27] Energy consumed for all CPUs : 0.001708 kWh. Total CPU Power : 42.5 W\n",
      "[codecarbon INFO @ 13:21:27] 0.021523 kWh of electricity used since the beginning.\n"
     ]
    },
    {
     "name": "stdout",
     "output_type": "stream",
     "text": [
      "Emissions for this code execution is:  0.0056209070813364355\n",
      "End of code time:  1716985287.4944804\n"
     ]
    }
   ],
   "source": [
    "#CUDA Abstract Summarization code \n",
    "#CUDA Abstract Summarization code \n",
    "#CUDA Abstract Summarization code \n",
    "#CUDA Abstract Summarization code \n",
    "#CUDA Abstract Summarization code \n",
    "\n",
    "from codecarbon import EmissionsTracker\n",
    "import time\n",
    "import torch\n",
    "\n",
    "print(\"Start of code time: \", time.time())\n",
    "\n",
    "tracker = EmissionsTracker()\n",
    "tracker.start()\n",
    "\n",
    "\n",
    "# Function to summarize text\n",
    "def summarize_abstract(text):\n",
    "\n",
    "    torch.cuda.empty_cache()\n",
    "    # prompt = f\"Summarize this: {text} in 20 words\"\n",
    "    prompt = f\"{text} \\n Summarize the provided text focusing on the key improvement aimed at by the research, any potential drawbacks or degrading parameters mentioned, and any information on energy efficiency. The summary should clearly outline the main objectives, highlight any challenges or limitations if discussed, and note the presence or absence of energy efficiency details. Please keep the summary concise and output only the summary, ideally within five lines and start with 'Summary:'\"\n",
    "    # Check and set the padding token\n",
    "    if tokenizer.pad_token is None:\n",
    "        tokenizer.pad_token = tokenizer.eos_token  # Typically the EOS token can be used as pad token\n",
    "\n",
    "\n",
    "    inputs = tokenizer(prompt, return_tensors=\"pt\", padding=True, truncation=True)\n",
    "    #  # Ensure that the attention mask and the pad token are set correctly\n",
    "    # if 'attention_mask' not in inputs:\n",
    "    #     inputs['attention_mask'] = torch.ones_like(inputs['input_ids'])\n",
    "    # if 'pad_token_id' not in tokenizer.vocab:\n",
    "    #     tokenizer.pad_token = tokenizer.eos_token\n",
    "\n",
    "    inputs = inputs.to(device)\n",
    "    \n",
    "    output_sequences = model.generate(\n",
    "        input_ids=inputs['input_ids'], \n",
    "        attention_mask=inputs['attention_mask'],\n",
    "        max_length=5000, \n",
    "        num_return_sequences=1,\n",
    "        do_sample=False  # Ensures more deterministic outputs\n",
    "    )\n",
    "\n",
    "    # print(tokenizer.decode(output_sequences, skip_special_tokens=True))\n",
    "    text = tokenizer.decode(output_sequences[0], skip_special_tokens=True)\n",
    "    summary_index = text.find(\"Summary:\\n\")\n",
    "    summary = text\n",
    "    if summary_index != -1:\n",
    "        # Extract the text from \"Begin Summary:\" to the end of the string\n",
    "         summary = text[summary_index:]\n",
    "\n",
    "    return summary\n",
    "\n",
    "\n",
    "\n",
    "# Apply summarization to each abstract and store results in a new column\n",
    "summaries = []\n",
    "for abstract in data_patent['Abstract']:\n",
    "    summary = summarize_abstract(abstract)\n",
    "    summaries.append(summary)\n",
    "\n",
    "data_patent['SummaryofPatent'] = summaries\n",
    "data_patent.to_csv('./bio_degradable_test/bio_degradable_summary.csv', index=False)\n",
    "\n",
    "emissions: float = tracker.stop()\n",
    "print(\"Emissions for this code execution is: \", emissions)\n",
    "print(\"End of code time: \",time.time())\n"
   ]
  },
  {
   "cell_type": "code",
   "execution_count": 8,
   "metadata": {
    "metadata": {}
   },
   "outputs": [],
   "source": [
    "import pandas as pd\n",
    "bio_degradable_patent = pd.read_csv('./bio_degradable_test/bio_degradable_summary.csv')"
   ]
  },
  {
   "cell_type": "code",
   "execution_count": 9,
   "metadata": {
    "metadata": {}
   },
   "outputs": [],
   "source": [
    "import pandas as pd\n",
    "random_patent = pd.read_csv('./summarized_patents/ipg240220_patents_with_samsung_summarized.csv')"
   ]
  },
  {
   "cell_type": "code",
   "execution_count": 10,
   "metadata": {
    "metadata": {}
   },
   "outputs": [],
   "source": [
    "random_patent = random_patent[[\"PatentNumber\",\"Date\",\"SummaryofPatent\"]]\n",
    "bio_degradable_patent = bio_degradable_patent[[\"PatentNumber\",\"Date\",\"SummaryofPatent\"]]"
   ]
  },
  {
   "cell_type": "code",
   "execution_count": 13,
   "metadata": {
    "metadata": {}
   },
   "outputs": [
    {
     "data": {
      "text/html": [
       "<div>\n",
       "<style scoped>\n",
       "    .dataframe tbody tr th:only-of-type {\n",
       "        vertical-align: middle;\n",
       "    }\n",
       "\n",
       "    .dataframe tbody tr th {\n",
       "        vertical-align: top;\n",
       "    }\n",
       "\n",
       "    .dataframe thead th {\n",
       "        text-align: right;\n",
       "    }\n",
       "</style>\n",
       "<table border=\"1\" class=\"dataframe\">\n",
       "  <thead>\n",
       "    <tr style=\"text-align: right;\">\n",
       "      <th></th>\n",
       "      <th>PatentNumber</th>\n",
       "      <th>Date</th>\n",
       "      <th>SummaryofPatent</th>\n",
       "    </tr>\n",
       "  </thead>\n",
       "  <tbody>\n",
       "    <tr>\n",
       "      <th>0</th>\n",
       "      <td>10550010</td>\n",
       "      <td>2020-02-04</td>\n",
       "      <td>Summary:\\nThe method aims to improve the fabri...</td>\n",
       "    </tr>\n",
       "    <tr>\n",
       "      <th>1</th>\n",
       "      <td>10543517</td>\n",
       "      <td>2020-01-28</td>\n",
       "      <td>Summary:\\nThe research aims to develop a new p...</td>\n",
       "    </tr>\n",
       "    <tr>\n",
       "      <th>2</th>\n",
       "      <td>8809843</td>\n",
       "      <td>2014-08-19</td>\n",
       "      <td>Summary:\\nThe research aims to improve the eff...</td>\n",
       "    </tr>\n",
       "    <tr>\n",
       "      <th>3</th>\n",
       "      <td>10577511</td>\n",
       "      <td>2020-03-03</td>\n",
       "      <td>Summary:\\nThe research aims to improve the pro...</td>\n",
       "    </tr>\n",
       "    <tr>\n",
       "      <th>4</th>\n",
       "      <td>9488393</td>\n",
       "      <td>2016-11-08</td>\n",
       "      <td>Summary:\\nThe invention aims to improve the th...</td>\n",
       "    </tr>\n",
       "    <tr>\n",
       "      <th>5</th>\n",
       "      <td>7699896</td>\n",
       "      <td>2010-04-20</td>\n",
       "      <td>Summary:\\nThe research aims to improve the pre...</td>\n",
       "    </tr>\n",
       "    <tr>\n",
       "      <th>6</th>\n",
       "      <td>5979477</td>\n",
       "      <td>1999-11-09</td>\n",
       "      <td>Summary:\\nThe research aims to improve the man...</td>\n",
       "    </tr>\n",
       "    <tr>\n",
       "      <th>7</th>\n",
       "      <td>8980431</td>\n",
       "      <td>2015-03-17</td>\n",
       "      <td>Summary:\\nThe provided primer coating composit...</td>\n",
       "    </tr>\n",
       "    <tr>\n",
       "      <th>8</th>\n",
       "      <td>8919989</td>\n",
       "      <td>2014-12-30</td>\n",
       "      <td>Summary:\\nThe invention aims to improve the pi...</td>\n",
       "    </tr>\n",
       "    <tr>\n",
       "      <th>9</th>\n",
       "      <td>8567660</td>\n",
       "      <td>2013-10-29</td>\n",
       "      <td>Summary:\\nThe present disclosure aims to impro...</td>\n",
       "    </tr>\n",
       "    <tr>\n",
       "      <th>10</th>\n",
       "      <td>6406636</td>\n",
       "      <td>2002-06-18</td>\n",
       "      <td>Summary:\\nThe research aims to improve wafer-t...</td>\n",
       "    </tr>\n",
       "    <tr>\n",
       "      <th>11</th>\n",
       "      <td>9918451</td>\n",
       "      <td>2018-03-20</td>\n",
       "      <td>Livestock feeders can include a one-piece or m...</td>\n",
       "    </tr>\n",
       "    <tr>\n",
       "      <th>12</th>\n",
       "      <td>9380761</td>\n",
       "      <td>2016-07-05</td>\n",
       "      <td>Summary:\\nThe research aims to improve the des...</td>\n",
       "    </tr>\n",
       "    <tr>\n",
       "      <th>13</th>\n",
       "      <td>9428635</td>\n",
       "      <td>2016-08-30</td>\n",
       "      <td>Summary:\\nThe research aims to improve the coa...</td>\n",
       "    </tr>\n",
       "    <tr>\n",
       "      <th>14</th>\n",
       "      <td>7255881</td>\n",
       "      <td>2007-08-14</td>\n",
       "      <td>Summary:\\nThe research aims to improve metal-c...</td>\n",
       "    </tr>\n",
       "    <tr>\n",
       "      <th>15</th>\n",
       "      <td>10111501</td>\n",
       "      <td>2018-10-30</td>\n",
       "      <td>Summary:\\nThe invention aims to create a bi-st...</td>\n",
       "    </tr>\n",
       "    <tr>\n",
       "      <th>16</th>\n",
       "      <td>8905742</td>\n",
       "      <td>2014-12-09</td>\n",
       "      <td>Summary:\\nThe research aims to improve 3D prin...</td>\n",
       "    </tr>\n",
       "    <tr>\n",
       "      <th>17</th>\n",
       "      <td>7335076</td>\n",
       "      <td>2008-02-26</td>\n",
       "      <td>Summary:\\nThe training fin aims to provide a s...</td>\n",
       "    </tr>\n",
       "    <tr>\n",
       "      <th>18</th>\n",
       "      <td>20200017258</td>\n",
       "      <td>2020-01-16</td>\n",
       "      <td>Summary:\\nThe research aims to develop biodegr...</td>\n",
       "    </tr>\n",
       "    <tr>\n",
       "      <th>19</th>\n",
       "      <td>102544927</td>\n",
       "      <td>2023-06-16</td>\n",
       "      <td>Summary:\\nThe present disclosure focuses on de...</td>\n",
       "    </tr>\n",
       "  </tbody>\n",
       "</table>\n",
       "</div>"
      ],
      "text/plain": [
       "    PatentNumber        Date  \\\n",
       "0       10550010  2020-02-04   \n",
       "1       10543517  2020-01-28   \n",
       "2        8809843  2014-08-19   \n",
       "3       10577511  2020-03-03   \n",
       "4        9488393  2016-11-08   \n",
       "5        7699896  2010-04-20   \n",
       "6        5979477  1999-11-09   \n",
       "7        8980431  2015-03-17   \n",
       "8        8919989  2014-12-30   \n",
       "9        8567660  2013-10-29   \n",
       "10       6406636  2002-06-18   \n",
       "11       9918451  2018-03-20   \n",
       "12       9380761  2016-07-05   \n",
       "13       9428635  2016-08-30   \n",
       "14       7255881  2007-08-14   \n",
       "15      10111501  2018-10-30   \n",
       "16       8905742  2014-12-09   \n",
       "17       7335076  2008-02-26   \n",
       "18   20200017258  2020-01-16   \n",
       "19     102544927  2023-06-16   \n",
       "\n",
       "                                      SummaryofPatent  \n",
       "0   Summary:\\nThe method aims to improve the fabri...  \n",
       "1   Summary:\\nThe research aims to develop a new p...  \n",
       "2   Summary:\\nThe research aims to improve the eff...  \n",
       "3   Summary:\\nThe research aims to improve the pro...  \n",
       "4   Summary:\\nThe invention aims to improve the th...  \n",
       "5   Summary:\\nThe research aims to improve the pre...  \n",
       "6   Summary:\\nThe research aims to improve the man...  \n",
       "7   Summary:\\nThe provided primer coating composit...  \n",
       "8   Summary:\\nThe invention aims to improve the pi...  \n",
       "9   Summary:\\nThe present disclosure aims to impro...  \n",
       "10  Summary:\\nThe research aims to improve wafer-t...  \n",
       "11  Livestock feeders can include a one-piece or m...  \n",
       "12  Summary:\\nThe research aims to improve the des...  \n",
       "13  Summary:\\nThe research aims to improve the coa...  \n",
       "14  Summary:\\nThe research aims to improve metal-c...  \n",
       "15  Summary:\\nThe invention aims to create a bi-st...  \n",
       "16  Summary:\\nThe research aims to improve 3D prin...  \n",
       "17  Summary:\\nThe training fin aims to provide a s...  \n",
       "18  Summary:\\nThe research aims to develop biodegr...  \n",
       "19  Summary:\\nThe present disclosure focuses on de...  "
      ]
     },
     "metadata": {},
     "output_type": "display_data"
    }
   ],
   "source": [
    "display(bio_degradable_patent)"
   ]
  },
  {
   "cell_type": "code",
   "execution_count": 15,
   "metadata": {
    "metadata": {}
   },
   "outputs": [],
   "source": [
    "# patent_knowledge = pd.merge(random_patent,copper_patent,how='inner')\n",
    "\n",
    "# Merge the two DataFrames on 'PatentNumber'\n",
    "patent_knowledge = pd.concat([random_patent, bio_degradable_patent] ,ignore_index=True)\n"
   ]
  },
  {
   "cell_type": "code",
   "execution_count": 16,
   "metadata": {
    "metadata": {}
   },
   "outputs": [
    {
     "data": {
      "text/plain": [
       "256"
      ]
     },
     "execution_count": 16,
     "metadata": {},
     "output_type": "execute_result"
    }
   ],
   "source": [
    "len(patent_knowledge)"
   ]
  },
  {
   "cell_type": "code",
   "execution_count": 17,
   "metadata": {
    "metadata": {}
   },
   "outputs": [],
   "source": [
    "patent_knowledge.to_csv('./bio_degradable_test/patent_knowledgebase_bio_degradable_test.csv', index=False)"
   ]
  },
  {
   "cell_type": "code",
   "execution_count": 18,
   "metadata": {
    "metadata": {}
   },
   "outputs": [
    {
     "data": {
      "text/plain": [
       "131072"
      ]
     },
     "execution_count": 18,
     "metadata": {},
     "output_type": "execute_result"
    }
   ],
   "source": [
    "from langchain_community.document_loaders.csv_loader import CSVLoader\n",
    "import sys\n",
    "import csv\n",
    "\n",
    "csv.field_size_limit(sys.maxsize)"
   ]
  },
  {
   "cell_type": "code",
   "execution_count": 19,
   "metadata": {
    "metadata": {}
   },
   "outputs": [],
   "source": [
    "loader = CSVLoader(file_path='./bio_degradable_test/patent_knowledgebase_bio_degradable_test.csv')\n",
    "\n",
    "documents = loader.load()"
   ]
  },
  {
   "cell_type": "code",
   "execution_count": 20,
   "metadata": {
    "metadata": {}
   },
   "outputs": [
    {
     "name": "stdout",
     "output_type": "stream",
     "text": [
      "<class 'list'>\n"
     ]
    }
   ],
   "source": [
    "print(type(documents))"
   ]
  },
  {
   "cell_type": "code",
   "execution_count": 21,
   "metadata": {
    "metadata": {}
   },
   "outputs": [
    {
     "data": {
      "text/plain": [
       "'PatentNumber: 11903552\\nDate: 2024-02-20\\nSummaryofPatent: Summary:\\nThe cleaning device aims to improve the efficiency of dust collection by periodically opening and closing the suction flow path in a state in which the suction device operates. The device includes a docking station with a suction device, collector, and flow adjusting device. The processor controls the suction device and flow adjusting device to optimize dust collection. The device improves efficiency by reducing the amount of dust that escapes from the collecting container during operation. However, the device may require more energy to operate due to the additional flow adjusting device.'"
      ]
     },
     "execution_count": 21,
     "metadata": {},
     "output_type": "execute_result"
    }
   ],
   "source": [
    "documents[0].page_content"
   ]
  },
  {
   "cell_type": "code",
   "execution_count": 22,
   "metadata": {
    "metadata": {}
   },
   "outputs": [
    {
     "data": {
      "text/plain": [
       "256"
      ]
     },
     "execution_count": 22,
     "metadata": {},
     "output_type": "execute_result"
    }
   ],
   "source": [
    "len(documents)"
   ]
  },
  {
   "cell_type": "code",
   "execution_count": 7,
   "metadata": {
    "metadata": {}
   },
   "outputs": [
    {
     "name": "stderr",
     "output_type": "stream",
     "text": [
      "[codecarbon WARNING @ 21:13:03] Invalid gpu_ids format. Expected a string or a list of ints.\n",
      "[codecarbon INFO @ 21:13:03] [setup] RAM Tracking...\n",
      "[codecarbon INFO @ 21:13:03] [setup] GPU Tracking...\n",
      "[codecarbon INFO @ 21:13:03] Tracking Nvidia GPU via pynvml\n",
      "[codecarbon INFO @ 21:13:03] [setup] CPU Tracking...\n",
      "[codecarbon WARNING @ 21:13:03] No CPU tracking mode found. Falling back on CPU constant mode.\n"
     ]
    },
    {
     "name": "stdout",
     "output_type": "stream",
     "text": [
      "Start of code time:  1717791183.4737673\n"
     ]
    },
    {
     "name": "stderr",
     "output_type": "stream",
     "text": [
      "[codecarbon WARNING @ 21:13:04] We saw that you have a Intel(R) Xeon(R) Gold 6330 CPU @ 2.00GHz but we don't know it. Please contact us.\n",
      "[codecarbon INFO @ 21:13:04] CPU Model on constant consumption mode: Intel(R) Xeon(R) Gold 6330 CPU @ 2.00GHz\n",
      "[codecarbon INFO @ 21:13:04] >>> Tracker's metadata:\n",
      "[codecarbon INFO @ 21:13:04]   Platform system: Linux-5.4.0-182-generic-x86_64-with-glibc2.31\n",
      "[codecarbon INFO @ 21:13:04]   Python version: 3.12.1\n",
      "[codecarbon INFO @ 21:13:04]   CodeCarbon version: 2.4.1\n",
      "[codecarbon INFO @ 21:13:04]   Available RAM : 503.339 GB\n",
      "[codecarbon INFO @ 21:13:04]   CPU count: 112\n",
      "[codecarbon INFO @ 21:13:04]   CPU model: Intel(R) Xeon(R) Gold 6330 CPU @ 2.00GHz\n",
      "[codecarbon INFO @ 21:13:04]   GPU count: 2\n",
      "[codecarbon INFO @ 21:13:04]   GPU model: 2 x NVIDIA A40\n",
      "/home/c7361293/miniconda3/envs/triztest/lib/python3.12/site-packages/tqdm/auto.py:21: TqdmWarning: IProgress not found. Please update jupyter and ipywidgets. See https://ipywidgets.readthedocs.io/en/stable/user_install.html\n",
      "  from .autonotebook import tqdm as notebook_tqdm\n",
      "[codecarbon INFO @ 21:13:13] Energy consumed for RAM : 0.000299 kWh. RAM Power : 188.75217247009277 W\n",
      "[codecarbon INFO @ 21:13:13] Energy consumed for all GPUs : 0.000243 kWh. Total GPU Power : 152.95195364972227 W\n",
      "[codecarbon INFO @ 21:13:13] Energy consumed for all CPUs : 0.000068 kWh. Total CPU Power : 42.5 W\n",
      "[codecarbon INFO @ 21:13:13] 0.000609 kWh of electricity used since the beginning.\n"
     ]
    },
    {
     "name": "stdout",
     "output_type": "stream",
     "text": [
      "Emissions for this code execution is:  0.00015914803683069446\n",
      "End of code time:  1717791193.8373818\n"
     ]
    }
   ],
   "source": [
    "#Embedding model load\n",
    "\n",
    "from langchain.embeddings import HuggingFaceBgeEmbeddings\n",
    "from langchain.vectorstores import Chroma\n",
    "from codecarbon import EmissionsTracker\n",
    "import time\n",
    "\n",
    "print(\"Start of code time: \",time.time())\n",
    "\n",
    "tracker = EmissionsTracker()\n",
    "tracker.start()\n",
    "\n",
    "model_name = \"BAAI/bge-large-en-v1.5\"\n",
    "# model_kwargs = {'device': 'cuda'}\n",
    "encode_kwargs = {'normalize_embeddings': True} # set True to compute cosine similarity\n",
    "model = HuggingFaceBgeEmbeddings(\n",
    "    model_name=model_name,\n",
    "    # model_kwargs=model_kwargs,\n",
    "    encode_kwargs=encode_kwargs\n",
    "    # ,\n",
    "    # query_instruction=\"为这个句子生成表示以用于检索相关文章：\"\n",
    ")\n",
    "\n",
    "\n",
    "emissions: float = tracker.stop()\n",
    "print(\"Emissions for this code execution is: \", emissions)\n",
    "print(\"End of code time: \",time.time())"
   ]
  },
  {
   "cell_type": "code",
   "execution_count": 24,
   "metadata": {
    "metadata": {}
   },
   "outputs": [
    {
     "name": "stdout",
     "output_type": "stream",
     "text": [
      "client=SentenceTransformer(\n",
      "  (0): Transformer({'max_seq_length': 512, 'do_lower_case': True}) with Transformer model: BertModel \n",
      "  (1): Pooling({'word_embedding_dimension': 1024, 'pooling_mode_cls_token': True, 'pooling_mode_mean_tokens': False, 'pooling_mode_max_tokens': False, 'pooling_mode_mean_sqrt_len_tokens': False, 'pooling_mode_weightedmean_tokens': False, 'pooling_mode_lasttoken': False, 'include_prompt': True})\n",
      "  (2): Normalize()\n",
      ") model_name='BAAI/bge-large-en-v1.5' cache_folder=None model_kwargs={} encode_kwargs={'normalize_embeddings': True} query_instruction='Represent this question for searching relevant passages: ' embed_instruction=''\n"
     ]
    }
   ],
   "source": [
    "print(model)"
   ]
  },
  {
   "cell_type": "code",
   "execution_count": 25,
   "metadata": {
    "metadata": {}
   },
   "outputs": [],
   "source": [
    "import os # Importing os module for operating system functionalities\n",
    "import shutil # Importing shutil module for high-level file operations"
   ]
  },
  {
   "cell_type": "code",
   "execution_count": 26,
   "metadata": {
    "metadata": {}
   },
   "outputs": [],
   "source": [
    " # Clear out the existing database directory if it exists\n",
    "if os.path.exists(\"./db_biodegradabletest\"):\n",
    "    shutil.rmtree(\"./db_biodegradabletest\")"
   ]
  },
  {
   "cell_type": "code",
   "execution_count": 27,
   "metadata": {
    "metadata": {}
   },
   "outputs": [
    {
     "name": "stderr",
     "output_type": "stream",
     "text": [
      "[codecarbon WARNING @ 13:33:54] Invalid gpu_ids format. Expected a string or a list of ints.\n",
      "[codecarbon INFO @ 13:33:54] [setup] RAM Tracking...\n",
      "[codecarbon INFO @ 13:33:54] [setup] GPU Tracking...\n",
      "[codecarbon INFO @ 13:33:54] Tracking Nvidia GPU via pynvml\n",
      "[codecarbon INFO @ 13:33:54] [setup] CPU Tracking...\n",
      "[codecarbon WARNING @ 13:33:54] No CPU tracking mode found. Falling back on CPU constant mode.\n"
     ]
    },
    {
     "name": "stdout",
     "output_type": "stream",
     "text": [
      "Start of code time:  1716986034.5808253\n"
     ]
    },
    {
     "name": "stderr",
     "output_type": "stream",
     "text": [
      "[codecarbon WARNING @ 13:33:55] We saw that you have a Intel(R) Xeon(R) Gold 6330 CPU @ 2.00GHz but we don't know it. Please contact us.\n",
      "[codecarbon INFO @ 13:33:55] CPU Model on constant consumption mode: Intel(R) Xeon(R) Gold 6330 CPU @ 2.00GHz\n",
      "[codecarbon INFO @ 13:33:55] >>> Tracker's metadata:\n",
      "[codecarbon INFO @ 13:33:55]   Platform system: Linux-5.4.0-182-generic-x86_64-with-glibc2.31\n",
      "[codecarbon INFO @ 13:33:55]   Python version: 3.12.1\n",
      "[codecarbon INFO @ 13:33:55]   CodeCarbon version: 2.4.1\n",
      "[codecarbon INFO @ 13:33:55]   Available RAM : 503.339 GB\n",
      "[codecarbon INFO @ 13:33:55]   CPU count: 112\n",
      "[codecarbon INFO @ 13:33:55]   CPU model: Intel(R) Xeon(R) Gold 6330 CPU @ 2.00GHz\n",
      "[codecarbon INFO @ 13:33:55]   GPU count: 2\n",
      "[codecarbon INFO @ 13:33:55]   GPU model: 2 x NVIDIA A40\n",
      "[codecarbon INFO @ 13:34:02] Energy consumed for RAM : 0.000162 kWh. RAM Power : 188.75217247009277 W\n",
      "[codecarbon INFO @ 13:34:02] Energy consumed for all GPUs : 0.000259 kWh. Total GPU Power : 301.3426827696158 W\n",
      "[codecarbon INFO @ 13:34:02] Energy consumed for all CPUs : 0.000037 kWh. Total CPU Power : 42.5 W\n",
      "[codecarbon INFO @ 13:34:02] 0.000458 kWh of electricity used since the beginning.\n"
     ]
    },
    {
     "name": "stdout",
     "output_type": "stream",
     "text": [
      "Emissions for this code execution is:  0.0001195379491733827\n",
      "End of code time:  1716986042.1544116\n"
     ]
    }
   ],
   "source": [
    "#Chroma DB saving files and embeddings\n",
    "\n",
    "from langchain.vectorstores import Chroma\n",
    "from codecarbon import EmissionsTracker\n",
    "import time\n",
    "\n",
    "print(\"Start of code time: \",time.time())\n",
    "\n",
    "tracker = EmissionsTracker()\n",
    "tracker.start()\n",
    "\n",
    "chroma_db = Chroma.from_documents(\n",
    "    documents, model, persist_directory=\"./db_biodegradabletest\"\n",
    ")\n",
    "\n",
    "chroma_db.persist()\n",
    "\n",
    "emissions: float = tracker.stop()\n",
    "print(\"Emissions for this code execution is: \", emissions)\n",
    "print(\"End of code time: \",time.time())\n"
   ]
  },
  {
   "cell_type": "code",
   "execution_count": 8,
   "metadata": {
    "metadata": {}
   },
   "outputs": [],
   "source": [
    "from langchain.vectorstores import Chroma"
   ]
  },
  {
   "cell_type": "code",
   "execution_count": 9,
   "metadata": {
    "metadata": {}
   },
   "outputs": [],
   "source": [
    "vectordb = Chroma(persist_directory=\"./db_biodegradabletest\", embedding_function= model)\n"
   ]
  },
  {
   "cell_type": "code",
   "execution_count": 22,
   "metadata": {
    "metadata": {}
   },
   "outputs": [
    {
     "name": "stdout",
     "output_type": "stream",
     "text": [
      "similarity_score_threshold {'k': 5, 'score_threshold': 0.5}\n"
     ]
    }
   ],
   "source": [
    "retriever = vectordb.as_retriever(search_type = \"similarity_score_threshold\",search_kwargs = {\"k\": 5, \"score_threshold\":0.50})\n",
    "# retriever = vectordb.as_retriever(search_type = \"mmr\",search_kwargs = {\"k\": 5, \"lambda\":0.90})\n",
    "print(retriever.search_type, retriever.search_kwargs)"
   ]
  },
  {
   "cell_type": "code",
   "execution_count": 25,
   "metadata": {
    "metadata": {}
   },
   "outputs": [
    {
     "name": "stdout",
     "output_type": "stream",
     "text": [
      "page_content='PatentNumber: 20200017258\\nDate: 2020-01-16\\nSummaryofPatent: Summary:\\nThe research aims to develop biodegradable, thermally insulated mailers and coolers using laminated starch foam and bio-plastic film. The innovative approach eliminates the need for adhesives, making the packaging material home compostable and marine environment safe. However, the study does not provide details on energy efficiency. Despite this limitation, the research represents a significant improvement in the sustainability of packaging materials, as it reduces waste and minimizes environmental impact.' metadata={'row': 254, 'source': './bio_degradable_test/patent_knowledgebase_bio_degradable_test.csv'}\n",
      "page_content='PatentNumber: 8567660\\nDate: 2013-10-29\\nSummaryofPatent: Summary:\\nThe present disclosure aims to improve the packaging of liquids, viscous materials, or particulate materials by providing a self-supporting plastic liner that fits inside a carton. The liner has a rim with a flange and skirt portion, and a removable lidding material. The liner provides a more efficient and cost-effective packaging solution, as it eliminates the need for additional materials and reduces the risk of leakage or contamination. However, the use of plastic materials may pose environmental concerns.' metadata={'row': 245, 'source': './bio_degradable_test/patent_knowledgebase_bio_degradable_test.csv'}\n",
      "page_content='PatentNumber: 102544927\\nDate: 2023-06-16\\nSummaryofPatent: Summary:\\nThe present disclosure focuses on developing water-soluble membranes that degrade in water in less than 24 hours and dissolve in water in less than 48 hours, as measured by MSTM-205 at 20°C. The membranes are characterized as being insoluble in water for at least 1 hour and insoluble in water for at least 1 hour as measured by MSTM-205 at 20°C. The degradation and/or dissolution of the membrane is adapted to be activated by consumer handling, which could potentially reduce energy consumption associated with manufacturing and disposal. However, no details on energy efficiency are provided.' metadata={'row': 255, 'source': './bio_degradable_test/patent_knowledgebase_bio_degradable_test.csv'}\n"
     ]
    }
   ],
   "source": [
    "# retirve_result = retriever.get_relevant_documents(\"prevent the corrosion of copper pipelines\")\n",
    "# Perform the search and get relevant documents with scores\n",
    "results = retriever.get_relevant_documents(\"biodegradable packaging\")\n",
    "\n",
    "# Print results with relevance scores\n",
    "for result in results:\n",
    "   print(result)"
   ]
  },
  {
   "cell_type": "code",
   "execution_count": 35,
   "metadata": {
    "metadata": {}
   },
   "outputs": [],
   "source": [
    "retirve_result=results"
   ]
  },
  {
   "cell_type": "code",
   "execution_count": 36,
   "metadata": {
    "metadata": {}
   },
   "outputs": [
    {
     "data": {
      "text/plain": [
       "list"
      ]
     },
     "execution_count": 36,
     "metadata": {},
     "output_type": "execute_result"
    }
   ],
   "source": [
    "retirve_result[0]\n",
    "type(retirve_result)"
   ]
  },
  {
   "cell_type": "code",
   "execution_count": 37,
   "metadata": {
    "metadata": {}
   },
   "outputs": [
    {
     "name": "stdout",
     "output_type": "stream",
     "text": [
      "Patent Number: 20200017258\n",
      "Summary: The research aims to develop biodegradable, thermally insulated mailers and coolers using laminated starch foam and bio-plastic film. The innovative approach eliminates the need for adhesives, making the packaging material home compostable and marine environment safe. However, the study does not provide details on energy efficiency. Despite this limitation, the research represents a significant improvement in the sustainability of packaging materials, as it reduces waste and minimizes environmental impact.\n",
      "Patent Number: 8567660\n",
      "Summary: The present disclosure aims to improve the packaging of liquids, viscous materials, or particulate materials by providing a self-supporting plastic liner that fits inside a carton. The liner has a rim with a flange and skirt portion, and a removable lidding material. The liner provides a more efficient and cost-effective packaging solution, as it eliminates the need for additional materials and reduces the risk of leakage or contamination. However, the use of plastic materials may pose environmental concerns.\n",
      "Patent Number: 102544927\n",
      "Summary: The present disclosure focuses on developing water-soluble membranes that degrade in water in less than 24 hours and dissolve in water in less than 48 hours, as measured by MSTM-205 at 20°C. The membranes are characterized as being insoluble in water for at least 1 hour and insoluble in water for at least 1 hour as measured by MSTM-205 at 20°C. The degradation and/or dissolution of the membrane is adapted to be activated by consumer handling, which could potentially reduce energy consumption associated with manufacturing and disposal. However, no details on energy efficiency are provided.\n",
      "Patent Number: 9428635\n",
      "Summary: The research aims to improve the coating of hydroxylated surfaces by gas phase grafting, with a focus on acyl, silyl, and alkyl groups. The method is a dry process that can coat organic and inorganic materials, resulting in strong and durable surfaces that are water-proof. The research does not mention any potential drawbacks or degrading parameters, and there is no information on energy efficiency. The main objective is to provide a water-proof coating for various items, including cardboard boxes, containers, furniture, and interior components for cars and boats.\n",
      "Patent Number: 7255881\n",
      "Summary: The research aims to improve metal-containing materials for various applications by optimizing their composition and structure. The focus is on developing antimicrobial, anti-inflammatory, and anti-cancer materials, as well as materials with improved energy efficiency. However, the presence of potential drawbacks such as degradation under certain conditions is mentioned. Despite this, the research shows promise in developing new materials with improved properties.\n"
     ]
    }
   ],
   "source": [
    "import re\n",
    "\n",
    "# Assuming the Document class has an attribute 'page_content' that stores the content\n",
    "class Document:\n",
    "    def __init__(self, page_content):\n",
    "        self.page_content = page_content\n",
    "\n",
    "for item in retirve_result:\n",
    "    # Regular expression to capture Patent Number and Summary\n",
    "    pattern = re.compile(r\"PatentNumber: (\\d+)\\n.*SummaryofPatent: Summary:\\n(.*)\", re.DOTALL)\n",
    "\n",
    "    match = pattern.search(item.page_content)  # Use dot notation to access the page_content attribute\n",
    "\n",
    "    if match:\n",
    "        patent_number = match.group(1).strip()\n",
    "        summary = match.group(2).strip()\n",
    "        print(\"Patent Number:\", patent_number)\n",
    "        print(\"Summary:\", summary)"
   ]
  },
  {
   "cell_type": "code",
   "execution_count": 38,
   "metadata": {
    "metadata": {}
   },
   "outputs": [
    {
     "data": {
      "text/html": [
       "\n",
       "<style>\n",
       "    .research-summary {\n",
       "        border: 1px solid #ddd;\n",
       "        border-radius: 8px;\n",
       "        padding: 15px;\n",
       "        margin: 10px 0;\n",
       "        background-color: #f9f9f9;\n",
       "        color: black;\n",
       "    }\n",
       "    .research-summary h3 {\n",
       "        color: #336;\n",
       "    }\n",
       "    .research-summary p {\n",
       "        text-indent: 20px;\n",
       "    }\n",
       "</style>\n",
       "\n",
       "            <div class=\"research-summary\">\n",
       "                <h3>Patent Number:20200017258</h3>\n",
       "                <p>The research aims to develop biodegradable, thermally insulated mailers and coolers using laminated starch foam and bio-plastic film. The innovative approach eliminates the need for adhesives, making the packaging material home compostable and marine environment safe. However, the study does not provide details on energy efficiency. Despite this limitation, the research represents a significant improvement in the sustainability of packaging materials, as it reduces waste and minimizes environmental impact.</p>\n",
       "            </div>\n",
       "            "
      ],
      "text/plain": [
       "<IPython.core.display.HTML object>"
      ]
     },
     "metadata": {},
     "output_type": "display_data"
    },
    {
     "data": {
      "text/html": [
       "\n",
       "<style>\n",
       "    .research-summary {\n",
       "        border: 1px solid #ddd;\n",
       "        border-radius: 8px;\n",
       "        padding: 15px;\n",
       "        margin: 10px 0;\n",
       "        background-color: #f9f9f9;\n",
       "        color: black;\n",
       "    }\n",
       "    .research-summary h3 {\n",
       "        color: #336;\n",
       "    }\n",
       "    .research-summary p {\n",
       "        text-indent: 20px;\n",
       "    }\n",
       "</style>\n",
       "\n",
       "            <div class=\"research-summary\">\n",
       "                <h3>Patent Number:8567660</h3>\n",
       "                <p>The present disclosure aims to improve the packaging of liquids, viscous materials, or particulate materials by providing a self-supporting plastic liner that fits inside a carton. The liner has a rim with a flange and skirt portion, and a removable lidding material. The liner provides a more efficient and cost-effective packaging solution, as it eliminates the need for additional materials and reduces the risk of leakage or contamination. However, the use of plastic materials may pose environmental concerns.</p>\n",
       "            </div>\n",
       "            "
      ],
      "text/plain": [
       "<IPython.core.display.HTML object>"
      ]
     },
     "metadata": {},
     "output_type": "display_data"
    },
    {
     "data": {
      "text/html": [
       "\n",
       "<style>\n",
       "    .research-summary {\n",
       "        border: 1px solid #ddd;\n",
       "        border-radius: 8px;\n",
       "        padding: 15px;\n",
       "        margin: 10px 0;\n",
       "        background-color: #f9f9f9;\n",
       "        color: black;\n",
       "    }\n",
       "    .research-summary h3 {\n",
       "        color: #336;\n",
       "    }\n",
       "    .research-summary p {\n",
       "        text-indent: 20px;\n",
       "    }\n",
       "</style>\n",
       "\n",
       "            <div class=\"research-summary\">\n",
       "                <h3>Patent Number:102544927</h3>\n",
       "                <p>The present disclosure focuses on developing water-soluble membranes that degrade in water in less than 24 hours and dissolve in water in less than 48 hours, as measured by MSTM-205 at 20°C. The membranes are characterized as being insoluble in water for at least 1 hour and insoluble in water for at least 1 hour as measured by MSTM-205 at 20°C. The degradation and/or dissolution of the membrane is adapted to be activated by consumer handling, which could potentially reduce energy consumption associated with manufacturing and disposal. However, no details on energy efficiency are provided.</p>\n",
       "            </div>\n",
       "            "
      ],
      "text/plain": [
       "<IPython.core.display.HTML object>"
      ]
     },
     "metadata": {},
     "output_type": "display_data"
    },
    {
     "data": {
      "text/html": [
       "\n",
       "<style>\n",
       "    .research-summary {\n",
       "        border: 1px solid #ddd;\n",
       "        border-radius: 8px;\n",
       "        padding: 15px;\n",
       "        margin: 10px 0;\n",
       "        background-color: #f9f9f9;\n",
       "        color: black;\n",
       "    }\n",
       "    .research-summary h3 {\n",
       "        color: #336;\n",
       "    }\n",
       "    .research-summary p {\n",
       "        text-indent: 20px;\n",
       "    }\n",
       "</style>\n",
       "\n",
       "            <div class=\"research-summary\">\n",
       "                <h3>Patent Number:9428635</h3>\n",
       "                <p>The research aims to improve the coating of hydroxylated surfaces by gas phase grafting, with a focus on acyl, silyl, and alkyl groups. The method is a dry process that can coat organic and inorganic materials, resulting in strong and durable surfaces that are water-proof. The research does not mention any potential drawbacks or degrading parameters, and there is no information on energy efficiency. The main objective is to provide a water-proof coating for various items, including cardboard boxes, containers, furniture, and interior components for cars and boats.</p>\n",
       "            </div>\n",
       "            "
      ],
      "text/plain": [
       "<IPython.core.display.HTML object>"
      ]
     },
     "metadata": {},
     "output_type": "display_data"
    },
    {
     "data": {
      "text/html": [
       "\n",
       "<style>\n",
       "    .research-summary {\n",
       "        border: 1px solid #ddd;\n",
       "        border-radius: 8px;\n",
       "        padding: 15px;\n",
       "        margin: 10px 0;\n",
       "        background-color: #f9f9f9;\n",
       "        color: black;\n",
       "    }\n",
       "    .research-summary h3 {\n",
       "        color: #336;\n",
       "    }\n",
       "    .research-summary p {\n",
       "        text-indent: 20px;\n",
       "    }\n",
       "</style>\n",
       "\n",
       "            <div class=\"research-summary\">\n",
       "                <h3>Patent Number:7255881</h3>\n",
       "                <p>The research aims to improve metal-containing materials for various applications by optimizing their composition and structure. The focus is on developing antimicrobial, anti-inflammatory, and anti-cancer materials, as well as materials with improved energy efficiency. However, the presence of potential drawbacks such as degradation under certain conditions is mentioned. Despite this, the research shows promise in developing new materials with improved properties.</p>\n",
       "            </div>\n",
       "            "
      ],
      "text/plain": [
       "<IPython.core.display.HTML object>"
      ]
     },
     "metadata": {},
     "output_type": "display_data"
    }
   ],
   "source": [
    "from IPython.display import display, HTML\n",
    "\n",
    "style = \"\"\"\n",
    "<style>\n",
    "    .research-summary {\n",
    "        border: 1px solid #ddd;\n",
    "        border-radius: 8px;\n",
    "        padding: 15px;\n",
    "        margin: 10px 0;\n",
    "        background-color: #f9f9f9;\n",
    "        color: black;\n",
    "    }\n",
    "    .research-summary h3 {\n",
    "        color: #336;\n",
    "    }\n",
    "    .research-summary p {\n",
    "        text-indent: 20px;\n",
    "    }\n",
    "</style>\n",
    "\"\"\"\n",
    "\n",
    "import re\n",
    "\n",
    "# Assuming the Document class has an attribute 'page_content' that stores the content\n",
    "class Document:\n",
    "    def __init__(self, page_content):\n",
    "        self.page_content = page_content\n",
    "\n",
    "for item in retirve_result:\n",
    "    # Regular expression to capture Patent Number and Summary\n",
    "    pattern = re.compile(r\"PatentNumber: (\\d+)\\n.*SummaryofPatent: Summary:\\n(.*)\", re.DOTALL)\n",
    "\n",
    "    match = pattern.search(item.page_content)  # Use dot notation to access the page_content attribute\n",
    "\n",
    "    if match:\n",
    "        contents = \"\"\n",
    "        patent_number = match.group(1).strip()\n",
    "        summary = match.group(2).strip()\n",
    "        # print(\"Patent Number:\", patent_number)\n",
    "        # print(\"Summary:\", summary)\n",
    "        contents += f\"\"\"\n",
    "            <div class=\"research-summary\">\n",
    "                <h3>Patent Number:{patent_number}</h3>\n",
    "                <p>{summary}</p>\n",
    "            </div>\n",
    "            \"\"\"\n",
    "        display(HTML(style + contents))"
   ]
  },
  {
   "cell_type": "code",
   "execution_count": 5,
   "metadata": {
    "metadata": {}
   },
   "outputs": [
    {
     "data": {
      "text/plain": [
       "(29212737536, 47736619008)"
      ]
     },
     "execution_count": 5,
     "metadata": {},
     "output_type": "execute_result"
    }
   ],
   "source": [
    "import torch\n",
    "\n",
    "\n",
    "# del model\n",
    "\n",
    "\n",
    "torch.cuda.empty_cache()\n",
    "torch.cuda.mem_get_info()"
   ]
  }
 ],
 "metadata": {
  "kernelspec": {
   "display_name": "triztest",
   "language": "python",
   "name": "python3"
  },
  "language_info": {
   "codemirror_mode": {
    "name": "ipython",
    "version": 3
   },
   "file_extension": ".py",
   "mimetype": "text/x-python",
   "name": "python",
   "nbconvert_exporter": "python",
   "pygments_lexer": "ipython3",
   "version": "3.12.1"
  }
 },
 "nbformat": 4,
 "nbformat_minor": 2
}
