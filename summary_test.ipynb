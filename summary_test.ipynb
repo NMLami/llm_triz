{
 "cells": [
  {
   "cell_type": "code",
   "execution_count": 7,
   "metadata": {},
   "outputs": [],
   "source": [
    "abstract = \"['1. A ring-type wearable device comprising: an outer ring; an inner ring detachably inserted into an inner side of the outer ring; a cover surrounding an outside of the outer ring; a sensor including a portion exposed towards an inside of the inner ring through a first opening in the outer ring and a corresponding second opening in the inner ring; and a control circuit disposed in a space between the cover and the outer ring, wherein the size of the ring-type wearable device is changeable by replacing the inner ring with a different size.', '2. The ring-type wearable device according to claim 1 , wherein the sensor comprises a photo sensor including a light-emitter, and a light-receiver configured to receive light emitted from the light-emitter and reflected from an inside of a finger.', '3. The ring-type wearable device according to claim 2 , wherein the inner ring includes a lens configured to control a light radiation distance of the light-emitter and the lens is disposed in a position corresponding to the light-emitter and has a thickness corresponding to a thickness of the inner ring.', '4. The ring-type wearable device according to claim 2 , wherein the light-emitter is disposed in the second opening formed in the inner ring and elastically supported by the outer ring and a position of the light-emitter is based on a thickness of the inner ring.', '5. The ring-type wearable device according to claim 2 , wherein the light-emitter is elastically supported by the cover and a position of the light-emitter varies is based on a thickness of the inner ring.', '6. The ring-type wearable device according to claim 2 , further comprising: a fixed resistor having a resistance value corresponding to a corresponding thickness of the inner ring; and a resistance measurement circuit configured to detect the resistance value of the fixed resistor, wherein the control circuit is configured to control a light-emitting intensity of the light-emitter based on the resistance value detected through the resistance measurement circuit.', '7. The ring-type wearable device according to claim 6 , wherein the light-emitter is configured to emit a first light-emitting amount based on the inner ring having a first thickness and a second light-emitting amount larger than the first light-emitting amount based on the inner ring having a second thickness larger than the first thickness.', '8. The ring-type wearable device according to claim 1 , wherein the sensor includes a galvanic skin response (GSR) sensor and the inner ring includes a skin contact terminal electrically coupled to a terminal of the GSR sensor.', '9. The ring-type wearable device according to claim 1 , further comprising: a display disposed in the outer ring; and a dial rotatably coupled to an outer side of the outer ring and configured to operate the display.', '10. The ring-type wearable device according to claim 9 , wherein the display includes first and second displays disposed in a circumferential direction along both side surfaces of the outer ring based on the dial.', '11. The ring-type wearable device according to claim 10 , wherein the dial includes a rotating body configured to rotate in forward and reverse directions; a magnetic body configured to rotate with the rotating body and having N poles and S poles alternately arranged; and a hall sensor configured to detect polarity change of a magnetic pole of the magnetic body according to rotation of the rotating body, and the control circuitry is configured to obtain a rotation amount of the rotating body through a sensing signal detected through the hall sensor.', '12. The ring-type wearable device according to claim 10 , wherein the dial includes a rotating body configured to rotate in forward and reverse directions; a plurality of reflectors configured to rotate with the rotating body and arranged at intervals; and an image sensor configured to receive light reflected from the plurality of reflectors according to rotation of the rotating body, and the control circuitry is configured to obtain a rotation amount of the rotating body through a sensing signal detected through the image sensor.', '13. The ring-type wearable device according to claim 10 , wherein the dial includes a rotating body configured to rotate in forward and reverse directions; a plurality of protrusions configured to protrude at intervals along an inner side of the rotating body; and a switch configured to operate through the plurality of protrusions according to rotation of the rotating body, and the control circuitry is configured to obtain a rotation amount of the rotating body through a sensing signal detected through the switch.', '14. The ring-type wearable device according to claim 1 , wherein the outer ring further includes a communication circuit configured to wirelessly communicate with an external apparatus having a display; and an antenna connected to the communication circuit disposed in an inner side of the cover, the antenna being configured of a non-metal material to transmit and receive signals to and from the external apparatus.', '15. The ring-type wearable device according to claim 1 , further comprising an electrocardiogram (ECG) sensor, wherein the ECG sensor includes a first terminal exposed toward an inner side of the inner ring; and a second terminal exposed toward an outer side of the outer ring and electrically coupled to a hand not wearing the ring-type wearable device through a conductive handle.', '16. The ring-type wearable device according to claim 1 , wherein the cover, the outer ring and the inner ring each comprises a metal material.', '17. The ring-type wearable device according to claim 1 , further comprising an antenna disposed in the cover.', '18. The ring-type wearable device according to claim 17 , wherein a portion of the cover corresponding to the antenna comprises a non-metal material.', '19. The ring-type wearable device according to claim 1 , further comprising a battery disposed between the outer ring and the cover.', '20. The ring-type wearable device according to claim 1 , wherein the cover comprises a pressable portion configured to actuate a switch mounted on the control circuitry.', '21. The ring-type wearable device according to claim 19 , further comprising: a charging terminal for charging the battery.', '22. The ring-type wearable device according to claim 14 , wherein the communication circuitry is configured for Bluetooth wireless communication.', '23. A ring-type wearable device comprising: an outer ring; an inner ring detachably inserted into an inner side of the outer ring; a cover surrounding an outside of the outer ring; a battery disposed in a space between the outer ring and the cover; a charging terminal for wired charging of the battery, the charging terminal exposed towards an inside of the inner ring through corresponding openings formed in the inner and outer rings; and control circuitry disposed in the space between the cover and the outer ring, wherein the size of the ring-type wearable device is changeable by replacing the inner ring with a different size.']\""
   ]
  },
  {
   "cell_type": "code",
   "execution_count": 8,
   "metadata": {},
   "outputs": [
    {
     "name": "stdout",
     "output_type": "stream",
     "text": [
      "['1. A ring-type wearable device comprising: an outer ring; an inner ring detachably inserted into an inner side of the outer ring; a cover surrounding an outside of the outer ring; a sensor including a portion exposed towards an inside of the inner ring through a first opening in the outer ring and a corresponding second opening in the inner ring; and a control circuit disposed in a space between the cover and the outer ring, wherein the size of the ring-type wearable device is changeable by replacing the inner ring with a different size.', '2. The ring-type wearable device according to claim 1 , wherein the sensor comprises a photo sensor including a light-emitter, and a light-receiver configured to receive light emitted from the light-emitter and reflected from an inside of a finger.', '3. The ring-type wearable device according to claim 2 , wherein the inner ring includes a lens configured to control a light radiation distance of the light-emitter and the lens is disposed in a position corresponding to the light-emitter and has a thickness corresponding to a thickness of the inner ring.', '4. The ring-type wearable device according to claim 2 , wherein the light-emitter is disposed in the second opening formed in the inner ring and elastically supported by the outer ring and a position of the light-emitter is based on a thickness of the inner ring.', '5. The ring-type wearable device according to claim 2 , wherein the light-emitter is elastically supported by the cover and a position of the light-emitter varies is based on a thickness of the inner ring.', '6. The ring-type wearable device according to claim 2 , further comprising: a fixed resistor having a resistance value corresponding to a corresponding thickness of the inner ring; and a resistance measurement circuit configured to detect the resistance value of the fixed resistor, wherein the control circuit is configured to control a light-emitting intensity of the light-emitter based on the resistance value detected through the resistance measurement circuit.', '7. The ring-type wearable device according to claim 6 , wherein the light-emitter is configured to emit a first light-emitting amount based on the inner ring having a first thickness and a second light-emitting amount larger than the first light-emitting amount based on the inner ring having a second thickness larger than the first thickness.', '8. The ring-type wearable device according to claim 1 , wherein the sensor includes a galvanic skin response (GSR) sensor and the inner ring includes a skin contact terminal electrically coupled to a terminal of the GSR sensor.', '9. The ring-type wearable device according to claim 1 , further comprising: a display disposed in the outer ring; and a dial rotatably coupled to an outer side of the outer ring and configured to operate the display.', '10. The ring-type wearable device according to claim 9 , wherein the display includes first and second displays disposed in a circumferential direction along both side surfaces of the outer ring based on the dial.', '11. The ring-type wearable device according to claim 10 , wherein the dial includes a rotating body configured to rotate in forward and reverse directions; a magnetic body configured to rotate with the rotating body and having N poles and S poles alternately arranged; and a hall sensor configured to detect polarity change of a magnetic pole of the magnetic body according to rotation of the rotating body, and the control circuitry is configured to obtain a rotation amount of the rotating body through a sensing signal detected through the hall sensor.', '12. The ring-type wearable device according to claim 10 , wherein the dial includes a rotating body configured to rotate in forward and reverse directions; a plurality of reflectors configured to rotate with the rotating body and arranged at intervals; and an image sensor configured to receive light reflected from the plurality of reflectors according to rotation of the rotating body, and the control circuitry is configured to obtain a rotation amount of the rotating body through a sensing signal detected through the image sensor.', '13. The ring-type wearable device according to claim 10 , wherein the dial includes a rotating body configured to rotate in forward and reverse directions; a plurality of protrusions configured to protrude at intervals along an inner side of the rotating body; and a switch configured to operate through the plurality of protrusions according to rotation of the rotating body, and the control circuitry is configured to obtain a rotation amount of the rotating body through a sensing signal detected through the switch.', '14. The ring-type wearable device according to claim 1 , wherein the outer ring further includes a communication circuit configured to wirelessly communicate with an external apparatus having a display; and an antenna connected to the communication circuit disposed in an inner side of the cover, the antenna being configured of a non-metal material to transmit and receive signals to and from the external apparatus.', '15. The ring-type wearable device according to claim 1 , further comprising an electrocardiogram (ECG) sensor, wherein the ECG sensor includes a first terminal exposed toward an inner side of the inner ring; and a second terminal exposed toward an outer side of the outer ring and electrically coupled to a hand not wearing the ring-type wearable device through a conductive handle.', '16. The ring-type wearable device according to claim 1 , wherein the cover, the outer ring and the inner ring each comprises a metal material.', '17. The ring-type wearable device according to claim 1 , further comprising an antenna disposed in the cover.', '18. The ring-type wearable device according to claim 17 , wherein a portion of the cover corresponding to the antenna comprises a non-metal material.', '19. The ring-type wearable device according to claim 1 , further comprising a battery disposed between the outer ring and the cover.', '20. The ring-type wearable device according to claim 1 , wherein the cover comprises a pressable portion configured to actuate a switch mounted on the control circuitry.', '21. The ring-type wearable device according to claim 19 , further comprising: a charging terminal for charging the battery.', '22. The ring-type wearable device according to claim 14 , wherein the communication circuitry is configured for Bluetooth wireless communication.', '23. A ring-type wearable device comprising: an outer ring; an inner ring detachably inserted into an inner side of the outer ring; a cover surrounding an outside of the outer ring; a battery disposed in a space between the outer ring and the cover; a charging terminal for wired charging of the battery, the charging terminal exposed towards an inside of the inner ring through corresponding openings formed in the inner and outer rings; and control circuitry disposed in the space between the cover and the outer ring, wherein the size of the ring-type wearable device is changeable by replacing the inner ring with a different size.']\n"
     ]
    }
   ],
   "source": [
    "print(abstract)"
   ]
  },
  {
   "cell_type": "code",
   "execution_count": 16,
   "metadata": {},
   "outputs": [
    {
     "name": "stderr",
     "output_type": "stream",
     "text": [
      "Loading checkpoint shards: 100%|██████████| 3/3 [00:02<00:00,  1.23it/s]\n",
      "Asking to truncate to max_length but no maximum length is provided and the model has no predefined maximum length. Default to no truncation.\n",
      "Setting `pad_token_id` to `eos_token_id`:2 for open-end generation.\n"
     ]
    }
   ],
   "source": [
    "import torch\n",
    "from transformers import LlamaTokenizer, LlamaForCausalLM\n",
    "\n",
    "# Initialize the tokenizer and model\n",
    "model_name_or_path = \"/home/c7361293/triz_llm/llama-2-7b-chat/model\"\n",
    "tokenizer = LlamaTokenizer.from_pretrained(model_name_or_path)\n",
    "model = LlamaForCausalLM.from_pretrained(model_name_or_path)\n",
    "\n",
    "# Function to summarize text\n",
    "def summarize_abstract(text):\n",
    "    # prompt = f\"Summarize this: {text} in 20 words\"\n",
    "    prompt = f\"{text} \\n Summarize the provided text focusing on the key improvement aimed at by the research, any potential drawbacks or degrading parameters mentioned, and any information on energy efficiency. The summary should clearly outline the main objectives, highlight any challenges or limitations if discussed, and note the presence or absence of energy efficiency details. Please keep the summary concise and output only the summary in one paragraph, ideally within five lines and start with 'Summary:'\"\n",
    "    # Check and set the padding token\n",
    "    if tokenizer.pad_token is None:\n",
    "        tokenizer.pad_token = tokenizer.eos_token  # Typically the EOS token can be used as pad token\n",
    "\n",
    "\n",
    "    inputs = tokenizer(prompt, return_tensors=\"pt\", padding=True, truncation=True)\n",
    "    #  # Ensure that the attention mask and the pad token are set correctly\n",
    "    # if 'attention_mask' not in inputs:\n",
    "    #     inputs['attention_mask'] = torch.ones_like(inputs['input_ids'])\n",
    "    # if 'pad_token_id' not in tokenizer.vocab:\n",
    "    #     tokenizer.pad_token = tokenizer.eos_token\n",
    "\n",
    "    output_sequences = model.generate(\n",
    "        input_ids=inputs['input_ids'], \n",
    "        attention_mask=inputs['attention_mask'],\n",
    "        max_length=2000, \n",
    "        num_return_sequences=1,\n",
    "        do_sample=False  # Ensures more deterministic outputs\n",
    "    )\n",
    "\n",
    "    # print(tokenizer.decode(output_sequences, skip_special_tokens=True))\n",
    "    text = tokenizer.decode(output_sequences[0], skip_special_tokens=True)\n",
    "    summary_index = text.find(\"Summary:\\n\")\n",
    "    summary = text\n",
    "    if summary_index != -1:\n",
    "        # Extract the text from \"Begin Summary:\" to the end of the string\n",
    "         summary = text[summary_index:].strip()\n",
    "    \n",
    "    return summary \n",
    "\n",
    "# Apply summarization to each abstract and store results in a new column\n",
    "\n",
    "\n",
    "summary = summarize_abstract(abstract)\n"
   ]
  },
  {
   "cell_type": "code",
   "execution_count": 17,
   "metadata": {},
   "outputs": [
    {
     "name": "stdout",
     "output_type": "stream",
     "text": [
      "Summary:\n",
      "The invention relates to a ring-type wearable device with a changeable size, achieved by replacing the inner ring with a different size. The device includes an outer ring, an inner ring, a cover, a sensor, a control circuit, and a battery. The size change allows for a more comfortable fit on different fingers. The invention also includes a GSR sensor, a display, and a dial for operating the display. The device's energy efficiency is not explicitly mentioned, but the use of a non-metal material for the antenna may contribute to reducing energy consumption. However, the potential drawback of the device's size changeability is not discussed.\n"
     ]
    }
   ],
   "source": [
    "print(summary)"
   ]
  }
 ],
 "metadata": {
  "kernelspec": {
   "display_name": "triztest",
   "language": "python",
   "name": "python3"
  },
  "language_info": {
   "codemirror_mode": {
    "name": "ipython",
    "version": 3
   },
   "file_extension": ".py",
   "mimetype": "text/x-python",
   "name": "python",
   "nbconvert_exporter": "python",
   "pygments_lexer": "ipython3",
   "version": "3.12.1"
  }
 },
 "nbformat": 4,
 "nbformat_minor": 2
}
