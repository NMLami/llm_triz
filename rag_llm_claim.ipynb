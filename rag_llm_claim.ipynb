{
 "cells": [
  {
   "cell_type": "code",
   "execution_count": 2,
   "metadata": {
    "metadata": {}
   },
   "outputs": [
    {
     "name": "stdout",
     "output_type": "stream",
     "text": [
      "Hello\n"
     ]
    }
   ],
   "source": [
    "print(\"Hello\")"
   ]
  },
  {
   "cell_type": "code",
   "execution_count": 4,
   "metadata": {
    "metadata": {}
   },
   "outputs": [
    {
     "name": "stdout",
     "output_type": "stream",
     "text": [
      "Merged CSV saved to ./test_summarization_loop/merged_file_claims.csv\n"
     ]
    }
   ],
   "source": [
    "import pandas as pd\n",
    "import os\n",
    "\n",
    "\n",
    "# Directory where your CSV files are located\n",
    "folder_path = './summarized_patents_claims/'\n",
    "\n",
    "\n",
    "# List to hold data from each CSV file\n",
    "data_frames = []\n",
    "\n",
    "\n",
    "# Loop through all the CSV files in the directory\n",
    "for file_name in os.listdir(folder_path):\n",
    "    if file_name.endswith('.csv'):\n",
    "        file_path = os.path.join(folder_path, file_name)\n",
    "        # Read the CSV file and append it to the list of data frames\n",
    "        df = pd.read_csv(file_path)\n",
    "        data_frames.append(df)\n",
    "\n",
    "\n",
    "# Concatenate all the data frames into one\n",
    "merged_df = pd.concat(data_frames, ignore_index=True)\n",
    "\n",
    "\n",
    "# Save the merged data frame to a new CSV file\n",
    "output_file_path = './test_summarization_loop/merged_file_claims.csv'\n",
    "merged_df.to_csv(output_file_path, index=False)\n",
    "\n",
    "\n",
    "print(f'Merged CSV saved to {output_file_path}')\n"
   ]
  },
  {
   "cell_type": "code",
   "execution_count": 5,
   "metadata": {
    "metadata": {}
   },
   "outputs": [],
   "source": [
    "import pandas as pd\n",
    "data_patent = pd.read_csv('./test_summarization_loop/merged_file_claims.csv')"
   ]
  },
  {
   "cell_type": "code",
   "execution_count": 9,
   "metadata": {
    "metadata": {}
   },
   "outputs": [
    {
     "name": "stdout",
     "output_type": "stream",
     "text": [
      "3720 11\n"
     ]
    },
    {
     "data": {
      "text/html": [
       "<div>\n",
       "<style scoped>\n",
       "    .dataframe tbody tr th:only-of-type {\n",
       "        vertical-align: middle;\n",
       "    }\n",
       "\n",
       "    .dataframe tbody tr th {\n",
       "        vertical-align: top;\n",
       "    }\n",
       "\n",
       "    .dataframe thead th {\n",
       "        text-align: right;\n",
       "    }\n",
       "</style>\n",
       "<table border=\"1\" class=\"dataframe\">\n",
       "  <thead>\n",
       "    <tr style=\"text-align: right;\">\n",
       "      <th></th>\n",
       "      <th>Unnamed: 0</th>\n",
       "      <th>Country</th>\n",
       "      <th>PatentNumber</th>\n",
       "      <th>ApplicationReference</th>\n",
       "      <th>Kind</th>\n",
       "      <th>Date</th>\n",
       "      <th>Abstract</th>\n",
       "      <th>OrganizationName</th>\n",
       "      <th>SummaryOfInvention</th>\n",
       "      <th>Claims</th>\n",
       "      <th>SummaryofPatentClaims</th>\n",
       "    </tr>\n",
       "  </thead>\n",
       "  <tbody>\n",
       "    <tr>\n",
       "      <th>0</th>\n",
       "      <td>938</td>\n",
       "      <td>US</td>\n",
       "      <td>RE049823</td>\n",
       "      <td>reissue</td>\n",
       "      <td>E1</td>\n",
       "      <td>2024-01-30</td>\n",
       "      <td>Apparatuses and methods for transmitting and r...</td>\n",
       "      <td>Samsung Electronics Co., Ltd.</td>\n",
       "      <td>{'h-0001 - PRIORITY': ['This application claim...</td>\n",
       "      <td>['1. A method for transmitting a signal by a b...</td>\n",
       "      <td>Summary: The proposed research aims to improve...</td>\n",
       "    </tr>\n",
       "    <tr>\n",
       "      <th>1</th>\n",
       "      <td>1336</td>\n",
       "      <td>US</td>\n",
       "      <td>11883166</td>\n",
       "      <td>utility</td>\n",
       "      <td>B2</td>\n",
       "      <td>2024-01-30</td>\n",
       "      <td>An apparatus for estimating a component of an ...</td>\n",
       "      <td>SAMSUNG ELECTRONICS CO., LTD.</td>\n",
       "      <td>{'h-0001 - CROSS-REFERENCE TO RELATED APPLICAT...</td>\n",
       "      <td>['1. An apparatus for estimating a component o...</td>\n",
       "      <td>Summary: The research aims to improve the accu...</td>\n",
       "    </tr>\n",
       "    <tr>\n",
       "      <th>2</th>\n",
       "      <td>1342</td>\n",
       "      <td>US</td>\n",
       "      <td>11883172</td>\n",
       "      <td>utility</td>\n",
       "      <td>B2</td>\n",
       "      <td>2024-01-30</td>\n",
       "      <td>An electronic device may determine whether a u...</td>\n",
       "      <td>Samsung Electronics Co., Ltd.</td>\n",
       "      <td>{'h-0001 - CROSS-REFERENCE TO RELATED APPLICAT...</td>\n",
       "      <td>['1. An electronic device comprising: a batter...</td>\n",
       "      <td>Summary:\\nThe present invention aims to improv...</td>\n",
       "    </tr>\n",
       "    <tr>\n",
       "      <th>3</th>\n",
       "      <td>2008</td>\n",
       "      <td>US</td>\n",
       "      <td>11883795</td>\n",
       "      <td>utility</td>\n",
       "      <td>B2</td>\n",
       "      <td>2024-01-30</td>\n",
       "      <td>Provided are an ammonia decomposition catalyst...</td>\n",
       "      <td>SAMSUNG ENGINEERING CO., LTD.</td>\n",
       "      <td>{'h-0001 - CROSS-REFERENCE TO RELATED APPLICAT...</td>\n",
       "      <td>['1. An ammonia decomposition catalyst compris...</td>\n",
       "      <td>Summary:\\nThe research aims to improve the eff...</td>\n",
       "    </tr>\n",
       "    <tr>\n",
       "      <th>4</th>\n",
       "      <td>2118</td>\n",
       "      <td>US</td>\n",
       "      <td>11883905</td>\n",
       "      <td>utility</td>\n",
       "      <td>B2</td>\n",
       "      <td>2024-01-30</td>\n",
       "      <td>A wafer processing apparatus includes: a laser...</td>\n",
       "      <td>Samsung Electronics Co., Ltd.</td>\n",
       "      <td>{'h-0001 - CROSS-REFERENCE TO RELATED APPLICAT...</td>\n",
       "      <td>['1. A wafer processing apparatus comprising: ...</td>\n",
       "      <td>Summary:\\nThe research aims to improve the ene...</td>\n",
       "    </tr>\n",
       "    <tr>\n",
       "      <th>...</th>\n",
       "      <td>...</td>\n",
       "      <td>...</td>\n",
       "      <td>...</td>\n",
       "      <td>...</td>\n",
       "      <td>...</td>\n",
       "      <td>...</td>\n",
       "      <td>...</td>\n",
       "      <td>...</td>\n",
       "      <td>...</td>\n",
       "      <td>...</td>\n",
       "      <td>...</td>\n",
       "    </tr>\n",
       "    <tr>\n",
       "      <th>3715</th>\n",
       "      <td>7672</td>\n",
       "      <td>US</td>\n",
       "      <td>11944003</td>\n",
       "      <td>utility</td>\n",
       "      <td>B2</td>\n",
       "      <td>2024-03-26</td>\n",
       "      <td>An organic light-emitting device having a low ...</td>\n",
       "      <td>Samsung Display Co., Ltd.</td>\n",
       "      <td>{'h-0001 - CROSS-REFERENCE TO RELATED APPLICAT...</td>\n",
       "      <td>['1. An organic light-emitting device comprisi...</td>\n",
       "      <td>rd,ator,ator,ot,ot,ot,otener,rapenerator,rapen...</td>\n",
       "    </tr>\n",
       "    <tr>\n",
       "      <th>3716</th>\n",
       "      <td>7674</td>\n",
       "      <td>US</td>\n",
       "      <td>11944005</td>\n",
       "      <td>utility</td>\n",
       "      <td>B2</td>\n",
       "      <td>2024-03-26</td>\n",
       "      <td>The invention relates to an organic molecule, ...</td>\n",
       "      <td>SAMSUNG DISPLAY CO., LTD.</td>\n",
       "      <td>{'Initial Paragraphs': ['The invention relates...</td>\n",
       "      <td>['1. An organic molecule, comprising Formula A...</td>\n",
       "      <td>Summary: The research aims to improve the ener...</td>\n",
       "    </tr>\n",
       "    <tr>\n",
       "      <th>3717</th>\n",
       "      <td>7675</td>\n",
       "      <td>US</td>\n",
       "      <td>11944006</td>\n",
       "      <td>utility</td>\n",
       "      <td>B2</td>\n",
       "      <td>2024-03-26</td>\n",
       "      <td>A diamine compound includes a naphthyl-phenyl ...</td>\n",
       "      <td>Samsung Display Co., Ltd.</td>\n",
       "      <td>{'h-0001 - CROSS-REFERENCE TO RELATED APPLICAT...</td>\n",
       "      <td>['1. An organic light-emitting device comprisi...</td>\n",
       "      <td>Summary: The research aims to improve the ener...</td>\n",
       "    </tr>\n",
       "    <tr>\n",
       "      <th>3718</th>\n",
       "      <td>7677</td>\n",
       "      <td>US</td>\n",
       "      <td>11944008</td>\n",
       "      <td>utility</td>\n",
       "      <td>B2</td>\n",
       "      <td>2024-03-26</td>\n",
       "      <td>Provided are a heterocyclic compound represent...</td>\n",
       "      <td>Samsung Display Co., Ltd.</td>\n",
       "      <td>{'h-0001 - CROSS-REFERENCE TO RELATED APPLICAT...</td>\n",
       "      <td>['1. An organic light-emitting device comprisi...</td>\n",
       "      <td>The research aims to improve the energy effici...</td>\n",
       "    </tr>\n",
       "    <tr>\n",
       "      <th>3719</th>\n",
       "      <td>7683</td>\n",
       "      <td>US</td>\n",
       "      <td>11944014</td>\n",
       "      <td>utility</td>\n",
       "      <td>B2</td>\n",
       "      <td>2024-03-26</td>\n",
       "      <td>A magnetic memory device including a magnetic ...</td>\n",
       "      <td>Samsung Electronics Co., Ltd.</td>\n",
       "      <td>{'h-0001 - CROSS-REFERENCE TO RELATED APPLICAT...</td>\n",
       "      <td>['1. A magnetic memory device comprising a mag...</td>\n",
       "      <td>Summary: The research aims to improve the ener...</td>\n",
       "    </tr>\n",
       "  </tbody>\n",
       "</table>\n",
       "<p>3720 rows × 11 columns</p>\n",
       "</div>"
      ],
      "text/plain": [
       "      Unnamed: 0 Country PatentNumber ApplicationReference Kind        Date  \\\n",
       "0            938      US     RE049823              reissue   E1  2024-01-30   \n",
       "1           1336      US     11883166              utility   B2  2024-01-30   \n",
       "2           1342      US     11883172              utility   B2  2024-01-30   \n",
       "3           2008      US     11883795              utility   B2  2024-01-30   \n",
       "4           2118      US     11883905              utility   B2  2024-01-30   \n",
       "...          ...     ...          ...                  ...  ...         ...   \n",
       "3715        7672      US     11944003              utility   B2  2024-03-26   \n",
       "3716        7674      US     11944005              utility   B2  2024-03-26   \n",
       "3717        7675      US     11944006              utility   B2  2024-03-26   \n",
       "3718        7677      US     11944008              utility   B2  2024-03-26   \n",
       "3719        7683      US     11944014              utility   B2  2024-03-26   \n",
       "\n",
       "                                               Abstract  \\\n",
       "0     Apparatuses and methods for transmitting and r...   \n",
       "1     An apparatus for estimating a component of an ...   \n",
       "2     An electronic device may determine whether a u...   \n",
       "3     Provided are an ammonia decomposition catalyst...   \n",
       "4     A wafer processing apparatus includes: a laser...   \n",
       "...                                                 ...   \n",
       "3715  An organic light-emitting device having a low ...   \n",
       "3716  The invention relates to an organic molecule, ...   \n",
       "3717  A diamine compound includes a naphthyl-phenyl ...   \n",
       "3718  Provided are a heterocyclic compound represent...   \n",
       "3719  A magnetic memory device including a magnetic ...   \n",
       "\n",
       "                   OrganizationName  \\\n",
       "0     Samsung Electronics Co., Ltd.   \n",
       "1     SAMSUNG ELECTRONICS CO., LTD.   \n",
       "2     Samsung Electronics Co., Ltd.   \n",
       "3     SAMSUNG ENGINEERING CO., LTD.   \n",
       "4     Samsung Electronics Co., Ltd.   \n",
       "...                             ...   \n",
       "3715      Samsung Display Co., Ltd.   \n",
       "3716      SAMSUNG DISPLAY CO., LTD.   \n",
       "3717      Samsung Display Co., Ltd.   \n",
       "3718      Samsung Display Co., Ltd.   \n",
       "3719  Samsung Electronics Co., Ltd.   \n",
       "\n",
       "                                     SummaryOfInvention  \\\n",
       "0     {'h-0001 - PRIORITY': ['This application claim...   \n",
       "1     {'h-0001 - CROSS-REFERENCE TO RELATED APPLICAT...   \n",
       "2     {'h-0001 - CROSS-REFERENCE TO RELATED APPLICAT...   \n",
       "3     {'h-0001 - CROSS-REFERENCE TO RELATED APPLICAT...   \n",
       "4     {'h-0001 - CROSS-REFERENCE TO RELATED APPLICAT...   \n",
       "...                                                 ...   \n",
       "3715  {'h-0001 - CROSS-REFERENCE TO RELATED APPLICAT...   \n",
       "3716  {'Initial Paragraphs': ['The invention relates...   \n",
       "3717  {'h-0001 - CROSS-REFERENCE TO RELATED APPLICAT...   \n",
       "3718  {'h-0001 - CROSS-REFERENCE TO RELATED APPLICAT...   \n",
       "3719  {'h-0001 - CROSS-REFERENCE TO RELATED APPLICAT...   \n",
       "\n",
       "                                                 Claims  \\\n",
       "0     ['1. A method for transmitting a signal by a b...   \n",
       "1     ['1. An apparatus for estimating a component o...   \n",
       "2     ['1. An electronic device comprising: a batter...   \n",
       "3     ['1. An ammonia decomposition catalyst compris...   \n",
       "4     ['1. A wafer processing apparatus comprising: ...   \n",
       "...                                                 ...   \n",
       "3715  ['1. An organic light-emitting device comprisi...   \n",
       "3716  ['1. An organic molecule, comprising Formula A...   \n",
       "3717  ['1. An organic light-emitting device comprisi...   \n",
       "3718  ['1. An organic light-emitting device comprisi...   \n",
       "3719  ['1. A magnetic memory device comprising a mag...   \n",
       "\n",
       "                                  SummaryofPatentClaims  \n",
       "0     Summary: The proposed research aims to improve...  \n",
       "1     Summary: The research aims to improve the accu...  \n",
       "2     Summary:\\nThe present invention aims to improv...  \n",
       "3     Summary:\\nThe research aims to improve the eff...  \n",
       "4     Summary:\\nThe research aims to improve the ene...  \n",
       "...                                                 ...  \n",
       "3715  rd,ator,ator,ot,ot,ot,otener,rapenerator,rapen...  \n",
       "3716  Summary: The research aims to improve the ener...  \n",
       "3717  Summary: The research aims to improve the ener...  \n",
       "3718  The research aims to improve the energy effici...  \n",
       "3719  Summary: The research aims to improve the ener...  \n",
       "\n",
       "[3720 rows x 11 columns]"
      ]
     },
     "metadata": {},
     "output_type": "display_data"
    }
   ],
   "source": [
    "rows = len(data_patent.axes[0])\n",
    "cols = len(data_patent.axes[1])\n",
    "print(rows, cols)\n",
    "display(data_patent)"
   ]
  },
  {
   "cell_type": "code",
   "execution_count": 10,
   "metadata": {
    "metadata": {}
   },
   "outputs": [],
   "source": [
    "patent_data = data_patent[[\"PatentNumber\",\"ApplicationReference\",\"Date\",\"OrganizationName\",\"SummaryofPatentClaims\"]]"
   ]
  },
  {
   "cell_type": "code",
   "execution_count": 11,
   "metadata": {
    "metadata": {}
   },
   "outputs": [
    {
     "name": "stdout",
     "output_type": "stream",
     "text": [
      "3720 5\n"
     ]
    }
   ],
   "source": [
    "rows = len(patent_data.axes[0])\n",
    "cols = len(patent_data.axes[1])\n",
    "print(rows, cols)"
   ]
  },
  {
   "cell_type": "code",
   "execution_count": 12,
   "metadata": {
    "metadata": {}
   },
   "outputs": [],
   "source": [
    "patent_data.to_csv('./test_summarization_loop/patents_summarized_claims_clean.csv', index=False)"
   ]
  },
  {
   "cell_type": "code",
   "execution_count": 14,
   "metadata": {
    "metadata": {}
   },
   "outputs": [
    {
     "data": {
      "text/plain": [
       "131072"
      ]
     },
     "execution_count": 14,
     "metadata": {},
     "output_type": "execute_result"
    }
   ],
   "source": [
    "from langchain_community.document_loaders.csv_loader import CSVLoader\n",
    "import sys\n",
    "import csv\n",
    "\n",
    "csv.field_size_limit(sys.maxsize)"
   ]
  },
  {
   "cell_type": "code",
   "execution_count": 15,
   "metadata": {
    "metadata": {}
   },
   "outputs": [],
   "source": [
    "loader = CSVLoader(file_path='./test_summarization_loop/patents_summarized_claims_clean.csv')\n",
    "\n",
    "documents = loader.load()"
   ]
  },
  {
   "cell_type": "code",
   "execution_count": 16,
   "metadata": {
    "metadata": {}
   },
   "outputs": [
    {
     "name": "stdout",
     "output_type": "stream",
     "text": [
      "<class 'list'>\n"
     ]
    }
   ],
   "source": [
    "print(type(documents))"
   ]
  },
  {
   "cell_type": "code",
   "execution_count": 17,
   "metadata": {
    "metadata": {}
   },
   "outputs": [
    {
     "data": {
      "text/plain": [
       "'PatentNumber: RE049823\\nApplicationReference: reissue\\nDate: 2024-01-30\\nOrganizationName: Samsung Electronics Co., Ltd.\\nSummaryofPatentClaims: Summary: The proposed research aims to improve the efficiency of a base station in a mobile communication system by multiplexing common control channel signals and RU specific data signals for different radio units (RUs) through a common public radio interface (CPRI) based on a wired medium. The method determines the UEs with a maximum scheduling metric based on channel quality information and generates a common control channel signal for the UEs. The RU specific data signals are generated for each RU, and the signals are multiplexed and transmitted to the RUs through the CPRI. The proposed method aims to reduce the number of signals transmitted by the base station, thereby improving the energy efficiency of the base station. However, the proposed method may require additional signal processing and transmission resources, which could potentially degrade the performance of the system. The energy efficiency of the proposed method is not discussed in the provided text.'"
      ]
     },
     "execution_count": 17,
     "metadata": {},
     "output_type": "execute_result"
    }
   ],
   "source": [
    "documents[0].page_content"
   ]
  },
  {
   "cell_type": "code",
   "execution_count": 18,
   "metadata": {
    "metadata": {}
   },
   "outputs": [
    {
     "data": {
      "text/plain": [
       "3720"
      ]
     },
     "execution_count": 18,
     "metadata": {},
     "output_type": "execute_result"
    }
   ],
   "source": [
    "len(documents)"
   ]
  },
  {
   "cell_type": "code",
   "execution_count": 7,
   "metadata": {},
   "outputs": [],
   "source": []
  },
  {
   "cell_type": "code",
   "execution_count": 19,
   "metadata": {
    "metadata": {}
   },
   "outputs": [
    {
     "name": "stderr",
     "output_type": "stream",
     "text": [
      "[codecarbon WARNING @ 20:42:17] Invalid gpu_ids format. Expected a string or a list of ints.\n",
      "[codecarbon INFO @ 20:42:17] [setup] RAM Tracking...\n",
      "[codecarbon INFO @ 20:42:17] [setup] GPU Tracking...\n",
      "[codecarbon INFO @ 20:42:17] Tracking Nvidia GPU via pynvml\n",
      "[codecarbon INFO @ 20:42:17] [setup] CPU Tracking...\n",
      "[codecarbon WARNING @ 20:42:17] No CPU tracking mode found. Falling back on CPU constant mode.\n"
     ]
    },
    {
     "name": "stdout",
     "output_type": "stream",
     "text": [
      "Start of code time:  1717962137.5860078\n"
     ]
    },
    {
     "name": "stderr",
     "output_type": "stream",
     "text": [
      "[codecarbon WARNING @ 20:42:18] We saw that you have a Intel(R) Xeon(R) Gold 6330 CPU @ 2.00GHz but we don't know it. Please contact us.\n",
      "[codecarbon INFO @ 20:42:18] CPU Model on constant consumption mode: Intel(R) Xeon(R) Gold 6330 CPU @ 2.00GHz\n",
      "[codecarbon INFO @ 20:42:18] >>> Tracker's metadata:\n",
      "[codecarbon INFO @ 20:42:18]   Platform system: Linux-5.4.0-182-generic-x86_64-with-glibc2.31\n",
      "[codecarbon INFO @ 20:42:18]   Python version: 3.12.1\n",
      "[codecarbon INFO @ 20:42:18]   CodeCarbon version: 2.4.1\n",
      "[codecarbon INFO @ 20:42:18]   Available RAM : 503.339 GB\n",
      "[codecarbon INFO @ 20:42:18]   CPU count: 112\n",
      "[codecarbon INFO @ 20:42:18]   CPU model: Intel(R) Xeon(R) Gold 6330 CPU @ 2.00GHz\n",
      "[codecarbon INFO @ 20:42:18]   GPU count: 2\n",
      "[codecarbon INFO @ 20:42:18]   GPU model: 2 x NVIDIA A40\n",
      "/home/c7361293/miniconda3/envs/triztest/lib/python3.12/site-packages/tqdm/auto.py:21: TqdmWarning: IProgress not found. Please update jupyter and ipywidgets. See https://ipywidgets.readthedocs.io/en/stable/user_install.html\n",
      "  from .autonotebook import tqdm as notebook_tqdm\n",
      "[codecarbon INFO @ 20:42:33] Energy consumed for RAM : 0.000580 kWh. RAM Power : 188.75217247009277 W\n",
      "[codecarbon INFO @ 20:42:33] Energy consumed for all GPUs : 0.000469 kWh. Total GPU Power : 152.46446843357725 W\n",
      "[codecarbon INFO @ 20:42:33] Energy consumed for all CPUs : 0.000131 kWh. Total CPU Power : 42.5 W\n",
      "[codecarbon INFO @ 20:42:33] 0.001180 kWh of electricity used since the beginning.\n"
     ]
    },
    {
     "name": "stdout",
     "output_type": "stream",
     "text": [
      "Emissions for this code execution is:  0.0003082000930634631\n",
      "End of code time:  1717962153.243683\n"
     ]
    }
   ],
   "source": [
    "#Embedding model load\n",
    "\n",
    "from langchain.embeddings import HuggingFaceBgeEmbeddings\n",
    "from langchain.vectorstores import Chroma\n",
    "from codecarbon import EmissionsTracker\n",
    "import time\n",
    "\n",
    "print(\"Start of code time: \",time.time())\n",
    "\n",
    "tracker = EmissionsTracker()\n",
    "tracker.start()\n",
    "\n",
    "model_name = \"BAAI/bge-large-en-v1.5\"\n",
    "# model_kwargs = {'device': 'cuda'}\n",
    "encode_kwargs = {'normalize_embeddings': True} # set True to compute cosine similarity\n",
    "model = HuggingFaceBgeEmbeddings(\n",
    "    model_name=model_name,\n",
    "    # model_kwargs=model_kwargs,\n",
    "    encode_kwargs=encode_kwargs\n",
    "    # ,\n",
    "    # query_instruction=\"为这个句子生成表示以用于检索相关文章：\"\n",
    ")\n",
    "\n",
    "\n",
    "emissions: float = tracker.stop()\n",
    "print(\"Emissions for this code execution is: \", emissions)\n",
    "print(\"End of code time: \",time.time())"
   ]
  },
  {
   "cell_type": "code",
   "execution_count": 21,
   "metadata": {
    "metadata": {}
   },
   "outputs": [
    {
     "name": "stdout",
     "output_type": "stream",
     "text": [
      "client=SentenceTransformer(\n",
      "  (0): Transformer({'max_seq_length': 512, 'do_lower_case': True}) with Transformer model: BertModel \n",
      "  (1): Pooling({'word_embedding_dimension': 1024, 'pooling_mode_cls_token': True, 'pooling_mode_mean_tokens': False, 'pooling_mode_max_tokens': False, 'pooling_mode_mean_sqrt_len_tokens': False, 'pooling_mode_weightedmean_tokens': False, 'pooling_mode_lasttoken': False, 'include_prompt': True})\n",
      "  (2): Normalize()\n",
      ") model_name='BAAI/bge-large-en-v1.5' cache_folder=None model_kwargs={} encode_kwargs={'normalize_embeddings': True} query_instruction='Represent this question for searching relevant passages: ' embed_instruction=''\n"
     ]
    }
   ],
   "source": [
    "print(model)"
   ]
  },
  {
   "cell_type": "code",
   "execution_count": 22,
   "metadata": {
    "metadata": {}
   },
   "outputs": [],
   "source": [
    "import os # Importing os module for operating system functionalities\n",
    "import shutil # Importing shutil module for high-level file operations"
   ]
  },
  {
   "cell_type": "code",
   "execution_count": 23,
   "metadata": {
    "metadata": {}
   },
   "outputs": [],
   "source": [
    " # Clear out the existing database directory if it exists\n",
    "if os.path.exists(\"./db_claims\"):\n",
    "    shutil.rmtree(\"./db_claims\")\n"
   ]
  },
  {
   "cell_type": "code",
   "execution_count": 26,
   "metadata": {
    "metadata": {}
   },
   "outputs": [
    {
     "name": "stderr",
     "output_type": "stream",
     "text": [
      "[codecarbon WARNING @ 20:43:52] Invalid gpu_ids format. Expected a string or a list of ints.\n",
      "[codecarbon INFO @ 20:43:52] [setup] RAM Tracking...\n",
      "[codecarbon INFO @ 20:43:52] [setup] GPU Tracking...\n",
      "[codecarbon INFO @ 20:43:52] Tracking Nvidia GPU via pynvml\n",
      "[codecarbon INFO @ 20:43:52] [setup] CPU Tracking...\n",
      "[codecarbon WARNING @ 20:43:52] No CPU tracking mode found. Falling back on CPU constant mode.\n"
     ]
    },
    {
     "name": "stdout",
     "output_type": "stream",
     "text": [
      "Start of code time:  1717962232.87518\n"
     ]
    },
    {
     "name": "stderr",
     "output_type": "stream",
     "text": [
      "[codecarbon WARNING @ 20:43:54] We saw that you have a Intel(R) Xeon(R) Gold 6330 CPU @ 2.00GHz but we don't know it. Please contact us.\n",
      "[codecarbon INFO @ 20:43:54] CPU Model on constant consumption mode: Intel(R) Xeon(R) Gold 6330 CPU @ 2.00GHz\n",
      "[codecarbon INFO @ 20:43:54] >>> Tracker's metadata:\n",
      "[codecarbon INFO @ 20:43:54]   Platform system: Linux-5.4.0-182-generic-x86_64-with-glibc2.31\n",
      "[codecarbon INFO @ 20:43:54]   Python version: 3.12.1\n",
      "[codecarbon INFO @ 20:43:54]   CodeCarbon version: 2.4.1\n",
      "[codecarbon INFO @ 20:43:54]   Available RAM : 503.339 GB\n",
      "[codecarbon INFO @ 20:43:54]   CPU count: 112\n",
      "[codecarbon INFO @ 20:43:54]   CPU model: Intel(R) Xeon(R) Gold 6330 CPU @ 2.00GHz\n",
      "[codecarbon INFO @ 20:43:54]   GPU count: 2\n",
      "[codecarbon INFO @ 20:43:54]   GPU model: 2 x NVIDIA A40\n",
      "[codecarbon INFO @ 20:44:12] Energy consumed for RAM : 0.000787 kWh. RAM Power : 188.75217247009277 W\n",
      "[codecarbon INFO @ 20:44:12] Energy consumed for all GPUs : 0.001416 kWh. Total GPU Power : 339.3639527168796 W\n",
      "[codecarbon INFO @ 20:44:12] Energy consumed for all CPUs : 0.000177 kWh. Total CPU Power : 42.5 W\n",
      "[codecarbon INFO @ 20:44:12] 0.002380 kWh of electricity used since the beginning.\n",
      "[codecarbon INFO @ 20:44:27] Energy consumed for RAM : 0.001572 kWh. RAM Power : 188.75217247009277 W\n",
      "[codecarbon INFO @ 20:44:27] Energy consumed for all GPUs : 0.002942 kWh. Total GPU Power : 366.8108962372996 W\n",
      "[codecarbon INFO @ 20:44:27] Energy consumed for all CPUs : 0.000354 kWh. Total CPU Power : 42.5 W\n",
      "[codecarbon INFO @ 20:44:27] 0.004869 kWh of electricity used since the beginning.\n",
      "[codecarbon INFO @ 20:44:37] Energy consumed for RAM : 0.002080 kWh. RAM Power : 188.75217247009277 W\n",
      "[codecarbon INFO @ 20:44:37] Energy consumed for all GPUs : 0.003689 kWh. Total GPU Power : 277.89063061832843 W\n",
      "[codecarbon INFO @ 20:44:37] Energy consumed for all CPUs : 0.000469 kWh. Total CPU Power : 42.5 W\n",
      "[codecarbon INFO @ 20:44:37] 0.006238 kWh of electricity used since the beginning.\n"
     ]
    },
    {
     "name": "stdout",
     "output_type": "stream",
     "text": [
      "Emissions for this code execution is:  0.001628985280054739\n",
      "End of code time:  1717962277.0582168\n"
     ]
    }
   ],
   "source": [
    "#Chroma DB saving files and embeddings\n",
    "\n",
    "from langchain.vectorstores import Chroma\n",
    "from codecarbon import EmissionsTracker\n",
    "import time\n",
    "\n",
    "print(\"Start of code time: \",time.time())\n",
    "\n",
    "tracker = EmissionsTracker()\n",
    "tracker.start()\n",
    "\n",
    "chroma_db = Chroma.from_documents(\n",
    "    documents, model, persist_directory=\"./db_claims\"\n",
    ")\n",
    "\n",
    "chroma_db.persist()\n",
    "\n",
    "emissions: float = tracker.stop()\n",
    "print(\"Emissions for this code execution is: \", emissions)\n",
    "print(\"End of code time: \",time.time())\n"
   ]
  },
  {
   "cell_type": "code",
   "execution_count": 47,
   "metadata": {},
   "outputs": [],
   "source": []
  },
  {
   "cell_type": "code",
   "execution_count": 28,
   "metadata": {
    "metadata": {}
   },
   "outputs": [
    {
     "name": "stdout",
     "output_type": "stream",
     "text": [
      "similarity_score_threshold {'k': 10, 'score_threshold': 0.5}\n"
     ]
    }
   ],
   "source": [
    "vectordb = Chroma(persist_directory=\"./db_claims\", embedding_function= model)\n",
    "# retriever = vectordb.as_retriever(search_kwargs = {\"k\": 10})\n",
    "retriever = vectordb.as_retriever(search_type = \"similarity_score_threshold\",search_kwargs = {\"k\": 10, \"score_threshold\":0.50})\n",
    "print(retriever.search_type, retriever.search_kwargs)"
   ]
  },
  {
   "cell_type": "code",
   "execution_count": 13,
   "metadata": {},
   "outputs": [],
   "source": []
  },
  {
   "cell_type": "code",
   "execution_count": 14,
   "metadata": {},
   "outputs": [
    {
     "name": "stdout",
     "output_type": "stream",
     "text": [
      "similarity {'k': 10}\n"
     ]
    }
   ],
   "source": [
    "\n"
   ]
  },
  {
   "cell_type": "code",
   "execution_count": null,
   "metadata": {},
   "outputs": [],
   "source": []
  },
  {
   "cell_type": "code",
   "execution_count": 51,
   "metadata": {
    "metadata": {}
   },
   "outputs": [],
   "source": [
    "retirve_result = retriever.get_relevant_documents(\"Energy Efficient and Sustainable Touch Screen Display\")"
   ]
  },
  {
   "cell_type": "code",
   "execution_count": 52,
   "metadata": {
    "metadata": {}
   },
   "outputs": [
    {
     "data": {
      "text/plain": [
       "10"
      ]
     },
     "execution_count": 52,
     "metadata": {},
     "output_type": "execute_result"
    }
   ],
   "source": [
    "len(retirve_result)"
   ]
  },
  {
   "cell_type": "code",
   "execution_count": 53,
   "metadata": {
    "metadata": {}
   },
   "outputs": [
    {
     "data": {
      "text/plain": [
       "Document(page_content='PatentNumber: 11910672\\nApplicationReference: utility\\nDate: 2024-02-20\\nOrganizationName: Samsung Display Co., Ltd.\\nSummaryofPatentClaims: Summary: The research aims to improve the energy efficiency of display devices by reducing the number of power supply lines and increasing the capacitance of the capacitor electrode. The proposed method can reduce the power consumption of the touch panel by 20%, but may have some limitations such as reduced display quality due to the reduced number of power supply lines. Despite these limitations, the proposed method has the potential to significantly improve the energy efficiency of display devices, making them more environmentally friendly and cost-effective.', metadata={'row': 3112, 'source': './test_summarization_loop/patents_summarized_claims_clean.csv'})"
      ]
     },
     "execution_count": 53,
     "metadata": {},
     "output_type": "execute_result"
    }
   ],
   "source": [
    "retirve_result[0]"
   ]
  },
  {
   "cell_type": "code",
   "execution_count": 54,
   "metadata": {
    "metadata": {}
   },
   "outputs": [],
   "source": [
    "import re\n",
    "\n",
    "pattern = re.compile(r\"\\nSummaryofPatentClaims: Summary:\\n(.*)\", re.DOTALL)\n",
    "\n",
    "match = pattern.search(retirve_result[0].page_content)\n",
    "\n",
    "if match:\n",
    "    print(match.group(1).strip())"
   ]
  },
  {
   "cell_type": "code",
   "execution_count": 57,
   "metadata": {
    "metadata": {}
   },
   "outputs": [
    {
     "data": {
      "text/plain": [
       "[Document(page_content='PatentNumber: 11910672\\nApplicationReference: utility\\nDate: 2024-02-20\\nOrganizationName: Samsung Display Co., Ltd.\\nSummaryofPatentClaims: Summary: The research aims to improve the energy efficiency of display devices by reducing the number of power supply lines and increasing the capacitance of the capacitor electrode. The proposed method can reduce the power consumption of the touch panel by 20%, but may have some limitations such as reduced display quality due to the reduced number of power supply lines. Despite these limitations, the proposed method has the potential to significantly improve the energy efficiency of display devices, making them more environmentally friendly and cost-effective.', metadata={'row': 3112, 'source': './test_summarization_loop/patents_summarized_claims_clean.csv'}),\n",
       " Document(page_content='PatentNumber: 11861131\\nApplicationReference: utility\\nDate: 2024-01-02\\nOrganizationName: SAMSUNG DISPLAY CO., LTD.\\nSummaryofPatentClaims: Summary: The research aims to improve the energy efficiency of a display device by reducing the power consumption of the touch sensing unit. The proposed solution involves dividing the touch sensing unit into two areas and placing dummies overlapping the transmitting and non-display areas. The dummies help reduce the power consumption of the touch sensing unit by up to 30%. However, additional processing steps during manufacturing may increase production costs. The proposed solution does not mention any degrading parameters or potential drawbacks. The research focuses on improving energy efficiency, and the proposed solution achieves this goal by reducing the power consumption of the touch sensing unit.', metadata={'row': 2586, 'source': './test_summarization_loop/patents_summarized_claims_clean.csv'}),\n",
       " Document(page_content='PatentNumber: 11914825\\nApplicationReference: utility\\nDate: 2024-02-27\\nOrganizationName: Samsung Display Co., Ltd.\\nSummaryofPatentClaims: Summary: The present invention aims to improve energy efficiency in flexible display devices with touch screens by reducing the number of conductive patterns used while maintaining touch sensitivity. The invention achieves this by disposing conductive patterns on the base surface and overlapping them with the non-light emitting area of the display panel. While the invention improves energy efficiency, it may require additional processing steps during manufacturing, which could potentially affect the overall cost of the device.', metadata={'row': 1312, 'source': './test_summarization_loop/patents_summarized_claims_clean.csv'}),\n",
       " Document(page_content='PatentNumber: 11943990\\nApplicationReference: utility\\nDate: 2024-03-26\\nOrganizationName: Samsung Display Co., Ltd.\\nSummaryofPatentClaims: Summary: The research aims to improve the energy efficiency of display devices with input sensors by integrating the input sensor within the display panel. The proposed design reduces energy consumption by minimizing the area of the touch electrode and sensing insulating layer. However, the design may be limited by the size of the light emitting elements and the sensing insulating layer, which may affect the accuracy of the input sensor. Despite these limitations, the proposed design has the potential to improve energy efficiency.', metadata={'row': 3708, 'source': './test_summarization_loop/patents_summarized_claims_clean.csv'}),\n",
       " Document(page_content='PatentNumber: 11861126\\nApplicationReference: utility\\nDate: 2024-01-02\\nOrganizationName: Samsung Display Co., Ltd.\\nSummaryofPatentClaims: Summary:\\nThe research aims to improve the energy efficiency of electronic devices by developing a new sensor layer design that reduces the number of sensing electrodes required for touch detection while maintaining accuracy. The proposed design includes a sensing electrode with multiple portions, each extending between pixel groups, which can reduce the energy consumption of the electronic device. However, the design may face challenges in terms of manufacturing complexity and cost. Despite these challenges, the proposed design has the potential to improve the energy efficiency of electronic devices and provide a more sustainable solution for touch-sensitive displays.', metadata={'row': 2583, 'source': './test_summarization_loop/patents_summarized_claims_clean.csv'}),\n",
       " Document(page_content='PatentNumber: 11966535\\nApplicationReference: utility\\nDate: 2024-04-23\\nOrganizationName: Samsung Display Co., Ltd.\\nSummaryofPatentClaims: Summary:\\nThe research aims to improve energy efficiency by reducing the power consumption of the display panel while maintaining display quality. The proposed solution divides the display area into three non-sensing areas and one sensing area, using a sensing electrode array to sense the touch position. The sensing electrode array is divided into two parts, and the first part is connected to the master readout circuit, while the second part is connected to the slave readout circuit. The master readout circuit transmits a synchronization signal to the slave readout circuit, and the slave readout circuit transmits a sensing signal corresponding to the touch position to the master readout circuit. The proposed solution can reduce the power consumption of the display panel by 30% compared to the conventional solution, but the sensing electrode array may have a limited resolution, which may affect display quality.', metadata={'row': 2410, 'source': './test_summarization_loop/patents_summarized_claims_clean.csv'}),\n",
       " Document(page_content='PatentNumber: 11903296\\nApplicationReference: utility\\nDate: 2024-02-13\\nOrganizationName: Samsung Display Co., Ltd.\\nSummaryofPatentClaims: Summary: The present invention aims to improve energy efficiency in display devices by reducing the number of electrodes required for touch input detection while maintaining detection accuracy. The invention proposes a novel circuit configuration that can achieve this goal, but it does not mention any potential drawbacks or degrading parameters. The invention does not provide any information on energy efficiency, but it is expected to lead to a reduction in power consumption due to the reduced number of electrodes required for touch input detection.', metadata={'row': 466, 'source': './test_summarization_loop/patents_summarized_claims_clean.csv'}),\n",
       " Document(page_content='PatentNumber: 11860693\\nApplicationReference: utility\\nDate: 2024-01-02\\nOrganizationName: Samsung Display Co., Ltd.\\nSummaryofPatentClaims: Summary: The research aims to improve energy efficiency by optimizing the design of a display layer, digitizer, and support layer in an electronic apparatus. The design optimizations include minimizing the size of openings in the support layer, reducing the separation distance between long sides of the second sensing coils, and defining openings in a portion of the support layer overlapping the folding area. The research aims to reduce degradation of data lines due to bending of the apparatus and improve energy efficiency by optimizing the design of the digitizer. However, potential drawbacks include limitations on the size of the openings in the support layer and the separation distance between long sides of the second sensing coils. Despite these limitations, the research demonstrates a significant improvement in energy efficiency compared to conventional designs.', metadata={'row': 2562, 'source': './test_summarization_loop/patents_summarized_claims_clean.csv'}),\n",
       " Document(page_content='PatentNumber: 11928297\\nApplicationReference: utility\\nDate: 2024-03-12\\nOrganizationName: SAMSUNG DISPLAY CO., LTD.\\nSummaryofPatentClaims: Summary:\\nThe research aims to improve the display device by adding elongated connection parts to the touch panel, which reduces the number of connections required between sensing units, resulting in lower power consumption. However, the design may lead to reduced sensing accuracy or degraded performance due to the elongated connection parts. Despite these limitations, the proposed design offers a promising solution for improving the energy efficiency of display devices.', metadata={'row': 2255, 'source': './test_summarization_loop/patents_summarized_claims_clean.csv'}),\n",
       " Document(page_content='PatentNumber: 11880221\\nApplicationReference: utility\\nDate: 2024-01-23\\nOrganizationName: Samsung Display Co., Ltd.\\nSummaryofPatentClaims: Summary: The research aims to improve the energy efficiency of touch and pen input sensing by integrating multiple sensing electrodes on a single chip. The proposed design reduces the number of connection points required for touch and pen sensing, improving the energy efficiency of the input sensor. However, the increased sensing area may result in higher power consumption. The research focuses on optimizing the electrode layout and reducing the number of connection points to improve energy efficiency. Despite potential limitations, the proposed design offers a promising solution for improving the sensing performance of display devices while reducing energy consumption.', metadata={'row': 2064, 'source': './test_summarization_loop/patents_summarized_claims_clean.csv'})]"
      ]
     },
     "execution_count": 57,
     "metadata": {},
     "output_type": "execute_result"
    }
   ],
   "source": [
    "retirve_result"
   ]
  },
  {
   "cell_type": "code",
   "execution_count": 36,
   "metadata": {},
   "outputs": [],
   "source": [
    "# filtered_results = [doc for score, doc in retirve_result['SummaryofPatent'] if score >= \"0.7\"]\n",
    "# print(filtered_results)"
   ]
  },
  {
   "cell_type": "code",
   "execution_count": 36,
   "metadata": {
    "metadata": {}
   },
   "outputs": [
    {
     "data": {
      "text/plain": [
       "list"
      ]
     },
     "execution_count": 36,
     "metadata": {},
     "output_type": "execute_result"
    }
   ],
   "source": [
    "type(retirve_result)"
   ]
  },
  {
   "cell_type": "code",
   "execution_count": 56,
   "metadata": {
    "metadata": {}
   },
   "outputs": [
    {
     "name": "stdout",
     "output_type": "stream",
     "text": [
      "The research aims to improve the energy efficiency of electronic devices by developing a new sensor layer design that reduces the number of sensing electrodes required for touch detection while maintaining accuracy. The proposed design includes a sensing electrode with multiple portions, each extending between pixel groups, which can reduce the energy consumption of the electronic device. However, the design may face challenges in terms of manufacturing complexity and cost. Despite these challenges, the proposed design has the potential to improve the energy efficiency of electronic devices and provide a more sustainable solution for touch-sensitive displays.\n",
      "The research aims to improve energy efficiency by reducing the power consumption of the display panel while maintaining display quality. The proposed solution divides the display area into three non-sensing areas and one sensing area, using a sensing electrode array to sense the touch position. The sensing electrode array is divided into two parts, and the first part is connected to the master readout circuit, while the second part is connected to the slave readout circuit. The master readout circuit transmits a synchronization signal to the slave readout circuit, and the slave readout circuit transmits a sensing signal corresponding to the touch position to the master readout circuit. The proposed solution can reduce the power consumption of the display panel by 30% compared to the conventional solution, but the sensing electrode array may have a limited resolution, which may affect display quality.\n",
      "The research aims to improve the display device by adding elongated connection parts to the touch panel, which reduces the number of connections required between sensing units, resulting in lower power consumption. However, the design may lead to reduced sensing accuracy or degraded performance due to the elongated connection parts. Despite these limitations, the proposed design offers a promising solution for improving the energy efficiency of display devices.\n"
     ]
    }
   ],
   "source": [
    "import re\n",
    "\n",
    "for item in retirve_result:\n",
    "    pattern = re.compile(r\"\\nSummaryofPatentClaims: Summary:\\n(.*)\", re.DOTALL)\n",
    "\n",
    "    match = pattern.search(item.page_content)\n",
    "\n",
    "    if match:\n",
    "        print(match.group(1).strip())"
   ]
  },
  {
   "cell_type": "code",
   "execution_count": 47,
   "metadata": {
    "metadata": {}
   },
   "outputs": [
    {
     "name": "stdout",
     "output_type": "stream",
     "text": [
      "Patent Number: 11861126\n",
      "Summary: The research aims to improve the energy efficiency of electronic devices by developing a new sensor layer design that reduces the number of sensing electrodes required for touch detection while maintaining accuracy. The proposed design includes a sensing electrode with multiple portions, each extending between pixel groups, which can reduce the energy consumption of the electronic device. However, the design may face challenges in terms of manufacturing complexity and cost. Despite these challenges, the proposed design has the potential to improve the energy efficiency of electronic devices and provide a more sustainable solution for touch-sensitive displays.\n",
      "Patent Number: 11966535\n",
      "Summary: The research aims to improve energy efficiency by reducing the power consumption of the display panel while maintaining display quality. The proposed solution divides the display area into three non-sensing areas and one sensing area, using a sensing electrode array to sense the touch position. The sensing electrode array is divided into two parts, and the first part is connected to the master readout circuit, while the second part is connected to the slave readout circuit. The master readout circuit transmits a synchronization signal to the slave readout circuit, and the slave readout circuit transmits a sensing signal corresponding to the touch position to the master readout circuit. The proposed solution can reduce the power consumption of the display panel by 30% compared to the conventional solution, but the sensing electrode array may have a limited resolution, which may affect display quality.\n",
      "Patent Number: 11928297\n",
      "Summary: The research aims to improve the display device by adding elongated connection parts to the touch panel, which reduces the number of connections required between sensing units, resulting in lower power consumption. However, the design may lead to reduced sensing accuracy or degraded performance due to the elongated connection parts. Despite these limitations, the proposed design offers a promising solution for improving the energy efficiency of display devices.\n"
     ]
    }
   ],
   "source": [
    "import re\n",
    "\n",
    "# Assuming the Document class has an attribute 'page_content' that stores the content\n",
    "class Document:\n",
    "    def __init__(self, page_content):\n",
    "        self.page_content = page_content\n",
    "\n",
    "for item in retirve_result:\n",
    "    # Regular expression to capture Patent Number and Summary\n",
    "    pattern = re.compile(r\"PatentNumber: (\\d+)\\n.*\\nSummaryofPatentClaims: Summary:\\n(.*)\", re.DOTALL)\n",
    "\n",
    "    match = pattern.search(item.page_content)  # Use dot notation to access the page_content attribute\n",
    "\n",
    "    if match:\n",
    "        patent_number = match.group(1).strip()\n",
    "        summary = match.group(2).strip()\n",
    "        print(\"Patent Number:\", patent_number)\n",
    "        print(\"Summary:\", summary)\n"
   ]
  },
  {
   "cell_type": "code",
   "execution_count": 49,
   "metadata": {
    "metadata": {}
   },
   "outputs": [
    {
     "data": {
      "text/html": [
       "\n",
       "<style>\n",
       "    .research-summary {\n",
       "        border: 1px solid #ddd;\n",
       "        border-radius: 8px;\n",
       "        padding: 15px;\n",
       "        margin: 10px 0;\n",
       "        background-color: #f9f9f9;\n",
       "        color: black;\n",
       "    }\n",
       "    .research-summary h3 {\n",
       "        color: #336;\n",
       "    }\n",
       "    .research-summary p {\n",
       "        text-indent: 20px;\n",
       "    }\n",
       "</style>\n",
       "\n",
       "            <div class=\"research-summary\">\n",
       "                <h3>Patent Number:11861126</h3>\n",
       "                <p>The research aims to improve the energy efficiency of electronic devices by developing a new sensor layer design that reduces the number of sensing electrodes required for touch detection while maintaining accuracy. The proposed design includes a sensing electrode with multiple portions, each extending between pixel groups, which can reduce the energy consumption of the electronic device. However, the design may face challenges in terms of manufacturing complexity and cost. Despite these challenges, the proposed design has the potential to improve the energy efficiency of electronic devices and provide a more sustainable solution for touch-sensitive displays.</p>\n",
       "            </div>\n",
       "            "
      ],
      "text/plain": [
       "<IPython.core.display.HTML object>"
      ]
     },
     "metadata": {},
     "output_type": "display_data"
    },
    {
     "data": {
      "text/html": [
       "\n",
       "<style>\n",
       "    .research-summary {\n",
       "        border: 1px solid #ddd;\n",
       "        border-radius: 8px;\n",
       "        padding: 15px;\n",
       "        margin: 10px 0;\n",
       "        background-color: #f9f9f9;\n",
       "        color: black;\n",
       "    }\n",
       "    .research-summary h3 {\n",
       "        color: #336;\n",
       "    }\n",
       "    .research-summary p {\n",
       "        text-indent: 20px;\n",
       "    }\n",
       "</style>\n",
       "\n",
       "            <div class=\"research-summary\">\n",
       "                <h3>Patent Number:11966535</h3>\n",
       "                <p>The research aims to improve energy efficiency by reducing the power consumption of the display panel while maintaining display quality. The proposed solution divides the display area into three non-sensing areas and one sensing area, using a sensing electrode array to sense the touch position. The sensing electrode array is divided into two parts, and the first part is connected to the master readout circuit, while the second part is connected to the slave readout circuit. The master readout circuit transmits a synchronization signal to the slave readout circuit, and the slave readout circuit transmits a sensing signal corresponding to the touch position to the master readout circuit. The proposed solution can reduce the power consumption of the display panel by 30% compared to the conventional solution, but the sensing electrode array may have a limited resolution, which may affect display quality.</p>\n",
       "            </div>\n",
       "            "
      ],
      "text/plain": [
       "<IPython.core.display.HTML object>"
      ]
     },
     "metadata": {},
     "output_type": "display_data"
    },
    {
     "data": {
      "text/html": [
       "\n",
       "<style>\n",
       "    .research-summary {\n",
       "        border: 1px solid #ddd;\n",
       "        border-radius: 8px;\n",
       "        padding: 15px;\n",
       "        margin: 10px 0;\n",
       "        background-color: #f9f9f9;\n",
       "        color: black;\n",
       "    }\n",
       "    .research-summary h3 {\n",
       "        color: #336;\n",
       "    }\n",
       "    .research-summary p {\n",
       "        text-indent: 20px;\n",
       "    }\n",
       "</style>\n",
       "\n",
       "            <div class=\"research-summary\">\n",
       "                <h3>Patent Number:11928297</h3>\n",
       "                <p>The research aims to improve the display device by adding elongated connection parts to the touch panel, which reduces the number of connections required between sensing units, resulting in lower power consumption. However, the design may lead to reduced sensing accuracy or degraded performance due to the elongated connection parts. Despite these limitations, the proposed design offers a promising solution for improving the energy efficiency of display devices.</p>\n",
       "            </div>\n",
       "            "
      ],
      "text/plain": [
       "<IPython.core.display.HTML object>"
      ]
     },
     "metadata": {},
     "output_type": "display_data"
    }
   ],
   "source": [
    "from IPython.display import display, HTML\n",
    "\n",
    "style = \"\"\"\n",
    "<style>\n",
    "    .research-summary {\n",
    "        border: 1px solid #ddd;\n",
    "        border-radius: 8px;\n",
    "        padding: 15px;\n",
    "        margin: 10px 0;\n",
    "        background-color: #f9f9f9;\n",
    "        color: black;\n",
    "    }\n",
    "    .research-summary h3 {\n",
    "        color: #336;\n",
    "    }\n",
    "    .research-summary p {\n",
    "        text-indent: 20px;\n",
    "    }\n",
    "</style>\n",
    "\"\"\"\n",
    "\n",
    "import re\n",
    "\n",
    "# Assuming the Document class has an attribute 'page_content' that stores the content\n",
    "class Document:\n",
    "    def __init__(self, page_content):\n",
    "        self.page_content = page_content\n",
    "\n",
    "for item in retirve_result:\n",
    "    # Regular expression to capture Patent Number and Summary\n",
    "    pattern = re.compile(r\"PatentNumber: (\\d+)\\n.*\\nSummaryofPatentClaims: Summary:\\n(.*)\", re.DOTALL)\n",
    "\n",
    "    match = pattern.search(item.page_content)  # Use dot notation to access the page_content attribute\n",
    "\n",
    "    if match:\n",
    "        contents = \"\"\n",
    "        patent_number = match.group(1).strip()\n",
    "        summary = match.group(2).strip()\n",
    "        # print(\"Patent Number:\", patent_number)\n",
    "        # print(\"Summary:\", summary)\n",
    "        contents += f\"\"\"\n",
    "            <div class=\"research-summary\">\n",
    "                <h3>Patent Number:{patent_number}</h3>\n",
    "                <p>{summary}</p>\n",
    "            </div>\n",
    "            \"\"\"\n",
    "        display(HTML(style + contents))\n",
    "\n",
    "\n"
   ]
  }
 ],
 "metadata": {
  "kernelspec": {
   "display_name": "triztest",
   "language": "python",
   "name": "python3"
  },
  "language_info": {
   "codemirror_mode": {
    "name": "ipython",
    "version": 3
   },
   "file_extension": ".py",
   "mimetype": "text/x-python",
   "name": "python",
   "nbconvert_exporter": "python",
   "pygments_lexer": "ipython3",
   "version": "3.12.1"
  }
 },
 "nbformat": 4,
 "nbformat_minor": 2
}
