{
 "cells": [
  {
   "cell_type": "code",
   "execution_count": 1,
   "metadata": {
    "metadata": {}
   },
   "outputs": [
    {
     "name": "stdout",
     "output_type": "stream",
     "text": [
      "Hello\n"
     ]
    }
   ],
   "source": [
    "print(\"Hello\")\n"
   ]
  },
  {
   "cell_type": "code",
   "execution_count": 2,
   "metadata": {
    "metadata": {}
   },
   "outputs": [
    {
     "data": {
      "text/plain": [
       "131072"
      ]
     },
     "execution_count": 2,
     "metadata": {},
     "output_type": "execute_result"
    }
   ],
   "source": [
    "from langchain_community.document_loaders.csv_loader import CSVLoader\n",
    "import sys\n",
    "import csv\n",
    "\n",
    "csv.field_size_limit(sys.maxsize)"
   ]
  },
  {
   "cell_type": "code",
   "execution_count": 3,
   "metadata": {
    "metadata": {}
   },
   "outputs": [],
   "source": [
    "loader = CSVLoader(file_path='./test_summarization_loop/patents_summarized_abstract_clean.csv')\n",
    "\n",
    "documents = loader.load()"
   ]
  },
  {
   "cell_type": "code",
   "execution_count": 5,
   "metadata": {
    "metadata": {}
   },
   "outputs": [
    {
     "name": "stdout",
     "output_type": "stream",
     "text": [
      "<class 'list'>\n",
      "PatentNumber: 11925278\n",
      "ApplicationReference: utility\n",
      "Date: 2024-03-12\n",
      "OrganizationName: SAMSUNG ELECTRONICS CO., LTD.\n",
      "SummaryofPatent: Summary:\n",
      "The display apparatus aims to provide a flexible and adjustable mounting system for displays, allowing for rotation in multiple directions and slidable movement in the leftward and rightward directions. The connector includes rotatable supports and movable supports, which enable the mounting member to be securely attached to the fixing member while allowing for adjustment. The invention improves upon existing mounting systems by providing a more flexible and adjustable solution, but may be limited by the weight and size of the display. The energy efficiency of the invention is not explicitly mentioned in the provided text.\n"
     ]
    },
    {
     "data": {
      "text/plain": [
       "3720"
      ]
     },
     "execution_count": 5,
     "metadata": {},
     "output_type": "execute_result"
    }
   ],
   "source": [
    "print(type(documents))\n",
    "print(documents[0].page_content)\n",
    "len(documents)"
   ]
  },
  {
   "cell_type": "code",
   "execution_count": 6,
   "metadata": {
    "metadata": {}
   },
   "outputs": [
    {
     "name": "stdout",
     "output_type": "stream",
     "text": [
      "Is CUDA supported by this system?  {True}\n",
      "CUDA version: {torch.version.cuda}\n",
      "ID of current CUDA device: {1}\n",
      "Name of current CUDA device: {'NVIDIA A40'}\n",
      "12.1\n",
      "2.3.0+cu121\n"
     ]
    }
   ],
   "source": [
    "import torch\n",
    " \n",
    "print(\"Is CUDA supported by this system? \",\n",
    "      {torch.cuda.is_available()})\n",
    "print(\"CUDA version: {torch.version.cuda}\")\n",
    " \n",
    "# Set device CUDA\n",
    "torch.cuda.set_device(1)\n",
    "\n",
    "# Storing ID of current CUDA device\n",
    "cuda_id = torch.cuda.current_device()\n",
    "print(\"ID of current CUDA device:\",\n",
    "      {torch.cuda.current_device()})\n",
    "       \n",
    "print(\"Name of current CUDA device:\",\n",
    "      {torch.cuda.get_device_name(cuda_id)})\n",
    "\n",
    "print(torch.version.cuda)\n",
    "print(torch.__version__)"
   ]
  },
  {
   "cell_type": "code",
   "execution_count": 7,
   "metadata": {
    "metadata": {}
   },
   "outputs": [
    {
     "name": "stderr",
     "output_type": "stream",
     "text": [
      "[codecarbon WARNING @ 14:25:43] Invalid gpu_ids format. Expected a string or a list of ints.\n",
      "[codecarbon INFO @ 14:25:43] [setup] RAM Tracking...\n",
      "[codecarbon INFO @ 14:25:43] [setup] GPU Tracking...\n",
      "[codecarbon INFO @ 14:25:43] Tracking Nvidia GPU via pynvml\n",
      "[codecarbon INFO @ 14:25:43] [setup] CPU Tracking...\n",
      "[codecarbon WARNING @ 14:25:43] No CPU tracking mode found. Falling back on CPU constant mode.\n"
     ]
    },
    {
     "name": "stdout",
     "output_type": "stream",
     "text": [
      "Start of code time:  1717939543.9716089\n"
     ]
    },
    {
     "name": "stderr",
     "output_type": "stream",
     "text": [
      "[codecarbon WARNING @ 14:25:45] We saw that you have a Intel(R) Xeon(R) Gold 6330 CPU @ 2.00GHz but we don't know it. Please contact us.\n",
      "[codecarbon INFO @ 14:25:45] CPU Model on constant consumption mode: Intel(R) Xeon(R) Gold 6330 CPU @ 2.00GHz\n",
      "[codecarbon INFO @ 14:25:45] >>> Tracker's metadata:\n",
      "[codecarbon INFO @ 14:25:45]   Platform system: Linux-5.4.0-182-generic-x86_64-with-glibc2.31\n",
      "[codecarbon INFO @ 14:25:45]   Python version: 3.12.1\n",
      "[codecarbon INFO @ 14:25:45]   CodeCarbon version: 2.4.1\n",
      "[codecarbon INFO @ 14:25:45]   Available RAM : 503.339 GB\n",
      "[codecarbon INFO @ 14:25:45]   CPU count: 112\n",
      "[codecarbon INFO @ 14:25:45]   CPU model: Intel(R) Xeon(R) Gold 6330 CPU @ 2.00GHz\n",
      "[codecarbon INFO @ 14:25:45]   GPU count: 2\n",
      "[codecarbon INFO @ 14:25:45]   GPU model: 2 x NVIDIA A40\n",
      "/home/c7361293/miniconda3/envs/triztest/lib/python3.12/site-packages/tqdm/auto.py:21: TqdmWarning: IProgress not found. Please update jupyter and ipywidgets. See https://ipywidgets.readthedocs.io/en/stable/user_install.html\n",
      "  from .autonotebook import tqdm as notebook_tqdm\n",
      "[codecarbon INFO @ 14:25:52] Energy consumed for RAM : 0.000238 kWh. RAM Power : 188.75217247009277 W\n",
      "[codecarbon INFO @ 14:25:53] Energy consumed for all GPUs : 0.000193 kWh. Total GPU Power : 152.99581084801582 W\n",
      "[codecarbon INFO @ 14:25:53] Energy consumed for all CPUs : 0.000054 kWh. Total CPU Power : 42.5 W\n",
      "[codecarbon INFO @ 14:25:53] 0.000486 kWh of electricity used since the beginning.\n"
     ]
    },
    {
     "name": "stdout",
     "output_type": "stream",
     "text": [
      "Emissions for this code execution is:  0.00012686969649158486\n",
      "End of code time:  1717939553.0241168\n"
     ]
    }
   ],
   "source": [
    "#Embedding model load\n",
    "\n",
    "from langchain.embeddings import HuggingFaceBgeEmbeddings\n",
    "from langchain.vectorstores import Chroma\n",
    "from codecarbon import EmissionsTracker\n",
    "import time\n",
    "\n",
    "print(\"Start of code time: \",time.time())\n",
    "\n",
    "tracker = EmissionsTracker()\n",
    "tracker.start()\n",
    "\n",
    "model_name = \"BAAI/bge-large-en-v1.5\"\n",
    "# model_kwargs = {'device': 'cuda'}\n",
    "encode_kwargs = {'normalize_embeddings': True} # set True to compute cosine similarity\n",
    "model = HuggingFaceBgeEmbeddings(\n",
    "    model_name=model_name,\n",
    "    # model_kwargs=model_kwargs,\n",
    "    encode_kwargs=encode_kwargs\n",
    "    # ,\n",
    "    # query_instruction=\"为这个句子生成表示以用于检索相关文章：\"\n",
    ")\n",
    "\n",
    "\n",
    "emissions: float = tracker.stop()\n",
    "print(\"Emissions for this code execution is: \", emissions)\n",
    "print(\"End of code time: \",time.time())"
   ]
  },
  {
   "cell_type": "code",
   "execution_count": 8,
   "metadata": {
    "metadata": {}
   },
   "outputs": [
    {
     "name": "stderr",
     "output_type": "stream",
     "text": [
      "/home/c7361293/miniconda3/envs/triztest/lib/python3.12/site-packages/tqdm/auto.py:21: TqdmWarning: IProgress not found. Please update jupyter and ipywidgets. See https://ipywidgets.readthedocs.io/en/stable/user_install.html\n",
      "  from .autonotebook import tqdm as notebook_tqdm\n",
      "[codecarbon WARNING @ 13:37:08] Invalid gpu_ids format. Expected a string or a list of ints.\n",
      "[codecarbon INFO @ 13:37:08] [setup] RAM Tracking...\n",
      "[codecarbon INFO @ 13:37:08] [setup] GPU Tracking...\n",
      "[codecarbon INFO @ 13:37:08] Tracking Nvidia GPU via pynvml\n",
      "[codecarbon INFO @ 13:37:08] [setup] CPU Tracking...\n",
      "[codecarbon WARNING @ 13:37:08] No CPU tracking mode found. Falling back on CPU constant mode.\n"
     ]
    },
    {
     "name": "stdout",
     "output_type": "stream",
     "text": [
      "Start of code time:  1717936628.072775\n"
     ]
    },
    {
     "name": "stderr",
     "output_type": "stream",
     "text": [
      "[codecarbon WARNING @ 13:37:09] We saw that you have a Intel(R) Xeon(R) Gold 6330 CPU @ 2.00GHz but we don't know it. Please contact us.\n",
      "[codecarbon INFO @ 13:37:09] CPU Model on constant consumption mode: Intel(R) Xeon(R) Gold 6330 CPU @ 2.00GHz\n",
      "[codecarbon INFO @ 13:37:09] >>> Tracker's metadata:\n",
      "[codecarbon INFO @ 13:37:09]   Platform system: Linux-5.4.0-182-generic-x86_64-with-glibc2.31\n",
      "[codecarbon INFO @ 13:37:09]   Python version: 3.12.1\n",
      "[codecarbon INFO @ 13:37:09]   CodeCarbon version: 2.4.1\n",
      "[codecarbon INFO @ 13:37:09]   Available RAM : 503.339 GB\n",
      "[codecarbon INFO @ 13:37:09]   CPU count: 112\n",
      "[codecarbon INFO @ 13:37:09]   CPU model: Intel(R) Xeon(R) Gold 6330 CPU @ 2.00GHz\n",
      "[codecarbon INFO @ 13:37:09]   GPU count: 2\n",
      "[codecarbon INFO @ 13:37:09]   GPU model: 2 x NVIDIA A40\n",
      "[codecarbon INFO @ 13:37:16] Energy consumed for RAM : 0.000194 kWh. RAM Power : 188.75217247009277 W\n",
      "[codecarbon INFO @ 13:37:16] Energy consumed for all GPUs : 0.000157 kWh. Total GPU Power : 152.3983515648166 W\n",
      "[codecarbon INFO @ 13:37:16] Energy consumed for all CPUs : 0.000044 kWh. Total CPU Power : 42.5 W\n",
      "[codecarbon INFO @ 13:37:16] 0.000394 kWh of electricity used since the beginning.\n"
     ]
    },
    {
     "name": "stdout",
     "output_type": "stream",
     "text": [
      "Emissions for this code execution is:  0.00010298390780122968\n",
      "End of code time:  1717936636.3094742\n"
     ]
    }
   ],
   "source": [
    "# Requires sentence_transformers>=2.7.0\n",
    "\n",
    "#Embedding model load\n",
    "\n",
    "from langchain.embeddings import HuggingFaceBgeEmbeddings\n",
    "from langchain.vectorstores import Chroma\n",
    "from codecarbon import EmissionsTracker\n",
    "import time\n",
    "\n",
    "# from sentence_transformers import SentenceTransformerEmbeddings\n",
    "from sentence_transformers.util import cos_sim\n",
    "\n",
    "\n",
    "print(\"Start of code time: \",time.time())\n",
    "\n",
    "tracker = EmissionsTracker()\n",
    "tracker.start()\n",
    "\n",
    "model_name = 'Alibaba-NLP/gte-large-en-v1.5'\n",
    "\n",
    "encode_kwargs = {'normalize_embeddings': True} # set True to compute cosine similarity\n",
    "model_kwargs = {'device':'cpu','trust_remote_code': True}\n",
    "model = HuggingFaceBgeEmbeddings(\n",
    "    model_name=model_name,\n",
    "    model_kwargs=model_kwargs,\n",
    "    encode_kwargs=encode_kwargs\n",
    "    # ,\n",
    "    # query_instruction=\"为这个句子生成表示以用于检索相关文章：\"\n",
    ")\n",
    "\n",
    "\n",
    "emissions: float = tracker.stop()\n",
    "print(\"Emissions for this code execution is: \", emissions)\n",
    "print(\"End of code time: \",time.time())\n"
   ]
  },
  {
   "cell_type": "code",
   "execution_count": 8,
   "metadata": {
    "metadata": {}
   },
   "outputs": [
    {
     "name": "stdout",
     "output_type": "stream",
     "text": [
      "client=SentenceTransformer(\n",
      "  (0): Transformer({'max_seq_length': 512, 'do_lower_case': True}) with Transformer model: BertModel \n",
      "  (1): Pooling({'word_embedding_dimension': 1024, 'pooling_mode_cls_token': True, 'pooling_mode_mean_tokens': False, 'pooling_mode_max_tokens': False, 'pooling_mode_mean_sqrt_len_tokens': False, 'pooling_mode_weightedmean_tokens': False, 'pooling_mode_lasttoken': False, 'include_prompt': True})\n",
      "  (2): Normalize()\n",
      ") model_name='BAAI/bge-large-en-v1.5' cache_folder=None model_kwargs={} encode_kwargs={'normalize_embeddings': True} query_instruction='Represent this question for searching relevant passages: ' embed_instruction=''\n"
     ]
    }
   ],
   "source": [
    "print(model)"
   ]
  },
  {
   "cell_type": "code",
   "execution_count": 9,
   "metadata": {
    "metadata": {}
   },
   "outputs": [],
   "source": [
    "import os # Importing os module for operating system functionalities\n",
    "import shutil # Importing shutil module for high-level file operations"
   ]
  },
  {
   "cell_type": "code",
   "execution_count": 10,
   "metadata": {
    "metadata": {}
   },
   "outputs": [],
   "source": [
    " # Clear out the existing database directory if it exists\n",
    "if os.path.exists(\"./db_baai\"):\n",
    "    shutil.rmtree(\"./db_baai\")"
   ]
  },
  {
   "cell_type": "code",
   "execution_count": 11,
   "metadata": {
    "metadata": {}
   },
   "outputs": [
    {
     "name": "stderr",
     "output_type": "stream",
     "text": [
      "[codecarbon WARNING @ 14:31:08] Invalid gpu_ids format. Expected a string or a list of ints.\n",
      "[codecarbon INFO @ 14:31:08] [setup] RAM Tracking...\n",
      "[codecarbon INFO @ 14:31:08] [setup] GPU Tracking...\n",
      "[codecarbon INFO @ 14:31:08] Tracking Nvidia GPU via pynvml\n",
      "[codecarbon INFO @ 14:31:08] [setup] CPU Tracking...\n",
      "[codecarbon WARNING @ 14:31:08] No CPU tracking mode found. Falling back on CPU constant mode.\n"
     ]
    },
    {
     "name": "stdout",
     "output_type": "stream",
     "text": [
      "Start of code time:  1717939868.1283393\n"
     ]
    },
    {
     "name": "stderr",
     "output_type": "stream",
     "text": [
      "[codecarbon WARNING @ 14:31:09] We saw that you have a Intel(R) Xeon(R) Gold 6330 CPU @ 2.00GHz but we don't know it. Please contact us.\n",
      "[codecarbon INFO @ 14:31:09] CPU Model on constant consumption mode: Intel(R) Xeon(R) Gold 6330 CPU @ 2.00GHz\n",
      "[codecarbon INFO @ 14:31:09] >>> Tracker's metadata:\n",
      "[codecarbon INFO @ 14:31:09]   Platform system: Linux-5.4.0-182-generic-x86_64-with-glibc2.31\n",
      "[codecarbon INFO @ 14:31:09]   Python version: 3.12.1\n",
      "[codecarbon INFO @ 14:31:09]   CodeCarbon version: 2.4.1\n",
      "[codecarbon INFO @ 14:31:09]   Available RAM : 503.339 GB\n",
      "[codecarbon INFO @ 14:31:09]   CPU count: 112\n",
      "[codecarbon INFO @ 14:31:09]   CPU model: Intel(R) Xeon(R) Gold 6330 CPU @ 2.00GHz\n",
      "[codecarbon INFO @ 14:31:09]   GPU count: 2\n",
      "[codecarbon INFO @ 14:31:09]   GPU model: 2 x NVIDIA A40\n",
      "[codecarbon INFO @ 14:31:27] Energy consumed for RAM : 0.000787 kWh. RAM Power : 188.75217247009277 W\n",
      "[codecarbon INFO @ 14:31:27] Energy consumed for all GPUs : 0.001498 kWh. Total GPU Power : 358.9451050588101 W\n",
      "[codecarbon INFO @ 14:31:27] Energy consumed for all CPUs : 0.000177 kWh. Total CPU Power : 42.5 W\n",
      "[codecarbon INFO @ 14:31:27] 0.002462 kWh of electricity used since the beginning.\n",
      "[codecarbon INFO @ 14:31:42] Energy consumed for RAM : 0.001572 kWh. RAM Power : 188.75217247009277 W\n",
      "[codecarbon INFO @ 14:31:42] Energy consumed for all GPUs : 0.003062 kWh. Total GPU Power : 375.875217671436 W\n",
      "[codecarbon INFO @ 14:31:42] Energy consumed for all CPUs : 0.000355 kWh. Total CPU Power : 42.5 W\n",
      "[codecarbon INFO @ 14:31:42] 0.004989 kWh of electricity used since the beginning.\n",
      "[codecarbon INFO @ 14:31:48] Energy consumed for RAM : 0.001891 kWh. RAM Power : 188.75217247009277 W\n",
      "[codecarbon INFO @ 14:31:48] Energy consumed for all GPUs : 0.003394 kWh. Total GPU Power : 196.6105758471361 W\n",
      "[codecarbon INFO @ 14:31:48] Energy consumed for all CPUs : 0.000426 kWh. Total CPU Power : 42.5 W\n",
      "[codecarbon INFO @ 14:31:48] 0.005711 kWh of electricity used since the beginning.\n"
     ]
    },
    {
     "name": "stdout",
     "output_type": "stream",
     "text": [
      "Emissions for this code execution is:  0.0014915851491853161\n",
      "End of code time:  1717939908.7568922\n"
     ]
    }
   ],
   "source": [
    "\n",
    "from langchain.vectorstores import Chroma\n",
    "from codecarbon import EmissionsTracker\n",
    "import time\n",
    "\n",
    "print(\"Start of code time: \",time.time())\n",
    "\n",
    "tracker = EmissionsTracker()\n",
    "tracker.start()\n",
    "\n",
    "chroma_db = Chroma.from_documents(\n",
    "    documents, model, persist_directory=\"./db_baai\"\n",
    ")\n",
    "\n",
    "chroma_db.persist()\n",
    "\n",
    "emissions: float = tracker.stop()\n",
    "print(\"Emissions for this code execution is: \", emissions)\n",
    "print(\"End of code time: \",time.time())"
   ]
  },
  {
   "cell_type": "code",
   "execution_count": 12,
   "metadata": {
    "metadata": {}
   },
   "outputs": [],
   "source": [
    "from langchain.vectorstores import Chroma\n",
    "vectordb = Chroma(persist_directory=\"./db_baai\", embedding_function= model)"
   ]
  },
  {
   "cell_type": "code",
   "execution_count": 13,
   "metadata": {
    "metadata": {}
   },
   "outputs": [
    {
     "name": "stdout",
     "output_type": "stream",
     "text": [
      "similarity_score_threshold {'k': 10, 'score_threshold': 0.5}\n"
     ]
    }
   ],
   "source": [
    "retriever = vectordb.as_retriever(search_type = \"similarity_score_threshold\",search_kwargs = {\"k\": 10, \"score_threshold\":0.50})\n",
    "# retriever = vectordb.as_retriever(search_type = \"mmr\",search_kwargs = {\"k\": 5, \"lambda\":0.90})\n",
    "print(retriever.search_type, retriever.search_kwargs)"
   ]
  },
  {
   "cell_type": "code",
   "execution_count": 14,
   "metadata": {
    "metadata": {}
   },
   "outputs": [],
   "source": [
    "retirve_result = retriever.get_relevant_documents(\"Energy Efficient and Sustainable Touch Screen Display\")"
   ]
  },
  {
   "cell_type": "code",
   "execution_count": 15,
   "metadata": {
    "metadata": {}
   },
   "outputs": [
    {
     "name": "stdout",
     "output_type": "stream",
     "text": [
      "10\n",
      "Patent Number: 11910672\n",
      "Summary: The invention aims to improve the energy efficiency of touch screens by overlapping touch lines with power supply lines. The non-display area of the substrate includes touch electrodes, touch lines connected to the electrodes, and first and second power supply lines with different voltage levels. The first power supply line overlaps the second power supply line, and at least one of the touch lines overlaps one of the power supply lines. This design can reduce the energy consumption of the touch screen by minimizing the distance between the touch electrodes and the power supply lines. However, the invention does not provide details on the specific energy efficiency improvements or the potential drawbacks of the design.\n",
      "Patent Number: 11875732\n",
      "Summary: The research aims to improve the energy efficiency of display panels by developing a screen saver controller that generates screen saver data based on load and life data of panel blocks. The controller adjusts the luminance of the display panel based on the screen saver data, reducing power consumption when in screen saver mode. The research does not mention any potential drawbacks or degrading parameters, and provides limited information on energy efficiency. However, the focus on energy efficiency suggests that the proposed solution may lead to significant improvements in this area.\n",
      "Patent Number: 11899893\n",
      "Summary: The display device aims to improve touch sensing performance by integrating a touch layer with a display layer. The touch layer includes sensor electrodes and antenna patterns for transmitting and receiving signals. The device aims to increase the accuracy and speed of touch sensing while reducing the power consumption. However, the presence of antenna patterns may lead to reduced display brightness and energy efficiency. The absence of energy efficiency details in the provided text may be a limitation for some applications.\n",
      "Patent Number: 11928997\n",
      "Summary: The proposed electronic device aims to improve the user experience by expanding the display to show additional application execution screens when the device is in a second position state. The device uses at least one processor to control the display and expand it based on the position state. The device also displays the execution screens of the applications in the expanded area. The device does not mention any specific energy efficiency details, but it does aim to improve the user experience by expanding the display. However, the device may face challenges in terms of energy consumption when the display is constantly expanded.\n",
      "Patent Number: 11935447\n",
      "Summary: The research aims to improve the energy efficiency of electronic devices by optimizing the driving frequency of displays. By identifying the driving frequency of a first screen and controlling the display to output at least a portion of the first screen on a region driven at a corresponding frequency, the display optimizes driving frequency and reduces heating problems and resource waste in the electronic device. The research does not mention any potential drawbacks or degrading parameters, and energy efficiency is not explicitly discussed.\n",
      "Patent Number: 11882523\n",
      "Summary: The electronic device aims to improve user experience by displaying a user interface on an elongated region that extends along at least one edge region of the display in response to receiving a signal from outside of the device. The device displays at least one content corresponding to the signal while displaying the user interface or after displaying the user interface. The device does not mention any specific energy efficiency details, but the focus on displaying content on an elongated region suggests a potential improvement in energy efficiency by reducing the amount of display area used for displaying content. However, the absence of energy efficiency details may limit the potential impact of this improvement.\n",
      "Patent Number: 11968627\n",
      "Summary: The electronic device aims to improve user experience by displaying a user interface on an elongated region that extends along at least one edge region of the display in response to receiving a signal from outside of the device. The device displays at least one content corresponding to the signal while displaying the user interface or after displaying the user interface. The device does not mention any specific energy efficiency details, but the focus on displaying content on an elongated region suggests a potential improvement in energy efficiency by reducing the amount of display area used for displaying content. However, the absence of energy efficiency details may limit the potential impact of this improvement.\n",
      "Patent Number: 11881150\n",
      "Summary: The proposed display device aims to improve energy efficiency by incorporating a power management IC with a feedback terminal for receiving a feedback voltage and an output terminal for supplying a first voltage. The display driver IC is connected to the input terminal and includes a frequency compensation circuit with a feedback capacitor and resistor. The frequency compensation circuit helps to improve the output voltage stability and reduce energy consumption. However, the presence of a feedback capacitor may introduce some energy losses, and the absence of details on energy efficiency may limit the full potential of the proposed design.\n",
      "Patent Number: 11860459\n",
      "Summary: The display device aims to improve energy efficiency by using a single electrode to drive both emitting areas, reducing the overall power consumption. The device features a liquid crystal layer and a light emitting layer, which can be driven by a single electrode, resulting in improved energy efficiency. However, the device may suffer from reduced brightness and color purity due to the shared electrode. The energy efficiency of the device is not explicitly mentioned in the text.\n",
      "Patent Number: 11886697\n",
      "Summary: The display apparatus aims to improve the user experience by displaying a touch trajectory on the display panel based on a touch input signal. The processor controls the display panel to display the touch trajectory and determines whether to display a subsequent trajectory based on touch context information. The invention focuses on energy efficiency, as the processor only displays the touch trajectory when necessary, reducing power consumption. However, the presence of a touch sensor may increase energy consumption.\n"
     ]
    }
   ],
   "source": [
    "print(len(retirve_result))\n",
    "\n",
    "import re\n",
    "\n",
    "# Assuming the Document class has an attribute 'page_content' that stores the content\n",
    "class Document:\n",
    "    def __init__(self, page_content):\n",
    "        self.page_content = page_content\n",
    "\n",
    "for item in retirve_result:\n",
    "    # Regular expression to capture Patent Number and Summary\n",
    "    pattern = re.compile(r\"PatentNumber: (\\d+)\\n.*SummaryofPatent: Summary:\\n(.*)\", re.DOTALL)\n",
    "\n",
    "    match = pattern.search(item.page_content)  # Use dot notation to access the page_content attribute\n",
    "\n",
    "    if match:\n",
    "        patent_number = match.group(1).strip()\n",
    "        summary = match.group(2).strip()\n",
    "        print(\"Patent Number:\", patent_number)\n",
    "        print(\"Summary:\", summary)"
   ]
  },
  {
   "cell_type": "code",
   "execution_count": 17,
   "metadata": {
    "metadata": {}
   },
   "outputs": [
    {
     "data": {
      "text/html": [
       "\n",
       "<style>\n",
       "    .research-summary {\n",
       "        border: 1px solid #ddd;\n",
       "        border-radius: 8px;\n",
       "        padding: 15px;\n",
       "        margin: 10px 0;\n",
       "        background-color: #f9f9f9;\n",
       "        color: black;\n",
       "    }\n",
       "    .research-summary h3 {\n",
       "        color: #336;\n",
       "    }\n",
       "    .research-summary p {\n",
       "        text-indent: 20px;\n",
       "    }\n",
       "</style>\n",
       "\n",
       "            <div class=\"research-summary\">\n",
       "                <h3>Patent Number:11910672</h3>\n",
       "                <p>The invention aims to improve the energy efficiency of touch screens by overlapping touch lines with power supply lines. The non-display area of the substrate includes touch electrodes, touch lines connected to the electrodes, and first and second power supply lines with different voltage levels. The first power supply line overlaps the second power supply line, and at least one of the touch lines overlaps one of the power supply lines. This design can reduce the energy consumption of the touch screen by minimizing the distance between the touch electrodes and the power supply lines. However, the invention does not provide details on the specific energy efficiency improvements or the potential drawbacks of the design.</p>\n",
       "            </div>\n",
       "            "
      ],
      "text/plain": [
       "<IPython.core.display.HTML object>"
      ]
     },
     "metadata": {},
     "output_type": "display_data"
    },
    {
     "data": {
      "text/html": [
       "\n",
       "<style>\n",
       "    .research-summary {\n",
       "        border: 1px solid #ddd;\n",
       "        border-radius: 8px;\n",
       "        padding: 15px;\n",
       "        margin: 10px 0;\n",
       "        background-color: #f9f9f9;\n",
       "        color: black;\n",
       "    }\n",
       "    .research-summary h3 {\n",
       "        color: #336;\n",
       "    }\n",
       "    .research-summary p {\n",
       "        text-indent: 20px;\n",
       "    }\n",
       "</style>\n",
       "\n",
       "            <div class=\"research-summary\">\n",
       "                <h3>Patent Number:11875732</h3>\n",
       "                <p>The research aims to improve the energy efficiency of display panels by developing a screen saver controller that generates screen saver data based on load and life data of panel blocks. The controller adjusts the luminance of the display panel based on the screen saver data, reducing power consumption when in screen saver mode. The research does not mention any potential drawbacks or degrading parameters, and provides limited information on energy efficiency. However, the focus on energy efficiency suggests that the proposed solution may lead to significant improvements in this area.</p>\n",
       "            </div>\n",
       "            "
      ],
      "text/plain": [
       "<IPython.core.display.HTML object>"
      ]
     },
     "metadata": {},
     "output_type": "display_data"
    },
    {
     "data": {
      "text/html": [
       "\n",
       "<style>\n",
       "    .research-summary {\n",
       "        border: 1px solid #ddd;\n",
       "        border-radius: 8px;\n",
       "        padding: 15px;\n",
       "        margin: 10px 0;\n",
       "        background-color: #f9f9f9;\n",
       "        color: black;\n",
       "    }\n",
       "    .research-summary h3 {\n",
       "        color: #336;\n",
       "    }\n",
       "    .research-summary p {\n",
       "        text-indent: 20px;\n",
       "    }\n",
       "</style>\n",
       "\n",
       "            <div class=\"research-summary\">\n",
       "                <h3>Patent Number:11899893</h3>\n",
       "                <p>The display device aims to improve touch sensing performance by integrating a touch layer with a display layer. The touch layer includes sensor electrodes and antenna patterns for transmitting and receiving signals. The device aims to increase the accuracy and speed of touch sensing while reducing the power consumption. However, the presence of antenna patterns may lead to reduced display brightness and energy efficiency. The absence of energy efficiency details in the provided text may be a limitation for some applications.</p>\n",
       "            </div>\n",
       "            "
      ],
      "text/plain": [
       "<IPython.core.display.HTML object>"
      ]
     },
     "metadata": {},
     "output_type": "display_data"
    },
    {
     "data": {
      "text/html": [
       "\n",
       "<style>\n",
       "    .research-summary {\n",
       "        border: 1px solid #ddd;\n",
       "        border-radius: 8px;\n",
       "        padding: 15px;\n",
       "        margin: 10px 0;\n",
       "        background-color: #f9f9f9;\n",
       "        color: black;\n",
       "    }\n",
       "    .research-summary h3 {\n",
       "        color: #336;\n",
       "    }\n",
       "    .research-summary p {\n",
       "        text-indent: 20px;\n",
       "    }\n",
       "</style>\n",
       "\n",
       "            <div class=\"research-summary\">\n",
       "                <h3>Patent Number:11928997</h3>\n",
       "                <p>The proposed electronic device aims to improve the user experience by expanding the display to show additional application execution screens when the device is in a second position state. The device uses at least one processor to control the display and expand it based on the position state. The device also displays the execution screens of the applications in the expanded area. The device does not mention any specific energy efficiency details, but it does aim to improve the user experience by expanding the display. However, the device may face challenges in terms of energy consumption when the display is constantly expanded.</p>\n",
       "            </div>\n",
       "            "
      ],
      "text/plain": [
       "<IPython.core.display.HTML object>"
      ]
     },
     "metadata": {},
     "output_type": "display_data"
    },
    {
     "data": {
      "text/html": [
       "\n",
       "<style>\n",
       "    .research-summary {\n",
       "        border: 1px solid #ddd;\n",
       "        border-radius: 8px;\n",
       "        padding: 15px;\n",
       "        margin: 10px 0;\n",
       "        background-color: #f9f9f9;\n",
       "        color: black;\n",
       "    }\n",
       "    .research-summary h3 {\n",
       "        color: #336;\n",
       "    }\n",
       "    .research-summary p {\n",
       "        text-indent: 20px;\n",
       "    }\n",
       "</style>\n",
       "\n",
       "            <div class=\"research-summary\">\n",
       "                <h3>Patent Number:11935447</h3>\n",
       "                <p>The research aims to improve the energy efficiency of electronic devices by optimizing the driving frequency of displays. By identifying the driving frequency of a first screen and controlling the display to output at least a portion of the first screen on a region driven at a corresponding frequency, the display optimizes driving frequency and reduces heating problems and resource waste in the electronic device. The research does not mention any potential drawbacks or degrading parameters, and energy efficiency is not explicitly discussed.</p>\n",
       "            </div>\n",
       "            "
      ],
      "text/plain": [
       "<IPython.core.display.HTML object>"
      ]
     },
     "metadata": {},
     "output_type": "display_data"
    },
    {
     "data": {
      "text/html": [
       "\n",
       "<style>\n",
       "    .research-summary {\n",
       "        border: 1px solid #ddd;\n",
       "        border-radius: 8px;\n",
       "        padding: 15px;\n",
       "        margin: 10px 0;\n",
       "        background-color: #f9f9f9;\n",
       "        color: black;\n",
       "    }\n",
       "    .research-summary h3 {\n",
       "        color: #336;\n",
       "    }\n",
       "    .research-summary p {\n",
       "        text-indent: 20px;\n",
       "    }\n",
       "</style>\n",
       "\n",
       "            <div class=\"research-summary\">\n",
       "                <h3>Patent Number:11882523</h3>\n",
       "                <p>The electronic device aims to improve user experience by displaying a user interface on an elongated region that extends along at least one edge region of the display in response to receiving a signal from outside of the device. The device displays at least one content corresponding to the signal while displaying the user interface or after displaying the user interface. The device does not mention any specific energy efficiency details, but the focus on displaying content on an elongated region suggests a potential improvement in energy efficiency by reducing the amount of display area used for displaying content. However, the absence of energy efficiency details may limit the potential impact of this improvement.</p>\n",
       "            </div>\n",
       "            "
      ],
      "text/plain": [
       "<IPython.core.display.HTML object>"
      ]
     },
     "metadata": {},
     "output_type": "display_data"
    },
    {
     "data": {
      "text/html": [
       "\n",
       "<style>\n",
       "    .research-summary {\n",
       "        border: 1px solid #ddd;\n",
       "        border-radius: 8px;\n",
       "        padding: 15px;\n",
       "        margin: 10px 0;\n",
       "        background-color: #f9f9f9;\n",
       "        color: black;\n",
       "    }\n",
       "    .research-summary h3 {\n",
       "        color: #336;\n",
       "    }\n",
       "    .research-summary p {\n",
       "        text-indent: 20px;\n",
       "    }\n",
       "</style>\n",
       "\n",
       "            <div class=\"research-summary\">\n",
       "                <h3>Patent Number:11968627</h3>\n",
       "                <p>The electronic device aims to improve user experience by displaying a user interface on an elongated region that extends along at least one edge region of the display in response to receiving a signal from outside of the device. The device displays at least one content corresponding to the signal while displaying the user interface or after displaying the user interface. The device does not mention any specific energy efficiency details, but the focus on displaying content on an elongated region suggests a potential improvement in energy efficiency by reducing the amount of display area used for displaying content. However, the absence of energy efficiency details may limit the potential impact of this improvement.</p>\n",
       "            </div>\n",
       "            "
      ],
      "text/plain": [
       "<IPython.core.display.HTML object>"
      ]
     },
     "metadata": {},
     "output_type": "display_data"
    },
    {
     "data": {
      "text/html": [
       "\n",
       "<style>\n",
       "    .research-summary {\n",
       "        border: 1px solid #ddd;\n",
       "        border-radius: 8px;\n",
       "        padding: 15px;\n",
       "        margin: 10px 0;\n",
       "        background-color: #f9f9f9;\n",
       "        color: black;\n",
       "    }\n",
       "    .research-summary h3 {\n",
       "        color: #336;\n",
       "    }\n",
       "    .research-summary p {\n",
       "        text-indent: 20px;\n",
       "    }\n",
       "</style>\n",
       "\n",
       "            <div class=\"research-summary\">\n",
       "                <h3>Patent Number:11881150</h3>\n",
       "                <p>The proposed display device aims to improve energy efficiency by incorporating a power management IC with a feedback terminal for receiving a feedback voltage and an output terminal for supplying a first voltage. The display driver IC is connected to the input terminal and includes a frequency compensation circuit with a feedback capacitor and resistor. The frequency compensation circuit helps to improve the output voltage stability and reduce energy consumption. However, the presence of a feedback capacitor may introduce some energy losses, and the absence of details on energy efficiency may limit the full potential of the proposed design.</p>\n",
       "            </div>\n",
       "            "
      ],
      "text/plain": [
       "<IPython.core.display.HTML object>"
      ]
     },
     "metadata": {},
     "output_type": "display_data"
    },
    {
     "data": {
      "text/html": [
       "\n",
       "<style>\n",
       "    .research-summary {\n",
       "        border: 1px solid #ddd;\n",
       "        border-radius: 8px;\n",
       "        padding: 15px;\n",
       "        margin: 10px 0;\n",
       "        background-color: #f9f9f9;\n",
       "        color: black;\n",
       "    }\n",
       "    .research-summary h3 {\n",
       "        color: #336;\n",
       "    }\n",
       "    .research-summary p {\n",
       "        text-indent: 20px;\n",
       "    }\n",
       "</style>\n",
       "\n",
       "            <div class=\"research-summary\">\n",
       "                <h3>Patent Number:11860459</h3>\n",
       "                <p>The display device aims to improve energy efficiency by using a single electrode to drive both emitting areas, reducing the overall power consumption. The device features a liquid crystal layer and a light emitting layer, which can be driven by a single electrode, resulting in improved energy efficiency. However, the device may suffer from reduced brightness and color purity due to the shared electrode. The energy efficiency of the device is not explicitly mentioned in the text.</p>\n",
       "            </div>\n",
       "            "
      ],
      "text/plain": [
       "<IPython.core.display.HTML object>"
      ]
     },
     "metadata": {},
     "output_type": "display_data"
    },
    {
     "data": {
      "text/html": [
       "\n",
       "<style>\n",
       "    .research-summary {\n",
       "        border: 1px solid #ddd;\n",
       "        border-radius: 8px;\n",
       "        padding: 15px;\n",
       "        margin: 10px 0;\n",
       "        background-color: #f9f9f9;\n",
       "        color: black;\n",
       "    }\n",
       "    .research-summary h3 {\n",
       "        color: #336;\n",
       "    }\n",
       "    .research-summary p {\n",
       "        text-indent: 20px;\n",
       "    }\n",
       "</style>\n",
       "\n",
       "            <div class=\"research-summary\">\n",
       "                <h3>Patent Number:11886697</h3>\n",
       "                <p>The display apparatus aims to improve the user experience by displaying a touch trajectory on the display panel based on a touch input signal. The processor controls the display panel to display the touch trajectory and determines whether to display a subsequent trajectory based on touch context information. The invention focuses on energy efficiency, as the processor only displays the touch trajectory when necessary, reducing power consumption. However, the presence of a touch sensor may increase energy consumption.</p>\n",
       "            </div>\n",
       "            "
      ],
      "text/plain": [
       "<IPython.core.display.HTML object>"
      ]
     },
     "metadata": {},
     "output_type": "display_data"
    }
   ],
   "source": [
    "from IPython.display import display, HTML\n",
    "\n",
    "style = \"\"\"\n",
    "<style>\n",
    "    .research-summary {\n",
    "        border: 1px solid #ddd;\n",
    "        border-radius: 8px;\n",
    "        padding: 15px;\n",
    "        margin: 10px 0;\n",
    "        background-color: #f9f9f9;\n",
    "        color: black;\n",
    "    }\n",
    "    .research-summary h3 {\n",
    "        color: #336;\n",
    "    }\n",
    "    .research-summary p {\n",
    "        text-indent: 20px;\n",
    "    }\n",
    "</style>\n",
    "\"\"\"\n",
    "\n",
    "import re\n",
    "\n",
    "# Assuming the Document class has an attribute 'page_content' that stores the content\n",
    "class Document:\n",
    "    def __init__(self, page_content):\n",
    "        self.page_content = page_content\n",
    "\n",
    "for item in retirve_result:\n",
    "    # Regular expression to capture Patent Number and Summary\n",
    "    pattern = re.compile(r\"PatentNumber: (\\d+)\\n.*SummaryofPatent: Summary:\\n(.*)\", re.DOTALL)\n",
    "\n",
    "    match = pattern.search(item.page_content)  # Use dot notation to access the page_content attribute\n",
    "\n",
    "    if match:\n",
    "        contents = \"\"\n",
    "        patent_number = match.group(1).strip()\n",
    "        summary = match.group(2).strip()\n",
    "        # print(\"Patent Number:\", patent_number)\n",
    "        # print(\"Summary:\", summary)\n",
    "        contents += f\"\"\"\n",
    "            <div class=\"research-summary\">\n",
    "                <h3>Patent Number:{patent_number}</h3>\n",
    "                <p>{summary}</p>\n",
    "            </div>\n",
    "            \"\"\"\n",
    "        display(HTML(style + contents))\n",
    "\n",
    "\n"
   ]
  },
  {
   "cell_type": "code",
   "execution_count": null,
   "metadata": {
    "metadata": {}
   },
   "outputs": [
    {
     "data": {
      "text/plain": [
       "(7448363008, 47736619008)"
      ]
     },
     "execution_count": 40,
     "metadata": {},
     "output_type": "execute_result"
    },
    {
     "name": "stderr",
     "output_type": "stream",
     "text": [
      "[codecarbon INFO @ 02:28:40] Energy consumed for RAM : 0.052639 kWh. RAM Power : 188.75217247009277 W\n",
      "[codecarbon INFO @ 02:28:40] Energy consumed for all GPUs : 0.029849 kWh. Total GPU Power : 151.72011335214088 W\n",
      "[codecarbon INFO @ 02:28:40] Energy consumed for all CPUs : 0.011863 kWh. Total CPU Power : 42.5 W\n",
      "[codecarbon INFO @ 02:28:40] 0.094351 kWh of electricity used since the beginning.\n",
      "[codecarbon INFO @ 02:28:41] Energy consumed for RAM : 0.032211 kWh. RAM Power : 188.75217247009277 W\n",
      "[codecarbon INFO @ 02:28:41] Energy consumed for all GPUs : 0.018794 kWh. Total GPU Power : 151.7714873681818 W\n",
      "[codecarbon INFO @ 02:28:41] Energy consumed for all CPUs : 0.007260 kWh. Total CPU Power : 42.5 W\n",
      "[codecarbon INFO @ 02:28:41] 0.058265 kWh of electricity used since the beginning.\n",
      "[codecarbon INFO @ 02:28:41] Energy consumed for RAM : 0.015715 kWh. RAM Power : 188.75217247009277 W\n",
      "[codecarbon INFO @ 02:28:41] Energy consumed for all GPUs : 0.009851 kWh. Total GPU Power : 151.7052779056454 W\n",
      "[codecarbon INFO @ 02:28:41] Energy consumed for all CPUs : 0.003541 kWh. Total CPU Power : 42.5 W\n",
      "[codecarbon INFO @ 02:28:41] 0.029108 kWh of electricity used since the beginning.\n",
      "[codecarbon INFO @ 02:28:42] Energy consumed for RAM : 0.635584 kWh. RAM Power : 188.75217247009277 W\n",
      "[codecarbon INFO @ 02:28:42] Energy consumed for all GPUs : 0.346207 kWh. Total GPU Power : 151.72195992056052 W\n",
      "[codecarbon INFO @ 02:28:42] Energy consumed for all CPUs : 0.143241 kWh. Total CPU Power : 42.5 W\n",
      "[codecarbon INFO @ 02:28:42] 1.125032 kWh of electricity used since the beginning.\n",
      "[codecarbon INFO @ 02:28:49] Energy consumed for RAM : 0.003144 kWh. RAM Power : 188.75217247009277 W\n",
      "[codecarbon INFO @ 02:28:49] Energy consumed for all GPUs : 0.002534 kWh. Total GPU Power : 151.7864708213491 W\n",
      "[codecarbon INFO @ 02:28:49] Energy consumed for all CPUs : 0.000709 kWh. Total CPU Power : 42.5 W\n",
      "[codecarbon INFO @ 02:28:49] 0.006387 kWh of electricity used since the beginning.\n",
      "[codecarbon INFO @ 02:28:56] Energy consumed for RAM : 0.032997 kWh. RAM Power : 188.75217247009277 W\n",
      "[codecarbon INFO @ 02:28:56] Energy consumed for all GPUs : 0.019426 kWh. Total GPU Power : 151.86130980484148 W\n",
      "[codecarbon INFO @ 02:28:56] Energy consumed for all CPUs : 0.007437 kWh. Total CPU Power : 42.5 W\n",
      "[codecarbon INFO @ 02:28:56] 0.059861 kWh of electricity used since the beginning.\n",
      "[codecarbon INFO @ 02:28:56] Energy consumed for RAM : 0.016501 kWh. RAM Power : 188.75217247009277 W\n",
      "[codecarbon INFO @ 02:28:56] Energy consumed for all GPUs : 0.010483 kWh. Total GPU Power : 151.85951152408126 W\n",
      "[codecarbon INFO @ 02:28:56] Energy consumed for all CPUs : 0.003718 kWh. Total CPU Power : 42.5 W\n",
      "[codecarbon INFO @ 02:28:56] 0.030703 kWh of electricity used since the beginning.\n",
      "[codecarbon INFO @ 02:28:57] Energy consumed for RAM : 0.636369 kWh. RAM Power : 188.75217247009277 W\n",
      "[codecarbon INFO @ 02:28:57] Energy consumed for all GPUs : 0.346840 kWh. Total GPU Power : 151.89506428318703 W\n",
      "[codecarbon INFO @ 02:28:57] Energy consumed for all CPUs : 0.143418 kWh. Total CPU Power : 42.5 W\n",
      "[codecarbon INFO @ 02:28:57] 1.126627 kWh of electricity used since the beginning.\n"
     ]
    }
   ],
   "source": [
    "import torch\n",
    "\n",
    "# del model\n",
    "\n",
    "torch.cuda.empty_cache()\n",
    "torch.cuda.mem_get_info()"
   ]
  }
 ],
 "metadata": {
  "kernelspec": {
   "display_name": "triztest",
   "language": "python",
   "name": "python3"
  },
  "language_info": {
   "codemirror_mode": {
    "name": "ipython",
    "version": 3
   },
   "file_extension": ".py",
   "mimetype": "text/x-python",
   "name": "python",
   "nbconvert_exporter": "python",
   "pygments_lexer": "ipython3",
   "version": "3.12.1"
  }
 },
 "nbformat": 4,
 "nbformat_minor": 2
}
