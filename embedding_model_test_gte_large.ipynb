{
 "cells": [
  {
   "cell_type": "code",
   "execution_count": 1,
   "metadata": {
    "metadata": {}
   },
   "outputs": [
    {
     "name": "stdout",
     "output_type": "stream",
     "text": [
      "Hello\n"
     ]
    }
   ],
   "source": [
    "print(\"Hello\")\n"
   ]
  },
  {
   "cell_type": "code",
   "execution_count": 2,
   "metadata": {
    "metadata": {}
   },
   "outputs": [
    {
     "data": {
      "text/plain": [
       "131072"
      ]
     },
     "execution_count": 2,
     "metadata": {},
     "output_type": "execute_result"
    }
   ],
   "source": [
    "from langchain_community.document_loaders.csv_loader import CSVLoader\n",
    "import sys\n",
    "import csv\n",
    "\n",
    "csv.field_size_limit(sys.maxsize)"
   ]
  },
  {
   "cell_type": "code",
   "execution_count": 4,
   "metadata": {
    "metadata": {}
   },
   "outputs": [],
   "source": [
    "loader = CSVLoader(file_path='./test_summarization_loop/patents_summarized_abstract_clean.csv')\n",
    "\n",
    "documents = loader.load()"
   ]
  },
  {
   "cell_type": "code",
   "execution_count": 5,
   "metadata": {
    "metadata": {}
   },
   "outputs": [
    {
     "name": "stdout",
     "output_type": "stream",
     "text": [
      "<class 'list'>\n",
      "PatentNumber: 11925278\n",
      "ApplicationReference: utility\n",
      "Date: 2024-03-12\n",
      "OrganizationName: SAMSUNG ELECTRONICS CO., LTD.\n",
      "SummaryofPatent: Summary:\n",
      "The display apparatus aims to provide a flexible and adjustable mounting system for displays, allowing for rotation in multiple directions and slidable movement in the leftward and rightward directions. The connector includes rotatable supports and movable supports, which enable the mounting member to be securely attached to the fixing member while allowing for adjustment. The invention improves upon existing mounting systems by providing a more flexible and adjustable solution, but may be limited by the weight and size of the display. The energy efficiency of the invention is not explicitly mentioned in the provided text.\n"
     ]
    },
    {
     "data": {
      "text/plain": [
       "3720"
      ]
     },
     "execution_count": 5,
     "metadata": {},
     "output_type": "execute_result"
    }
   ],
   "source": [
    "print(type(documents))\n",
    "print(documents[0].page_content)\n",
    "len(documents)"
   ]
  },
  {
   "cell_type": "code",
   "execution_count": 6,
   "metadata": {
    "metadata": {}
   },
   "outputs": [
    {
     "name": "stdout",
     "output_type": "stream",
     "text": [
      "Is CUDA supported by this system?  {True}\n",
      "CUDA version: {torch.version.cuda}\n",
      "ID of current CUDA device: {1}\n",
      "Name of current CUDA device: {'NVIDIA A40'}\n",
      "12.1\n",
      "2.3.0+cu121\n"
     ]
    }
   ],
   "source": [
    "import torch\n",
    " \n",
    "print(\"Is CUDA supported by this system? \",\n",
    "      {torch.cuda.is_available()})\n",
    "print(\"CUDA version: {torch.version.cuda}\")\n",
    " \n",
    "# Set device CUDA\n",
    "torch.cuda.set_device(1)\n",
    "\n",
    "# Storing ID of current CUDA device\n",
    "cuda_id = torch.cuda.current_device()\n",
    "print(\"ID of current CUDA device:\",\n",
    "      {torch.cuda.current_device()})\n",
    "       \n",
    "print(\"Name of current CUDA device:\",\n",
    "      {torch.cuda.get_device_name(cuda_id)})\n",
    "\n",
    "print(torch.version.cuda)\n",
    "print(torch.__version__)"
   ]
  },
  {
   "cell_type": "code",
   "execution_count": 7,
   "metadata": {
    "metadata": {}
   },
   "outputs": [
    {
     "name": "stderr",
     "output_type": "stream",
     "text": [
      "[codecarbon WARNING @ 13:36:58] Invalid gpu_ids format. Expected a string or a list of ints.\n",
      "[codecarbon INFO @ 13:36:58] [setup] RAM Tracking...\n",
      "[codecarbon INFO @ 13:36:58] [setup] GPU Tracking...\n",
      "[codecarbon INFO @ 13:36:58] Tracking Nvidia GPU via pynvml\n",
      "[codecarbon INFO @ 13:36:58] [setup] CPU Tracking...\n",
      "[codecarbon WARNING @ 13:36:58] No CPU tracking mode found. Falling back on CPU constant mode.\n"
     ]
    },
    {
     "name": "stdout",
     "output_type": "stream",
     "text": [
      "Start of code time:  1717936618.05283\n"
     ]
    },
    {
     "name": "stderr",
     "output_type": "stream",
     "text": [
      "[codecarbon WARNING @ 13:36:59] We saw that you have a Intel(R) Xeon(R) Gold 6330 CPU @ 2.00GHz but we don't know it. Please contact us.\n",
      "[codecarbon INFO @ 13:36:59] CPU Model on constant consumption mode: Intel(R) Xeon(R) Gold 6330 CPU @ 2.00GHz\n",
      "[codecarbon INFO @ 13:36:59] >>> Tracker's metadata:\n",
      "[codecarbon INFO @ 13:36:59]   Platform system: Linux-5.4.0-182-generic-x86_64-with-glibc2.31\n",
      "[codecarbon INFO @ 13:36:59]   Python version: 3.12.1\n",
      "[codecarbon INFO @ 13:36:59]   CodeCarbon version: 2.4.1\n",
      "[codecarbon INFO @ 13:36:59]   Available RAM : 503.339 GB\n",
      "[codecarbon INFO @ 13:36:59]   CPU count: 112\n",
      "[codecarbon INFO @ 13:36:59]   CPU model: Intel(R) Xeon(R) Gold 6330 CPU @ 2.00GHz\n",
      "[codecarbon INFO @ 13:36:59]   GPU count: 2\n",
      "[codecarbon INFO @ 13:36:59]   GPU model: 2 x NVIDIA A40\n"
     ]
    },
    {
     "ename": "KeyboardInterrupt",
     "evalue": "",
     "output_type": "error",
     "traceback": [
      "\u001b[0;31m---------------------------------------------------------------------------\u001b[0m",
      "\u001b[0;31mKeyboardInterrupt\u001b[0m                         Traceback (most recent call last)",
      "Cell \u001b[0;32mIn[7], line 10\u001b[0m\n\u001b[1;32m      6\u001b[0m \u001b[38;5;28;01mimport\u001b[39;00m \u001b[38;5;21;01mtime\u001b[39;00m\n\u001b[1;32m      8\u001b[0m \u001b[38;5;28mprint\u001b[39m(\u001b[38;5;124m\"\u001b[39m\u001b[38;5;124mStart of code time: \u001b[39m\u001b[38;5;124m\"\u001b[39m,time\u001b[38;5;241m.\u001b[39mtime())\n\u001b[0;32m---> 10\u001b[0m tracker \u001b[38;5;241m=\u001b[39m \u001b[43mEmissionsTracker\u001b[49m\u001b[43m(\u001b[49m\u001b[43m)\u001b[49m\n\u001b[1;32m     11\u001b[0m tracker\u001b[38;5;241m.\u001b[39mstart()\n\u001b[1;32m     13\u001b[0m model_name \u001b[38;5;241m=\u001b[39m \u001b[38;5;124m\"\u001b[39m\u001b[38;5;124mBAAI/bge-large-en-v1.5\u001b[39m\u001b[38;5;124m\"\u001b[39m\n",
      "File \u001b[0;32m~/miniconda3/envs/triztest/lib/python3.12/site-packages/codecarbon/emissions_tracker.py:381\u001b[0m, in \u001b[0;36mBaseEmissionsTracker.__init__\u001b[0;34m(self, project_name, measure_power_secs, api_call_interval, api_endpoint, api_key, output_dir, output_file, save_to_file, save_to_api, save_to_logger, logging_logger, save_to_prometheus, prometheus_url, gpu_ids, emissions_endpoint, experiment_id, experiment_name, co2_signal_api_token, tracking_mode, log_level, on_csv_write, logger_preamble, default_cpu_power, pue)\u001b[0m\n\u001b[1;32m    374\u001b[0m \u001b[38;5;28mself\u001b[39m\u001b[38;5;241m.\u001b[39m_scheduler \u001b[38;5;241m=\u001b[39m PeriodicScheduler(\n\u001b[1;32m    375\u001b[0m     function\u001b[38;5;241m=\u001b[39m\u001b[38;5;28mself\u001b[39m\u001b[38;5;241m.\u001b[39m_measure_power_and_energy,\n\u001b[1;32m    376\u001b[0m     interval\u001b[38;5;241m=\u001b[39m\u001b[38;5;28mself\u001b[39m\u001b[38;5;241m.\u001b[39m_measure_power_secs,\n\u001b[1;32m    377\u001b[0m )\n\u001b[1;32m    379\u001b[0m \u001b[38;5;28mself\u001b[39m\u001b[38;5;241m.\u001b[39m_data_source \u001b[38;5;241m=\u001b[39m DataSource()\n\u001b[0;32m--> 381\u001b[0m cloud: CloudMetadata \u001b[38;5;241m=\u001b[39m \u001b[38;5;28;43mself\u001b[39;49m\u001b[38;5;241;43m.\u001b[39;49m\u001b[43m_get_cloud_metadata\u001b[49m\u001b[43m(\u001b[49m\u001b[43m)\u001b[49m\n\u001b[1;32m    383\u001b[0m \u001b[38;5;28;01mif\u001b[39;00m cloud\u001b[38;5;241m.\u001b[39mis_on_private_infra:\n\u001b[1;32m    384\u001b[0m     \u001b[38;5;28mself\u001b[39m\u001b[38;5;241m.\u001b[39m_geo \u001b[38;5;241m=\u001b[39m \u001b[38;5;28mself\u001b[39m\u001b[38;5;241m.\u001b[39m_get_geo_metadata()\n",
      "File \u001b[0;32m~/miniconda3/envs/triztest/lib/python3.12/site-packages/codecarbon/emissions_tracker.py:883\u001b[0m, in \u001b[0;36mEmissionsTracker._get_cloud_metadata\u001b[0;34m(self)\u001b[0m\n\u001b[1;32m    881\u001b[0m \u001b[38;5;28;01mdef\u001b[39;00m \u001b[38;5;21m_get_cloud_metadata\u001b[39m(\u001b[38;5;28mself\u001b[39m) \u001b[38;5;241m-\u001b[39m\u001b[38;5;241m>\u001b[39m CloudMetadata:\n\u001b[1;32m    882\u001b[0m     \u001b[38;5;28;01mif\u001b[39;00m \u001b[38;5;28mself\u001b[39m\u001b[38;5;241m.\u001b[39m_cloud \u001b[38;5;129;01mis\u001b[39;00m \u001b[38;5;28;01mNone\u001b[39;00m:\n\u001b[0;32m--> 883\u001b[0m         \u001b[38;5;28mself\u001b[39m\u001b[38;5;241m.\u001b[39m_cloud \u001b[38;5;241m=\u001b[39m \u001b[43mCloudMetadata\u001b[49m\u001b[38;5;241;43m.\u001b[39;49m\u001b[43mfrom_utils\u001b[49m\u001b[43m(\u001b[49m\u001b[43m)\u001b[49m\n\u001b[1;32m    884\u001b[0m     \u001b[38;5;28;01mreturn\u001b[39;00m \u001b[38;5;28mself\u001b[39m\u001b[38;5;241m.\u001b[39m_cloud\n",
      "File \u001b[0;32m~/miniconda3/envs/triztest/lib/python3.12/site-packages/codecarbon/external/geography.py:40\u001b[0m, in \u001b[0;36mCloudMetadata.from_utils\u001b[0;34m(cls)\u001b[0m\n\u001b[1;32m     32\u001b[0m     \u001b[38;5;28;01mreturn\u001b[39;00m re\u001b[38;5;241m.\u001b[39msearch(google_region_regex, zone)\u001b[38;5;241m.\u001b[39mgroup(\u001b[38;5;241m0\u001b[39m)\n\u001b[1;32m     34\u001b[0m extract_region_for_provider: Dict[\u001b[38;5;28mstr\u001b[39m, Callable] \u001b[38;5;241m=\u001b[39m {\n\u001b[1;32m     35\u001b[0m     \u001b[38;5;124m\"\u001b[39m\u001b[38;5;124maws\u001b[39m\u001b[38;5;124m\"\u001b[39m: \u001b[38;5;28;01mlambda\u001b[39;00m x: x[\u001b[38;5;124m\"\u001b[39m\u001b[38;5;124mmetadata\u001b[39m\u001b[38;5;124m\"\u001b[39m][\u001b[38;5;124m\"\u001b[39m\u001b[38;5;124mregion\u001b[39m\u001b[38;5;124m\"\u001b[39m],\n\u001b[1;32m     36\u001b[0m     \u001b[38;5;124m\"\u001b[39m\u001b[38;5;124mazure\u001b[39m\u001b[38;5;124m\"\u001b[39m: \u001b[38;5;28;01mlambda\u001b[39;00m x: x[\u001b[38;5;124m\"\u001b[39m\u001b[38;5;124mmetadata\u001b[39m\u001b[38;5;124m\"\u001b[39m][\u001b[38;5;124m\"\u001b[39m\u001b[38;5;124mcompute\u001b[39m\u001b[38;5;124m\"\u001b[39m][\u001b[38;5;124m\"\u001b[39m\u001b[38;5;124mlocation\u001b[39m\u001b[38;5;124m\"\u001b[39m],\n\u001b[1;32m     37\u001b[0m     \u001b[38;5;124m\"\u001b[39m\u001b[38;5;124mgcp\u001b[39m\u001b[38;5;124m\"\u001b[39m: \u001b[38;5;28;01mlambda\u001b[39;00m x: extract_gcp_region(x[\u001b[38;5;124m\"\u001b[39m\u001b[38;5;124mmetadata\u001b[39m\u001b[38;5;124m\"\u001b[39m][\u001b[38;5;124m\"\u001b[39m\u001b[38;5;124mzone\u001b[39m\u001b[38;5;124m\"\u001b[39m]),\n\u001b[1;32m     38\u001b[0m }\n\u001b[0;32m---> 40\u001b[0m cloud_metadata: Dict \u001b[38;5;241m=\u001b[39m \u001b[43mget_env_cloud_details\u001b[49m\u001b[43m(\u001b[49m\u001b[43m)\u001b[49m\n\u001b[1;32m     42\u001b[0m \u001b[38;5;28;01mif\u001b[39;00m cloud_metadata \u001b[38;5;129;01mis\u001b[39;00m \u001b[38;5;28;01mNone\u001b[39;00m:\n\u001b[1;32m     43\u001b[0m     \u001b[38;5;28;01mreturn\u001b[39;00m \u001b[38;5;28mcls\u001b[39m(provider\u001b[38;5;241m=\u001b[39m\u001b[38;5;28;01mNone\u001b[39;00m, region\u001b[38;5;241m=\u001b[39m\u001b[38;5;28;01mNone\u001b[39;00m)\n",
      "File \u001b[0;32m~/miniconda3/envs/triztest/lib/python3.12/site-packages/codecarbon/core/cloud.py:57\u001b[0m, in \u001b[0;36mget_env_cloud_details\u001b[0;34m(timeout)\u001b[0m\n\u001b[1;32m     55\u001b[0m \u001b[38;5;28;01mtry\u001b[39;00m:\n\u001b[1;32m     56\u001b[0m     params \u001b[38;5;241m=\u001b[39m CLOUD_METADATA_MAPPING[provider]\n\u001b[0;32m---> 57\u001b[0m     response \u001b[38;5;241m=\u001b[39m \u001b[43mrequests\u001b[49m\u001b[38;5;241;43m.\u001b[39;49m\u001b[43mget\u001b[49m\u001b[43m(\u001b[49m\n\u001b[1;32m     58\u001b[0m \u001b[43m        \u001b[49m\u001b[43mparams\u001b[49m\u001b[43m[\u001b[49m\u001b[38;5;124;43m\"\u001b[39;49m\u001b[38;5;124;43murl\u001b[39;49m\u001b[38;5;124;43m\"\u001b[39;49m\u001b[43m]\u001b[49m\u001b[43m,\u001b[49m\u001b[43m \u001b[49m\u001b[43mheaders\u001b[49m\u001b[38;5;241;43m=\u001b[39;49m\u001b[43mparams\u001b[49m\u001b[43m[\u001b[49m\u001b[38;5;124;43m\"\u001b[39;49m\u001b[38;5;124;43mheaders\u001b[39;49m\u001b[38;5;124;43m\"\u001b[39;49m\u001b[43m]\u001b[49m\u001b[43m,\u001b[49m\u001b[43m \u001b[49m\u001b[43mtimeout\u001b[49m\u001b[38;5;241;43m=\u001b[39;49m\u001b[43mtimeout\u001b[49m\n\u001b[1;32m     59\u001b[0m \u001b[43m    \u001b[49m\u001b[43m)\u001b[49m\n\u001b[1;32m     60\u001b[0m     response\u001b[38;5;241m.\u001b[39mraise_for_status()\n\u001b[1;32m     61\u001b[0m     response_data \u001b[38;5;241m=\u001b[39m response\u001b[38;5;241m.\u001b[39mjson()\n",
      "File \u001b[0;32m~/miniconda3/envs/triztest/lib/python3.12/site-packages/requests/api.py:73\u001b[0m, in \u001b[0;36mget\u001b[0;34m(url, params, **kwargs)\u001b[0m\n\u001b[1;32m     62\u001b[0m \u001b[38;5;28;01mdef\u001b[39;00m \u001b[38;5;21mget\u001b[39m(url, params\u001b[38;5;241m=\u001b[39m\u001b[38;5;28;01mNone\u001b[39;00m, \u001b[38;5;241m*\u001b[39m\u001b[38;5;241m*\u001b[39mkwargs):\n\u001b[1;32m     63\u001b[0m \u001b[38;5;250m    \u001b[39m\u001b[38;5;124mr\u001b[39m\u001b[38;5;124;03m\"\"\"Sends a GET request.\u001b[39;00m\n\u001b[1;32m     64\u001b[0m \n\u001b[1;32m     65\u001b[0m \u001b[38;5;124;03m    :param url: URL for the new :class:`Request` object.\u001b[39;00m\n\u001b[0;32m   (...)\u001b[0m\n\u001b[1;32m     70\u001b[0m \u001b[38;5;124;03m    :rtype: requests.Response\u001b[39;00m\n\u001b[1;32m     71\u001b[0m \u001b[38;5;124;03m    \"\"\"\u001b[39;00m\n\u001b[0;32m---> 73\u001b[0m     \u001b[38;5;28;01mreturn\u001b[39;00m \u001b[43mrequest\u001b[49m\u001b[43m(\u001b[49m\u001b[38;5;124;43m\"\u001b[39;49m\u001b[38;5;124;43mget\u001b[39;49m\u001b[38;5;124;43m\"\u001b[39;49m\u001b[43m,\u001b[49m\u001b[43m \u001b[49m\u001b[43murl\u001b[49m\u001b[43m,\u001b[49m\u001b[43m \u001b[49m\u001b[43mparams\u001b[49m\u001b[38;5;241;43m=\u001b[39;49m\u001b[43mparams\u001b[49m\u001b[43m,\u001b[49m\u001b[43m \u001b[49m\u001b[38;5;241;43m*\u001b[39;49m\u001b[38;5;241;43m*\u001b[39;49m\u001b[43mkwargs\u001b[49m\u001b[43m)\u001b[49m\n",
      "File \u001b[0;32m~/miniconda3/envs/triztest/lib/python3.12/site-packages/requests/api.py:59\u001b[0m, in \u001b[0;36mrequest\u001b[0;34m(method, url, **kwargs)\u001b[0m\n\u001b[1;32m     55\u001b[0m \u001b[38;5;66;03m# By using the 'with' statement we are sure the session is closed, thus we\u001b[39;00m\n\u001b[1;32m     56\u001b[0m \u001b[38;5;66;03m# avoid leaving sockets open which can trigger a ResourceWarning in some\u001b[39;00m\n\u001b[1;32m     57\u001b[0m \u001b[38;5;66;03m# cases, and look like a memory leak in others.\u001b[39;00m\n\u001b[1;32m     58\u001b[0m \u001b[38;5;28;01mwith\u001b[39;00m sessions\u001b[38;5;241m.\u001b[39mSession() \u001b[38;5;28;01mas\u001b[39;00m session:\n\u001b[0;32m---> 59\u001b[0m     \u001b[38;5;28;01mreturn\u001b[39;00m \u001b[43msession\u001b[49m\u001b[38;5;241;43m.\u001b[39;49m\u001b[43mrequest\u001b[49m\u001b[43m(\u001b[49m\u001b[43mmethod\u001b[49m\u001b[38;5;241;43m=\u001b[39;49m\u001b[43mmethod\u001b[49m\u001b[43m,\u001b[49m\u001b[43m \u001b[49m\u001b[43murl\u001b[49m\u001b[38;5;241;43m=\u001b[39;49m\u001b[43murl\u001b[49m\u001b[43m,\u001b[49m\u001b[43m \u001b[49m\u001b[38;5;241;43m*\u001b[39;49m\u001b[38;5;241;43m*\u001b[39;49m\u001b[43mkwargs\u001b[49m\u001b[43m)\u001b[49m\n",
      "File \u001b[0;32m~/miniconda3/envs/triztest/lib/python3.12/site-packages/requests/sessions.py:589\u001b[0m, in \u001b[0;36mSession.request\u001b[0;34m(self, method, url, params, data, headers, cookies, files, auth, timeout, allow_redirects, proxies, hooks, stream, verify, cert, json)\u001b[0m\n\u001b[1;32m    584\u001b[0m send_kwargs \u001b[38;5;241m=\u001b[39m {\n\u001b[1;32m    585\u001b[0m     \u001b[38;5;124m\"\u001b[39m\u001b[38;5;124mtimeout\u001b[39m\u001b[38;5;124m\"\u001b[39m: timeout,\n\u001b[1;32m    586\u001b[0m     \u001b[38;5;124m\"\u001b[39m\u001b[38;5;124mallow_redirects\u001b[39m\u001b[38;5;124m\"\u001b[39m: allow_redirects,\n\u001b[1;32m    587\u001b[0m }\n\u001b[1;32m    588\u001b[0m send_kwargs\u001b[38;5;241m.\u001b[39mupdate(settings)\n\u001b[0;32m--> 589\u001b[0m resp \u001b[38;5;241m=\u001b[39m \u001b[38;5;28;43mself\u001b[39;49m\u001b[38;5;241;43m.\u001b[39;49m\u001b[43msend\u001b[49m\u001b[43m(\u001b[49m\u001b[43mprep\u001b[49m\u001b[43m,\u001b[49m\u001b[43m \u001b[49m\u001b[38;5;241;43m*\u001b[39;49m\u001b[38;5;241;43m*\u001b[39;49m\u001b[43msend_kwargs\u001b[49m\u001b[43m)\u001b[49m\n\u001b[1;32m    591\u001b[0m \u001b[38;5;28;01mreturn\u001b[39;00m resp\n",
      "File \u001b[0;32m~/miniconda3/envs/triztest/lib/python3.12/site-packages/requests/sessions.py:703\u001b[0m, in \u001b[0;36mSession.send\u001b[0;34m(self, request, **kwargs)\u001b[0m\n\u001b[1;32m    700\u001b[0m start \u001b[38;5;241m=\u001b[39m preferred_clock()\n\u001b[1;32m    702\u001b[0m \u001b[38;5;66;03m# Send the request\u001b[39;00m\n\u001b[0;32m--> 703\u001b[0m r \u001b[38;5;241m=\u001b[39m \u001b[43madapter\u001b[49m\u001b[38;5;241;43m.\u001b[39;49m\u001b[43msend\u001b[49m\u001b[43m(\u001b[49m\u001b[43mrequest\u001b[49m\u001b[43m,\u001b[49m\u001b[43m \u001b[49m\u001b[38;5;241;43m*\u001b[39;49m\u001b[38;5;241;43m*\u001b[39;49m\u001b[43mkwargs\u001b[49m\u001b[43m)\u001b[49m\n\u001b[1;32m    705\u001b[0m \u001b[38;5;66;03m# Total elapsed time of the request (approximately)\u001b[39;00m\n\u001b[1;32m    706\u001b[0m elapsed \u001b[38;5;241m=\u001b[39m preferred_clock() \u001b[38;5;241m-\u001b[39m start\n",
      "File \u001b[0;32m~/miniconda3/envs/triztest/lib/python3.12/site-packages/requests/adapters.py:486\u001b[0m, in \u001b[0;36mHTTPAdapter.send\u001b[0;34m(self, request, stream, timeout, verify, cert, proxies)\u001b[0m\n\u001b[1;32m    483\u001b[0m     timeout \u001b[38;5;241m=\u001b[39m TimeoutSauce(connect\u001b[38;5;241m=\u001b[39mtimeout, read\u001b[38;5;241m=\u001b[39mtimeout)\n\u001b[1;32m    485\u001b[0m \u001b[38;5;28;01mtry\u001b[39;00m:\n\u001b[0;32m--> 486\u001b[0m     resp \u001b[38;5;241m=\u001b[39m \u001b[43mconn\u001b[49m\u001b[38;5;241;43m.\u001b[39;49m\u001b[43murlopen\u001b[49m\u001b[43m(\u001b[49m\n\u001b[1;32m    487\u001b[0m \u001b[43m        \u001b[49m\u001b[43mmethod\u001b[49m\u001b[38;5;241;43m=\u001b[39;49m\u001b[43mrequest\u001b[49m\u001b[38;5;241;43m.\u001b[39;49m\u001b[43mmethod\u001b[49m\u001b[43m,\u001b[49m\n\u001b[1;32m    488\u001b[0m \u001b[43m        \u001b[49m\u001b[43murl\u001b[49m\u001b[38;5;241;43m=\u001b[39;49m\u001b[43murl\u001b[49m\u001b[43m,\u001b[49m\n\u001b[1;32m    489\u001b[0m \u001b[43m        \u001b[49m\u001b[43mbody\u001b[49m\u001b[38;5;241;43m=\u001b[39;49m\u001b[43mrequest\u001b[49m\u001b[38;5;241;43m.\u001b[39;49m\u001b[43mbody\u001b[49m\u001b[43m,\u001b[49m\n\u001b[1;32m    490\u001b[0m \u001b[43m        \u001b[49m\u001b[43mheaders\u001b[49m\u001b[38;5;241;43m=\u001b[39;49m\u001b[43mrequest\u001b[49m\u001b[38;5;241;43m.\u001b[39;49m\u001b[43mheaders\u001b[49m\u001b[43m,\u001b[49m\n\u001b[1;32m    491\u001b[0m \u001b[43m        \u001b[49m\u001b[43mredirect\u001b[49m\u001b[38;5;241;43m=\u001b[39;49m\u001b[38;5;28;43;01mFalse\u001b[39;49;00m\u001b[43m,\u001b[49m\n\u001b[1;32m    492\u001b[0m \u001b[43m        \u001b[49m\u001b[43massert_same_host\u001b[49m\u001b[38;5;241;43m=\u001b[39;49m\u001b[38;5;28;43;01mFalse\u001b[39;49;00m\u001b[43m,\u001b[49m\n\u001b[1;32m    493\u001b[0m \u001b[43m        \u001b[49m\u001b[43mpreload_content\u001b[49m\u001b[38;5;241;43m=\u001b[39;49m\u001b[38;5;28;43;01mFalse\u001b[39;49;00m\u001b[43m,\u001b[49m\n\u001b[1;32m    494\u001b[0m \u001b[43m        \u001b[49m\u001b[43mdecode_content\u001b[49m\u001b[38;5;241;43m=\u001b[39;49m\u001b[38;5;28;43;01mFalse\u001b[39;49;00m\u001b[43m,\u001b[49m\n\u001b[1;32m    495\u001b[0m \u001b[43m        \u001b[49m\u001b[43mretries\u001b[49m\u001b[38;5;241;43m=\u001b[39;49m\u001b[38;5;28;43mself\u001b[39;49m\u001b[38;5;241;43m.\u001b[39;49m\u001b[43mmax_retries\u001b[49m\u001b[43m,\u001b[49m\n\u001b[1;32m    496\u001b[0m \u001b[43m        \u001b[49m\u001b[43mtimeout\u001b[49m\u001b[38;5;241;43m=\u001b[39;49m\u001b[43mtimeout\u001b[49m\u001b[43m,\u001b[49m\n\u001b[1;32m    497\u001b[0m \u001b[43m        \u001b[49m\u001b[43mchunked\u001b[49m\u001b[38;5;241;43m=\u001b[39;49m\u001b[43mchunked\u001b[49m\u001b[43m,\u001b[49m\n\u001b[1;32m    498\u001b[0m \u001b[43m    \u001b[49m\u001b[43m)\u001b[49m\n\u001b[1;32m    500\u001b[0m \u001b[38;5;28;01mexcept\u001b[39;00m (ProtocolError, \u001b[38;5;167;01mOSError\u001b[39;00m) \u001b[38;5;28;01mas\u001b[39;00m err:\n\u001b[1;32m    501\u001b[0m     \u001b[38;5;28;01mraise\u001b[39;00m \u001b[38;5;167;01mConnectionError\u001b[39;00m(err, request\u001b[38;5;241m=\u001b[39mrequest)\n",
      "File \u001b[0;32m~/miniconda3/envs/triztest/lib/python3.12/site-packages/urllib3/connectionpool.py:790\u001b[0m, in \u001b[0;36mHTTPConnectionPool.urlopen\u001b[0;34m(self, method, url, body, headers, retries, redirect, assert_same_host, timeout, pool_timeout, release_conn, chunked, body_pos, preload_content, decode_content, **response_kw)\u001b[0m\n\u001b[1;32m    787\u001b[0m response_conn \u001b[38;5;241m=\u001b[39m conn \u001b[38;5;28;01mif\u001b[39;00m \u001b[38;5;129;01mnot\u001b[39;00m release_conn \u001b[38;5;28;01melse\u001b[39;00m \u001b[38;5;28;01mNone\u001b[39;00m\n\u001b[1;32m    789\u001b[0m \u001b[38;5;66;03m# Make the request on the HTTPConnection object\u001b[39;00m\n\u001b[0;32m--> 790\u001b[0m response \u001b[38;5;241m=\u001b[39m \u001b[38;5;28;43mself\u001b[39;49m\u001b[38;5;241;43m.\u001b[39;49m\u001b[43m_make_request\u001b[49m\u001b[43m(\u001b[49m\n\u001b[1;32m    791\u001b[0m \u001b[43m    \u001b[49m\u001b[43mconn\u001b[49m\u001b[43m,\u001b[49m\n\u001b[1;32m    792\u001b[0m \u001b[43m    \u001b[49m\u001b[43mmethod\u001b[49m\u001b[43m,\u001b[49m\n\u001b[1;32m    793\u001b[0m \u001b[43m    \u001b[49m\u001b[43murl\u001b[49m\u001b[43m,\u001b[49m\n\u001b[1;32m    794\u001b[0m \u001b[43m    \u001b[49m\u001b[43mtimeout\u001b[49m\u001b[38;5;241;43m=\u001b[39;49m\u001b[43mtimeout_obj\u001b[49m\u001b[43m,\u001b[49m\n\u001b[1;32m    795\u001b[0m \u001b[43m    \u001b[49m\u001b[43mbody\u001b[49m\u001b[38;5;241;43m=\u001b[39;49m\u001b[43mbody\u001b[49m\u001b[43m,\u001b[49m\n\u001b[1;32m    796\u001b[0m \u001b[43m    \u001b[49m\u001b[43mheaders\u001b[49m\u001b[38;5;241;43m=\u001b[39;49m\u001b[43mheaders\u001b[49m\u001b[43m,\u001b[49m\n\u001b[1;32m    797\u001b[0m \u001b[43m    \u001b[49m\u001b[43mchunked\u001b[49m\u001b[38;5;241;43m=\u001b[39;49m\u001b[43mchunked\u001b[49m\u001b[43m,\u001b[49m\n\u001b[1;32m    798\u001b[0m \u001b[43m    \u001b[49m\u001b[43mretries\u001b[49m\u001b[38;5;241;43m=\u001b[39;49m\u001b[43mretries\u001b[49m\u001b[43m,\u001b[49m\n\u001b[1;32m    799\u001b[0m \u001b[43m    \u001b[49m\u001b[43mresponse_conn\u001b[49m\u001b[38;5;241;43m=\u001b[39;49m\u001b[43mresponse_conn\u001b[49m\u001b[43m,\u001b[49m\n\u001b[1;32m    800\u001b[0m \u001b[43m    \u001b[49m\u001b[43mpreload_content\u001b[49m\u001b[38;5;241;43m=\u001b[39;49m\u001b[43mpreload_content\u001b[49m\u001b[43m,\u001b[49m\n\u001b[1;32m    801\u001b[0m \u001b[43m    \u001b[49m\u001b[43mdecode_content\u001b[49m\u001b[38;5;241;43m=\u001b[39;49m\u001b[43mdecode_content\u001b[49m\u001b[43m,\u001b[49m\n\u001b[1;32m    802\u001b[0m \u001b[43m    \u001b[49m\u001b[38;5;241;43m*\u001b[39;49m\u001b[38;5;241;43m*\u001b[39;49m\u001b[43mresponse_kw\u001b[49m\u001b[43m,\u001b[49m\n\u001b[1;32m    803\u001b[0m \u001b[43m\u001b[49m\u001b[43m)\u001b[49m\n\u001b[1;32m    805\u001b[0m \u001b[38;5;66;03m# Everything went great!\u001b[39;00m\n\u001b[1;32m    806\u001b[0m clean_exit \u001b[38;5;241m=\u001b[39m \u001b[38;5;28;01mTrue\u001b[39;00m\n",
      "File \u001b[0;32m~/miniconda3/envs/triztest/lib/python3.12/site-packages/urllib3/connectionpool.py:496\u001b[0m, in \u001b[0;36mHTTPConnectionPool._make_request\u001b[0;34m(self, conn, method, url, body, headers, retries, timeout, chunked, response_conn, preload_content, decode_content, enforce_content_length)\u001b[0m\n\u001b[1;32m    493\u001b[0m \u001b[38;5;66;03m# conn.request() calls http.client.*.request, not the method in\u001b[39;00m\n\u001b[1;32m    494\u001b[0m \u001b[38;5;66;03m# urllib3.request. It also calls makefile (recv) on the socket.\u001b[39;00m\n\u001b[1;32m    495\u001b[0m \u001b[38;5;28;01mtry\u001b[39;00m:\n\u001b[0;32m--> 496\u001b[0m     \u001b[43mconn\u001b[49m\u001b[38;5;241;43m.\u001b[39;49m\u001b[43mrequest\u001b[49m\u001b[43m(\u001b[49m\n\u001b[1;32m    497\u001b[0m \u001b[43m        \u001b[49m\u001b[43mmethod\u001b[49m\u001b[43m,\u001b[49m\n\u001b[1;32m    498\u001b[0m \u001b[43m        \u001b[49m\u001b[43murl\u001b[49m\u001b[43m,\u001b[49m\n\u001b[1;32m    499\u001b[0m \u001b[43m        \u001b[49m\u001b[43mbody\u001b[49m\u001b[38;5;241;43m=\u001b[39;49m\u001b[43mbody\u001b[49m\u001b[43m,\u001b[49m\n\u001b[1;32m    500\u001b[0m \u001b[43m        \u001b[49m\u001b[43mheaders\u001b[49m\u001b[38;5;241;43m=\u001b[39;49m\u001b[43mheaders\u001b[49m\u001b[43m,\u001b[49m\n\u001b[1;32m    501\u001b[0m \u001b[43m        \u001b[49m\u001b[43mchunked\u001b[49m\u001b[38;5;241;43m=\u001b[39;49m\u001b[43mchunked\u001b[49m\u001b[43m,\u001b[49m\n\u001b[1;32m    502\u001b[0m \u001b[43m        \u001b[49m\u001b[43mpreload_content\u001b[49m\u001b[38;5;241;43m=\u001b[39;49m\u001b[43mpreload_content\u001b[49m\u001b[43m,\u001b[49m\n\u001b[1;32m    503\u001b[0m \u001b[43m        \u001b[49m\u001b[43mdecode_content\u001b[49m\u001b[38;5;241;43m=\u001b[39;49m\u001b[43mdecode_content\u001b[49m\u001b[43m,\u001b[49m\n\u001b[1;32m    504\u001b[0m \u001b[43m        \u001b[49m\u001b[43menforce_content_length\u001b[49m\u001b[38;5;241;43m=\u001b[39;49m\u001b[43menforce_content_length\u001b[49m\u001b[43m,\u001b[49m\n\u001b[1;32m    505\u001b[0m \u001b[43m    \u001b[49m\u001b[43m)\u001b[49m\n\u001b[1;32m    507\u001b[0m \u001b[38;5;66;03m# We are swallowing BrokenPipeError (errno.EPIPE) since the server is\u001b[39;00m\n\u001b[1;32m    508\u001b[0m \u001b[38;5;66;03m# legitimately able to close the connection after sending a valid response.\u001b[39;00m\n\u001b[1;32m    509\u001b[0m \u001b[38;5;66;03m# With this behaviour, the received response is still readable.\u001b[39;00m\n\u001b[1;32m    510\u001b[0m \u001b[38;5;28;01mexcept\u001b[39;00m \u001b[38;5;167;01mBrokenPipeError\u001b[39;00m:\n",
      "File \u001b[0;32m~/miniconda3/envs/triztest/lib/python3.12/site-packages/urllib3/connection.py:395\u001b[0m, in \u001b[0;36mHTTPConnection.request\u001b[0;34m(self, method, url, body, headers, chunked, preload_content, decode_content, enforce_content_length)\u001b[0m\n\u001b[1;32m    393\u001b[0m \u001b[38;5;28;01mfor\u001b[39;00m header, value \u001b[38;5;129;01min\u001b[39;00m headers\u001b[38;5;241m.\u001b[39mitems():\n\u001b[1;32m    394\u001b[0m     \u001b[38;5;28mself\u001b[39m\u001b[38;5;241m.\u001b[39mputheader(header, value)\n\u001b[0;32m--> 395\u001b[0m \u001b[38;5;28;43mself\u001b[39;49m\u001b[38;5;241;43m.\u001b[39;49m\u001b[43mendheaders\u001b[49m\u001b[43m(\u001b[49m\u001b[43m)\u001b[49m\n\u001b[1;32m    397\u001b[0m \u001b[38;5;66;03m# If we're given a body we start sending that in chunks.\u001b[39;00m\n\u001b[1;32m    398\u001b[0m \u001b[38;5;28;01mif\u001b[39;00m chunks \u001b[38;5;129;01mis\u001b[39;00m \u001b[38;5;129;01mnot\u001b[39;00m \u001b[38;5;28;01mNone\u001b[39;00m:\n",
      "File \u001b[0;32m~/miniconda3/envs/triztest/lib/python3.12/http/client.py:1322\u001b[0m, in \u001b[0;36mHTTPConnection.endheaders\u001b[0;34m(self, message_body, encode_chunked)\u001b[0m\n\u001b[1;32m   1320\u001b[0m \u001b[38;5;28;01melse\u001b[39;00m:\n\u001b[1;32m   1321\u001b[0m     \u001b[38;5;28;01mraise\u001b[39;00m CannotSendHeader()\n\u001b[0;32m-> 1322\u001b[0m \u001b[38;5;28;43mself\u001b[39;49m\u001b[38;5;241;43m.\u001b[39;49m\u001b[43m_send_output\u001b[49m\u001b[43m(\u001b[49m\u001b[43mmessage_body\u001b[49m\u001b[43m,\u001b[49m\u001b[43m \u001b[49m\u001b[43mencode_chunked\u001b[49m\u001b[38;5;241;43m=\u001b[39;49m\u001b[43mencode_chunked\u001b[49m\u001b[43m)\u001b[49m\n",
      "File \u001b[0;32m~/miniconda3/envs/triztest/lib/python3.12/http/client.py:1081\u001b[0m, in \u001b[0;36mHTTPConnection._send_output\u001b[0;34m(self, message_body, encode_chunked)\u001b[0m\n\u001b[1;32m   1079\u001b[0m msg \u001b[38;5;241m=\u001b[39m \u001b[38;5;124mb\u001b[39m\u001b[38;5;124m\"\u001b[39m\u001b[38;5;130;01m\\r\u001b[39;00m\u001b[38;5;130;01m\\n\u001b[39;00m\u001b[38;5;124m\"\u001b[39m\u001b[38;5;241m.\u001b[39mjoin(\u001b[38;5;28mself\u001b[39m\u001b[38;5;241m.\u001b[39m_buffer)\n\u001b[1;32m   1080\u001b[0m \u001b[38;5;28;01mdel\u001b[39;00m \u001b[38;5;28mself\u001b[39m\u001b[38;5;241m.\u001b[39m_buffer[:]\n\u001b[0;32m-> 1081\u001b[0m \u001b[38;5;28;43mself\u001b[39;49m\u001b[38;5;241;43m.\u001b[39;49m\u001b[43msend\u001b[49m\u001b[43m(\u001b[49m\u001b[43mmsg\u001b[49m\u001b[43m)\u001b[49m\n\u001b[1;32m   1083\u001b[0m \u001b[38;5;28;01mif\u001b[39;00m message_body \u001b[38;5;129;01mis\u001b[39;00m \u001b[38;5;129;01mnot\u001b[39;00m \u001b[38;5;28;01mNone\u001b[39;00m:\n\u001b[1;32m   1084\u001b[0m \n\u001b[1;32m   1085\u001b[0m     \u001b[38;5;66;03m# create a consistent interface to message_body\u001b[39;00m\n\u001b[1;32m   1086\u001b[0m     \u001b[38;5;28;01mif\u001b[39;00m \u001b[38;5;28mhasattr\u001b[39m(message_body, \u001b[38;5;124m'\u001b[39m\u001b[38;5;124mread\u001b[39m\u001b[38;5;124m'\u001b[39m):\n\u001b[1;32m   1087\u001b[0m         \u001b[38;5;66;03m# Let file-like take precedence over byte-like.  This\u001b[39;00m\n\u001b[1;32m   1088\u001b[0m         \u001b[38;5;66;03m# is needed to allow the current position of mmap'ed\u001b[39;00m\n\u001b[1;32m   1089\u001b[0m         \u001b[38;5;66;03m# files to be taken into account.\u001b[39;00m\n",
      "File \u001b[0;32m~/miniconda3/envs/triztest/lib/python3.12/http/client.py:1025\u001b[0m, in \u001b[0;36mHTTPConnection.send\u001b[0;34m(self, data)\u001b[0m\n\u001b[1;32m   1023\u001b[0m \u001b[38;5;28;01mif\u001b[39;00m \u001b[38;5;28mself\u001b[39m\u001b[38;5;241m.\u001b[39msock \u001b[38;5;129;01mis\u001b[39;00m \u001b[38;5;28;01mNone\u001b[39;00m:\n\u001b[1;32m   1024\u001b[0m     \u001b[38;5;28;01mif\u001b[39;00m \u001b[38;5;28mself\u001b[39m\u001b[38;5;241m.\u001b[39mauto_open:\n\u001b[0;32m-> 1025\u001b[0m         \u001b[38;5;28;43mself\u001b[39;49m\u001b[38;5;241;43m.\u001b[39;49m\u001b[43mconnect\u001b[49m\u001b[43m(\u001b[49m\u001b[43m)\u001b[49m\n\u001b[1;32m   1026\u001b[0m     \u001b[38;5;28;01melse\u001b[39;00m:\n\u001b[1;32m   1027\u001b[0m         \u001b[38;5;28;01mraise\u001b[39;00m NotConnected()\n",
      "File \u001b[0;32m~/miniconda3/envs/triztest/lib/python3.12/site-packages/urllib3/connection.py:243\u001b[0m, in \u001b[0;36mHTTPConnection.connect\u001b[0;34m(self)\u001b[0m\n\u001b[1;32m    242\u001b[0m \u001b[38;5;28;01mdef\u001b[39;00m \u001b[38;5;21mconnect\u001b[39m(\u001b[38;5;28mself\u001b[39m) \u001b[38;5;241m-\u001b[39m\u001b[38;5;241m>\u001b[39m \u001b[38;5;28;01mNone\u001b[39;00m:\n\u001b[0;32m--> 243\u001b[0m     \u001b[38;5;28mself\u001b[39m\u001b[38;5;241m.\u001b[39msock \u001b[38;5;241m=\u001b[39m \u001b[38;5;28;43mself\u001b[39;49m\u001b[38;5;241;43m.\u001b[39;49m\u001b[43m_new_conn\u001b[49m\u001b[43m(\u001b[49m\u001b[43m)\u001b[49m\n\u001b[1;32m    244\u001b[0m     \u001b[38;5;28;01mif\u001b[39;00m \u001b[38;5;28mself\u001b[39m\u001b[38;5;241m.\u001b[39m_tunnel_host:\n\u001b[1;32m    245\u001b[0m         \u001b[38;5;66;03m# If we're tunneling it means we're connected to our proxy.\u001b[39;00m\n\u001b[1;32m    246\u001b[0m         \u001b[38;5;28mself\u001b[39m\u001b[38;5;241m.\u001b[39m_has_connected_to_proxy \u001b[38;5;241m=\u001b[39m \u001b[38;5;28;01mTrue\u001b[39;00m\n",
      "File \u001b[0;32m~/miniconda3/envs/triztest/lib/python3.12/site-packages/urllib3/connection.py:203\u001b[0m, in \u001b[0;36mHTTPConnection._new_conn\u001b[0;34m(self)\u001b[0m\n\u001b[1;32m    198\u001b[0m \u001b[38;5;250m\u001b[39m\u001b[38;5;124;03m\"\"\"Establish a socket connection and set nodelay settings on it.\u001b[39;00m\n\u001b[1;32m    199\u001b[0m \n\u001b[1;32m    200\u001b[0m \u001b[38;5;124;03m:return: New socket connection.\u001b[39;00m\n\u001b[1;32m    201\u001b[0m \u001b[38;5;124;03m\"\"\"\u001b[39;00m\n\u001b[1;32m    202\u001b[0m \u001b[38;5;28;01mtry\u001b[39;00m:\n\u001b[0;32m--> 203\u001b[0m     sock \u001b[38;5;241m=\u001b[39m \u001b[43mconnection\u001b[49m\u001b[38;5;241;43m.\u001b[39;49m\u001b[43mcreate_connection\u001b[49m\u001b[43m(\u001b[49m\n\u001b[1;32m    204\u001b[0m \u001b[43m        \u001b[49m\u001b[43m(\u001b[49m\u001b[38;5;28;43mself\u001b[39;49m\u001b[38;5;241;43m.\u001b[39;49m\u001b[43m_dns_host\u001b[49m\u001b[43m,\u001b[49m\u001b[43m \u001b[49m\u001b[38;5;28;43mself\u001b[39;49m\u001b[38;5;241;43m.\u001b[39;49m\u001b[43mport\u001b[49m\u001b[43m)\u001b[49m\u001b[43m,\u001b[49m\n\u001b[1;32m    205\u001b[0m \u001b[43m        \u001b[49m\u001b[38;5;28;43mself\u001b[39;49m\u001b[38;5;241;43m.\u001b[39;49m\u001b[43mtimeout\u001b[49m\u001b[43m,\u001b[49m\n\u001b[1;32m    206\u001b[0m \u001b[43m        \u001b[49m\u001b[43msource_address\u001b[49m\u001b[38;5;241;43m=\u001b[39;49m\u001b[38;5;28;43mself\u001b[39;49m\u001b[38;5;241;43m.\u001b[39;49m\u001b[43msource_address\u001b[49m\u001b[43m,\u001b[49m\n\u001b[1;32m    207\u001b[0m \u001b[43m        \u001b[49m\u001b[43msocket_options\u001b[49m\u001b[38;5;241;43m=\u001b[39;49m\u001b[38;5;28;43mself\u001b[39;49m\u001b[38;5;241;43m.\u001b[39;49m\u001b[43msocket_options\u001b[49m\u001b[43m,\u001b[49m\n\u001b[1;32m    208\u001b[0m \u001b[43m    \u001b[49m\u001b[43m)\u001b[49m\n\u001b[1;32m    209\u001b[0m \u001b[38;5;28;01mexcept\u001b[39;00m socket\u001b[38;5;241m.\u001b[39mgaierror \u001b[38;5;28;01mas\u001b[39;00m e:\n\u001b[1;32m    210\u001b[0m     \u001b[38;5;28;01mraise\u001b[39;00m NameResolutionError(\u001b[38;5;28mself\u001b[39m\u001b[38;5;241m.\u001b[39mhost, \u001b[38;5;28mself\u001b[39m, e) \u001b[38;5;28;01mfrom\u001b[39;00m \u001b[38;5;21;01me\u001b[39;00m\n",
      "File \u001b[0;32m~/miniconda3/envs/triztest/lib/python3.12/site-packages/urllib3/util/connection.py:73\u001b[0m, in \u001b[0;36mcreate_connection\u001b[0;34m(address, timeout, source_address, socket_options)\u001b[0m\n\u001b[1;32m     71\u001b[0m \u001b[38;5;28;01mif\u001b[39;00m source_address:\n\u001b[1;32m     72\u001b[0m     sock\u001b[38;5;241m.\u001b[39mbind(source_address)\n\u001b[0;32m---> 73\u001b[0m \u001b[43msock\u001b[49m\u001b[38;5;241;43m.\u001b[39;49m\u001b[43mconnect\u001b[49m\u001b[43m(\u001b[49m\u001b[43msa\u001b[49m\u001b[43m)\u001b[49m\n\u001b[1;32m     74\u001b[0m \u001b[38;5;66;03m# Break explicitly a reference cycle\u001b[39;00m\n\u001b[1;32m     75\u001b[0m err \u001b[38;5;241m=\u001b[39m \u001b[38;5;28;01mNone\u001b[39;00m\n",
      "\u001b[0;31mKeyboardInterrupt\u001b[0m: "
     ]
    }
   ],
   "source": [
    "#Embedding model load\n",
    "\n",
    "from langchain.embeddings import HuggingFaceBgeEmbeddings\n",
    "from langchain.vectorstores import Chroma\n",
    "from codecarbon import EmissionsTracker\n",
    "import time\n",
    "\n",
    "print(\"Start of code time: \",time.time())\n",
    "\n",
    "tracker = EmissionsTracker()\n",
    "tracker.start()\n",
    "\n",
    "model_name = \"BAAI/bge-large-en-v1.5\"\n",
    "# model_kwargs = {'device': 'cuda'}\n",
    "encode_kwargs = {'normalize_embeddings': True} # set True to compute cosine similarity\n",
    "model = HuggingFaceBgeEmbeddings(\n",
    "    model_name=model_name,\n",
    "    # model_kwargs=model_kwargs,\n",
    "    encode_kwargs=encode_kwargs\n",
    "    # ,\n",
    "    # query_instruction=\"为这个句子生成表示以用于检索相关文章：\"\n",
    ")\n",
    "\n",
    "\n",
    "emissions: float = tracker.stop()\n",
    "print(\"Emissions for this code execution is: \", emissions)\n",
    "print(\"End of code time: \",time.time())"
   ]
  },
  {
   "cell_type": "code",
   "execution_count": 8,
   "metadata": {
    "metadata": {}
   },
   "outputs": [
    {
     "name": "stderr",
     "output_type": "stream",
     "text": [
      "/home/c7361293/miniconda3/envs/triztest/lib/python3.12/site-packages/tqdm/auto.py:21: TqdmWarning: IProgress not found. Please update jupyter and ipywidgets. See https://ipywidgets.readthedocs.io/en/stable/user_install.html\n",
      "  from .autonotebook import tqdm as notebook_tqdm\n",
      "[codecarbon WARNING @ 13:37:08] Invalid gpu_ids format. Expected a string or a list of ints.\n",
      "[codecarbon INFO @ 13:37:08] [setup] RAM Tracking...\n",
      "[codecarbon INFO @ 13:37:08] [setup] GPU Tracking...\n",
      "[codecarbon INFO @ 13:37:08] Tracking Nvidia GPU via pynvml\n",
      "[codecarbon INFO @ 13:37:08] [setup] CPU Tracking...\n",
      "[codecarbon WARNING @ 13:37:08] No CPU tracking mode found. Falling back on CPU constant mode.\n"
     ]
    },
    {
     "name": "stdout",
     "output_type": "stream",
     "text": [
      "Start of code time:  1717936628.072775\n"
     ]
    },
    {
     "name": "stderr",
     "output_type": "stream",
     "text": [
      "[codecarbon WARNING @ 13:37:09] We saw that you have a Intel(R) Xeon(R) Gold 6330 CPU @ 2.00GHz but we don't know it. Please contact us.\n",
      "[codecarbon INFO @ 13:37:09] CPU Model on constant consumption mode: Intel(R) Xeon(R) Gold 6330 CPU @ 2.00GHz\n",
      "[codecarbon INFO @ 13:37:09] >>> Tracker's metadata:\n",
      "[codecarbon INFO @ 13:37:09]   Platform system: Linux-5.4.0-182-generic-x86_64-with-glibc2.31\n",
      "[codecarbon INFO @ 13:37:09]   Python version: 3.12.1\n",
      "[codecarbon INFO @ 13:37:09]   CodeCarbon version: 2.4.1\n",
      "[codecarbon INFO @ 13:37:09]   Available RAM : 503.339 GB\n",
      "[codecarbon INFO @ 13:37:09]   CPU count: 112\n",
      "[codecarbon INFO @ 13:37:09]   CPU model: Intel(R) Xeon(R) Gold 6330 CPU @ 2.00GHz\n",
      "[codecarbon INFO @ 13:37:09]   GPU count: 2\n",
      "[codecarbon INFO @ 13:37:09]   GPU model: 2 x NVIDIA A40\n",
      "[codecarbon INFO @ 13:37:16] Energy consumed for RAM : 0.000194 kWh. RAM Power : 188.75217247009277 W\n",
      "[codecarbon INFO @ 13:37:16] Energy consumed for all GPUs : 0.000157 kWh. Total GPU Power : 152.3983515648166 W\n",
      "[codecarbon INFO @ 13:37:16] Energy consumed for all CPUs : 0.000044 kWh. Total CPU Power : 42.5 W\n",
      "[codecarbon INFO @ 13:37:16] 0.000394 kWh of electricity used since the beginning.\n"
     ]
    },
    {
     "name": "stdout",
     "output_type": "stream",
     "text": [
      "Emissions for this code execution is:  0.00010298390780122968\n",
      "End of code time:  1717936636.3094742\n"
     ]
    }
   ],
   "source": [
    "# Requires sentence_transformers>=2.7.0\n",
    "\n",
    "#Embedding model load\n",
    "\n",
    "from langchain.embeddings import HuggingFaceBgeEmbeddings\n",
    "from langchain.vectorstores import Chroma\n",
    "from codecarbon import EmissionsTracker\n",
    "import time\n",
    "\n",
    "# from sentence_transformers import SentenceTransformerEmbeddings\n",
    "from sentence_transformers.util import cos_sim\n",
    "\n",
    "\n",
    "print(\"Start of code time: \",time.time())\n",
    "\n",
    "tracker = EmissionsTracker()\n",
    "tracker.start()\n",
    "\n",
    "model_name = 'Alibaba-NLP/gte-large-en-v1.5'\n",
    "\n",
    "encode_kwargs = {'normalize_embeddings': True} # set True to compute cosine similarity\n",
    "model_kwargs = {'device':'cpu','trust_remote_code': True}\n",
    "model = HuggingFaceBgeEmbeddings(\n",
    "    model_name=model_name,\n",
    "    model_kwargs=model_kwargs,\n",
    "    encode_kwargs=encode_kwargs\n",
    "    # ,\n",
    "    # query_instruction=\"为这个句子生成表示以用于检索相关文章：\"\n",
    ")\n",
    "\n",
    "\n",
    "emissions: float = tracker.stop()\n",
    "print(\"Emissions for this code execution is: \", emissions)\n",
    "print(\"End of code time: \",time.time())\n"
   ]
  },
  {
   "cell_type": "code",
   "execution_count": 10,
   "metadata": {
    "metadata": {}
   },
   "outputs": [
    {
     "name": "stdout",
     "output_type": "stream",
     "text": [
      "client=SentenceTransformer(\n",
      "  (0): Transformer({'max_seq_length': 8192, 'do_lower_case': False}) with Transformer model: NewModel \n",
      "  (1): Pooling({'word_embedding_dimension': 1024, 'pooling_mode_cls_token': True, 'pooling_mode_mean_tokens': False, 'pooling_mode_max_tokens': False, 'pooling_mode_mean_sqrt_len_tokens': False, 'pooling_mode_weightedmean_tokens': False, 'pooling_mode_lasttoken': False, 'include_prompt': True})\n",
      ") model_name='Alibaba-NLP/gte-large-en-v1.5' cache_folder=None model_kwargs={'device': 'cpu', 'trust_remote_code': True} encode_kwargs={'normalize_embeddings': True} query_instruction='Represent this question for searching relevant passages: ' embed_instruction=''\n"
     ]
    }
   ],
   "source": [
    "print(model)"
   ]
  },
  {
   "cell_type": "code",
   "execution_count": 11,
   "metadata": {
    "metadata": {}
   },
   "outputs": [],
   "source": [
    "import os # Importing os module for operating system functionalities\n",
    "import shutil # Importing shutil module for high-level file operations"
   ]
  },
  {
   "cell_type": "code",
   "execution_count": 12,
   "metadata": {
    "metadata": {}
   },
   "outputs": [],
   "source": [
    " # Clear out the existing database directory if it exists\n",
    "if os.path.exists(\"./db_gte_large_en\"):\n",
    "    shutil.rmtree(\"./db_gte_large_en\")"
   ]
  },
  {
   "cell_type": "code",
   "execution_count": 13,
   "metadata": {
    "metadata": {}
   },
   "outputs": [
    {
     "name": "stderr",
     "output_type": "stream",
     "text": [
      "[codecarbon WARNING @ 13:37:49] Invalid gpu_ids format. Expected a string or a list of ints.\n",
      "[codecarbon INFO @ 13:37:49] [setup] RAM Tracking...\n",
      "[codecarbon INFO @ 13:37:49] [setup] GPU Tracking...\n",
      "[codecarbon INFO @ 13:37:49] Tracking Nvidia GPU via pynvml\n",
      "[codecarbon INFO @ 13:37:49] [setup] CPU Tracking...\n",
      "[codecarbon WARNING @ 13:37:49] No CPU tracking mode found. Falling back on CPU constant mode.\n"
     ]
    },
    {
     "name": "stdout",
     "output_type": "stream",
     "text": [
      "Start of code time:  1717936669.6791372\n"
     ]
    },
    {
     "name": "stderr",
     "output_type": "stream",
     "text": [
      "[codecarbon WARNING @ 13:37:50] We saw that you have a Intel(R) Xeon(R) Gold 6330 CPU @ 2.00GHz but we don't know it. Please contact us.\n",
      "[codecarbon INFO @ 13:37:50] CPU Model on constant consumption mode: Intel(R) Xeon(R) Gold 6330 CPU @ 2.00GHz\n",
      "[codecarbon INFO @ 13:37:50] >>> Tracker's metadata:\n",
      "[codecarbon INFO @ 13:37:50]   Platform system: Linux-5.4.0-182-generic-x86_64-with-glibc2.31\n",
      "[codecarbon INFO @ 13:37:50]   Python version: 3.12.1\n",
      "[codecarbon INFO @ 13:37:50]   CodeCarbon version: 2.4.1\n",
      "[codecarbon INFO @ 13:37:50]   Available RAM : 503.339 GB\n",
      "[codecarbon INFO @ 13:37:50]   CPU count: 112\n",
      "[codecarbon INFO @ 13:37:50]   CPU model: Intel(R) Xeon(R) Gold 6330 CPU @ 2.00GHz\n",
      "[codecarbon INFO @ 13:37:50]   GPU count: 2\n",
      "[codecarbon INFO @ 13:37:50]   GPU model: 2 x NVIDIA A40\n",
      "[codecarbon INFO @ 13:38:09] Energy consumed for RAM : 0.000794 kWh. RAM Power : 188.75217247009277 W\n",
      "[codecarbon INFO @ 13:38:09] Energy consumed for all GPUs : 0.000645 kWh. Total GPU Power : 153.07554730467083 W\n",
      "[codecarbon INFO @ 13:38:09] Energy consumed for all CPUs : 0.000179 kWh. Total CPU Power : 42.5 W\n",
      "[codecarbon INFO @ 13:38:09] 0.001618 kWh of electricity used since the beginning.\n",
      "[codecarbon INFO @ 13:38:25] Energy consumed for RAM : 0.001633 kWh. RAM Power : 188.75217247009277 W\n",
      "[codecarbon INFO @ 13:38:25] Energy consumed for all GPUs : 0.001324 kWh. Total GPU Power : 152.7282225103711 W\n",
      "[codecarbon INFO @ 13:38:25] Energy consumed for all CPUs : 0.000368 kWh. Total CPU Power : 42.5 W\n",
      "[codecarbon INFO @ 13:38:25] 0.003325 kWh of electricity used since the beginning.\n",
      "[codecarbon INFO @ 13:38:40] Energy consumed for RAM : 0.002450 kWh. RAM Power : 188.75217247009277 W\n",
      "[codecarbon INFO @ 13:38:40] Energy consumed for all GPUs : 0.001986 kWh. Total GPU Power : 152.87199496349209 W\n",
      "[codecarbon INFO @ 13:38:40] Energy consumed for all CPUs : 0.000553 kWh. Total CPU Power : 42.5 W\n",
      "[codecarbon INFO @ 13:38:40] 0.004989 kWh of electricity used since the beginning.\n",
      "[codecarbon INFO @ 13:38:56] Energy consumed for RAM : 0.003251 kWh. RAM Power : 188.75217247009277 W\n",
      "[codecarbon INFO @ 13:38:56] Energy consumed for all GPUs : 0.002637 kWh. Total GPU Power : 153.05487921944788 W\n",
      "[codecarbon INFO @ 13:38:56] Energy consumed for all CPUs : 0.000733 kWh. Total CPU Power : 42.5 W\n",
      "[codecarbon INFO @ 13:38:56] 0.006620 kWh of electricity used since the beginning.\n",
      "[codecarbon INFO @ 13:39:11] Energy consumed for RAM : 0.004038 kWh. RAM Power : 188.75217247009277 W\n",
      "[codecarbon INFO @ 13:39:11] Energy consumed for all GPUs : 0.003277 kWh. Total GPU Power : 153.2754573995561 W\n",
      "[codecarbon INFO @ 13:39:11] Energy consumed for all CPUs : 0.000911 kWh. Total CPU Power : 42.5 W\n",
      "[codecarbon INFO @ 13:39:11] 0.008226 kWh of electricity used since the beginning.\n",
      "[codecarbon INFO @ 13:39:26] Energy consumed for RAM : 0.004824 kWh. RAM Power : 188.75217247009277 W\n",
      "[codecarbon INFO @ 13:39:26] Energy consumed for all GPUs : 0.003917 kWh. Total GPU Power : 153.70194785430118 W\n",
      "[codecarbon INFO @ 13:39:26] Energy consumed for all CPUs : 0.001088 kWh. Total CPU Power : 42.5 W\n",
      "[codecarbon INFO @ 13:39:26] 0.009829 kWh of electricity used since the beginning.\n",
      "[codecarbon INFO @ 13:39:41] Energy consumed for RAM : 0.005610 kWh. RAM Power : 188.75217247009277 W\n",
      "[codecarbon INFO @ 13:39:41] Energy consumed for all GPUs : 0.004555 kWh. Total GPU Power : 153.20105520978294 W\n",
      "[codecarbon INFO @ 13:39:41] Energy consumed for all CPUs : 0.001265 kWh. Total CPU Power : 42.5 W\n",
      "[codecarbon INFO @ 13:39:41] 0.011430 kWh of electricity used since the beginning.\n",
      "[codecarbon INFO @ 13:39:56] Energy consumed for RAM : 0.006397 kWh. RAM Power : 188.75217247009277 W\n",
      "[codecarbon INFO @ 13:39:56] Energy consumed for all GPUs : 0.005194 kWh. Total GPU Power : 153.17970984283525 W\n",
      "[codecarbon INFO @ 13:39:56] Energy consumed for all CPUs : 0.001442 kWh. Total CPU Power : 42.5 W\n",
      "[codecarbon INFO @ 13:39:56] 0.013033 kWh of electricity used since the beginning.\n",
      "[codecarbon INFO @ 13:40:11] Energy consumed for RAM : 0.007183 kWh. RAM Power : 188.75217247009277 W\n",
      "[codecarbon INFO @ 13:40:11] Energy consumed for all GPUs : 0.005835 kWh. Total GPU Power : 153.87282128795223 W\n",
      "[codecarbon INFO @ 13:40:11] Energy consumed for all CPUs : 0.001620 kWh. Total CPU Power : 42.5 W\n",
      "[codecarbon INFO @ 13:40:11] 0.014638 kWh of electricity used since the beginning.\n",
      "[codecarbon INFO @ 13:40:26] Energy consumed for RAM : 0.007968 kWh. RAM Power : 188.75217247009277 W\n",
      "[codecarbon INFO @ 13:40:26] Energy consumed for all GPUs : 0.006475 kWh. Total GPU Power : 153.66866009816252 W\n",
      "[codecarbon INFO @ 13:40:26] Energy consumed for all CPUs : 0.001797 kWh. Total CPU Power : 42.5 W\n",
      "[codecarbon INFO @ 13:40:26] 0.016239 kWh of electricity used since the beginning.\n",
      "[codecarbon INFO @ 13:40:41] Energy consumed for RAM : 0.008753 kWh. RAM Power : 188.75217247009277 W\n",
      "[codecarbon INFO @ 13:40:41] Energy consumed for all GPUs : 0.007115 kWh. Total GPU Power : 153.67494165335148 W\n",
      "[codecarbon INFO @ 13:40:41] Energy consumed for all CPUs : 0.001974 kWh. Total CPU Power : 42.5 W\n",
      "[codecarbon INFO @ 13:40:41] 0.017841 kWh of electricity used since the beginning.\n",
      "[codecarbon INFO @ 13:40:56] Energy consumed for RAM : 0.009539 kWh. RAM Power : 188.75217247009277 W\n",
      "[codecarbon INFO @ 13:40:56] Energy consumed for all GPUs : 0.007755 kWh. Total GPU Power : 153.72151278132654 W\n",
      "[codecarbon INFO @ 13:40:56] Energy consumed for all CPUs : 0.002151 kWh. Total CPU Power : 42.5 W\n",
      "[codecarbon INFO @ 13:40:56] 0.019444 kWh of electricity used since the beginning.\n",
      "[codecarbon INFO @ 13:41:11] Energy consumed for RAM : 0.010324 kWh. RAM Power : 188.75217247009277 W\n",
      "[codecarbon INFO @ 13:41:11] Energy consumed for all GPUs : 0.008398 kWh. Total GPU Power : 154.28480126605686 W\n",
      "[codecarbon INFO @ 13:41:11] Energy consumed for all CPUs : 0.002328 kWh. Total CPU Power : 42.5 W\n",
      "[codecarbon INFO @ 13:41:11] 0.021050 kWh of electricity used since the beginning.\n",
      "[codecarbon INFO @ 13:41:26] Energy consumed for RAM : 0.011109 kWh. RAM Power : 188.75217247009277 W\n",
      "[codecarbon INFO @ 13:41:26] Energy consumed for all GPUs : 0.009039 kWh. Total GPU Power : 153.90978824668377 W\n",
      "[codecarbon INFO @ 13:41:26] Energy consumed for all CPUs : 0.002505 kWh. Total CPU Power : 42.5 W\n",
      "[codecarbon INFO @ 13:41:26] 0.022653 kWh of electricity used since the beginning.\n",
      "[codecarbon INFO @ 13:41:42] Energy consumed for RAM : 0.011928 kWh. RAM Power : 188.75217247009277 W\n",
      "[codecarbon INFO @ 13:41:42] Energy consumed for all GPUs : 0.009708 kWh. Total GPU Power : 154.06634331428188 W\n",
      "[codecarbon INFO @ 13:41:42] Energy consumed for all CPUs : 0.002690 kWh. Total CPU Power : 42.5 W\n",
      "[codecarbon INFO @ 13:41:42] 0.024326 kWh of electricity used since the beginning.\n",
      "[codecarbon INFO @ 13:41:57] Energy consumed for RAM : 0.012713 kWh. RAM Power : 188.75217247009277 W\n",
      "[codecarbon INFO @ 13:41:57] Energy consumed for all GPUs : 0.010350 kWh. Total GPU Power : 154.10792690225855 W\n",
      "[codecarbon INFO @ 13:41:57] Energy consumed for all CPUs : 0.002867 kWh. Total CPU Power : 42.5 W\n",
      "[codecarbon INFO @ 13:41:57] 0.025930 kWh of electricity used since the beginning.\n",
      "[codecarbon INFO @ 13:42:12] Energy consumed for RAM : 0.013499 kWh. RAM Power : 188.75217247009277 W\n",
      "[codecarbon INFO @ 13:42:12] Energy consumed for all GPUs : 0.010992 kWh. Total GPU Power : 154.18218501028264 W\n",
      "[codecarbon INFO @ 13:42:12] Energy consumed for all CPUs : 0.003044 kWh. Total CPU Power : 42.5 W\n",
      "[codecarbon INFO @ 13:42:12] 0.027535 kWh of electricity used since the beginning.\n",
      "[codecarbon INFO @ 13:42:27] Energy consumed for RAM : 0.014314 kWh. RAM Power : 188.75217247009277 W\n",
      "[codecarbon INFO @ 13:42:27] Energy consumed for all GPUs : 0.011660 kWh. Total GPU Power : 154.46839787640081 W\n",
      "[codecarbon INFO @ 13:42:27] Energy consumed for all CPUs : 0.003228 kWh. Total CPU Power : 42.5 W\n",
      "[codecarbon INFO @ 13:42:27] 0.029203 kWh of electricity used since the beginning.\n",
      "[codecarbon INFO @ 13:42:43] Energy consumed for RAM : 0.015122 kWh. RAM Power : 188.75217247009277 W\n",
      "[codecarbon INFO @ 13:42:43] Energy consumed for all GPUs : 0.012322 kWh. Total GPU Power : 154.5337896969583 W\n",
      "[codecarbon INFO @ 13:42:43] Energy consumed for all CPUs : 0.003410 kWh. Total CPU Power : 42.5 W\n",
      "[codecarbon INFO @ 13:42:43] 0.030854 kWh of electricity used since the beginning.\n",
      "[codecarbon INFO @ 13:42:58] Energy consumed for RAM : 0.015950 kWh. RAM Power : 188.75217247009277 W\n",
      "[codecarbon INFO @ 13:42:58] Energy consumed for all GPUs : 0.013000 kWh. Total GPU Power : 154.21129479886022 W\n",
      "[codecarbon INFO @ 13:42:58] Energy consumed for all CPUs : 0.003597 kWh. Total CPU Power : 42.5 W\n",
      "[codecarbon INFO @ 13:42:58] 0.032547 kWh of electricity used since the beginning.\n",
      "[codecarbon INFO @ 13:43:14] Energy consumed for RAM : 0.016747 kWh. RAM Power : 188.75217247009277 W\n",
      "[codecarbon INFO @ 13:43:14] Energy consumed for all GPUs : 0.013654 kWh. Total GPU Power : 154.6173204309177 W\n",
      "[codecarbon INFO @ 13:43:14] Energy consumed for all CPUs : 0.003777 kWh. Total CPU Power : 42.5 W\n",
      "[codecarbon INFO @ 13:43:14] 0.034178 kWh of electricity used since the beginning.\n",
      "[codecarbon INFO @ 13:43:29] Energy consumed for RAM : 0.017550 kWh. RAM Power : 188.75217247009277 W\n",
      "[codecarbon INFO @ 13:43:29] Energy consumed for all GPUs : 0.014312 kWh. Total GPU Power : 154.64351929666248 W\n",
      "[codecarbon INFO @ 13:43:29] Energy consumed for all CPUs : 0.003958 kWh. Total CPU Power : 42.5 W\n",
      "[codecarbon INFO @ 13:43:29] 0.035820 kWh of electricity used since the beginning.\n",
      "[codecarbon INFO @ 13:43:44] Energy consumed for RAM : 0.018347 kWh. RAM Power : 188.75217247009277 W\n",
      "[codecarbon INFO @ 13:43:44] Energy consumed for all GPUs : 0.014967 kWh. Total GPU Power : 154.86591275163875 W\n",
      "[codecarbon INFO @ 13:43:44] Energy consumed for all CPUs : 0.004138 kWh. Total CPU Power : 42.5 W\n",
      "[codecarbon INFO @ 13:43:44] 0.037452 kWh of electricity used since the beginning.\n",
      "[codecarbon INFO @ 13:44:00] Energy consumed for RAM : 0.019176 kWh. RAM Power : 188.75217247009277 W\n",
      "[codecarbon INFO @ 13:44:00] Energy consumed for all GPUs : 0.015647 kWh. Total GPU Power : 154.7426515687782 W\n",
      "[codecarbon INFO @ 13:44:00] Energy consumed for all CPUs : 0.004325 kWh. Total CPU Power : 42.5 W\n",
      "[codecarbon INFO @ 13:44:00] 0.039148 kWh of electricity used since the beginning.\n",
      "[codecarbon INFO @ 13:44:15] Energy consumed for RAM : 0.019961 kWh. RAM Power : 188.75217247009277 W\n",
      "[codecarbon INFO @ 13:44:15] Energy consumed for all GPUs : 0.016292 kWh. Total GPU Power : 154.85773078742267 W\n",
      "[codecarbon INFO @ 13:44:15] Energy consumed for all CPUs : 0.004502 kWh. Total CPU Power : 42.5 W\n",
      "[codecarbon INFO @ 13:44:15] 0.040754 kWh of electricity used since the beginning.\n",
      "[codecarbon INFO @ 13:44:30] Energy consumed for RAM : 0.020746 kWh. RAM Power : 188.75217247009277 W\n",
      "[codecarbon INFO @ 13:44:30] Energy consumed for all GPUs : 0.016936 kWh. Total GPU Power : 154.82658796961368 W\n",
      "[codecarbon INFO @ 13:44:30] Energy consumed for all CPUs : 0.004679 kWh. Total CPU Power : 42.5 W\n",
      "[codecarbon INFO @ 13:44:30] 0.042361 kWh of electricity used since the beginning.\n",
      "[codecarbon INFO @ 13:44:45] Energy consumed for RAM : 0.021532 kWh. RAM Power : 188.75217247009277 W\n",
      "[codecarbon INFO @ 13:44:45] Energy consumed for all GPUs : 0.017580 kWh. Total GPU Power : 154.76151970763271 W\n",
      "[codecarbon INFO @ 13:44:45] Energy consumed for all CPUs : 0.004856 kWh. Total CPU Power : 42.5 W\n",
      "[codecarbon INFO @ 13:44:45] 0.043968 kWh of electricity used since the beginning.\n",
      "[codecarbon INFO @ 13:45:00] Energy consumed for RAM : 0.022318 kWh. RAM Power : 188.75217247009277 W\n",
      "[codecarbon INFO @ 13:45:00] Energy consumed for all GPUs : 0.018225 kWh. Total GPU Power : 154.89339673774106 W\n",
      "[codecarbon INFO @ 13:45:00] Energy consumed for all CPUs : 0.005033 kWh. Total CPU Power : 42.5 W\n",
      "[codecarbon INFO @ 13:45:00] 0.045576 kWh of electricity used since the beginning.\n",
      "[codecarbon INFO @ 13:45:15] Energy consumed for RAM : 0.023103 kWh. RAM Power : 188.75217247009277 W\n",
      "[codecarbon INFO @ 13:45:15] Energy consumed for all GPUs : 0.018870 kWh. Total GPU Power : 154.86147559708203 W\n",
      "[codecarbon INFO @ 13:45:15] Energy consumed for all CPUs : 0.005210 kWh. Total CPU Power : 42.5 W\n",
      "[codecarbon INFO @ 13:45:15] 0.047184 kWh of electricity used since the beginning.\n",
      "[codecarbon INFO @ 13:45:30] Energy consumed for RAM : 0.023889 kWh. RAM Power : 188.75217247009277 W\n",
      "[codecarbon INFO @ 13:45:30] Energy consumed for all GPUs : 0.019515 kWh. Total GPU Power : 154.96223625334048 W\n",
      "[codecarbon INFO @ 13:45:30] Energy consumed for all CPUs : 0.005387 kWh. Total CPU Power : 42.5 W\n",
      "[codecarbon INFO @ 13:45:30] 0.048792 kWh of electricity used since the beginning.\n",
      "[codecarbon INFO @ 13:45:45] Energy consumed for RAM : 0.024675 kWh. RAM Power : 188.75217247009277 W\n",
      "[codecarbon INFO @ 13:45:45] Energy consumed for all GPUs : 0.020161 kWh. Total GPU Power : 154.9748554966917 W\n",
      "[codecarbon INFO @ 13:45:45] Energy consumed for all CPUs : 0.005564 kWh. Total CPU Power : 42.5 W\n",
      "[codecarbon INFO @ 13:45:45] 0.050400 kWh of electricity used since the beginning.\n",
      "[codecarbon INFO @ 13:46:00] Energy consumed for RAM : 0.025461 kWh. RAM Power : 188.75217247009277 W\n",
      "[codecarbon INFO @ 13:46:00] Energy consumed for all GPUs : 0.020808 kWh. Total GPU Power : 155.5200906422221 W\n",
      "[codecarbon INFO @ 13:46:00] Energy consumed for all CPUs : 0.005741 kWh. Total CPU Power : 42.5 W\n",
      "[codecarbon INFO @ 13:46:00] 0.052010 kWh of electricity used since the beginning.\n",
      "[codecarbon INFO @ 13:46:15] Energy consumed for RAM : 0.026246 kWh. RAM Power : 188.75217247009277 W\n",
      "[codecarbon INFO @ 13:46:15] Energy consumed for all GPUs : 0.021454 kWh. Total GPU Power : 155.0528637327542 W\n",
      "[codecarbon INFO @ 13:46:15] Energy consumed for all CPUs : 0.005919 kWh. Total CPU Power : 42.5 W\n",
      "[codecarbon INFO @ 13:46:15] 0.053619 kWh of electricity used since the beginning.\n",
      "[codecarbon INFO @ 13:46:30] Energy consumed for RAM : 0.027032 kWh. RAM Power : 188.75217247009277 W\n",
      "[codecarbon INFO @ 13:46:30] Energy consumed for all GPUs : 0.022099 kWh. Total GPU Power : 155.1200573444227 W\n",
      "[codecarbon INFO @ 13:46:30] Energy consumed for all CPUs : 0.006096 kWh. Total CPU Power : 42.5 W\n",
      "[codecarbon INFO @ 13:46:30] 0.055227 kWh of electricity used since the beginning.\n",
      "[codecarbon INFO @ 13:46:45] Energy consumed for RAM : 0.027818 kWh. RAM Power : 188.75217247009277 W\n",
      "[codecarbon INFO @ 13:46:45] Energy consumed for all GPUs : 0.022745 kWh. Total GPU Power : 154.99412343235207 W\n",
      "[codecarbon INFO @ 13:46:45] Energy consumed for all CPUs : 0.006273 kWh. Total CPU Power : 42.5 W\n",
      "[codecarbon INFO @ 13:46:45] 0.056836 kWh of electricity used since the beginning.\n",
      "[codecarbon INFO @ 13:47:00] Energy consumed for RAM : 0.028604 kWh. RAM Power : 188.75217247009277 W\n",
      "[codecarbon INFO @ 13:47:00] Energy consumed for all GPUs : 0.023391 kWh. Total GPU Power : 155.15657868443938 W\n",
      "[codecarbon INFO @ 13:47:00] Energy consumed for all CPUs : 0.006450 kWh. Total CPU Power : 42.5 W\n",
      "[codecarbon INFO @ 13:47:00] 0.058445 kWh of electricity used since the beginning.\n",
      "[codecarbon INFO @ 13:47:15] Energy consumed for RAM : 0.029390 kWh. RAM Power : 188.75217247009277 W\n",
      "[codecarbon INFO @ 13:47:15] Energy consumed for all GPUs : 0.024038 kWh. Total GPU Power : 155.14447093456974 W\n",
      "[codecarbon INFO @ 13:47:15] Energy consumed for all CPUs : 0.006627 kWh. Total CPU Power : 42.5 W\n",
      "[codecarbon INFO @ 13:47:15] 0.060055 kWh of electricity used since the beginning.\n",
      "[codecarbon INFO @ 13:47:30] Energy consumed for RAM : 0.030177 kWh. RAM Power : 188.75217247009277 W\n",
      "[codecarbon INFO @ 13:47:30] Energy consumed for all GPUs : 0.024686 kWh. Total GPU Power : 155.62390711876853 W\n",
      "[codecarbon INFO @ 13:47:30] Energy consumed for all CPUs : 0.006804 kWh. Total CPU Power : 42.5 W\n",
      "[codecarbon INFO @ 13:47:30] 0.061667 kWh of electricity used since the beginning.\n",
      "[codecarbon INFO @ 13:47:45] Energy consumed for RAM : 0.030962 kWh. RAM Power : 188.75217247009277 W\n",
      "[codecarbon INFO @ 13:47:45] Energy consumed for all GPUs : 0.025333 kWh. Total GPU Power : 155.2755756233122 W\n",
      "[codecarbon INFO @ 13:47:45] Energy consumed for all CPUs : 0.006981 kWh. Total CPU Power : 42.5 W\n",
      "[codecarbon INFO @ 13:47:45] 0.063276 kWh of electricity used since the beginning.\n",
      "[codecarbon INFO @ 13:48:00] Energy consumed for RAM : 0.031748 kWh. RAM Power : 188.75217247009277 W\n",
      "[codecarbon INFO @ 13:48:00] Energy consumed for all GPUs : 0.025979 kWh. Total GPU Power : 155.23808565977453 W\n",
      "[codecarbon INFO @ 13:48:00] Energy consumed for all CPUs : 0.007158 kWh. Total CPU Power : 42.5 W\n",
      "[codecarbon INFO @ 13:48:00] 0.064886 kWh of electricity used since the beginning.\n",
      "[codecarbon INFO @ 13:48:15] Energy consumed for RAM : 0.032534 kWh. RAM Power : 188.75217247009277 W\n",
      "[codecarbon INFO @ 13:48:15] Energy consumed for all GPUs : 0.026626 kWh. Total GPU Power : 155.32421835753027 W\n",
      "[codecarbon INFO @ 13:48:15] Energy consumed for all CPUs : 0.007335 kWh. Total CPU Power : 42.5 W\n",
      "[codecarbon INFO @ 13:48:15] 0.066496 kWh of electricity used since the beginning.\n",
      "[codecarbon INFO @ 13:48:30] Energy consumed for RAM : 0.033320 kWh. RAM Power : 188.75217247009277 W\n",
      "[codecarbon INFO @ 13:48:30] Energy consumed for all GPUs : 0.027273 kWh. Total GPU Power : 155.32845245001587 W\n",
      "[codecarbon INFO @ 13:48:30] Energy consumed for all CPUs : 0.007513 kWh. Total CPU Power : 42.5 W\n",
      "[codecarbon INFO @ 13:48:30] 0.068106 kWh of electricity used since the beginning.\n",
      "[codecarbon INFO @ 13:48:45] Energy consumed for RAM : 0.034106 kWh. RAM Power : 188.75217247009277 W\n",
      "[codecarbon INFO @ 13:48:45] Energy consumed for all GPUs : 0.027920 kWh. Total GPU Power : 155.3891178421502 W\n",
      "[codecarbon INFO @ 13:48:45] Energy consumed for all CPUs : 0.007690 kWh. Total CPU Power : 42.5 W\n",
      "[codecarbon INFO @ 13:48:45] 0.069715 kWh of electricity used since the beginning.\n",
      "[codecarbon INFO @ 13:49:00] Energy consumed for RAM : 0.034892 kWh. RAM Power : 188.75217247009277 W\n",
      "[codecarbon INFO @ 13:49:00] Energy consumed for all GPUs : 0.028567 kWh. Total GPU Power : 155.36831507451464 W\n",
      "[codecarbon INFO @ 13:49:00] Energy consumed for all CPUs : 0.007867 kWh. Total CPU Power : 42.5 W\n",
      "[codecarbon INFO @ 13:49:00] 0.071325 kWh of electricity used since the beginning.\n",
      "[codecarbon INFO @ 13:49:15] Energy consumed for RAM : 0.035678 kWh. RAM Power : 188.75217247009277 W\n",
      "[codecarbon INFO @ 13:49:15] Energy consumed for all GPUs : 0.029214 kWh. Total GPU Power : 155.32320484535663 W\n",
      "[codecarbon INFO @ 13:49:15] Energy consumed for all CPUs : 0.008044 kWh. Total CPU Power : 42.5 W\n",
      "[codecarbon INFO @ 13:49:15] 0.072936 kWh of electricity used since the beginning.\n",
      "[codecarbon INFO @ 13:49:30] Energy consumed for RAM : 0.036464 kWh. RAM Power : 188.75217247009277 W\n",
      "[codecarbon INFO @ 13:49:30] Energy consumed for all GPUs : 0.029863 kWh. Total GPU Power : 155.95332122437426 W\n",
      "[codecarbon INFO @ 13:49:30] Energy consumed for all CPUs : 0.008221 kWh. Total CPU Power : 42.5 W\n",
      "[codecarbon INFO @ 13:49:30] 0.074548 kWh of electricity used since the beginning.\n",
      "[codecarbon INFO @ 13:49:45] Energy consumed for RAM : 0.037250 kWh. RAM Power : 188.75217247009277 W\n",
      "[codecarbon INFO @ 13:49:45] Energy consumed for all GPUs : 0.030511 kWh. Total GPU Power : 155.38496432689465 W\n",
      "[codecarbon INFO @ 13:49:45] Energy consumed for all CPUs : 0.008398 kWh. Total CPU Power : 42.5 W\n",
      "[codecarbon INFO @ 13:49:45] 0.076158 kWh of electricity used since the beginning.\n",
      "[codecarbon INFO @ 13:50:00] Energy consumed for RAM : 0.038036 kWh. RAM Power : 188.75217247009277 W\n",
      "[codecarbon INFO @ 13:50:00] Energy consumed for all GPUs : 0.031158 kWh. Total GPU Power : 155.41045417145764 W\n",
      "[codecarbon INFO @ 13:50:00] Energy consumed for all CPUs : 0.008575 kWh. Total CPU Power : 42.5 W\n",
      "[codecarbon INFO @ 13:50:00] 0.077769 kWh of electricity used since the beginning.\n",
      "[codecarbon INFO @ 13:50:11] Energy consumed for RAM : 0.038621 kWh. RAM Power : 188.75217247009277 W\n",
      "[codecarbon INFO @ 13:50:11] Energy consumed for all GPUs : 0.031639 kWh. Total GPU Power : 155.2174618737885 W\n",
      "[codecarbon INFO @ 13:50:11] Energy consumed for all CPUs : 0.008707 kWh. Total CPU Power : 42.5 W\n",
      "[codecarbon INFO @ 13:50:11] 0.078967 kWh of electricity used since the beginning.\n"
     ]
    },
    {
     "name": "stdout",
     "output_type": "stream",
     "text": [
      "Emissions for this code execution is:  0.020622635873044137\n",
      "End of code time:  1717937411.7762284\n"
     ]
    }
   ],
   "source": [
    "\n",
    "from langchain.vectorstores import Chroma\n",
    "from codecarbon import EmissionsTracker\n",
    "import time\n",
    "\n",
    "print(\"Start of code time: \",time.time())\n",
    "\n",
    "tracker = EmissionsTracker()\n",
    "tracker.start()\n",
    "\n",
    "chroma_db = Chroma.from_documents(\n",
    "    documents, model, persist_directory=\"./db_gte_large_en\"\n",
    ")\n",
    "\n",
    "chroma_db.persist()\n",
    "\n",
    "emissions: float = tracker.stop()\n",
    "print(\"Emissions for this code execution is: \", emissions)\n",
    "print(\"End of code time: \",time.time())"
   ]
  },
  {
   "cell_type": "code",
   "execution_count": 14,
   "metadata": {
    "metadata": {}
   },
   "outputs": [],
   "source": [
    "from langchain.vectorstores import Chroma\n",
    "vectordb = Chroma(persist_directory=\"./db_gte_large_en\", embedding_function= model)"
   ]
  },
  {
   "cell_type": "code",
   "execution_count": 15,
   "metadata": {
    "metadata": {}
   },
   "outputs": [
    {
     "name": "stdout",
     "output_type": "stream",
     "text": [
      "similarity_score_threshold {'k': 10, 'score_threshold': 0.5}\n"
     ]
    }
   ],
   "source": [
    "retriever = vectordb.as_retriever(search_type = \"similarity_score_threshold\",search_kwargs = {\"k\": 10, \"score_threshold\":0.50})\n",
    "# retriever = vectordb.as_retriever(search_type = \"mmr\",search_kwargs = {\"k\": 5, \"lambda\":0.90})\n",
    "print(retriever.search_type, retriever.search_kwargs)"
   ]
  },
  {
   "cell_type": "code",
   "execution_count": 16,
   "metadata": {
    "metadata": {}
   },
   "outputs": [],
   "source": [
    "retirve_result = retriever.get_relevant_documents(\"Energy Efficient and Sustainable Touch Screen Display\")"
   ]
  },
  {
   "cell_type": "code",
   "execution_count": 17,
   "metadata": {
    "metadata": {}
   },
   "outputs": [
    {
     "name": "stdout",
     "output_type": "stream",
     "text": [
      "10\n",
      "Patent Number: 11914806\n",
      "Summary: The display device aims to improve touch sensitivity and energy efficiency by integrating a touch sensor layer on top of the thin film encapsulation layer. The touch sensor layer includes an organic layer that extends from the upper portion of the thin film encapsulation layer to cover at least a portion of the exposed second area. This design enhances the touch sensitivity and reduces the energy consumption by minimizing the need for external power supply. However, the presence of the organic layer may lead to degradation of the thin film encapsulation layer over time.\n",
      "Patent Number: 11886697\n",
      "Summary: The display apparatus aims to improve the user experience by displaying a touch trajectory on the display panel based on a touch input signal. The processor controls the display panel to display the touch trajectory and determines whether to display a subsequent trajectory based on touch context information. The invention focuses on energy efficiency, as the processor only displays the touch trajectory when necessary, reducing power consumption. However, the presence of a touch sensor may increase energy consumption.\n",
      "Patent Number: 11934652\n",
      "Summary: The display apparatus aims to improve the user experience by displaying a touch trajectory on the display panel based on a touch input signal. The processor controls the display panel to display the touch trajectory and determines whether to display a subsequent trajectory based on touch context information. The invention focuses on energy efficiency, as the processor only displays the touch trajectory when necessary, reducing power consumption. However, the presence of a touch sensor may increase energy consumption.\n",
      "Patent Number: 11953951\n",
      "Summary: The display device aims to improve the energy efficiency of displays by incorporating a sensing material layer that overlaps the slit between two island patterns. The sensing material layer helps to reduce the voltage required to drive the display, resulting in lower power consumption. However, the presence of the sensing material layer may introduce some degradation in display quality due to the additional layer. The research focuses on optimizing the design of the sensing material layer to minimize this degradation while maintaining the energy efficiency benefits.\n",
      "Patent Number: 11934599\n",
      "Summary: The display device aims to improve touch sensitivity and energy efficiency by integrating an input sensor directly onto the display panel. The input sensor includes a first conductive layer, first and second insulation layers, and a third insulation layer. The first insulation layer has a first opening overlapping the pixel region, while the second insulation layer has a second opening overlapping the pixel region. The third insulation layer is filled in the first and second openings, enhancing touch sensitivity while reducing energy consumption. However, the presence of multiple insulation layers may increase manufacturing complexity and cost.\n",
      "Patent Number: 11943990\n",
      "Summary: The display device aims to improve display panel sensing capabilities by integrating an input sensor with a display panel. The input sensor includes a sensing electrode with an opening that exposes the light emitting area, allowing for touch detection. The device overcomes potential drawbacks by using a single sensing electrode for both touch detection and light emission, improving energy efficiency. The display device achieves this by using a thin-film transistor (TFT) to control the light emitting element and the sensing electrode, reducing energy consumption.\n",
      "Patent Number: 11910664\n",
      "Summary: The display device aims to improve the energy efficiency of the display by reducing the number of transistors in each pixel while maintaining the display quality. The bending area in the peripheral area helps to reduce the number of transistors, which in turn reduces the energy consumption. However, the presence of the conductive overlap layer may introduce some energy loss. The display device shows potential for energy efficiency improvement compared to traditional displays.\n",
      "Patent Number: 11862063\n",
      "Summary: The display substrate and display device aim to improve the energy efficiency of displays by using a concentric boundary between the pixel area and driving circuit, reducing the amount of energy required to drive the pixels. The driving circuit is formed in a peripheral area surrounding the pixel area, and a conductive pattern extends in a peripheral direction crossing the boundary. The invention overcomes potential drawbacks of increased power consumption and heat generation by reducing the distance between the driving circuit and pixels, resulting in improved energy efficiency.\n",
      "Patent Number: 11941204\n",
      "Summary: The present disclosure aims to reduce the difference in load between scan lines around a notch area and the entire display area. The display device includes a display panel, touch detector, scan driver circuit, and touch driver circuit. The touch driver circuit changes the pulse width or output timing of the touch driving signal while images are displayed on specific areas of the display and supplies the signal to touch electrodes. The disclosure improves display quality by reducing the difference in load, but may have limitations in terms of energy efficiency.\n",
      "Patent Number: 11963399\n",
      "Summary: The display device aims to improve the energy efficiency of the display by using a shared electrode for multiple pixels. The shared electrode reduces the number of electrodes required, which in turn reduces the power consumption. However, the presence of the first opening in the second pixel electrode may cause some degradation in the display quality. Despite this limitation, the device shows promise in improving energy efficiency in displays.\n"
     ]
    }
   ],
   "source": [
    "print(len(retirve_result))\n",
    "\n",
    "import re\n",
    "\n",
    "# Assuming the Document class has an attribute 'page_content' that stores the content\n",
    "class Document:\n",
    "    def __init__(self, page_content):\n",
    "        self.page_content = page_content\n",
    "\n",
    "for item in retirve_result:\n",
    "    # Regular expression to capture Patent Number and Summary\n",
    "    pattern = re.compile(r\"PatentNumber: (\\d+)\\n.*SummaryofPatent: Summary:\\n(.*)\", re.DOTALL)\n",
    "\n",
    "    match = pattern.search(item.page_content)  # Use dot notation to access the page_content attribute\n",
    "\n",
    "    if match:\n",
    "        patent_number = match.group(1).strip()\n",
    "        summary = match.group(2).strip()\n",
    "        print(\"Patent Number:\", patent_number)\n",
    "        print(\"Summary:\", summary)"
   ]
  },
  {
   "cell_type": "code",
   "execution_count": 18,
   "metadata": {
    "metadata": {}
   },
   "outputs": [
    {
     "data": {
      "text/html": [
       "\n",
       "<style>\n",
       "    .research-summary {\n",
       "        border: 1px solid #ddd;\n",
       "        border-radius: 8px;\n",
       "        padding: 15px;\n",
       "        margin: 10px 0;\n",
       "        background-color: #f9f9f9;\n",
       "        color: black;\n",
       "    }\n",
       "    .research-summary h3 {\n",
       "        color: #336;\n",
       "    }\n",
       "    .research-summary p {\n",
       "        text-indent: 20px;\n",
       "    }\n",
       "</style>\n",
       "\n",
       "            <div class=\"research-summary\">\n",
       "                <h3>Patent Number:11914806</h3>\n",
       "                <p>The display device aims to improve touch sensitivity and energy efficiency by integrating a touch sensor layer on top of the thin film encapsulation layer. The touch sensor layer includes an organic layer that extends from the upper portion of the thin film encapsulation layer to cover at least a portion of the exposed second area. This design enhances the touch sensitivity and reduces the energy consumption by minimizing the need for external power supply. However, the presence of the organic layer may lead to degradation of the thin film encapsulation layer over time.</p>\n",
       "            </div>\n",
       "            "
      ],
      "text/plain": [
       "<IPython.core.display.HTML object>"
      ]
     },
     "metadata": {},
     "output_type": "display_data"
    },
    {
     "data": {
      "text/html": [
       "\n",
       "<style>\n",
       "    .research-summary {\n",
       "        border: 1px solid #ddd;\n",
       "        border-radius: 8px;\n",
       "        padding: 15px;\n",
       "        margin: 10px 0;\n",
       "        background-color: #f9f9f9;\n",
       "        color: black;\n",
       "    }\n",
       "    .research-summary h3 {\n",
       "        color: #336;\n",
       "    }\n",
       "    .research-summary p {\n",
       "        text-indent: 20px;\n",
       "    }\n",
       "</style>\n",
       "\n",
       "            <div class=\"research-summary\">\n",
       "                <h3>Patent Number:11886697</h3>\n",
       "                <p>The display apparatus aims to improve the user experience by displaying a touch trajectory on the display panel based on a touch input signal. The processor controls the display panel to display the touch trajectory and determines whether to display a subsequent trajectory based on touch context information. The invention focuses on energy efficiency, as the processor only displays the touch trajectory when necessary, reducing power consumption. However, the presence of a touch sensor may increase energy consumption.</p>\n",
       "            </div>\n",
       "            "
      ],
      "text/plain": [
       "<IPython.core.display.HTML object>"
      ]
     },
     "metadata": {},
     "output_type": "display_data"
    },
    {
     "data": {
      "text/html": [
       "\n",
       "<style>\n",
       "    .research-summary {\n",
       "        border: 1px solid #ddd;\n",
       "        border-radius: 8px;\n",
       "        padding: 15px;\n",
       "        margin: 10px 0;\n",
       "        background-color: #f9f9f9;\n",
       "        color: black;\n",
       "    }\n",
       "    .research-summary h3 {\n",
       "        color: #336;\n",
       "    }\n",
       "    .research-summary p {\n",
       "        text-indent: 20px;\n",
       "    }\n",
       "</style>\n",
       "\n",
       "            <div class=\"research-summary\">\n",
       "                <h3>Patent Number:11934652</h3>\n",
       "                <p>The display apparatus aims to improve the user experience by displaying a touch trajectory on the display panel based on a touch input signal. The processor controls the display panel to display the touch trajectory and determines whether to display a subsequent trajectory based on touch context information. The invention focuses on energy efficiency, as the processor only displays the touch trajectory when necessary, reducing power consumption. However, the presence of a touch sensor may increase energy consumption.</p>\n",
       "            </div>\n",
       "            "
      ],
      "text/plain": [
       "<IPython.core.display.HTML object>"
      ]
     },
     "metadata": {},
     "output_type": "display_data"
    },
    {
     "data": {
      "text/html": [
       "\n",
       "<style>\n",
       "    .research-summary {\n",
       "        border: 1px solid #ddd;\n",
       "        border-radius: 8px;\n",
       "        padding: 15px;\n",
       "        margin: 10px 0;\n",
       "        background-color: #f9f9f9;\n",
       "        color: black;\n",
       "    }\n",
       "    .research-summary h3 {\n",
       "        color: #336;\n",
       "    }\n",
       "    .research-summary p {\n",
       "        text-indent: 20px;\n",
       "    }\n",
       "</style>\n",
       "\n",
       "            <div class=\"research-summary\">\n",
       "                <h3>Patent Number:11953951</h3>\n",
       "                <p>The display device aims to improve the energy efficiency of displays by incorporating a sensing material layer that overlaps the slit between two island patterns. The sensing material layer helps to reduce the voltage required to drive the display, resulting in lower power consumption. However, the presence of the sensing material layer may introduce some degradation in display quality due to the additional layer. The research focuses on optimizing the design of the sensing material layer to minimize this degradation while maintaining the energy efficiency benefits.</p>\n",
       "            </div>\n",
       "            "
      ],
      "text/plain": [
       "<IPython.core.display.HTML object>"
      ]
     },
     "metadata": {},
     "output_type": "display_data"
    },
    {
     "data": {
      "text/html": [
       "\n",
       "<style>\n",
       "    .research-summary {\n",
       "        border: 1px solid #ddd;\n",
       "        border-radius: 8px;\n",
       "        padding: 15px;\n",
       "        margin: 10px 0;\n",
       "        background-color: #f9f9f9;\n",
       "        color: black;\n",
       "    }\n",
       "    .research-summary h3 {\n",
       "        color: #336;\n",
       "    }\n",
       "    .research-summary p {\n",
       "        text-indent: 20px;\n",
       "    }\n",
       "</style>\n",
       "\n",
       "            <div class=\"research-summary\">\n",
       "                <h3>Patent Number:11934599</h3>\n",
       "                <p>The display device aims to improve touch sensitivity and energy efficiency by integrating an input sensor directly onto the display panel. The input sensor includes a first conductive layer, first and second insulation layers, and a third insulation layer. The first insulation layer has a first opening overlapping the pixel region, while the second insulation layer has a second opening overlapping the pixel region. The third insulation layer is filled in the first and second openings, enhancing touch sensitivity while reducing energy consumption. However, the presence of multiple insulation layers may increase manufacturing complexity and cost.</p>\n",
       "            </div>\n",
       "            "
      ],
      "text/plain": [
       "<IPython.core.display.HTML object>"
      ]
     },
     "metadata": {},
     "output_type": "display_data"
    },
    {
     "data": {
      "text/html": [
       "\n",
       "<style>\n",
       "    .research-summary {\n",
       "        border: 1px solid #ddd;\n",
       "        border-radius: 8px;\n",
       "        padding: 15px;\n",
       "        margin: 10px 0;\n",
       "        background-color: #f9f9f9;\n",
       "        color: black;\n",
       "    }\n",
       "    .research-summary h3 {\n",
       "        color: #336;\n",
       "    }\n",
       "    .research-summary p {\n",
       "        text-indent: 20px;\n",
       "    }\n",
       "</style>\n",
       "\n",
       "            <div class=\"research-summary\">\n",
       "                <h3>Patent Number:11943990</h3>\n",
       "                <p>The display device aims to improve display panel sensing capabilities by integrating an input sensor with a display panel. The input sensor includes a sensing electrode with an opening that exposes the light emitting area, allowing for touch detection. The device overcomes potential drawbacks by using a single sensing electrode for both touch detection and light emission, improving energy efficiency. The display device achieves this by using a thin-film transistor (TFT) to control the light emitting element and the sensing electrode, reducing energy consumption.</p>\n",
       "            </div>\n",
       "            "
      ],
      "text/plain": [
       "<IPython.core.display.HTML object>"
      ]
     },
     "metadata": {},
     "output_type": "display_data"
    },
    {
     "data": {
      "text/html": [
       "\n",
       "<style>\n",
       "    .research-summary {\n",
       "        border: 1px solid #ddd;\n",
       "        border-radius: 8px;\n",
       "        padding: 15px;\n",
       "        margin: 10px 0;\n",
       "        background-color: #f9f9f9;\n",
       "        color: black;\n",
       "    }\n",
       "    .research-summary h3 {\n",
       "        color: #336;\n",
       "    }\n",
       "    .research-summary p {\n",
       "        text-indent: 20px;\n",
       "    }\n",
       "</style>\n",
       "\n",
       "            <div class=\"research-summary\">\n",
       "                <h3>Patent Number:11910664</h3>\n",
       "                <p>The display device aims to improve the energy efficiency of the display by reducing the number of transistors in each pixel while maintaining the display quality. The bending area in the peripheral area helps to reduce the number of transistors, which in turn reduces the energy consumption. However, the presence of the conductive overlap layer may introduce some energy loss. The display device shows potential for energy efficiency improvement compared to traditional displays.</p>\n",
       "            </div>\n",
       "            "
      ],
      "text/plain": [
       "<IPython.core.display.HTML object>"
      ]
     },
     "metadata": {},
     "output_type": "display_data"
    },
    {
     "data": {
      "text/html": [
       "\n",
       "<style>\n",
       "    .research-summary {\n",
       "        border: 1px solid #ddd;\n",
       "        border-radius: 8px;\n",
       "        padding: 15px;\n",
       "        margin: 10px 0;\n",
       "        background-color: #f9f9f9;\n",
       "        color: black;\n",
       "    }\n",
       "    .research-summary h3 {\n",
       "        color: #336;\n",
       "    }\n",
       "    .research-summary p {\n",
       "        text-indent: 20px;\n",
       "    }\n",
       "</style>\n",
       "\n",
       "            <div class=\"research-summary\">\n",
       "                <h3>Patent Number:11862063</h3>\n",
       "                <p>The display substrate and display device aim to improve the energy efficiency of displays by using a concentric boundary between the pixel area and driving circuit, reducing the amount of energy required to drive the pixels. The driving circuit is formed in a peripheral area surrounding the pixel area, and a conductive pattern extends in a peripheral direction crossing the boundary. The invention overcomes potential drawbacks of increased power consumption and heat generation by reducing the distance between the driving circuit and pixels, resulting in improved energy efficiency.</p>\n",
       "            </div>\n",
       "            "
      ],
      "text/plain": [
       "<IPython.core.display.HTML object>"
      ]
     },
     "metadata": {},
     "output_type": "display_data"
    },
    {
     "data": {
      "text/html": [
       "\n",
       "<style>\n",
       "    .research-summary {\n",
       "        border: 1px solid #ddd;\n",
       "        border-radius: 8px;\n",
       "        padding: 15px;\n",
       "        margin: 10px 0;\n",
       "        background-color: #f9f9f9;\n",
       "        color: black;\n",
       "    }\n",
       "    .research-summary h3 {\n",
       "        color: #336;\n",
       "    }\n",
       "    .research-summary p {\n",
       "        text-indent: 20px;\n",
       "    }\n",
       "</style>\n",
       "\n",
       "            <div class=\"research-summary\">\n",
       "                <h3>Patent Number:11941204</h3>\n",
       "                <p>The present disclosure aims to reduce the difference in load between scan lines around a notch area and the entire display area. The display device includes a display panel, touch detector, scan driver circuit, and touch driver circuit. The touch driver circuit changes the pulse width or output timing of the touch driving signal while images are displayed on specific areas of the display and supplies the signal to touch electrodes. The disclosure improves display quality by reducing the difference in load, but may have limitations in terms of energy efficiency.</p>\n",
       "            </div>\n",
       "            "
      ],
      "text/plain": [
       "<IPython.core.display.HTML object>"
      ]
     },
     "metadata": {},
     "output_type": "display_data"
    },
    {
     "data": {
      "text/html": [
       "\n",
       "<style>\n",
       "    .research-summary {\n",
       "        border: 1px solid #ddd;\n",
       "        border-radius: 8px;\n",
       "        padding: 15px;\n",
       "        margin: 10px 0;\n",
       "        background-color: #f9f9f9;\n",
       "        color: black;\n",
       "    }\n",
       "    .research-summary h3 {\n",
       "        color: #336;\n",
       "    }\n",
       "    .research-summary p {\n",
       "        text-indent: 20px;\n",
       "    }\n",
       "</style>\n",
       "\n",
       "            <div class=\"research-summary\">\n",
       "                <h3>Patent Number:11963399</h3>\n",
       "                <p>The display device aims to improve the energy efficiency of the display by using a shared electrode for multiple pixels. The shared electrode reduces the number of electrodes required, which in turn reduces the power consumption. However, the presence of the first opening in the second pixel electrode may cause some degradation in the display quality. Despite this limitation, the device shows promise in improving energy efficiency in displays.</p>\n",
       "            </div>\n",
       "            "
      ],
      "text/plain": [
       "<IPython.core.display.HTML object>"
      ]
     },
     "metadata": {},
     "output_type": "display_data"
    }
   ],
   "source": [
    "from IPython.display import display, HTML\n",
    "\n",
    "style = \"\"\"\n",
    "<style>\n",
    "    .research-summary {\n",
    "        border: 1px solid #ddd;\n",
    "        border-radius: 8px;\n",
    "        padding: 15px;\n",
    "        margin: 10px 0;\n",
    "        background-color: #f9f9f9;\n",
    "        color: black;\n",
    "    }\n",
    "    .research-summary h3 {\n",
    "        color: #336;\n",
    "    }\n",
    "    .research-summary p {\n",
    "        text-indent: 20px;\n",
    "    }\n",
    "</style>\n",
    "\"\"\"\n",
    "\n",
    "import re\n",
    "\n",
    "# Assuming the Document class has an attribute 'page_content' that stores the content\n",
    "class Document:\n",
    "    def __init__(self, page_content):\n",
    "        self.page_content = page_content\n",
    "\n",
    "for item in retirve_result:\n",
    "    # Regular expression to capture Patent Number and Summary\n",
    "    pattern = re.compile(r\"PatentNumber: (\\d+)\\n.*SummaryofPatent: Summary:\\n(.*)\", re.DOTALL)\n",
    "\n",
    "    match = pattern.search(item.page_content)  # Use dot notation to access the page_content attribute\n",
    "\n",
    "    if match:\n",
    "        contents = \"\"\n",
    "        patent_number = match.group(1).strip()\n",
    "        summary = match.group(2).strip()\n",
    "        # print(\"Patent Number:\", patent_number)\n",
    "        # print(\"Summary:\", summary)\n",
    "        contents += f\"\"\"\n",
    "            <div class=\"research-summary\">\n",
    "                <h3>Patent Number:{patent_number}</h3>\n",
    "                <p>{summary}</p>\n",
    "            </div>\n",
    "            \"\"\"\n",
    "        display(HTML(style + contents))\n",
    "\n",
    "\n"
   ]
  },
  {
   "cell_type": "code",
   "execution_count": null,
   "metadata": {
    "metadata": {}
   },
   "outputs": [
    {
     "data": {
      "text/plain": [
       "(7448363008, 47736619008)"
      ]
     },
     "execution_count": 40,
     "metadata": {},
     "output_type": "execute_result"
    },
    {
     "name": "stderr",
     "output_type": "stream",
     "text": [
      "[codecarbon INFO @ 02:28:40] Energy consumed for RAM : 0.052639 kWh. RAM Power : 188.75217247009277 W\n",
      "[codecarbon INFO @ 02:28:40] Energy consumed for all GPUs : 0.029849 kWh. Total GPU Power : 151.72011335214088 W\n",
      "[codecarbon INFO @ 02:28:40] Energy consumed for all CPUs : 0.011863 kWh. Total CPU Power : 42.5 W\n",
      "[codecarbon INFO @ 02:28:40] 0.094351 kWh of electricity used since the beginning.\n",
      "[codecarbon INFO @ 02:28:41] Energy consumed for RAM : 0.032211 kWh. RAM Power : 188.75217247009277 W\n",
      "[codecarbon INFO @ 02:28:41] Energy consumed for all GPUs : 0.018794 kWh. Total GPU Power : 151.7714873681818 W\n",
      "[codecarbon INFO @ 02:28:41] Energy consumed for all CPUs : 0.007260 kWh. Total CPU Power : 42.5 W\n",
      "[codecarbon INFO @ 02:28:41] 0.058265 kWh of electricity used since the beginning.\n",
      "[codecarbon INFO @ 02:28:41] Energy consumed for RAM : 0.015715 kWh. RAM Power : 188.75217247009277 W\n",
      "[codecarbon INFO @ 02:28:41] Energy consumed for all GPUs : 0.009851 kWh. Total GPU Power : 151.7052779056454 W\n",
      "[codecarbon INFO @ 02:28:41] Energy consumed for all CPUs : 0.003541 kWh. Total CPU Power : 42.5 W\n",
      "[codecarbon INFO @ 02:28:41] 0.029108 kWh of electricity used since the beginning.\n",
      "[codecarbon INFO @ 02:28:42] Energy consumed for RAM : 0.635584 kWh. RAM Power : 188.75217247009277 W\n",
      "[codecarbon INFO @ 02:28:42] Energy consumed for all GPUs : 0.346207 kWh. Total GPU Power : 151.72195992056052 W\n",
      "[codecarbon INFO @ 02:28:42] Energy consumed for all CPUs : 0.143241 kWh. Total CPU Power : 42.5 W\n",
      "[codecarbon INFO @ 02:28:42] 1.125032 kWh of electricity used since the beginning.\n",
      "[codecarbon INFO @ 02:28:49] Energy consumed for RAM : 0.003144 kWh. RAM Power : 188.75217247009277 W\n",
      "[codecarbon INFO @ 02:28:49] Energy consumed for all GPUs : 0.002534 kWh. Total GPU Power : 151.7864708213491 W\n",
      "[codecarbon INFO @ 02:28:49] Energy consumed for all CPUs : 0.000709 kWh. Total CPU Power : 42.5 W\n",
      "[codecarbon INFO @ 02:28:49] 0.006387 kWh of electricity used since the beginning.\n",
      "[codecarbon INFO @ 02:28:56] Energy consumed for RAM : 0.032997 kWh. RAM Power : 188.75217247009277 W\n",
      "[codecarbon INFO @ 02:28:56] Energy consumed for all GPUs : 0.019426 kWh. Total GPU Power : 151.86130980484148 W\n",
      "[codecarbon INFO @ 02:28:56] Energy consumed for all CPUs : 0.007437 kWh. Total CPU Power : 42.5 W\n",
      "[codecarbon INFO @ 02:28:56] 0.059861 kWh of electricity used since the beginning.\n",
      "[codecarbon INFO @ 02:28:56] Energy consumed for RAM : 0.016501 kWh. RAM Power : 188.75217247009277 W\n",
      "[codecarbon INFO @ 02:28:56] Energy consumed for all GPUs : 0.010483 kWh. Total GPU Power : 151.85951152408126 W\n",
      "[codecarbon INFO @ 02:28:56] Energy consumed for all CPUs : 0.003718 kWh. Total CPU Power : 42.5 W\n",
      "[codecarbon INFO @ 02:28:56] 0.030703 kWh of electricity used since the beginning.\n",
      "[codecarbon INFO @ 02:28:57] Energy consumed for RAM : 0.636369 kWh. RAM Power : 188.75217247009277 W\n",
      "[codecarbon INFO @ 02:28:57] Energy consumed for all GPUs : 0.346840 kWh. Total GPU Power : 151.89506428318703 W\n",
      "[codecarbon INFO @ 02:28:57] Energy consumed for all CPUs : 0.143418 kWh. Total CPU Power : 42.5 W\n",
      "[codecarbon INFO @ 02:28:57] 1.126627 kWh of electricity used since the beginning.\n"
     ]
    }
   ],
   "source": [
    "import torch\n",
    "\n",
    "# del model\n",
    "\n",
    "torch.cuda.empty_cache()\n",
    "torch.cuda.mem_get_info()"
   ]
  }
 ],
 "metadata": {
  "kernelspec": {
   "display_name": "triztest",
   "language": "python",
   "name": "python3"
  },
  "language_info": {
   "codemirror_mode": {
    "name": "ipython",
    "version": 3
   },
   "file_extension": ".py",
   "mimetype": "text/x-python",
   "name": "python",
   "nbconvert_exporter": "python",
   "pygments_lexer": "ipython3",
   "version": "3.12.1"
  }
 },
 "nbformat": 4,
 "nbformat_minor": 2
}
